{
 "metadata": {
  "language_info": {
   "codemirror_mode": {
    "name": "ipython",
    "version": 3
   },
   "file_extension": ".py",
   "mimetype": "text/x-python",
   "name": "python",
   "nbconvert_exporter": "python",
   "pygments_lexer": "ipython3",
   "version": "3.7.4-final"
  },
  "orig_nbformat": 2,
  "kernelspec": {
   "name": "python3",
   "display_name": "Python 3",
   "language": "python"
  }
 },
 "nbformat": 4,
 "nbformat_minor": 2,
 "cells": [
  {
   "cell_type": "code",
   "execution_count": 103,
   "metadata": {},
   "outputs": [
    {
     "output_type": "stream",
     "name": "stdout",
     "text": [
      "1.0\n",
      "100.0\n",
      "0.01\n"
     ]
    }
   ],
   "source": [
    "# -*- coding: utf-8 -*-\n",
    "\"\"\"\n",
    "Created on Mon Jul 29 14:19:16 2019\n",
    "\n",
    "@author: Caio\n",
    "\"\"\"\n",
    "\n",
    "class NumerodeMolesporvolume():\n",
    "    \n",
    "    def MolsporVolume():\n",
    "        N=float(input())\n",
    "        print(N)\n",
    "        v=float(input())\n",
    "        print(v)\n",
    "        L=N/v\n",
    "        print(L)\n",
    "    MolsporVolume()"
   ]
  },
  {
   "cell_type": "code",
   "execution_count": 104,
   "metadata": {},
   "outputs": [
    {
     "output_type": "stream",
     "name": "stdout",
     "text": [
      "Essa é a quantidade em Mols 150.00 do [Elemento]\n",
      "Esse é o volume inserido  450.00 em [Unidade]\n",
      "Essa é a concentração de Mols por Volume  0.33\n"
     ]
    }
   ],
   "source": [
    "def MolporV():\n",
    "    N = float(input(\"Insira a quantidade de mols\"))\n",
    "    print(f\"Essa é a quantidade em Mols{N: .2f} do [Elemento]\" )\n",
    "    V = float(input(\"Esse é o volume inserido\"))\n",
    "    print(f'Esse é o volume inserido {V: .2f} em [Unidade]')\n",
    "    L = N/V\n",
    "    print(f'Essa é a concentração de Mols por Volume {L: .2f}')\n",
    "MolporV()"
   ]
  },
  {
   "cell_type": "code",
   "execution_count": 105,
   "metadata": {},
   "outputs": [
    {
     "output_type": "stream",
     "name": "stdout",
     "text": [
      "Essa é a quantidade em mols 1.0\n",
      "Esse é o volume inserido 10000.0\n",
      "Essa é a concentração 0.0001\n"
     ]
    }
   ],
   "source": [
    "class MOLSPORVOLUME():\n",
    "    MOLS = float(input(\"Insira a quantidade de mols\"))\n",
    "    print ('Essa é a quantidade em mols', MOLS)\n",
    "    VOL = float(input(\"Insira o volume da solução\"))\n",
    "    print('Esse é o volume inserido', VOL)\n",
    "\n",
    "    def MOLSPORVOLUME(MOLS, VOL):\n",
    "        MOLSPORVOL = MOLS/VOL\n",
    "        print (\"Essa é a concentração\", MOLSPORVOL)\n",
    "    MOLSPORVOLUME(MOLS, VOL)"
   ]
  }
 ]
}