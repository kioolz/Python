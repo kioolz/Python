{
 "cells": [
  {
   "cell_type": "code",
   "execution_count": 2,
   "metadata": {},
   "outputs": [
    {
     "name": "stdout",
     "output_type": "stream",
     "text": [
      "Area of circles with r = 2 is 12.566370614359172\n",
      "Area of circles with r = 0 is 0.0\n",
      "Area of circles with r = -3 is 28.274333882308138\n",
      "Area of circles with r = (2+5j) is (-65.97344572538566+62.83185307179586j)\n",
      "Area of circles with r = True is 3.141592653589793\n"
     ]
    },
    {
     "ename": "TypeError",
     "evalue": "unsupported operand type(s) for ** or pow(): 'str' and 'int'",
     "output_type": "error",
     "traceback": [
      "\u001b[1;31m---------------------------------------------------------------------------\u001b[0m",
      "\u001b[1;31mTypeError\u001b[0m                                 Traceback (most recent call last)",
      "Cell \u001b[1;32mIn [2], line 2\u001b[0m\n\u001b[0;32m      1\u001b[0m \u001b[39mimport\u001b[39;00m \u001b[39munittest\u001b[39;00m\n\u001b[1;32m----> 2\u001b[0m \u001b[39mfrom\u001b[39;00m \u001b[39mcircles\u001b[39;00m \u001b[39mimport\u001b[39;00m circle_area\n\u001b[0;32m      3\u001b[0m \u001b[39mfrom\u001b[39;00m \u001b[39mmath\u001b[39;00m \u001b[39mimport\u001b[39;00m pi \n\u001b[0;32m      5\u001b[0m \u001b[39mclass\u001b[39;00m \u001b[39mTestCircleArea\u001b[39;00m(unittest\u001b[39m.\u001b[39mTestCase):\n",
      "File \u001b[1;32mc:\\Users\\kiool\\OneDrive\\Documentos\\GitHub\\Python\\TestesUnitários\\circles.py:14\u001b[0m\n\u001b[0;32m     12\u001b[0m message \u001b[39m=\u001b[39m \u001b[39m\"\u001b[39m\u001b[39mArea of circles with r = \u001b[39m\u001b[39m{radius}\u001b[39;00m\u001b[39m is \u001b[39m\u001b[39m{area}\u001b[39;00m\u001b[39m\"\u001b[39m\n\u001b[0;32m     13\u001b[0m \u001b[39mfor\u001b[39;00m r \u001b[39min\u001b[39;00m radii:\n\u001b[1;32m---> 14\u001b[0m     A \u001b[39m=\u001b[39m circle_area(r)\n\u001b[0;32m     15\u001b[0m     \u001b[39mprint\u001b[39m(message\u001b[39m.\u001b[39mformat(radius\u001b[39m=\u001b[39mr, area\u001b[39m=\u001b[39mA))\n",
      "File \u001b[1;32mc:\\Users\\kiool\\OneDrive\\Documentos\\GitHub\\Python\\TestesUnitários\\circles.py:4\u001b[0m, in \u001b[0;36mcircle_area\u001b[1;34m(r)\u001b[0m\n\u001b[0;32m      3\u001b[0m \u001b[39mdef\u001b[39;00m \u001b[39mcircle_area\u001b[39m(r):\n\u001b[1;32m----> 4\u001b[0m     A \u001b[39m=\u001b[39m pi \u001b[39m*\u001b[39m (r\u001b[39m*\u001b[39;49m\u001b[39m*\u001b[39;49m\u001b[39m2\u001b[39;49m)\n\u001b[0;32m      5\u001b[0m     \u001b[39mreturn\u001b[39;00m A\n",
      "\u001b[1;31mTypeError\u001b[0m: unsupported operand type(s) for ** or pow(): 'str' and 'int'"
     ]
    }
   ],
   "source": [
    "import unittest\n",
    "from circles import circle_area\n",
    "from math import pi \n",
    "\n",
    "class TestCircleArea(unittest.TestCase):\n",
    "    def test_area(self):\n",
    "        #Testar areas >= 0\n",
    "        self.assertAlmostEqual(circle_area(1), pi)\n",
    "        self.assertAlmostEqual(circle_area(0), 0)\n",
    "        self.assertAlmostEqual(circle_area(2.1), pi * 2.1 * 2.1)\n",
    "\n",
    "    def test_values(self):\n",
    "        self.assertRaises(ValueError, circle_area, -2)\n",
    "    \n"
   ]
  }
 ],
 "metadata": {
  "kernelspec": {
   "display_name": "Python 3",
   "language": "python",
   "name": "python3"
  },
  "language_info": {
   "codemirror_mode": {
    "name": "ipython",
    "version": 3
   },
   "file_extension": ".py",
   "mimetype": "text/x-python",
   "name": "python",
   "nbconvert_exporter": "python",
   "pygments_lexer": "ipython3",
   "version": "3.10.9"
  },
  "orig_nbformat": 4,
  "vscode": {
   "interpreter": {
    "hash": "ce3fb133cab6a936c551081ee0d77ef4a6d11af85bd10385e088b263514ab4bf"
   }
  }
 },
 "nbformat": 4,
 "nbformat_minor": 2
}
