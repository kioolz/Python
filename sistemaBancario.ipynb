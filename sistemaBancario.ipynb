{
 "cells": [
  {
   "cell_type": "code",
   "execution_count": 6,
   "metadata": {},
   "outputs": [],
   "source": [
    "# OBJETIVO GERAL #\n",
    "# Criar um sistema Bancário com as operações :\n",
    "# Sacar, depositar e visualizar extrato."
   ]
  },
  {
   "cell_type": "code",
   "execution_count": 7,
   "metadata": {},
   "outputs": [],
   "source": [
    "#DESAFIO #\n",
    "#Fomos contratados por um grande banco para desenvolver seu novo sistema.\n",
    "#Esse banco deseja modernizar suas operações e para isso escolheu a linguagem Python. \n",
    "#Para a primeira versão do sistema devemos implementar apenas 3 operações: depósito, saque e extrato.#\n"
   ]
  },
  {
   "cell_type": "code",
   "execution_count": 10,
   "metadata": {},
   "outputs": [
    {
     "name": "stdout",
     "output_type": "stream",
     "text": [
      "Operação inválida, por favor selecione novamente a operação desejada\n",
      "\n",
      "====================== EXTRATO ====================== \n",
      "Depósito: R$ 50.00\n",
      "\n",
      "\n",
      "Saldo: R$600.00\n",
      "=====================================================\n",
      "\n",
      "====================== EXTRATO ====================== \n",
      "Depósito: R$ 50.00\n",
      "Saque: R$ 10.00 \n",
      "\n",
      "\n",
      "Saldo: R$590.00\n",
      "=====================================================\n",
      "Operação inválida, por favor selecione novamente a operação desejada\n",
      "\n",
      "====================== EXTRATO ====================== \n",
      "Depósito: R$ 50.00\n",
      "Saque: R$ 10.00 \n",
      "Depósito: R$ 1000.00\n",
      "\n",
      "\n",
      "Saldo: R$1590.00\n",
      "=====================================================\n"
     ]
    }
   ],
   "source": [
    "\n",
    "def Banco():\n",
    "    saldo = float(input(\"Insira o saldo inicial\"))\n",
    "    limite = 5000\n",
    "    extrato = \"\"\n",
    "    numero_saques = 0\n",
    "    LIMITE_SAQUES = 3\n",
    "\n",
    "    x = True\n",
    "    while x == True:\n",
    "        operacao = input()\n",
    "\n",
    "        if operacao == \"d\":\n",
    "            valorDeposito = float(input(\"Insira o total a ser depositado:\"))\n",
    "\n",
    "            if valorDeposito > 0:\n",
    "                saldo = saldo + valorDeposito\n",
    "                extrato += f\"Depósito: R$ {valorDeposito:.2f}\\n\"\n",
    "            else:\n",
    "                print(\"O valor informado é nulo ou é inválido. Tente novamente\")\n",
    "\n",
    "        \n",
    "\n",
    "        elif operacao == \"s\":\n",
    "            valorSaque = float(input(\"Informe o quanto você quer sacar:\"))\n",
    "            \n",
    "            excedeu_saldo = valorSaque > saldo \n",
    "            excedeu_limite = valorSaque > limite\n",
    "\n",
    "            excedeuTotaldeSaques = numero_saques >= LIMITE_SAQUES \n",
    "\n",
    "\n",
    "            if excedeu_saldo:\n",
    "                print(\"Por favor repita a operação, seu saldo não é suficiente\")\n",
    "            elif excedeu_limite:\n",
    "                print(\"Por favor repita a operação, seu limite não é suficiente\")\n",
    "\n",
    "            elif valorSaque > 0:\n",
    "                saldo = saldo - valorSaque \n",
    "                extrato += f\"Saque: R$ {valorSaque:.2f} \\n\"\n",
    "                numero_saques += 1\n",
    "\n",
    "            else:\n",
    "                print(\"A operação não funcionou, o valor informado é nulo ou inválido\")\n",
    "\n",
    "        \n",
    "        elif operacao == \"e\":\n",
    "            print(\"\\n====================== EXTRATO ====================== \")\n",
    "            print(\"Não foram realizadas operações.\" if not extrato else extrato)\n",
    "            print(f\"\\nSaldo: R${saldo:.2f}\")\n",
    "            print(\"=====================================================\")\n",
    "\n",
    "\n",
    "        elif operacao == \"q\":\n",
    "            break \n",
    "\n",
    "        else:\n",
    "            print(\"Operação inválida, por favor selecione novamente a operação desejada\")\n",
    "\n",
    "    return None\n",
    "\n",
    "\n",
    "Banco()\n",
    "\n",
    "        \n"
   ]
  }
 ],
 "metadata": {
  "kernelspec": {
   "display_name": "Python 3",
   "language": "python",
   "name": "python3"
  },
  "language_info": {
   "codemirror_mode": {
    "name": "ipython",
    "version": 3
   },
   "file_extension": ".py",
   "mimetype": "text/x-python",
   "name": "python",
   "nbconvert_exporter": "python",
   "pygments_lexer": "ipython3",
   "version": "3.10.11"
  },
  "orig_nbformat": 4
 },
 "nbformat": 4,
 "nbformat_minor": 2
}
