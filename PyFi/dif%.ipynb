{
 "cells": [
  {
   "cell_type": "code",
   "execution_count": 42,
   "metadata": {},
   "outputs": [
    {
     "name": "stdout",
     "output_type": "stream",
     "text": [
      "Este é o valor inicial da operação 100.0\n",
      "Este é o valor final da operação 105.0\n",
      "Essa é a diferença entre os valores 5.0\n"
     ]
    }
   ],
   "source": [
    "v1=float(input(\"Insira o valor inicial da operação\"))\n",
    "print(\"Este é o valor inicial da operação\", v1)\n",
    "v2=float(input(\"Insira o valor final da operação\"))\n",
    "print(\"Este é o valor final da operação\", v2)\n",
    "dif1 = ((v1-v2)/(v1)) * 100 *(-1)\n",
    "print(\"Essa é a diferença entre os valores\", dif1, \"%\")\n",
    "numerobsw=float(input(\"Insira o total de tokens\"))"
   ]
  },
  {
   "cell_type": "code",
   "execution_count": 47,
   "metadata": {},
   "outputs": [
    {
     "name": "stdout",
     "output_type": "stream",
     "text": [
      "A diferença entre os valores 100.0 e 105.0  é de 5.0 %\n",
      "A operação foi finalizada positiva\n",
      "A operação usou um total de 100.0 e obteve 5.0 dolarizado\n",
      "[100.0, 5.0]\n"
     ]
    }
   ],
   "source": [
    "print(\"A diferença entre os valores\",v1, \"e\", v2,\" é de\", dif1, \"%\")\n",
    "if (dif1 > 0):\n",
    "    print(\"A operação foi finalizada positiva\")\n",
    "else:\n",
    "    print(\"A operação teve negativa\")\n",
    "bancadolar = numerobsw*dif1/100\n",
    "print(\"A operação usou um total de\", numerobsw, \"e obteve\", numerobsw*dif1/100, \"dolarizado\")\n",
    "banca=[numerobsw, bancadolar]\n",
    "print(banca)\n"
   ]
  }
 ],
 "metadata": {
  "interpreter": {
   "hash": "cd6688372fdf1b50b7f7552505d57f154d92c03a11b2399b76c1bf3fdd94e27c"
  },
  "kernelspec": {
   "display_name": "Python 3.10.2 64-bit",
   "language": "python",
   "name": "python3"
  },
  "language_info": {
   "codemirror_mode": {
    "name": "ipython",
    "version": 3
   },
   "file_extension": ".py",
   "mimetype": "text/x-python",
   "name": "python",
   "nbconvert_exporter": "python",
   "pygments_lexer": "ipython3",
   "version": "3.10.2"
  },
  "orig_nbformat": 4
 },
 "nbformat": 4,
 "nbformat_minor": 2
}
