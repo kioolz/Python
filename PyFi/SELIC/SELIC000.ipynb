{
 "cells": [
  {
   "cell_type": "markdown",
   "metadata": {},
   "source": [
    "<h2><p align=\"center\"> Importação de bibliotecas e consulta a base de dados do banco central através de API</h2></p>"
   ]
  },
  {
   "cell_type": "code",
   "execution_count": null,
   "metadata": {},
   "outputs": [],
   "source": [
    "import numpy as np \n",
    "import pandas as pd\n",
    "import matplotlib.pyplot as plt\n",
    "import datetime\n",
    "from datetime import date\n",
    "import seaborn as sns; sns.set()\n",
    "\n",
    "#Obtendo dados da Base central do Banco do Brasil\n",
    "def consulta_bc(codigo_bcb):\n",
    "  url = 'http://api.bcb.gov.br/dados/serie/bcdata.sgs.{}/dados?formato=json'.format(codigo_bcb)\n",
    "  df = pd.read_json(url)\n",
    "  df['data'] = pd.to_datetime(df['data'], dayfirst=True)\n",
    "  df.set_index('data', inplace=True)\n",
    "  return df\n",
    "   \n",
    "#Estes são exemplos de informações que podem ser consultados na base de dados do Banco Central\n",
    "ipca = consulta_bc(433)\n",
    "selic_meta = consulta_bc(432)"
   ]
  },
  {
   "cell_type": "markdown",
   "metadata": {},
   "source": [
    "<h3><p align=\"center\"> Variavel que armazena a lista de valores da SELIC adquiridas na base de dados. </h3></p>"
   ]
  },
  {
   "cell_type": "code",
   "execution_count": null,
   "metadata": {},
   "outputs": [],
   "source": [
    "a = selic_meta['valor'].values.tolist()\n",
    "\n",
    "print(a)"
   ]
  },
  {
   "cell_type": "code",
   "execution_count": null,
   "metadata": {},
   "outputs": [],
   "source": [
    "plt.xticks(selic_meta)\n"
   ]
  },
  {
   "cell_type": "markdown",
   "metadata": {},
   "source": [
    "<h2><p align=\"center\"> Grafico da taxa SELIC ao passar dos anos </h2></p>"
   ]
  },
  {
   "cell_type": "code",
   "execution_count": null,
   "metadata": {},
   "outputs": [],
   "source": [
    "# Usar a biblioteca matplotlib para criar um espaçamento e intervalo definido entre os valores do grafico\n",
    "\n",
    "\n",
    "selic_meta.plot()\n",
    "plt.title(\"Taxa SELIC - Meta\")\n",
    "plt.xlabel(\"Anos\")\n",
    "plt.ylabel(\"%\")\n"
   ]
  },
  {
   "cell_type": "markdown",
   "metadata": {},
   "source": [
    "<h1 align=\"center\"> Funções , Objetos, Classes , Atributos e Métodos </h1>"
   ]
  },
  {
   "cell_type": "code",
   "execution_count": null,
   "metadata": {},
   "outputs": [],
   "source": [
    "def aplicarValor():\n",
    "    aporte = float(input(\"Insira o valor do aporte para ser calculado\"))\n",
    "    return aporte\n",
    "\n",
    "aplicarValor()\n",
    "\n",
    "def temploAplicado():\n",
    "    tempoaplicadoemdias=int(input('Insira o número de dias que o valor ficou aplicado'))\n",
    "    return tempoaplicadoemdias\n",
    "\n",
    "def selicHoje():\n",
    "    x = (selic_meta['valor'].iloc[-1])\n",
    "    return x\n",
    "\n",
    "selicHoje()\n",
    "    "
   ]
  },
  {
   "cell_type": "code",
   "execution_count": null,
   "metadata": {},
   "outputs": [],
   "source": [
    "Valoraplicado = float(input(\"Insira o valor do aporte para ser calculado\"))\n",
    "print(f'Este é o valor do aporte inserido: {Valoraplicado:.2f} reais')\n",
    "\n",
    "x = (selic_meta['valor'].iloc[-1]) #Último valor da lista.\n",
    "print(f'Este é o valor da taxa selic hoje: {x:.2f}% ao ano')\n",
    "selicmes = x/12\n",
    "print (f'Este seria o valor da taxa selic {selicmes:.4f}% ao mes')\n",
    "selicdia = x/365\n",
    "print (f'E este seria o valor da taxa selic {selicdia:.5f}% ao dia')\n",
    "\n",
    "tempoaplicadoemdias = int(input(\"Insira o total de tempo em que o dinheiro ficou aplicado (em dias)\"))\n",
    "IR1=0.15/100\n",
    "IR2=0.175/100\n",
    "IR3=0.2/100\n",
    "IR4=0.225/100\n",
    "IOF=1\n",
    "\n",
    "#Estrutura condicional que calcula o somatório do rendimento de acordo\n",
    "#com o total de dias que o dinheiro ficou aplicado.\n",
    "\n",
    "\n",
    "if ((tempoaplicadoemdias)<=180):\n",
    "    valorfinal = Valoraplicado + (Valoraplicado * tempoaplicadoemdias * IR1 * selicdia)\n",
    "    \n",
    "if ((tempoaplicadoemdias)>180 and (tempoaplicadoemdias)<=360):\n",
    "    valorfinal = Valoraplicado + (Valoraplicado * tempoaplicadoemdias * IR2 * selicdia)\n",
    "    \n",
    "if ((tempoaplicadoemdias)>360 and (tempoaplicadoemdias)<=720):\n",
    "    valorfinal = Valoraplicado + (Valoraplicado * tempoaplicadoemdias * IR3 * selicdia)\n",
    "    \n",
    "if ((tempoaplicadoemdias)>(720)):\n",
    "    valorfinal = Valoraplicado + (Valoraplicado * tempoaplicadoemdias * IR4 * selicdia)\n",
    "\n",
    "print(valorfinal)\n",
    "\n",
    "print(Valoraplicado/valorfinal)\n"
   ]
  },
  {
   "cell_type": "code",
   "execution_count": null,
   "metadata": {},
   "outputs": [],
   "source": [
    "RendimentoMensal = aplicarValor()*(selicmes/100)\n",
    "print (f'Este é o total após 30 dias: {RendimentoMensal:.1f}')"
   ]
  },
  {
   "cell_type": "code",
   "execution_count": null,
   "metadata": {},
   "outputs": [],
   "source": [
    "ValorAcumuladoMensal = RendimentoMensal+aplicarValor()\n",
    "print(ValorAcumuladoMensal)"
   ]
  },
  {
   "cell_type": "code",
   "execution_count": null,
   "metadata": {},
   "outputs": [],
   "source": [
    "print(\"Este é o total após 1 dia\")\n",
    "RendimentoDiário = aplicarValor()*(selicdia/100)\n",
    "print(RendimentoDiário)"
   ]
  },
  {
   "cell_type": "code",
   "execution_count": null,
   "metadata": {},
   "outputs": [],
   "source": [
    "ValorAcumuladoDiario = RendimentoDiário+aplicarValor()\n",
    "print(ValorAcumuladoDiario)\n"
   ]
  },
  {
   "cell_type": "code",
   "execution_count": null,
   "metadata": {},
   "outputs": [],
   "source": [
    "Colunas = [\"Rendimento Anual\", \"Aporte Inicial\", \"Rendimento Mensal\", \"ValorAcumuladoMensal\"]\n",
    "df = pd.DataFrame(columns=Colunas)\n",
    "df"
   ]
  },
  {
   "cell_type": "code",
   "execution_count": null,
   "metadata": {},
   "outputs": [],
   "source": [
    "X = [x/100, aplicarValor(), RendimentoDiário, aplicarValor()+RendimentoDiário]\n",
    "print(X)\n",
    "\n",
    "to_append = X\n",
    "df_lenght = len(df) \n",
    "df.loc[df_lenght] = to_append\n",
    "df"
   ]
  },
  {
   "cell_type": "code",
   "execution_count": null,
   "metadata": {},
   "outputs": [],
   "source": [
    "i = 0\n",
    "Y = [X[0],X[1]+RendimentoDiário,(aplicarValor()+RendimentoDiário)*x/(100*365),ValorAcumuladoDiario+(aplicarValor()+RendimentoDiário)*x/(100*365)]\n",
    "to_append = Y\n",
    "df_lenght = len(df)\n",
    "df.loc[df_lenght] = to_append\n",
    "df"
   ]
  },
  {
   "cell_type": "code",
   "execution_count": null,
   "metadata": {},
   "outputs": [],
   "source": [
    "\n",
    "for i in range (3):\n",
    "    to_append = Y\n",
    "    Y = [X[i],X[i+1]+RendimentoDiário,(aplicarValor()+RendimentoDiário)*x/(100*365),ValorAcumuladoDiario+(aplicarValor()+RendimentoDiário)*x/(100*365)]\n",
    "    df_lenght = len(df)\n",
    "    df.loc[df_lenght] = to_append\n",
    "    i=i+1\n",
    "i=0\n",
    "df"
   ]
  }
 ],
 "metadata": {
  "kernelspec": {
   "display_name": "Python 3.10.8 64-bit (microsoft store)",
   "language": "python",
   "name": "python3"
  },
  "language_info": {
   "codemirror_mode": {
    "name": "ipython",
    "version": 3
   },
   "file_extension": ".py",
   "mimetype": "text/x-python",
   "name": "python",
   "nbconvert_exporter": "python",
   "pygments_lexer": "ipython3",
   "version": "3.10.11"
  },
  "orig_nbformat": 2,
  "vscode": {
   "interpreter": {
    "hash": "ce3fb133cab6a936c551081ee0d77ef4a6d11af85bd10385e088b263514ab4bf"
   }
  }
 },
 "nbformat": 4,
 "nbformat_minor": 2
}
