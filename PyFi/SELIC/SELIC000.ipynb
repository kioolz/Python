{
 "cells": [
  {
   "cell_type": "markdown",
   "metadata": {},
   "source": [
    "<h2><p align=\"center\"> Importação de bibliotecas e consulta a base de dados do banco central através de API</h2></p>"
   ]
  },
  {
   "cell_type": "code",
   "execution_count": 1,
   "metadata": {},
   "outputs": [],
   "source": [
    "import numpy as np \n",
    "import pandas as pd\n",
    "import matplotlib.pyplot as plt\n",
    "import datetime\n",
    "from datetime import date\n",
    "import seaborn as sns; sns.set()\n",
    "\n",
    "#Obtendo dados da Base central do Banco do Brasil\n",
    "def consulta_bc(codigo_bcb):\n",
    "  url = 'http://api.bcb.gov.br/dados/serie/bcdata.sgs.{}/dados?formato=json'.format(codigo_bcb)\n",
    "  df = pd.read_json(url)\n",
    "  df['data'] = pd.to_datetime(df['data'], dayfirst=True)\n",
    "  df.set_index('data', inplace=True)\n",
    "  return df\n",
    "   \n",
    "#Estes são exemplos de informações que podem ser consultados na base de dados do Banco Central\n",
    "ipca = consulta_bc(433)\n",
    "selic_meta = consulta_bc(432)"
   ]
  },
  {
   "cell_type": "markdown",
   "metadata": {},
   "source": [
    "<h3><p align=\"center\"> Variavel que armazena a lista de valores da SELIC adquiridas na base de dados. </h3></p>"
   ]
  },
  {
   "cell_type": "code",
   "execution_count": 2,
   "metadata": {},
   "outputs": [],
   "source": [
    "a = selic_meta['valor'].values.tolist()"
   ]
  },
  {
   "cell_type": "markdown",
   "metadata": {},
   "source": [
    "<h2><p align=\"center\"> Grafico da taxa SELIC ao passar dos anos </h2></p>"
   ]
  },
  {
   "cell_type": "code",
   "execution_count": 3,
   "metadata": {},
   "outputs": [
    {
     "data": {
      "text/plain": [
       "Text(0, 0.5, '%')"
      ]
     },
     "execution_count": 3,
     "metadata": {},
     "output_type": "execute_result"
    },
    {
     "data": {
      "image/png": "[encoded data removed]",
      "text/plain": [
       "<Figure size 640x480 with 1 Axes>"
      ]
     },
     "metadata": {},
     "output_type": "display_data"
    }
   ],
   "source": [
    "# Usar a biblioteca matplotlib para criar um espaçamento e intervalo definido entre os valores do grafico\n",
    "selic_meta.plot()\n",
    "plt.title(\"Taxa SELIC - Meta\")\n",
    "plt.xlabel(\"Anos\")\n",
    "plt.ylabel(\"%\")"
   ]
  },
  {
   "cell_type": "code",
   "execution_count": 9,
   "metadata": {},
   "outputs": [
    {
     "data": {
      "text/plain": [
       "float"
      ]
     },
     "execution_count": 9,
     "metadata": {},
     "output_type": "execute_result"
    }
   ],
   "source": [
    "def aplicarValor():\n",
    "    aporte = float(input(\"Insira o valor do aporte para ser calculado\"))\n",
    "    return aporte\n",
    "\n",
    "aplicarValor()\n",
    "\n",
    "\n",
    "\n"
   ]
  },
  {
   "cell_type": "code",
   "execution_count": 6,
   "metadata": {},
   "outputs": [
    {
     "name": "stdout",
     "output_type": "stream",
     "text": [
      "Este é o valor do aporte inserido: 1000.00 reais\n",
      "Este é o valor da taxa selic hoje: 13.75% ao ano\n",
      "Este seria o valor da taxa selic 1.1458% ao mes\n",
      "E este seria o valor da taxa selic 0.03767% ao dia\n",
      "1001.695205479452\n",
      "0.9983076633788611\n"
     ]
    }
   ],
   "source": [
    "\n",
    "\n",
    "\n",
    "Valoraplicado = float(input(\"Insira o valor do aporte para ser calculado\"))\n",
    "print(f'Este é o valor do aporte inserido: {Valoraplicado:.2f} reais')\n",
    "\n",
    "x = (selic_meta['valor'].iloc[-1]) #Último valor da lista.\n",
    "print(f'Este é o valor da taxa selic hoje: {x:.2f}% ao ano')\n",
    "selicmes = x/12\n",
    "print (f'Este seria o valor da taxa selic {selicmes:.4f}% ao mes')\n",
    "selicdia = x/365\n",
    "print (f'E este seria o valor da taxa selic {selicdia:.5f}% ao dia')\n",
    "\n",
    "tempoaplicadoemdias = int(input(\"Insira o total de tempo em que o dinheiro ficou aplicado (em dias)\"))\n",
    "IR1=0.15/100\n",
    "IR2=0.175/100\n",
    "IR3=0.2/100\n",
    "IR4=0.225/100\n",
    "IOF=1\n",
    "\n",
    "#Estrutura condicional que calcula o somatório do rendimento de acordo\n",
    "#com o total de dias que o dinheiro ficou aplicado.\n",
    "\n",
    "\n",
    "if ((tempoaplicadoemdias)<=180):\n",
    "    valorfinal = Valoraplicado + (Valoraplicado * tempoaplicadoemdias * IR1 * selicdia)\n",
    "    \n",
    "if ((tempoaplicadoemdias)>180 and (tempoaplicadoemdias)<=360):\n",
    "    valorfinal = Valoraplicado + (Valoraplicado * tempoaplicadoemdias * IR2 * selicdia)\n",
    "    \n",
    "if ((tempoaplicadoemdias)>360 and (tempoaplicadoemdias)<=720):\n",
    "    valorfinal = Valoraplicado + (Valoraplicado * tempoaplicadoemdias * IR3 * selicdia)\n",
    "    \n",
    "if ((tempoaplicadoemdias)>(720)):\n",
    "    valorfinal = Valoraplicado + (Valoraplicado * tempoaplicadoemdias * IR4 * selicdia)\n",
    "\n",
    "print(valorfinal)\n",
    "\n",
    "print(Valoraplicado/valorfinal)\n"
   ]
  },
  {
   "cell_type": "code",
   "execution_count": 12,
   "metadata": {},
   "outputs": [
    {
     "name": "stdout",
     "output_type": "stream",
     "text": [
      "Este é o total após 30 dias: 3.4\n"
     ]
    }
   ],
   "source": [
    "RendimentoMensal = aplicarValor()*(selicmes/100)\n",
    "print (f'Este é o total após 30 dias: {RendimentoMensal:.1f}')"
   ]
  },
  {
   "cell_type": "code",
   "execution_count": 14,
   "metadata": {},
   "outputs": [
    {
     "name": "stdout",
     "output_type": "stream",
     "text": [
      "303.4375\n"
     ]
    }
   ],
   "source": [
    "ValorAcumuladoMensal = RendimentoMensal+aplicarValor()\n",
    "print(ValorAcumuladoMensal)"
   ]
  },
  {
   "cell_type": "code",
   "execution_count": 15,
   "metadata": {},
   "outputs": [
    {
     "name": "stdout",
     "output_type": "stream",
     "text": [
      "Este é o total após 1 dia\n"
     ]
    },
    {
     "ename": "NameError",
     "evalue": "name 'aporte' is not defined",
     "output_type": "error",
     "traceback": [
      "\u001b[1;31m---------------------------------------------------------------------------\u001b[0m",
      "\u001b[1;31mNameError\u001b[0m                                 Traceback (most recent call last)",
      "\u001b[1;32mc:\\Users\\kiool\\Desktop\\GitHub\\Python\\PyFi\\SELIC\\SELIC000.ipynb Cell 11\u001b[0m in \u001b[0;36m2\n\u001b[0;32m      <a href='vscode-notebook-cell:/c%3A/Users/kiool/Desktop/GitHub/Python/PyFi/SELIC/SELIC000.ipynb#X14sZmlsZQ%3D%3D?line=0'>1</a>\u001b[0m \u001b[39mprint\u001b[39m(\u001b[39m\"\u001b[39m\u001b[39mEste é o total após 1 dia\u001b[39m\u001b[39m\"\u001b[39m)\n\u001b[1;32m----> <a href='vscode-notebook-cell:/c%3A/Users/kiool/Desktop/GitHub/Python/PyFi/SELIC/SELIC000.ipynb#X14sZmlsZQ%3D%3D?line=1'>2</a>\u001b[0m RendimentoDiário \u001b[39m=\u001b[39m aporte\u001b[39m*\u001b[39m(selicaodia\u001b[39m/\u001b[39m\u001b[39m100\u001b[39m)\n\u001b[0;32m      <a href='vscode-notebook-cell:/c%3A/Users/kiool/Desktop/GitHub/Python/PyFi/SELIC/SELIC000.ipynb#X14sZmlsZQ%3D%3D?line=2'>3</a>\u001b[0m \u001b[39mprint\u001b[39m(RendimentoDiário)\n",
      "\u001b[1;31mNameError\u001b[0m: name 'aporte' is not defined"
     ]
    }
   ],
   "source": [
    "print(\"Este é o total após 1 dia\")\n",
    "RendimentoDiário = aplicarValor()*(selicaodia/100)\n",
    "print(RendimentoDiário)"
   ]
  }
 ],
 "metadata": {
  "kernelspec": {
   "display_name": "Python 3.10.8 64-bit (microsoft store)",
   "language": "python",
   "name": "python3"
  },
  "language_info": {
   "codemirror_mode": {
    "name": "ipython",
    "version": 3
   },
   "file_extension": ".py",
   "mimetype": "text/x-python",
   "name": "python",
   "nbconvert_exporter": "python",
   "pygments_lexer": "ipython3",
   "version": "3.10.11"
  },
  "orig_nbformat": 2,
  "vscode": {
   "interpreter": {
    "hash": "ce3fb133cab6a936c551081ee0d77ef4a6d11af85bd10385e088b263514ab4bf"
   }
  }
 },
 "nbformat": 4,
 "nbformat_minor": 2
}
