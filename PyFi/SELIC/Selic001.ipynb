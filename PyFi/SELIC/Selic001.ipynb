{
 "cells": [
  {
   "cell_type": "code",
   "execution_count": null,
   "metadata": {},
   "outputs": [
    {
     "name": "stdout",
     "output_type": "stream",
     "text": [
      "101.14583333333333\n"
     ]
    }
   ],
   "source": [
    "ValorAcumuladoMensal = RendimentoMensal+aporte\n",
    "print(ValorAcumuladoMensal)"
   ]
  },
  {
   "cell_type": "code",
   "execution_count": null,
   "metadata": {},
   "outputs": [
    {
     "name": "stdout",
     "output_type": "stream",
     "text": [
      "Este é o total após 1 dia\n",
      "0.03767123287671233\n"
     ]
    }
   ],
   "source": [
    "print(\"Este é o total após 1 dia\")\n",
    "RendimentoDiário = aporte*(selicaodia/100)\n",
    "print(RendimentoDiário)"
   ]
  },
  {
   "cell_type": "code",
   "execution_count": null,
   "metadata": {},
   "outputs": [
    {
     "data": {
      "text/plain": [
       "100.03767123287672"
      ]
     },
     "execution_count": 8,
     "metadata": {},
     "output_type": "execute_result"
    }
   ],
   "source": [
    "ValorAcumuladoDiario = RendimentoDiário+aporte\n",
    "ValorAcumuladoDiario"
   ]
  },
  {
   "cell_type": "code",
   "execution_count": null,
   "metadata": {},
   "outputs": [
    {
     "data": {
      "text/html": [
       "<div>\n",
       "<style scoped>\n",
       "    .dataframe tbody tr th:only-of-type {\n",
       "        vertical-align: middle;\n",
       "    }\n",
       "\n",
       "    .dataframe tbody tr th {\n",
       "        vertical-align: top;\n",
       "    }\n",
       "\n",
       "    .dataframe thead th {\n",
       "        text-align: right;\n",
       "    }\n",
       "</style>\n",
       "<table border=\"1\" class=\"dataframe\">\n",
       "  <thead>\n",
       "    <tr style=\"text-align: right;\">\n",
       "      <th></th>\n",
       "      <th>Rendimento Anual</th>\n",
       "      <th>Aporte Inicial</th>\n",
       "      <th>Rendimento Mensal</th>\n",
       "      <th>ValorAcumuladoMensal</th>\n",
       "    </tr>\n",
       "  </thead>\n",
       "  <tbody>\n",
       "  </tbody>\n",
       "</table>\n",
       "</div>"
      ],
      "text/plain": [
       "Empty DataFrame\n",
       "Columns: [Rendimento Anual, Aporte Inicial, Rendimento Mensal, ValorAcumuladoMensal]\n",
       "Index: []"
      ]
     },
     "execution_count": 9,
     "metadata": {},
     "output_type": "execute_result"
    }
   ],
   "source": [
    "Colunas = [\"Rendimento Anual\", \"Aporte Inicial\", \"Rendimento Mensal\", \"ValorAcumuladoMensal\"]\n",
    "df = pd.DataFrame(columns=Colunas)\n",
    "df"
   ]
  },
  {
   "cell_type": "code",
   "execution_count": null,
   "metadata": {},
   "outputs": [
    {
     "name": "stdout",
     "output_type": "stream",
     "text": [
      "[0.1375, 100.0, 0.03767123287671233, 100.03767123287672]\n"
     ]
    }
   ],
   "source": [
    "X = [selic/100, aporte, RendimentoDiário, ValorAcumuladoDiario]\n",
    "print(X)"
   ]
  },
  {
   "cell_type": "code",
   "execution_count": null,
   "metadata": {},
   "outputs": [
    {
     "data": {
      "text/html": [
       "<div>\n",
       "<style scoped>\n",
       "    .dataframe tbody tr th:only-of-type {\n",
       "        vertical-align: middle;\n",
       "    }\n",
       "\n",
       "    .dataframe tbody tr th {\n",
       "        vertical-align: top;\n",
       "    }\n",
       "\n",
       "    .dataframe thead th {\n",
       "        text-align: right;\n",
       "    }\n",
       "</style>\n",
       "<table border=\"1\" class=\"dataframe\">\n",
       "  <thead>\n",
       "    <tr style=\"text-align: right;\">\n",
       "      <th></th>\n",
       "      <th>Rendimento Anual</th>\n",
       "      <th>Aporte Inicial</th>\n",
       "      <th>Rendimento Mensal</th>\n",
       "      <th>ValorAcumuladoMensal</th>\n",
       "    </tr>\n",
       "  </thead>\n",
       "  <tbody>\n",
       "  </tbody>\n",
       "</table>\n",
       "</div>"
      ],
      "text/plain": [
       "Empty DataFrame\n",
       "Columns: [Rendimento Anual, Aporte Inicial, Rendimento Mensal, ValorAcumuladoMensal]\n",
       "Index: []"
      ]
     },
     "execution_count": 11,
     "metadata": {},
     "output_type": "execute_result"
    }
   ],
   "source": [
    "df"
   ]
  },
  {
   "cell_type": "code",
   "execution_count": null,
   "metadata": {},
   "outputs": [],
   "source": [
    "to_append = X"
   ]
  },
  {
   "cell_type": "code",
   "execution_count": null,
   "metadata": {},
   "outputs": [
    {
     "data": {
      "text/html": [
       "<div>\n",
       "<style scoped>\n",
       "    .dataframe tbody tr th:only-of-type {\n",
       "        vertical-align: middle;\n",
       "    }\n",
       "\n",
       "    .dataframe tbody tr th {\n",
       "        vertical-align: top;\n",
       "    }\n",
       "\n",
       "    .dataframe thead th {\n",
       "        text-align: right;\n",
       "    }\n",
       "</style>\n",
       "<table border=\"1\" class=\"dataframe\">\n",
       "  <thead>\n",
       "    <tr style=\"text-align: right;\">\n",
       "      <th></th>\n",
       "      <th>Rendimento Anual</th>\n",
       "      <th>Aporte Inicial</th>\n",
       "      <th>Rendimento Mensal</th>\n",
       "      <th>ValorAcumuladoMensal</th>\n",
       "    </tr>\n",
       "  </thead>\n",
       "  <tbody>\n",
       "    <tr>\n",
       "      <th>0</th>\n",
       "      <td>0.1375</td>\n",
       "      <td>100.0</td>\n",
       "      <td>0.037671</td>\n",
       "      <td>100.037671</td>\n",
       "    </tr>\n",
       "  </tbody>\n",
       "</table>\n",
       "</div>"
      ],
      "text/plain": [
       "   Rendimento Anual  Aporte Inicial  Rendimento Mensal  ValorAcumuladoMensal\n",
       "0            0.1375           100.0           0.037671            100.037671"
      ]
     },
     "execution_count": 13,
     "metadata": {},
     "output_type": "execute_result"
    }
   ],
   "source": [
    "df_lenght = len(df)\n",
    "df.loc[df_lenght] = to_append\n",
    "df"
   ]
  },
  {
   "cell_type": "code",
   "execution_count": null,
   "metadata": {},
   "outputs": [],
   "source": [
    "i = 0\n",
    "Y = [X[0],X[1]+RendimentoDiário,(aporte+RendimentoDiário)*selic/(100*365),ValorAcumuladoDiario+(aporte+RendimentoDiário)*selic/(100*365)]"
   ]
  },
  {
   "cell_type": "code",
   "execution_count": null,
   "metadata": {},
   "outputs": [],
   "source": [
    "to_append = Y"
   ]
  },
  {
   "cell_type": "code",
   "execution_count": null,
   "metadata": {},
   "outputs": [
    {
     "data": {
      "text/html": [
       "<div>\n",
       "<style scoped>\n",
       "    .dataframe tbody tr th:only-of-type {\n",
       "        vertical-align: middle;\n",
       "    }\n",
       "\n",
       "    .dataframe tbody tr th {\n",
       "        vertical-align: top;\n",
       "    }\n",
       "\n",
       "    .dataframe thead th {\n",
       "        text-align: right;\n",
       "    }\n",
       "</style>\n",
       "<table border=\"1\" class=\"dataframe\">\n",
       "  <thead>\n",
       "    <tr style=\"text-align: right;\">\n",
       "      <th></th>\n",
       "      <th>Rendimento Anual</th>\n",
       "      <th>Aporte Inicial</th>\n",
       "      <th>Rendimento Mensal</th>\n",
       "      <th>ValorAcumuladoMensal</th>\n",
       "    </tr>\n",
       "  </thead>\n",
       "  <tbody>\n",
       "    <tr>\n",
       "      <th>0</th>\n",
       "      <td>0.1375</td>\n",
       "      <td>100.000000</td>\n",
       "      <td>0.037671</td>\n",
       "      <td>100.037671</td>\n",
       "    </tr>\n",
       "    <tr>\n",
       "      <th>1</th>\n",
       "      <td>0.1375</td>\n",
       "      <td>100.037671</td>\n",
       "      <td>0.037685</td>\n",
       "      <td>100.075357</td>\n",
       "    </tr>\n",
       "  </tbody>\n",
       "</table>\n",
       "</div>"
      ],
      "text/plain": [
       "   Rendimento Anual  Aporte Inicial  Rendimento Mensal  ValorAcumuladoMensal\n",
       "0            0.1375      100.000000           0.037671            100.037671\n",
       "1            0.1375      100.037671           0.037685            100.075357"
      ]
     },
     "execution_count": 16,
     "metadata": {},
     "output_type": "execute_result"
    }
   ],
   "source": [
    "to_append = Y\n",
    "df_lenght = len(df)\n",
    "df.loc[df_lenght] = to_append\n",
    "df"
   ]
  },
  {
   "cell_type": "code",
   "execution_count": null,
   "metadata": {},
   "outputs": [
    {
     "data": {
      "text/html": [
       "<div>\n",
       "<style scoped>\n",
       "    .dataframe tbody tr th:only-of-type {\n",
       "        vertical-align: middle;\n",
       "    }\n",
       "\n",
       "    .dataframe tbody tr th {\n",
       "        vertical-align: top;\n",
       "    }\n",
       "\n",
       "    .dataframe thead th {\n",
       "        text-align: right;\n",
       "    }\n",
       "</style>\n",
       "<table border=\"1\" class=\"dataframe\">\n",
       "  <thead>\n",
       "    <tr style=\"text-align: right;\">\n",
       "      <th></th>\n",
       "      <th>Rendimento Anual</th>\n",
       "      <th>Aporte Inicial</th>\n",
       "      <th>Rendimento Mensal</th>\n",
       "      <th>ValorAcumuladoMensal</th>\n",
       "    </tr>\n",
       "  </thead>\n",
       "  <tbody>\n",
       "    <tr>\n",
       "      <th>0</th>\n",
       "      <td>0.137500</td>\n",
       "      <td>100.000000</td>\n",
       "      <td>0.037671</td>\n",
       "      <td>100.037671</td>\n",
       "    </tr>\n",
       "    <tr>\n",
       "      <th>1</th>\n",
       "      <td>0.137500</td>\n",
       "      <td>100.037671</td>\n",
       "      <td>0.037685</td>\n",
       "      <td>100.075357</td>\n",
       "    </tr>\n",
       "    <tr>\n",
       "      <th>2</th>\n",
       "      <td>0.137500</td>\n",
       "      <td>100.037671</td>\n",
       "      <td>0.037685</td>\n",
       "      <td>100.075357</td>\n",
       "    </tr>\n",
       "    <tr>\n",
       "      <th>3</th>\n",
       "      <td>0.137500</td>\n",
       "      <td>100.037671</td>\n",
       "      <td>0.037685</td>\n",
       "      <td>100.075357</td>\n",
       "    </tr>\n",
       "    <tr>\n",
       "      <th>4</th>\n",
       "      <td>100.000000</td>\n",
       "      <td>0.075342</td>\n",
       "      <td>0.037685</td>\n",
       "      <td>100.075357</td>\n",
       "    </tr>\n",
       "    <tr>\n",
       "      <th>5</th>\n",
       "      <td>0.137500</td>\n",
       "      <td>100.037671</td>\n",
       "      <td>0.037685</td>\n",
       "      <td>100.075357</td>\n",
       "    </tr>\n",
       "    <tr>\n",
       "      <th>6</th>\n",
       "      <td>100.000000</td>\n",
       "      <td>0.075342</td>\n",
       "      <td>0.037685</td>\n",
       "      <td>100.075357</td>\n",
       "    </tr>\n",
       "    <tr>\n",
       "      <th>7</th>\n",
       "      <td>0.037671</td>\n",
       "      <td>100.075342</td>\n",
       "      <td>0.037685</td>\n",
       "      <td>100.075357</td>\n",
       "    </tr>\n",
       "    <tr>\n",
       "      <th>8</th>\n",
       "      <td>0.137500</td>\n",
       "      <td>100.037671</td>\n",
       "      <td>0.037685</td>\n",
       "      <td>100.075357</td>\n",
       "    </tr>\n",
       "    <tr>\n",
       "      <th>9</th>\n",
       "      <td>100.000000</td>\n",
       "      <td>0.075342</td>\n",
       "      <td>0.037685</td>\n",
       "      <td>100.075357</td>\n",
       "    </tr>\n",
       "  </tbody>\n",
       "</table>\n",
       "</div>"
      ],
      "text/plain": [
       "   Rendimento Anual  Aporte Inicial  Rendimento Mensal  ValorAcumuladoMensal\n",
       "0          0.137500      100.000000           0.037671            100.037671\n",
       "1          0.137500      100.037671           0.037685            100.075357\n",
       "2          0.137500      100.037671           0.037685            100.075357\n",
       "3          0.137500      100.037671           0.037685            100.075357\n",
       "4        100.000000        0.075342           0.037685            100.075357\n",
       "5          0.137500      100.037671           0.037685            100.075357\n",
       "6        100.000000        0.075342           0.037685            100.075357\n",
       "7          0.037671      100.075342           0.037685            100.075357\n",
       "8          0.137500      100.037671           0.037685            100.075357\n",
       "9        100.000000        0.075342           0.037685            100.075357"
      ]
     },
     "execution_count": 23,
     "metadata": {},
     "output_type": "execute_result"
    }
   ],
   "source": [
    "\n",
    "for i in range (3):\n",
    "    to_append = Y\n",
    "    Y = [X[i],X[i+1]+RendimentoDiário,(aporte+RendimentoDiário)*selic/(100*365),ValorAcumuladoDiario+(aporte+RendimentoDiário)*selic/(100*365)]\n",
    "    df_lenght = len(df)\n",
    "    df.loc[df_lenght] = to_append\n",
    "    i=i+1\n",
    "i=0\n",
    "df"
   ]
  },
  {
   "cell_type": "code",
   "execution_count": null,
   "metadata": {},
   "outputs": [
    {
     "data": {
      "text/html": [
       "<div>\n",
       "<style scoped>\n",
       "    .dataframe tbody tr th:only-of-type {\n",
       "        vertical-align: middle;\n",
       "    }\n",
       "\n",
       "    .dataframe tbody tr th {\n",
       "        vertical-align: top;\n",
       "    }\n",
       "\n",
       "    .dataframe thead th {\n",
       "        text-align: right;\n",
       "    }\n",
       "</style>\n",
       "<table border=\"1\" class=\"dataframe\">\n",
       "  <thead>\n",
       "    <tr style=\"text-align: right;\">\n",
       "      <th></th>\n",
       "      <th>Rendimento Anual</th>\n",
       "      <th>Aporte Inicial</th>\n",
       "      <th>Rendimento Mensal</th>\n",
       "      <th>ValorAcumuladoMensal</th>\n",
       "    </tr>\n",
       "  </thead>\n",
       "  <tbody>\n",
       "    <tr>\n",
       "      <th>0</th>\n",
       "      <td>0.1375</td>\n",
       "      <td>100.000000</td>\n",
       "      <td>0.037671</td>\n",
       "      <td>100.037671</td>\n",
       "    </tr>\n",
       "    <tr>\n",
       "      <th>1</th>\n",
       "      <td>0.1375</td>\n",
       "      <td>100.037671</td>\n",
       "      <td>0.037685</td>\n",
       "      <td>100.075357</td>\n",
       "    </tr>\n",
       "    <tr>\n",
       "      <th>2</th>\n",
       "      <td>0.1375</td>\n",
       "      <td>100.037671</td>\n",
       "      <td>0.037685</td>\n",
       "      <td>100.075357</td>\n",
       "    </tr>\n",
       "    <tr>\n",
       "      <th>3</th>\n",
       "      <td>0.1375</td>\n",
       "      <td>100.037671</td>\n",
       "      <td>0.037685</td>\n",
       "      <td>100.075357</td>\n",
       "    </tr>\n",
       "  </tbody>\n",
       "</table>\n",
       "</div>"
      ],
      "text/plain": [
       "   Rendimento Anual  Aporte Inicial  Rendimento Mensal  ValorAcumuladoMensal\n",
       "0            0.1375      100.000000           0.037671            100.037671\n",
       "1            0.1375      100.037671           0.037685            100.075357\n",
       "2            0.1375      100.037671           0.037685            100.075357\n",
       "3            0.1375      100.037671           0.037685            100.075357"
      ]
     },
     "execution_count": 18,
     "metadata": {},
     "output_type": "execute_result"
    }
   ],
   "source": [
    "df"
   ]
  },
  {
   "cell_type": "code",
   "execution_count": null,
   "metadata": {},
   "outputs": [],
   "source": [
    "\n",
    "#------------------------------------------------------------------------------------------------------------------------------------------------------------------------------------------------------------------------------------------------------#\n",
    "taxaselic=(5.5/36500) #  ( 5.5/100 ) 365 para transformar de ano para dia\n",
    "#Tabela regressiva do IR\n",
    "Valoraplicado=float(input('Insira o valor aplicado'))                    \n",
    "tempoaplicadoemdias=int(input('Insira o número de dias que o valor ficou aplicado'))"
   ]
  },
  {
   "cell_type": "code",
   "execution_count": null,
   "metadata": {},
   "outputs": [],
   "source": [
    "IR1=22.5/100\n",
    "IR2=20/100\n",
    "IR3=17.5/100\n",
    "IR4=15/100\n",
    "IOF=1\n",
    "#Estrutura condicional para estabelecer o cálculo do IR \n",
    "#para os dias que o valor ficou rendendo na SELIC\n",
    "if ((tempoaplicadoemdias)<180):\n",
    "    valorfinal = Valoraplicado + (Valoraplicado * tempoaplicadoemdias * IR1 * taxaselic)\n",
    "    print(valorfinal)\n",
    "if ((tempoaplicadoemdias)>180 and (tempoaplicadoemdias)<360):\n",
    "    valorfinal = Valoraplicado + (Valoraplicado * tempoaplicadoemdias * IR2 * taxaselic)\n",
    "    print(valorfinal)\n",
    "if ((tempoaplicadoemdias)>180 and (tempoaplicadoemdias)<720):\n",
    "    valorfinal = Valoraplicado + (Valoraplicado * tempoaplicadoemdias * IR3 * taxaselic)\n",
    "    print(valorfinal)\n",
    "if ((tempoaplicadoemdias)>(720)):\n",
    "    valorfinal = Valoraplicado + (Valoraplicado * tempoaplicadoemdias * IR4 * taxaselic)\n",
    "    print(valorfinal)"
   ]
  }
 ],
 "metadata": {
  "kernelspec": {
   "display_name": "Python 3.10.8 64-bit (microsoft store)",
   "language": "python",
   "name": "python3"
  },
  "language_info": {
   "codemirror_mode": {
    "name": "ipython",
    "version": 3
   },
   "file_extension": ".py",
   "mimetype": "text/x-python",
   "name": "python",
   "nbconvert_exporter": "python",
   "pygments_lexer": "ipython3",
   "version": "3.10.11"
  },
  "orig_nbformat": 2,
  "vscode": {
   "interpreter": {
    "hash": "ce3fb133cab6a936c551081ee0d77ef4a6d11af85bd10385e088b263514ab4bf"
   }
  }
 },
 "nbformat": 4,
 "nbformat_minor": 2
}
