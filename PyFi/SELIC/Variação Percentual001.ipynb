{
 "metadata": {
  "language_info": {
   "codemirror_mode": {
    "name": "ipython",
    "version": 3
   },
   "file_extension": ".py",
   "mimetype": "text/x-python",
   "name": "python",
   "nbconvert_exporter": "python",
   "pygments_lexer": "ipython3",
   "version": "3.7.4-final"
  },
  "orig_nbformat": 2,
  "kernelspec": {
   "name": "python3",
   "display_name": "Python 3",
   "language": "python"
  }
 },
 "nbformat": 4,
 "nbformat_minor": 2,
 "cells": [
  {
   "cell_type": "code",
   "execution_count": null,
   "metadata": {},
   "outputs": [],
   "source": [
    "import matplotlib.pyplot as plt"
   ]
  },
  {
   "cell_type": "code",
   "execution_count": null,
   "metadata": {},
   "outputs": [],
   "source": [
    "a = float(input(\"Insira o valor da variável inicial\"))\n",
    "b = float(input(\"Insira o valor final\"))\n",
    "V = []\n",
    "V.append(a)\n",
    "V.append(b)\n",
    "print(\"Estas são os números que vão evoluindo\")\n",
    "print(V)\n",
    "j = []\n",
    "c = []\n",
    "i=0"
   ]
  },
  {
   "cell_type": "code",
   "execution_count": null,
   "metadata": {},
   "outputs": [],
   "source": [
    "def VariacaoPercentual(a,b):\n",
    "    j = (((b/a)-1)*100)\n",
    "    return j\n",
    "c.append(VariacaoPercentual(a,b))\n",
    "print(c)\n",
    "print(a)\n",
    "print(b)\n",
    "d=[]"
   ]
  },
  {
   "cell_type": "code",
   "execution_count": null,
   "metadata": {},
   "outputs": [],
   "source": [
    "print (\"Esses são os valores numéricos gerados até agora\")\n",
    "print(V)\n",
    "print (\"E essas são as respectivas variações percentuais\")\n",
    "print(c)\n",
    "d.append(c[i])\n",
    "while (len(V)==(len(c)+1)) and ((len(V)) < 9):\n",
    "    a = b\n",
    "    b = float(input(\"Insira um novo valor final\"))\n",
    "    V.append(b)\n",
    "    print (\"Esses são os valores numéricos gerados até agora\")\n",
    "    print(V)\n",
    "    c.append(VariacaoPercentual(a,b))\n",
    "    print (\"E essas são as respectivas variações percentuais\")\n",
    "    print(c)\n"
   ]
  },
  {
   "cell_type": "code",
   "execution_count": null,
   "metadata": {},
   "outputs": [],
   "source": [
    "print(c[i])\n",
    "print(len(c))"
   ]
  },
  {
   "cell_type": "code",
   "execution_count": null,
   "metadata": {},
   "outputs": [],
   "source": [
    "if i == 0:\n",
    "    d.append(c[i])\n",
    "for i in range(len(c)):\n",
    "    a = b\n",
    "    b = float(input(\"Insira o novo valor final\"))\n",
    "    V.append(b)\n",
    "    d.append(VariacaoPercentual(a,b))\n",
    "    \n",
    "print(d)"
   ]
  },
  {
   "cell_type": "code",
   "execution_count": null,
   "metadata": {},
   "outputs": [],
   "source": [
    "print (\"Esses são os valores numéricos gerados até agora\")\n",
    "print(V)\n",
    "print (\"E essas são as respectivas variações percentuais\")\n",
    "print(d)"
   ]
  },
  {
   "cell_type": "code",
   "execution_count": null,
   "metadata": {},
   "outputs": [],
   "source": [
    "for i in range(len(c)):\n",
    "    a = b\n",
    "    b = float(input(\"Insira o novo valor final\"))\n",
    "    V.append(b)\n",
    "    d.append(VariacaoPercentual(a,b))\n",
    "print(d)"
   ]
  },
  {
   "cell_type": "code",
   "execution_count": null,
   "metadata": {},
   "outputs": [],
   "source": [
    "print (\"Esses são os valores numéricos gerados até agora\")\n",
    "print(V)\n",
    "print (\"E essas são as respectivas variações percentuais\")\n",
    "print(d)"
   ]
  },
  {
   "cell_type": "code",
   "execution_count": null,
   "metadata": {},
   "outputs": [],
   "source": [
    "for i in range(len(c)):\n",
    "    print (\"Teste\")\n",
    "for i in range (len(d)):\n",
    "    print(\"Tested\")"
   ]
  },
  {
   "cell_type": "code",
   "execution_count": null,
   "metadata": {},
   "outputs": [],
   "source": [
    "def variacao_percentual(vi, vf):\n",
    "    return ((vf / vi) - 1) * 100\n",
    "\n",
    "\n",
    "v_inicial = float(input('Insira o valor inicial: '))\n",
    "v_final = float(input('Insira o valor final: '))\n",
    "\n",
    "percentual = variacao_percentual(v_inicial, v_final)\n",
    "\n",
    "if percentual < 0:\n",
    "    print(f'Taxa de queda foi: {percentual:.1f} %')\n",
    "elif percentual == 0:\n",
    "    print(f'Não existi variação percentual!')\n",
    "else:\n",
    "    print(f'Taxa de aumento foi: {percentual:.1f} %')\n"
   ]
  },
  {
   "cell_type": "code",
   "execution_count": null,
   "metadata": {},
   "outputs": [],
   "source": [
    "a = float(input(\"Insira o valor inicial\")\n",
    "b = float(input(\"Insira o valor final\")\n",
    "c = []\n",
    "def variacao_percentual(a,b):\n",
    "    print(((a/b)-1)*100)\n",
    "    c.append(((a/b)-1)*100)\n",
    "    print(c)\n",
    "variacao_percentual(a,b)"
   ]
  },
  {
   "cell_type": "code",
   "execution_count": 26,
   "metadata": {},
   "outputs": [],
   "source": [
    "c = []\n",
    "def variacao_percentual():\n",
    "    a = float(input(\"Insira o valor inicial\"))\n",
    "    b = float(input(\"Insira o valor final\"))\n",
    "    print(((a/b)-1)*100)\n",
    "    c.append(((a/b)-1)*100)\n",
    "    print(c)"
   ]
  },
  {
   "cell_type": "code",
   "execution_count": 27,
   "metadata": {},
   "outputs": [
    {
     "output_type": "stream",
     "name": "stdout",
     "text": [
      "-50.0\n[-50.0]\n"
     ]
    }
   ],
   "source": [
    "variacao_percentual()"
   ]
  }
 ]
}