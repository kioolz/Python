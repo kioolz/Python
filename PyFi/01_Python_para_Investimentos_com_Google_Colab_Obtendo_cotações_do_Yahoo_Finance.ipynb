{
  "cells": [
    {
      "cell_type": "markdown",
      "metadata": {
        "id": "u8ETyYgItW7-"
      },
      "source": [
        "#Python para Investimentos"
      ]
    },
    {
      "cell_type": "markdown",
      "metadata": {
        "id": "aVbRXlKatbqa"
      },
      "source": [
        "**Python para Investimentos** é um conjunto de códigos e vídeos em que mostro como utilizar a linguagem de programação PYTHON através da ferramenta online Google Colab para fazer estudos no mercado financeiro."
      ]
    },
    {
      "cell_type": "markdown",
      "metadata": {
        "id": "LSD9c7odue-O"
      },
      "source": [
        "**Canal no Youtube:** https://www.youtube.com/ricospeloacaso?sub_confirmation=1"
      ]
    },
    {
      "cell_type": "code",
      "execution_count": null,
      "metadata": {
        "colab": {
          "base_uri": "https://localhost:8080/",
          "height": 501
        },
        "id": "vQpkkgJ-re_Y",
        "outputId": "2cc92b55-f8cf-4bd2-9792-a5d1e788099f"
      },
      "outputs": [],
      "source": [
        "#@title Vídeo\n",
        "from IPython.display import YouTubeVideo\n",
        "YouTubeVideo('7GGrt3-rRH8', width=854, height=480)"
      ]
    },
    {
      "cell_type": "markdown",
      "metadata": {
        "id": "_qqPx-qlVy_C"
      },
      "source": [
        "# Bibliotecas"
      ]
    },
    {
      "cell_type": "markdown",
      "metadata": {
        "id": "hVy0v568v9Qs"
      },
      "source": [
        ">Instalando o YFinance"
      ]
    },
    {
      "cell_type": "code",
      "execution_count": 4,
      "metadata": {
        "id": "OMUMv7AkwCQG"
      },
      "outputs": [
        {
          "name": "stdout",
          "output_type": "stream",
          "text": [
            "Requirement already satisfied: yfinance in c:\\users\\kiool\\appdata\\local\\packages\\pythonsoftwarefoundation.python.3.10_qbz5n2kfra8p0\\localcache\\local-packages\\python310\\site-packages (0.1.81)\n",
            "Requirement already satisfied: numpy>=1.15 in c:\\users\\kiool\\appdata\\local\\packages\\pythonsoftwarefoundation.python.3.10_qbz5n2kfra8p0\\localcache\\local-packages\\python310\\site-packages (from yfinance) (1.23.4)\n",
            "Requirement already satisfied: pandas>=0.24.0 in c:\\users\\kiool\\appdata\\local\\packages\\pythonsoftwarefoundation.python.3.10_qbz5n2kfra8p0\\localcache\\local-packages\\python310\\site-packages (from yfinance) (1.5.1)\n",
            "Requirement already satisfied: appdirs>=1.4.4 in c:\\users\\kiool\\appdata\\local\\packages\\pythonsoftwarefoundation.python.3.10_qbz5n2kfra8p0\\localcache\\local-packages\\python310\\site-packages (from yfinance) (1.4.4)\n",
            "Requirement already satisfied: requests>=2.26 in c:\\users\\kiool\\appdata\\local\\packages\\pythonsoftwarefoundation.python.3.10_qbz5n2kfra8p0\\localcache\\local-packages\\python310\\site-packages (from yfinance) (2.28.1)\n",
            "Requirement already satisfied: multitasking>=0.0.7 in c:\\users\\kiool\\appdata\\local\\packages\\pythonsoftwarefoundation.python.3.10_qbz5n2kfra8p0\\localcache\\local-packages\\python310\\site-packages (from yfinance) (0.0.11)\n",
            "Requirement already satisfied: lxml>=4.5.1 in c:\\users\\kiool\\appdata\\local\\packages\\pythonsoftwarefoundation.python.3.10_qbz5n2kfra8p0\\localcache\\local-packages\\python310\\site-packages (from yfinance) (4.9.1)\n",
            "Requirement already satisfied: pytz>=2020.1 in c:\\users\\kiool\\appdata\\local\\packages\\pythonsoftwarefoundation.python.3.10_qbz5n2kfra8p0\\localcache\\local-packages\\python310\\site-packages (from pandas>=0.24.0->yfinance) (2022.5)\n",
            "Requirement already satisfied: python-dateutil>=2.8.1 in c:\\users\\kiool\\appdata\\local\\packages\\pythonsoftwarefoundation.python.3.10_qbz5n2kfra8p0\\localcache\\local-packages\\python310\\site-packages (from pandas>=0.24.0->yfinance) (2.8.2)\n",
            "Requirement already satisfied: urllib3<1.27,>=1.21.1 in c:\\users\\kiool\\appdata\\local\\packages\\pythonsoftwarefoundation.python.3.10_qbz5n2kfra8p0\\localcache\\local-packages\\python310\\site-packages (from requests>=2.26->yfinance) (1.26.12)\n",
            "Requirement already satisfied: charset-normalizer<3,>=2 in c:\\users\\kiool\\appdata\\local\\packages\\pythonsoftwarefoundation.python.3.10_qbz5n2kfra8p0\\localcache\\local-packages\\python310\\site-packages (from requests>=2.26->yfinance) (2.1.1)\n",
            "Requirement already satisfied: certifi>=2017.4.17 in c:\\users\\kiool\\appdata\\local\\packages\\pythonsoftwarefoundation.python.3.10_qbz5n2kfra8p0\\localcache\\local-packages\\python310\\site-packages (from requests>=2.26->yfinance) (2022.9.24)\n",
            "Requirement already satisfied: idna<4,>=2.5 in c:\\users\\kiool\\appdata\\local\\packages\\pythonsoftwarefoundation.python.3.10_qbz5n2kfra8p0\\localcache\\local-packages\\python310\\site-packages (from requests>=2.26->yfinance) (3.4)\n",
            "Requirement already satisfied: six>=1.5 in c:\\users\\kiool\\appdata\\local\\packages\\pythonsoftwarefoundation.python.3.10_qbz5n2kfra8p0\\localcache\\local-packages\\python310\\site-packages (from python-dateutil>=2.8.1->pandas>=0.24.0->yfinance) (1.16.0)\n"
          ]
        },
        {
          "name": "stderr",
          "output_type": "stream",
          "text": [
            "\n",
            "[notice] A new release of pip available: 22.2.2 -> 22.3\n",
            "[notice] To update, run: C:\\Users\\kiool\\AppData\\Local\\Microsoft\\WindowsApps\\PythonSoftwareFoundation.Python.3.10_qbz5n2kfra8p0\\python.exe -m pip install --upgrade pip\n"
          ]
        }
      ],
      "source": [
        "!pip install yfinance --upgrade --no-cache-dir"
      ]
    },
    {
      "cell_type": "markdown",
      "metadata": {
        "id": "7YjpHgu7wtrP"
      },
      "source": [
        ">Importando as Bibliotecas"
      ]
    },
    {
      "cell_type": "code",
      "execution_count": 5,
      "metadata": {
        "id": "WCt0PyxrV3OW"
      },
      "outputs": [],
      "source": [
        "import numpy as np\n",
        "import pandas as pd\n",
        "import matplotlib.pyplot as plt\n",
        "import pandas_datareader.data as web"
      ]
    },
    {
      "cell_type": "markdown",
      "metadata": {
        "id": "JRvT3418wN-L"
      },
      "source": [
        ">Importando o YFinance e sobrescrevendo os métodos do `pandas_datareader`"
      ]
    },
    {
      "cell_type": "code",
      "execution_count": 6,
      "metadata": {
        "id": "N0gRwzg9wSXd"
      },
      "outputs": [],
      "source": [
        "import yfinance as yf\n",
        "yf.pdr_override()"
      ]
    },
    {
      "cell_type": "markdown",
      "metadata": {
        "id": "aRFnZasnWnlN"
      },
      "source": [
        "# Obtendo os dados do mercado"
      ]
    },
    {
      "cell_type": "markdown",
      "metadata": {
        "id": "K8lMEDfRxGVT"
      },
      "source": [
        ">Baixando as cotações do Yahoo Finance para o Índice Bovespa"
      ]
    },
    {
      "cell_type": "code",
      "execution_count": 7,
      "metadata": {
        "colab": {
          "base_uri": "https://localhost:8080/",
          "height": 35
        },
        "id": "SPsar0-4WrzM",
        "outputId": "ee0523d6-84fb-4a95-99b4-11fdc907f4f1"
      },
      "outputs": [
        {
          "name": "stderr",
          "output_type": "stream",
          "text": [
            "Exception in thread Thread-6 (_run_via_pool):\n",
            "Traceback (most recent call last):\n",
            "  File \"C:\\Program Files\\WindowsApps\\PythonSoftwareFoundation.Python.3.10_3.10.2288.0_x64__qbz5n2kfra8p0\\lib\\threading.py\", line 1016, in _bootstrap_inner\n",
            "    self.run()\n",
            "  File \"C:\\Program Files\\WindowsApps\\PythonSoftwareFoundation.Python.3.10_3.10.2288.0_x64__qbz5n2kfra8p0\\lib\\threading.py\", line 953, in run\n",
            "    self._target(*self._args, **self._kwargs)\n",
            "  File \"C:\\Users\\kiool\\AppData\\Local\\Packages\\PythonSoftwareFoundation.Python.3.10_qbz5n2kfra8p0\\LocalCache\\local-packages\\Python310\\site-packages\\multitasking\\__init__.py\", line 104, in _run_via_pool\n",
            "    return callee(*args, **kwargs)\n",
            "  File \"C:\\Users\\kiool\\AppData\\Local\\Packages\\PythonSoftwareFoundation.Python.3.10_qbz5n2kfra8p0\\LocalCache\\local-packages\\Python310\\site-packages\\yfinance\\multi.py\", line 199, in _download_one_threaded\n",
            "    data = _download_one(ticker, start, end, auto_adjust, back_adjust,\n",
            "  File \"C:\\Users\\kiool\\AppData\\Local\\Packages\\PythonSoftwareFoundation.Python.3.10_qbz5n2kfra8p0\\LocalCache\\local-packages\\Python310\\site-packages\\yfinance\\multi.py\", line 213, in _download_one\n",
            "    return Ticker(ticker).history(period=period, interval=interval,\n",
            "  File \"C:\\Users\\kiool\\AppData\\Local\\Packages\\PythonSoftwareFoundation.Python.3.10_qbz5n2kfra8p0\\LocalCache\\local-packages\\Python310\\site-packages\\yfinance\\base.py\", line 318, in history\n",
            "    df.index = _pd.to_datetime(df.index.date).tz_localize(tz_exchange, ambiguous=True)\n",
            "  File \"C:\\Users\\kiool\\AppData\\Local\\Packages\\PythonSoftwareFoundation.Python.3.10_qbz5n2kfra8p0\\LocalCache\\local-packages\\Python310\\site-packages\\pandas\\core\\indexes\\datetimes.py\", line 281, in tz_localize\n",
            "    arr = self._data.tz_localize(tz, ambiguous, nonexistent)\n",
            "  File \"C:\\Users\\kiool\\AppData\\Local\\Packages\\PythonSoftwareFoundation.Python.3.10_qbz5n2kfra8p0\\LocalCache\\local-packages\\Python310\\site-packages\\pandas\\core\\arrays\\_mixins.py\", line 85, in method\n",
            "    return meth(self, *args, **kwargs)\n",
            "  File \"C:\\Users\\kiool\\AppData\\Local\\Packages\\PythonSoftwareFoundation.Python.3.10_qbz5n2kfra8p0\\LocalCache\\local-packages\\Python310\\site-packages\\pandas\\core\\arrays\\datetimes.py\", line 987, in tz_localize\n",
            "    new_dates = tzconversion.tz_localize_to_utc(\n",
            "  File \"pandas\\_libs\\tslibs\\tzconversion.pyx\", line 391, in pandas._libs.tslibs.tzconversion.tz_localize_to_utc\n",
            "pytz.exceptions.NonExistentTimeError: 1997-10-06 00:00:00\n"
          ]
        },
        {
          "ename": "KeyboardInterrupt",
          "evalue": "",
          "output_type": "error",
          "traceback": [
            "\u001b[1;31m---------------------------------------------------------------------------\u001b[0m",
            "\u001b[1;31mKeyboardInterrupt\u001b[0m                         Traceback (most recent call last)",
            "Cell \u001b[1;32mIn [7], line 1\u001b[0m\n\u001b[1;32m----> 1\u001b[0m ibov \u001b[39m=\u001b[39m web\u001b[39m.\u001b[39mget_data_yahoo(\u001b[39m'\u001b[39m\u001b[39m^BVSP\u001b[39m\u001b[39m'\u001b[39m)\n",
            "File \u001b[1;32m~\\AppData\\Local\\Packages\\PythonSoftwareFoundation.Python.3.10_qbz5n2kfra8p0\\LocalCache\\local-packages\\Python310\\site-packages\\yfinance\\multi.py:118\u001b[0m, in \u001b[0;36mdownload\u001b[1;34m(tickers, start, end, actions, threads, ignore_tz, group_by, auto_adjust, back_adjust, keepna, progress, period, show_errors, interval, prepost, proxy, rounding, timeout, **kwargs)\u001b[0m\n\u001b[0;32m    111\u001b[0m         _download_one_threaded(ticker, period\u001b[39m=\u001b[39mperiod, interval\u001b[39m=\u001b[39minterval,\n\u001b[0;32m    112\u001b[0m                                start\u001b[39m=\u001b[39mstart, end\u001b[39m=\u001b[39mend, prepost\u001b[39m=\u001b[39mprepost,\n\u001b[0;32m    113\u001b[0m                                actions\u001b[39m=\u001b[39mactions, auto_adjust\u001b[39m=\u001b[39mauto_adjust,\n\u001b[0;32m    114\u001b[0m                                back_adjust\u001b[39m=\u001b[39mback_adjust, keepna\u001b[39m=\u001b[39mkeepna,\n\u001b[0;32m    115\u001b[0m                                progress\u001b[39m=\u001b[39m(progress \u001b[39mand\u001b[39;00m i \u001b[39m>\u001b[39m \u001b[39m0\u001b[39m), proxy\u001b[39m=\u001b[39mproxy,\n\u001b[0;32m    116\u001b[0m                                rounding\u001b[39m=\u001b[39mrounding, timeout\u001b[39m=\u001b[39mtimeout)\n\u001b[0;32m    117\u001b[0m     \u001b[39mwhile\u001b[39;00m \u001b[39mlen\u001b[39m(shared\u001b[39m.\u001b[39m_DFS) \u001b[39m<\u001b[39m \u001b[39mlen\u001b[39m(tickers):\n\u001b[1;32m--> 118\u001b[0m         _time\u001b[39m.\u001b[39;49msleep(\u001b[39m0.01\u001b[39;49m)\n\u001b[0;32m    120\u001b[0m \u001b[39m# download synchronously\u001b[39;00m\n\u001b[0;32m    121\u001b[0m \u001b[39melse\u001b[39;00m:\n\u001b[0;32m    122\u001b[0m     \u001b[39mfor\u001b[39;00m i, ticker \u001b[39min\u001b[39;00m \u001b[39menumerate\u001b[39m(tickers):\n",
            "\u001b[1;31mKeyboardInterrupt\u001b[0m: "
          ]
        }
      ],
      "source": [
        "ibov = web.get_data_yahoo('^BVSP')"
      ]
    },
    {
      "cell_type": "markdown",
      "metadata": {
        "id": "M9kJ5yjCxNYa"
      },
      "source": [
        ">Exibindo as cotações mais antigas"
      ]
    },
    {
      "cell_type": "code",
      "execution_count": null,
      "metadata": {
        "colab": {
          "base_uri": "https://localhost:8080/",
          "height": 228
        },
        "id": "u9t4ciXJW3B3",
        "outputId": "8219196c-d5d0-4ff9-b69b-365bf30415f5"
      },
      "outputs": [],
      "source": [
        "ibov.head()"
      ]
    },
    {
      "cell_type": "markdown",
      "metadata": {
        "id": "PppnUgeNxTqm"
      },
      "source": [
        ">Exibindo as cotações mais recentes"
      ]
    },
    {
      "cell_type": "code",
      "execution_count": null,
      "metadata": {
        "colab": {
          "base_uri": "https://localhost:8080/",
          "height": 228
        },
        "id": "jmBNADPpW6sg",
        "outputId": "328a2143-453e-4005-d098-e6e29e1638b7"
      },
      "outputs": [],
      "source": [
        "ibov.tail()"
      ]
    },
    {
      "cell_type": "markdown",
      "metadata": {
        "id": "vH7fomPCxhZM"
      },
      "source": [
        ">Plotando o gráfico com o preços de fechamento do Índice Bovespa"
      ]
    },
    {
      "cell_type": "code",
      "execution_count": null,
      "metadata": {
        "colab": {
          "base_uri": "https://localhost:8080/",
          "height": 465
        },
        "id": "9YmTPzYVXAH4",
        "outputId": "7d59d743-820c-4ec0-e4d8-52633e9d1e3a"
      },
      "outputs": [],
      "source": [
        "ibov[\"Close\"].plot(figsize=(22,8));"
      ]
    }
  ],
  "metadata": {
    "colab": {
      "collapsed_sections": [],
      "provenance": []
    },
    "kernelspec": {
      "display_name": "Python 3.10.8 64-bit (microsoft store)",
      "language": "python",
      "name": "python3"
    },
    "language_info": {
      "codemirror_mode": {
        "name": "ipython",
        "version": 3
      },
      "file_extension": ".py",
      "mimetype": "text/x-python",
      "name": "python",
      "nbconvert_exporter": "python",
      "pygments_lexer": "ipython3",
      "version": "3.10.8"
    },
    "vscode": {
      "interpreter": {
        "hash": "ce3fb133cab6a936c551081ee0d77ef4a6d11af85bd10385e088b263514ab4bf"
      }
    }
  },
  "nbformat": 4,
  "nbformat_minor": 0
}
