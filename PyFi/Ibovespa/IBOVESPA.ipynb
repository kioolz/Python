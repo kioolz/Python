{
 "cells": [
  {
   "cell_type": "code",
   "execution_count": null,
   "metadata": {},
   "outputs": [],
   "source": [
    "!pip install yfinance --upgrade --no-cache-dir\n"
   ]
  },
  {
   "cell_type": "code",
   "execution_count": null,
   "metadata": {},
   "outputs": [],
   "source": [
    "!pip install python-bcb"
   ]
  },
  {
   "cell_type": "code",
   "execution_count": null,
   "metadata": {},
   "outputs": [],
   "source": [
    "#Análise de Dados econômicos usando diferentes bases de dados#\n",
    "\n",
    "#Importando as bibliotecas necessárias\n",
    "import numpy as np \n",
    "import pandas as pd\n",
    "import matplotlib.pyplot as plt\n",
    "import datetime\n",
    "from datetime import date\n",
    "today = date.today()\n",
    "\n",
    "import pandas_datareader.data as web\n",
    "import yfinance as yf\n",
    "import fundamentos as fts\n",
    "#1.1.0 - Assim percorremos todos os dados obtidos no Yahoo Finance.\\n\n",
    "#1.1.2 - Outra biblioteca para análise estatística, voltada para conseguir comparar os gráficos do CDI/IBOV\n",
    "import seaborn as sns; sns.set()\n",
    "import bcb \n",
    "from bcb import sgs"
   ]
  },
  {
   "cell_type": "code",
   "execution_count": null,
   "metadata": {},
   "outputs": [],
   "source": [
    "#Base de dados do banco do Brasil usando API\n",
    "\n",
    "def consulta_bc(codigo_bcb):\n",
    "    url = 'http://api.bcb.gov.br/dados/serie/bcdata.sgs.{}/dados?formato=json'.format(codigo_bcb)\n",
    "    df = pd.read_json(url)\n",
    "    df['data'] = pd.to_datetime(df['data'], dayfirst=True)\n",
    "    df.set_index('data', inplace=True)\n",
    "    return df\n",
    "    "
   ]
  },
  {
   "cell_type": "code",
   "execution_count": null,
   "metadata": {},
   "outputs": [],
   "source": [
    "#Importando dados usando a biblioteca BCB\n",
    "ipca2 = sgs.get(('IPCA', 433), last=36)\n",
    "print(ipca2)\n",
    "ipca2['IPCA'].plot(figsize=(16,2))"
   ]
  },
  {
   "cell_type": "code",
   "execution_count": null,
   "metadata": {},
   "outputs": [],
   "source": [
    "#Percorrendo a base de dados do Yahoo\n",
    "yf.pdr_override()\n",
    "# E com o comando web.get_data_yahoo podemos ter os dados históricos da bovespa\n",
    "# ÍNDICES BRASILEIROS\n",
    "ibov = web.get_data_yahoo('^BVSP', start='2000-11-03')\n",
    "ifix = web.get_data_yahoo('IFIX.SA', start='2000-01-01')\n",
    "#ÍNDICES AMERICANOS\n",
    "sp500 = web.get_data_yahoo('^GSPC', start='2000-01-01')\n",
    "#COMMODITIES\n",
    "crudeoil = web.get_data_yahoo('CL=F', start='2000-01-01')\n",
    "gold = web.get_data_yahoo('GC=F', start='2000-01-01')\n",
    "#CRIPTOMOEDAS\n",
    "btcusd = web.get_data_yahoo('BTC-USD', start=datetime.datetime(2019,1,1), end=today)\n",
    "\n",
    "\n",
    "# RENDA FIXA BR & INDICES DE INFLAÇÃO BR\n",
    "ipca = sgs.get(('IPCA', 433), last=12)\n",
    "igpm = sgs.get(('IGPM', 189), last=12)\n",
    "selic_meta = sgs.get(('SELIC_META', 432), last=12)\n",
    "reservas_internacionais = sgs.get(('RESERVAS INT', 13621), last=12)\n",
    "cdi = sgs.get(('CDI', 12), last=(12*365))"
   ]
  },
  {
   "cell_type": "code",
   "execution_count": null,
   "metadata": {},
   "outputs": [],
   "source": [
    "print(btcusd)"
   ]
  },
  {
   "cell_type": "code",
   "execution_count": null,
   "metadata": {},
   "outputs": [],
   "source": [
    "print(cdi)\n",
    "cdi['CDI'].plot(figsize=(16,2))"
   ]
  },
  {
   "cell_type": "code",
   "execution_count": null,
   "metadata": {},
   "outputs": [],
   "source": [
    "igpm.plot()"
   ]
  },
  {
   "cell_type": "code",
   "execution_count": null,
   "metadata": {},
   "outputs": [],
   "source": [
    "selic_meta.plot()"
   ]
  },
  {
   "cell_type": "code",
   "execution_count": null,
   "metadata": {},
   "outputs": [],
   "source": [
    "reservas_internacionais.plot(figsize=(16,2))\n"
   ]
  },
  {
   "cell_type": "code",
   "execution_count": null,
   "metadata": {},
   "outputs": [],
   "source": [
    "ibov['Adj Close'].tail(365).plot(figsize=(16,2))\n",
    "plt.title('IBOV')\n",
    "plt.xlabel('Tempo')\n",
    "plt.ylabel('Valor do índice')"
   ]
  },
  {
   "cell_type": "code",
   "execution_count": null,
   "metadata": {},
   "outputs": [],
   "source": [
    "ibov.tail(7) "
   ]
  },
  {
   "cell_type": "code",
   "execution_count": null,
   "metadata": {},
   "outputs": [],
   "source": [
    "ibov.head(7)"
   ]
  },
  {
   "cell_type": "code",
   "execution_count": null,
   "metadata": {},
   "outputs": [],
   "source": [
    "ibov.tail(15)['Adj Close'].plot(figsize=(16,2))\n",
    "plt.title('IBOV - Últimos 7 dias')\n",
    "plt.xlabel('Intervalo de tempo - Dias')\n",
    "plt.ylabel('BVSP - 15 dias passados')"
   ]
  },
  {
   "cell_type": "code",
   "execution_count": null,
   "metadata": {},
   "outputs": [],
   "source": [
    "ibov['Close'].plot()\n",
    "plt.title('Ibovespa - Histórico')\n",
    "plt.xlabel('Anos')\n",
    "plt.ylabel('BVSP')"
   ]
  },
  {
   "cell_type": "code",
   "execution_count": null,
   "metadata": {},
   "outputs": [],
   "source": [
    "sp500['Adj Close'].tail(365).plot(figsize=(16,2))\n",
    "plt.title('SP500')\n",
    "plt.xlabel('Tempo')\n",
    "plt.ylabel('Valor do índice')"
   ]
  },
  {
   "cell_type": "code",
   "execution_count": null,
   "metadata": {},
   "outputs": [],
   "source": [
    "btcusd['Adj Close'].tail(365).plot(figsize=(16,2))\n",
    "plt.title('btc-usd')\n",
    "plt.xlabel('Tempo')\n",
    "plt.ylabel('Valor do índice')"
   ]
  },
  {
   "cell_type": "code",
   "execution_count": null,
   "metadata": {},
   "outputs": [],
   "source": [
    "ipca.plot(figsize=(16,2))\n",
    "plt.title(\"IPCA\")\n",
    "plt.xlabel('Intervalo de Tempo em anos')\n",
    "plt.ylabel('Inflação (%)')"
   ]
  },
  {
   "cell_type": "code",
   "execution_count": null,
   "metadata": {},
   "outputs": [],
   "source": [
    "#RETORNOS ACUMULADOS\n",
    "\n",
    "data_inicio = '2010-01-01'\n",
    "ibovretorno = yf.download(tickers='^BVSP', start=datetime.datetime(2010,1,1))[['Adj Close']]\n",
    "ibov_retorno = ibovretorno.pct_change()\n",
    "ibov_retorno_acumulado = (1 + ibov_retorno[ibov_retorno.index >= data_inicio]).cumprod()\n",
    "ibov_retorno_acumulado.iloc[0] = 1\n",
    "\n",
    "cdi_acumulado = (1 + cdi[cdi.index >= data_inicio] / 100).cumprod()\n",
    "cdi_acumulado.iloc[0] = 1\n",
    "\n",
    "ipca_acumulado = (1 + ipca[ipca.index >= data_inicio] / 100).cumprod()\n",
    "ipca_acumulado.iloc[0] = 1\n",
    "\n",
    "selic_meta_acumulado = (1 + selic_meta[selic_meta.index >= data_inicio] / 100).cumprod()\n",
    "selic_meta_acumulado.iloc[0] = 1\n"
   ]
  },
  {
   "cell_type": "code",
   "execution_count": null,
   "metadata": {},
   "outputs": [],
   "source": [
    "ibov_retorno_acumulado.plot()\n",
    "\n"
   ]
  },
  {
   "cell_type": "code",
   "execution_count": null,
   "metadata": {},
   "outputs": [],
   "source": [
    "cdi_acumulado.plot()"
   ]
  },
  {
   "cell_type": "code",
   "execution_count": null,
   "metadata": {},
   "outputs": [],
   "source": [
    "selic_meta_acumulado.plot()"
   ]
  },
  {
   "cell_type": "code",
   "execution_count": null,
   "metadata": {},
   "outputs": [],
   "source": [
    "#CDI vs. IPCA\n",
    "\n",
    "ax = plt.subplot()\n",
    "ax.plot(ipca_acumulado, color='red')\n",
    "ax.plot(cdi_acumulado, color='blue')\n",
    "ax.plot(ibov_retorno_acumulado, color='green')\n"
   ]
  },
  {
   "cell_type": "code",
   "execution_count": null,
   "metadata": {},
   "outputs": [],
   "source": [
    "#VOLATILIDADE\n",
    "pct_ibov = (ibov.Close/ibov.Open).apply(lambda x:x-1)*100\n",
    "display(pct_ibov.tail(10))\n"
   ]
  },
  {
   "cell_type": "code",
   "execution_count": null,
   "metadata": {},
   "outputs": [],
   "source": [
    "pct_ibov.tail(10).plot(figsize=(16,2), title='IBOV Volatilidade - 15d')"
   ]
  },
  {
   "cell_type": "code",
   "execution_count": null,
   "metadata": {},
   "outputs": [],
   "source": [
    "pct_ibov.plot(figsize=(16,2), title='IBOV Volatilidade - Completo')"
   ]
  },
  {
   "cell_type": "code",
   "execution_count": null,
   "metadata": {},
   "outputs": [],
   "source": [
    "#\n",
    "ipca2022 = ipca[(ipca.index.year >= 2021)]\n",
    "ipca2022.plot()"
   ]
  },
  {
   "cell_type": "code",
   "execution_count": null,
   "metadata": {},
   "outputs": [],
   "source": [
    "#FILTRO POR MÊS\n",
    "ibov_fatiado12 = ibov[ibov.index.month == 12]\n",
    "ibov_fatiado12.tail()"
   ]
  },
  {
   "cell_type": "code",
   "execution_count": null,
   "metadata": {},
   "outputs": [],
   "source": [
    "# FUNDOS IMOBILIÁRIOS #\n",
    "habt11 = web.get_data_yahoo('HABT11.SA', start='2020-02-01', end=today)\n",
    "tgar11 = web.get_data_yahoo('TGAR11.SA', start='2020-02-01', end=today)\n",
    "xplg11 = web.get_data_yahoo('XPLG11.SA', start='2020-02-01', end=today)\n",
    "mxrf11 = web.get_data_yahoo('MXRF11.SA', start='2020-02-01', end=today)\n",
    "flma11 = web.get_data_yahoo('FLMA11.SA', start='2020-02-01', end=today)\n",
    "knri11 = web.get_data_yahoo('KNRI11.SA', start='2020-02-01', end=today)\n",
    "bcff11 = web.get_data_yahoo('BCFF11.SA', start='2020-02-01', end=today)\n",
    "xpsf11 = web.get_data_yahoo('XPSF11.SA', start='2020-02-01', end=today)\n",
    "xpci11 = web.get_data_yahoo('XPCI11.SA', start='2020-02-01', end=today)\n",
    "xpml11 = web.get_data_yahoo('XPML11.SA', start='2020-02-01', end=today)"
   ]
  },
  {
   "cell_type": "code",
   "execution_count": null,
   "metadata": {},
   "outputs": [],
   "source": [
    "cota_xpci11 = xpci11[\"Adj Close\"].plot(figsize=(16,2), label=\"xpci11 - cotação\")"
   ]
  },
  {
   "cell_type": "code",
   "execution_count": null,
   "metadata": {},
   "outputs": [],
   "source": [
    "cotabcff11 = bcff11[\"Adj Close\"].plot(figsize=(8,2), label=bcff11)\n",
    "cotaxpsf11 = xpsf11[\"Close\"].plot(figsize=(8,2), label=xpsf11)\n",
    "cotamxrf11 = mxrf11[\"Close\"].plot(figsize=(8,2), label=mxrf11)\n",
    "cotaxplg11 = xplg11[\"Close\"].plot(figsize=(8,2), label=xplg11)\n",
    "cotaxpci11 = xpci11[\"Close\"].plot(figsize=(8,2), label=xpci11)\n",
    "cotaknri11 = knri11[\"Close\"].plot(figsize=(8,2), label=knri11)"
   ]
  },
  {
   "cell_type": "code",
   "execution_count": 103,
   "metadata": {},
   "outputs": [
    {
     "name": "stdout",
     "output_type": "stream",
     "text": [
      "[*********************100%***********************]  1 of 1 completed\n"
     ]
    },
    {
     "data": {
      "image/png": "[encoded data removed]",
      "text/plain": [
       "<Figure size 1600x200 with 1 Axes>"
      ]
     },
     "metadata": {},
     "output_type": "display_data"
    }
   ],
   "source": [
    "# Baixando dados da sobre ITSA4 pelo YF\n",
    "itsa4 = web.get_data_yahoo('ITSA4.SA', start=datetime.datetime(2000,1,1), end=datetime.datetime.today())\n",
    "# Gráfico do fechamento da cota\n",
    "cota_itsa4 = itsa4[\"Close\"].plot(figsize=(16,2), title='ITSA4')"
   ]
  },
  {
   "cell_type": "code",
   "execution_count": 105,
   "metadata": {},
   "outputs": [
    {
     "data": {
      "text/plain": [
       "Date\n",
       "2000-01-03    6.417129\n",
       "2000-01-04   -6.250013\n",
       "2000-01-05    7.734842\n",
       "2000-01-06    2.061790\n",
       "2000-01-07   -1.500032\n",
       "2000-01-10    0.990118\n",
       "2000-01-11   -2.403793\n",
       "2000-01-12   -2.926890\n",
       "2000-01-13   -4.878041\n",
       "2000-01-14    0.000000\n",
       "dtype: float64"
      ]
     },
     "metadata": {},
     "output_type": "display_data"
    }
   ],
   "source": [
    "#Função lambda da volatilidade\n",
    "pct_itsa4 = (itsa4.Close/itsa4.Open).apply(lambda x:x-1)*100\n",
    "\n",
    "display(pct_itsa4.head(10))\n"
   ]
  },
  {
   "cell_type": "code",
   "execution_count": 109,
   "metadata": {},
   "outputs": [
    {
     "data": {
      "text/plain": [
       "<AxesSubplot: xlabel='Date'>"
      ]
     },
     "execution_count": 109,
     "metadata": {},
     "output_type": "execute_result"
    },
    {
     "data": {
      "image/png": "[encoded data removed]",
      "text/plain": [
       "<Figure size 800x200 with 1 Axes>"
      ]
     },
     "metadata": {},
     "output_type": "display_data"
    }
   ],
   "source": [
    "#Gráfico da volatilidade\n",
    "pct_itsa4.tail(15).plot(figsize=(8,2))"
   ]
  },
  {
   "cell_type": "code",
   "execution_count": null,
   "metadata": {},
   "outputs": [],
   "source": [
    "#CRIAR FUNÇÃO QUE EXECUTA O PROCEDIMENTO DE ANGARIAR O GRÁFICO, A VOLATILIDADE E EXIBIR\n",
    "# O PARÂMETRO É O TICKER"
   ]
  },
  {
   "cell_type": "code",
   "execution_count": 111,
   "metadata": {},
   "outputs": [
    {
     "name": "stdout",
     "output_type": "stream",
     "text": [
      "                     Mercado                                           \\\n",
      "ITUB4 Quantidade de Ações ON Quantidade de Ações PN Última Cotação ON   \n",
      "Data                                                                    \n",
      "                         NaN                    NaN               NaN   \n",
      "2008             288633338.0           2.862383e+09             13.03   \n",
      "2009             288633338.0           2.862383e+09             18.18   \n",
      "2010               2289286.0           2.281650e+06             18.79   \n",
      "2011               2289286.0           2.281650e+06             16.37   \n",
      "2012               2289286.0           2.281650e+06             18.90   \n",
      "2013               2518215.0           2.509815e+06             19.63   \n",
      "2014               2770037.0           2.760796e+06             21.53   \n",
      "2015               3047040.0           3.036876e+06             16.39   \n",
      "2016               3351744.0           3.230563e+06             20.00   \n",
      "2017               3305527.0           3.230563e+06             25.12   \n",
      "2018               3305527.0           3.230563e+06             30.05   \n",
      "2019               3305527.0           3.230563e+06             32.03   \n",
      "2020               3305527.0           3.230563e+06             27.93   \n",
      "\n",
      "                                              Resultados             \\\n",
      "ITUB4 Última Cotação PN Valor de Mercado Receita Líquida        PSR   \n",
      "Data                                                                  \n",
      "                    NaN              NaN             NaN        NaN   \n",
      "2008              14.38     4.491734e+10        114037.0  393883.91   \n",
      "2009              21.31     6.625709e+10        473748.0  139857.25   \n",
      "2010              21.92     9.302100e+07       1021447.0      91.07   \n",
      "2011              18.73     8.019527e+07       2608483.0      30.74   \n",
      "2012              18.39     8.522617e+07       3088498.0      27.59   \n",
      "2013              19.00     9.711772e+07       3549205.0      27.36   \n",
      "2014              20.97     1.175294e+08       4495970.0      26.14   \n",
      "2015              17.55     1.032278e+08       6591515.0      15.66   \n",
      "2016              22.56     1.399239e+08       2722510.0      51.40   \n",
      "2017              28.38     1.747443e+08       5465130.0      31.97   \n",
      "2018              35.50     2.140161e+08       8697000.0      24.61   \n",
      "2019              37.10     2.257299e+08       4123000.0      54.75   \n",
      "2020              31.63     1.945061e+08       4102000.0      47.42   \n",
      "\n",
      "                                                ... Investimentos            \\\n",
      "ITUB4 Resultado Bruto Margem Bruta        EBIT  ...     FCL CAPEX CAPEX/FCO   \n",
      "Data                                            ...                           \n",
      "                  NaN          NaN         NaN  ...           NaN       NaN   \n",
      "2008          36571.0       0.3207   2240086.0  ...           NaN       NaN   \n",
      "2009         404092.0       0.8530   7627816.0  ...           NaN       NaN   \n",
      "2010         645415.0       0.6319  10203195.0  ...     1152054.0       0.0   \n",
      "2011        1855283.0       0.7112  11686067.0  ...     2701672.0       0.0   \n",
      "2012        2050102.0       0.6638  10575510.0  ...    -7193831.0       0.0   \n",
      "2013        2528810.0       0.7125  12060445.0  ...     3192754.0       0.0   \n",
      "2014        3391264.0       0.7543  17474884.0  ...     5469079.0       0.0   \n",
      "2015        4401416.0       0.6677  20582751.0  ...    31490380.0       0.0   \n",
      "2016        3216166.0       1.1813  18598866.0  ...    -1227750.0       0.0   \n",
      "2017        2788182.0       0.5102  20886882.0  ...   -18448429.0       0.0   \n",
      "2018        2157000.0       0.2480  21277000.0  ...    31554768.0       0.0   \n",
      "2019        1789000.0       0.4339  26977000.0  ...           NaN       NaN   \n",
      "2020         677000.0       0.1650  16554000.0  ...           NaN       NaN   \n",
      "\n",
      "                     Dividendos                  Resultados                \\\n",
      "ITUB4 CAPEX/LL Dividendos e JCP      DY  Payout      EBITDA Margem EBITDA   \n",
      "Data                                                                        \n",
      "           NaN              NaN     NaN     NaN         NaN           NaN   \n",
      "2008       NaN              NaN     NaN     NaN         NaN           NaN   \n",
      "2009       NaN              NaN     NaN     NaN         NaN           NaN   \n",
      "2010       0.0     4.588486e+09  4.4921  0.4467         NaN           NaN   \n",
      "2011       0.0     5.206470e+09  1.9960  0.4379         NaN           NaN   \n",
      "2012       0.0     5.368868e+09  1.7383  0.4971         NaN           NaN   \n",
      "2013       0.0     6.318783e+09  1.7803  0.5419  12118190.0        3.4143   \n",
      "2014       0.0     7.007506e+09  1.5586  0.4029  17532629.0        3.8996   \n",
      "2015       0.0     7.672530e+09  1.1640  0.3639  20640495.0        3.1314   \n",
      "2016       0.0     1.038175e+10  3.8133  0.5507  18690479.0        6.8652   \n",
      "2017       0.0     2.009275e+10  3.6765  0.9519  20938376.0        3.8313   \n",
      "2018       0.0              NaN     NaN     NaN  21327438.0        2.4523   \n",
      "2019       NaN              NaN     NaN     NaN         NaN           NaN   \n",
      "2020       NaN              NaN     NaN     NaN         NaN           NaN   \n",
      "\n",
      "                  Dívida  \n",
      "ITUB4 P/EBITDA DL/EBITDA  \n",
      "Data                      \n",
      "           NaN       NaN  \n",
      "2008       NaN       NaN  \n",
      "2009       NaN       NaN  \n",
      "2010       NaN       NaN  \n",
      "2011       NaN       NaN  \n",
      "2012       NaN       NaN  \n",
      "2013      8.01     -0.05  \n",
      "2014      6.70     -0.18  \n",
      "2015      5.00     -0.49  \n",
      "2016      7.49     -0.24  \n",
      "2017      8.35     -0.20  \n",
      "2018     10.03     -0.17  \n",
      "2019       NaN       NaN  \n",
      "2020       NaN       NaN  \n",
      "\n",
      "[14 rows x 52 columns]\n"
     ]
    }
   ],
   "source": [
    "#BIBLIOTECA FUNDAMENTOS\n",
    "\n",
    "fts_itub4 = fts.get_fundamentos('ITUB4')\n",
    "print(fts_itub4)\n",
    "\n"
   ]
  },
  {
   "cell_type": "code",
   "execution_count": 119,
   "metadata": {},
   "outputs": [
    {
     "data": {
      "text/html": [
       "<div>\n",
       "<style scoped>\n",
       "    .dataframe tbody tr th:only-of-type {\n",
       "        vertical-align: middle;\n",
       "    }\n",
       "\n",
       "    .dataframe tbody tr th {\n",
       "        vertical-align: top;\n",
       "    }\n",
       "\n",
       "    .dataframe thead th {\n",
       "        text-align: right;\n",
       "    }\n",
       "</style>\n",
       "<table border=\"1\" class=\"dataframe\">\n",
       "  <thead>\n",
       "    <tr style=\"text-align: right;\">\n",
       "      <th>ITUB4</th>\n",
       "      <th>Dividendos e JCP</th>\n",
       "      <th>DY</th>\n",
       "      <th>Payout</th>\n",
       "    </tr>\n",
       "    <tr>\n",
       "      <th>Data</th>\n",
       "      <th></th>\n",
       "      <th></th>\n",
       "      <th></th>\n",
       "    </tr>\n",
       "  </thead>\n",
       "  <tbody>\n",
       "    <tr>\n",
       "      <th></th>\n",
       "      <td>NaN</td>\n",
       "      <td>NaN</td>\n",
       "      <td>NaN</td>\n",
       "    </tr>\n",
       "    <tr>\n",
       "      <th>2008</th>\n",
       "      <td>NaN</td>\n",
       "      <td>NaN</td>\n",
       "      <td>NaN</td>\n",
       "    </tr>\n",
       "    <tr>\n",
       "      <th>2009</th>\n",
       "      <td>NaN</td>\n",
       "      <td>NaN</td>\n",
       "      <td>NaN</td>\n",
       "    </tr>\n",
       "    <tr>\n",
       "      <th>2010</th>\n",
       "      <td>4.588486e+09</td>\n",
       "      <td>4.4921</td>\n",
       "      <td>0.4467</td>\n",
       "    </tr>\n",
       "    <tr>\n",
       "      <th>2011</th>\n",
       "      <td>5.206470e+09</td>\n",
       "      <td>1.9960</td>\n",
       "      <td>0.4379</td>\n",
       "    </tr>\n",
       "    <tr>\n",
       "      <th>2012</th>\n",
       "      <td>5.368868e+09</td>\n",
       "      <td>1.7383</td>\n",
       "      <td>0.4971</td>\n",
       "    </tr>\n",
       "    <tr>\n",
       "      <th>2013</th>\n",
       "      <td>6.318783e+09</td>\n",
       "      <td>1.7803</td>\n",
       "      <td>0.5419</td>\n",
       "    </tr>\n",
       "    <tr>\n",
       "      <th>2014</th>\n",
       "      <td>7.007506e+09</td>\n",
       "      <td>1.5586</td>\n",
       "      <td>0.4029</td>\n",
       "    </tr>\n",
       "    <tr>\n",
       "      <th>2015</th>\n",
       "      <td>7.672530e+09</td>\n",
       "      <td>1.1640</td>\n",
       "      <td>0.3639</td>\n",
       "    </tr>\n",
       "    <tr>\n",
       "      <th>2016</th>\n",
       "      <td>1.038175e+10</td>\n",
       "      <td>3.8133</td>\n",
       "      <td>0.5507</td>\n",
       "    </tr>\n",
       "    <tr>\n",
       "      <th>2017</th>\n",
       "      <td>2.009275e+10</td>\n",
       "      <td>3.6765</td>\n",
       "      <td>0.9519</td>\n",
       "    </tr>\n",
       "    <tr>\n",
       "      <th>2018</th>\n",
       "      <td>NaN</td>\n",
       "      <td>NaN</td>\n",
       "      <td>NaN</td>\n",
       "    </tr>\n",
       "    <tr>\n",
       "      <th>2019</th>\n",
       "      <td>NaN</td>\n",
       "      <td>NaN</td>\n",
       "      <td>NaN</td>\n",
       "    </tr>\n",
       "    <tr>\n",
       "      <th>2020</th>\n",
       "      <td>NaN</td>\n",
       "      <td>NaN</td>\n",
       "      <td>NaN</td>\n",
       "    </tr>\n",
       "  </tbody>\n",
       "</table>\n",
       "</div>"
      ],
      "text/plain": [
       "ITUB4  Dividendos e JCP      DY  Payout\n",
       "Data                                   \n",
       "                    NaN     NaN     NaN\n",
       "2008                NaN     NaN     NaN\n",
       "2009                NaN     NaN     NaN\n",
       "2010       4.588486e+09  4.4921  0.4467\n",
       "2011       5.206470e+09  1.9960  0.4379\n",
       "2012       5.368868e+09  1.7383  0.4971\n",
       "2013       6.318783e+09  1.7803  0.5419\n",
       "2014       7.007506e+09  1.5586  0.4029\n",
       "2015       7.672530e+09  1.1640  0.3639\n",
       "2016       1.038175e+10  3.8133  0.5507\n",
       "2017       2.009275e+10  3.6765  0.9519\n",
       "2018                NaN     NaN     NaN\n",
       "2019                NaN     NaN     NaN\n",
       "2020                NaN     NaN     NaN"
      ]
     },
     "execution_count": 119,
     "metadata": {},
     "output_type": "execute_result"
    }
   ],
   "source": [
    "#Puxando uma coluna específica\n",
    "fts_itub4['Dividendos']\n"
   ]
  },
  {
   "cell_type": "code",
   "execution_count": 120,
   "metadata": {},
   "outputs": [
    {
     "data": {
      "text/plain": [
       "<AxesSubplot: xlabel='Data'>"
      ]
     },
     "execution_count": 120,
     "metadata": {},
     "output_type": "execute_result"
    },
    {
     "data": {
      "image/png": "[encoded data removed]",
      "text/plain": [
       "<Figure size 640x480 with 1 Axes>"
      ]
     },
     "metadata": {},
     "output_type": "display_data"
    }
   ],
   "source": [
    "fts_itub4['Dividendos'].plot()\n"
   ]
  },
  {
   "cell_type": "code",
   "execution_count": 112,
   "metadata": {},
   "outputs": [
    {
     "name": "stdout",
     "output_type": "stream",
     "text": [
      "('Mercado', 'Quantidade de Ações ON')\n",
      "('Mercado', 'Quantidade de Ações PN')\n",
      "('Mercado', 'Última Cotação ON')\n",
      "('Mercado', 'Última Cotação PN')\n",
      "('Mercado', 'Valor de Mercado')\n",
      "('Resultados', 'Receita Líquida')\n",
      "('Resultados', 'PSR')\n",
      "('Resultados', 'Resultado Bruto')\n",
      "('Resultados', 'Margem Bruta')\n",
      "('Resultados', 'EBIT')\n",
      "('Resultados', 'Margem EBIT')\n",
      "('Resultados', 'P/EBIT')\n",
      "('Resultados', 'Lucro Líquido')\n",
      "('Resultados', 'P/L')\n",
      "('Resultados', 'LPA')\n",
      "('Patrimônio', 'Ativo Total')\n",
      "('Patrimônio', 'P/Ativo')\n",
      "('Patrimônio', 'Giro')\n",
      "('Patrimônio', 'EBIT/Ativo')\n",
      "('Patrimônio', 'PL')\n",
      "('Patrimônio', 'ROE')\n",
      "('Patrimônio', 'VPA')\n",
      "('Patrimônio', 'P/VPA')\n",
      "('Patrimônio', '(A - PL)/PL')\n",
      "('Patrimônio', 'EM')\n",
      "('Caixa', 'Disponibilidades')\n",
      "('Caixa', 'Dinheiro em Caixa')\n",
      "('Caixa', 'Aplicações Financeiras')\n",
      "('Dívida', 'Dívida Líquida')\n",
      "('Dívida', 'EV')\n",
      "('Dívida', 'EV/EBIT')\n",
      "('Liquidez e Solvência', 'Ativo Circulante')\n",
      "('Liquidez e Solvência', 'Ativo Não Circulante')\n",
      "('Liquidez e Solvência', 'Ativo Circulante Líquido')\n",
      "('Liquidez e Solvência', 'P/ACL')\n",
      "('Fluxo de Caixa', 'FCO')\n",
      "('Fluxo de Caixa', 'FCI')\n",
      "('Fluxo de Caixa', 'FCF')\n",
      "('Fluxo de Caixa', 'FCT')\n",
      "('Fluxo de Caixa', 'FCL')\n",
      "('Investimentos', 'FCI/LL')\n",
      "('Investimentos', 'CAPEX')\n",
      "('Investimentos', 'FCL CAPEX')\n",
      "('Investimentos', 'CAPEX/FCO')\n",
      "('Investimentos', 'CAPEX/LL')\n",
      "('Dividendos', 'Dividendos e JCP')\n",
      "('Dividendos', 'DY')\n",
      "('Dividendos', 'Payout')\n",
      "('Resultados', 'EBITDA')\n",
      "('Resultados', 'Margem EBITDA')\n",
      "('Resultados', 'P/EBITDA')\n",
      "('Dívida', 'DL/EBITDA')\n"
     ]
    }
   ],
   "source": [
    "for col in fts_itub4.columns:\n",
    "    print(col)"
   ]
  },
  {
   "cell_type": "code",
   "execution_count": null,
   "metadata": {},
   "outputs": [],
   "source": []
  },
  {
   "cell_type": "code",
   "execution_count": 113,
   "metadata": {},
   "outputs": [],
   "source": [
    " #Todos os fundamentos do primeiro trimestre de 2020,\n",
    "ftsitub41t20 = fts.get_fundamentos('ITUB4', year=2020, quarter=1)\n",
    "#Todos os fundamentos dos terceiros trimestres ou de qualquer semestre específico, basta mudar o valor 3 por outro\n",
    "ftsitub43t = fts.get_fundamentos('ITUB4', quarter=3)"
   ]
  },
  {
   "cell_type": "code",
   "execution_count": 114,
   "metadata": {},
   "outputs": [],
   "source": [
    "\n",
    " \n",
    "#Fundamentos das empresas em carteira\n",
    "#Todos os fundamentos históricos, anualmente\n",
    "#O comando fts.get_fundamentos serve para puxar o fundamento da empresa\n",
    "ftsbees3 = fts.get_fundamentos('BEES3')\n",
    "ftsabev3 = fts.get_fundamentos('ABEV3')\n",
    "ftsklbn4 = fts.get_fundamentos('KLBN4')\n",
    "ftswege3 = fts.get_fundamentos('WEGE3')\n",
    "ftsjhsf3 = fts.get_fundamentos('JHSF3')\n",
    "ftstris3 = fts.get_fundamentos('TRIS3')\n",
    "ftstpis3 = fts.get_fundamentos('TPIS3')\n",
    "ftsbpan4 = fts.get_fundamentos('BPAN4')\n",
    "ftsitub4 = fts.get_fundamentos('ITUB4')\n",
    "ftsrcsl4 = fts.get_fundamentos('RCSL4')\n",
    "ftsoibr3 = fts.get_fundamentos('OIBR3')\n",
    "ftsposi3 = fts.get_fundamentos('POSI3')\n",
    "ftstaee3 = fts.get_fundamentos('TAEE3')\n",
    "ftsengi4 = fts.get_fundamentos('ENGI4')\n",
    "ftssula4 = fts.get_fundamentos('SULA4')\n",
    "ftsslce3 = fts.get_fundamentos('SLCE3')\n",
    "ftsegie3 = fts.get_fundamentos('EGIE3')\n",
    "ftsmrve3 = fts.get_fundamentos('MRVE3')\n",
    "ftsgrnd3 = fts.get_fundamentos('GRND3')\n",
    "ftsitsa4 = fts.get_fundamentos('ITSA4')\n",
    "ftsigta3 = fts.get_fundamentos('IGTA3')"
   ]
  },
  {
   "cell_type": "code",
   "execution_count": 115,
   "metadata": {},
   "outputs": [
    {
     "name": "stdout",
     "output_type": "stream",
     "text": [
      "('Ativo Total', 'Ativo Total')\n",
      "('Ativo Circulante', 'Ativo Circulante')\n",
      "('Ativo Circulante', 'Caixa e Equivalentes de Caixa')\n",
      "('Ativo Circulante', 'Aplicações Financeiras')\n",
      "('Ativo Circulante', 'Contas a Receber')\n",
      "('Ativo Circulante', 'Estoques')\n",
      "('Ativo Circulante', 'Ativos Biológicos')\n",
      "('Ativo Circulante', 'Tributos a Recuperar')\n",
      "('Ativo Circulante', 'Despesas Antecipadas')\n",
      "('Ativo Circulante', 'Outros Ativos Circulantes')\n",
      "('Ativo Não Circulante', 'Ativo Realizável a Longo Prazo')\n",
      "('Ativo Não Circulante', 'Aplicações Financeiras Avaliadas a Valor Justo')\n",
      "('Ativo Não Circulante', 'Aplicações Financeiras Avaliadas ao Custo Amortizado')\n",
      "('Ativo Não Circulante', 'Contas a Receber')\n",
      "('Ativo Não Circulante', 'Estoques')\n",
      "('Ativo Não Circulante', 'Ativos Biológicos')\n",
      "('Ativo Não Circulante', 'Tributos Diferidos')\n",
      "('Ativo Não Circulante', 'Despesas Antecipadas')\n",
      "('Ativo Não Circulante', 'Créditos com Partes Relacionadas')\n",
      "('Ativo Não Circulante', 'Outros Ativos Não Circulantes')\n",
      "('Ativo Não Circulante', 'Investimentos')\n",
      "('Ativo Não Circulante', 'Imobilizado')\n",
      "('Ativo Não Circulante', 'Intangível')\n",
      "('Ativo Não Circulante', 'Diferido')\n",
      "('Passivo Total', 'Passivo Total')\n",
      "('Passivo Circulante', 'Passivo Circulante')\n",
      "('Passivo Circulante', 'Obrigações Sociais e Trabalhistas')\n",
      "('Passivo Circulante', 'Fornecedores')\n",
      "('Passivo Circulante', 'Obrigações Fiscais')\n",
      "('Passivo Circulante', 'Empréstimos e Financiamentos')\n",
      "('Passivo Circulante', 'Passivos com Partes Relacionadas')\n",
      "('Passivo Circulante', 'Dividendos e JCP a Pagar')\n",
      "('Passivo Circulante', 'Outros')\n",
      "('Passivo Circulante', 'Provisões')\n",
      "('Passivo Circulante', 'Passivos sobre Ativos Não-Correntes a Venda e Descontinuados')\n",
      "('Passivo Não Circulante', 'Passivo Não Circulante')\n",
      "('Passivo Não Circulante', 'Empréstimos e Financiamentos')\n",
      "('Passivo Não Circulante', 'Passivos com Partes Relacionadas')\n",
      "('Passivo Não Circulante', 'Outros')\n",
      "('Passivo Não Circulante', 'Tributos Diferidos')\n",
      "('Passivo Não Circulante', 'Adiantamento para Futuro Aumento Capital')\n",
      "('Passivo Não Circulante', 'Provisões')\n",
      "('Passivo Não Circulante', 'Passivos sobre Ativos Não-Correntes a Venda e Descontinuados')\n",
      "('Passivo Não Circulante', 'Lucros e Receitas a Apropriar')\n",
      "('Passivo Não Circulante', 'Participação dos Acionistas Não Controladores')\n",
      "('Patrimônio Líquido', 'Patrimônio Líquido')\n",
      "('Patrimônio Líquido', 'Capital Social Realizado')\n",
      "('Patrimônio Líquido', 'Reservas de Capital')\n",
      "('Patrimônio Líquido', 'Reservas de Reavaliação')\n",
      "('Patrimônio Líquido', 'Reservas de Lucros')\n",
      "('Patrimônio Líquido', 'Lucros/Prejuízos Acumulados')\n",
      "('Patrimônio Líquido', 'Ajustes de Avaliação Patrimonial')\n",
      "('Patrimônio Líquido', 'Ajustes Acumulados de Conversão')\n",
      "('Patrimônio Líquido', 'Outros Resultados Abrangentes')\n",
      "('Patrimônio Líquido', 'Adiantamento para Futuro Aumento Capital')\n"
     ]
    }
   ],
   "source": [
    "#Balanços anuais\n",
    "balance_petr4 = fts.get_balanco('PETR4')\n",
    "for col in balance_petr4:\n",
    "    print(col)"
   ]
  },
  {
   "cell_type": "code",
   "execution_count": 125,
   "metadata": {},
   "outputs": [
    {
     "name": "stdout",
     "output_type": "stream",
     "text": [
      "[*********************100%***********************]  1 of 1 completed\n"
     ]
    }
   ],
   "source": [
    "VT = web.get_data_yahoo('VT')\n"
   ]
  }
 ],
 "metadata": {
  "kernelspec": {
   "display_name": "Python 3",
   "language": "python",
   "name": "python3"
  },
  "language_info": {
   "codemirror_mode": {
    "name": "ipython",
    "version": 3
   },
   "file_extension": ".py",
   "mimetype": "text/x-python",
   "name": "python",
   "nbconvert_exporter": "python",
   "pygments_lexer": "ipython3",
   "version": "3.10.9 (tags/v3.10.9:1dd9be6, Dec  6 2022, 20:01:21) [MSC v.1934 64 bit (AMD64)]"
  },
  "orig_nbformat": 4,
  "vscode": {
   "interpreter": {
    "hash": "ce3fb133cab6a936c551081ee0d77ef4a6d11af85bd10385e088b263514ab4bf"
   }
  }
 },
 "nbformat": 4,
 "nbformat_minor": 2
}
