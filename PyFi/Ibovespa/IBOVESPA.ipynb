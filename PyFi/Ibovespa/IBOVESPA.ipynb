{
 "cells": [
  {
   "cell_type": "code",
   "execution_count": null,
   "metadata": {},
   "outputs": [],
   "source": [
    "#PACOTES QUE PRECISAM SER INSTALADOS E ATUALIZADOS\n",
    "#ESSE TRECHO FICA COMENTADO CASO NÃO SEJA NECESSÁRIA A INSTALAÇÃO DO PACOTE\n",
    "#!pip install yfinance --upgrade --no-cache-dir\n",
    "#!pip install python-bcb"
   ]
  },
  {
   "cell_type": "code",
   "execution_count": 2,
   "metadata": {},
   "outputs": [],
   "source": [
    "#Análise de Dados econômicos usando diferentes bases de dados#\n",
    "#Importando as bibliotecas necessárias\n",
    "import numpy as np \n",
    "import pandas as pd\n",
    "import matplotlib.pyplot as plt\n",
    "import datetime\n",
    "from datetime import date\n",
    "today = date.today()\n",
    "import pandas_datareader.data as web\n",
    "import yfinance as yf\n",
    "import fundamentos as fts\n",
    "#1.1.0 - Assim percorremos todos os dados obtidos no Yahoo Finance.\\n\n",
    "#1.1.2 - Outra biblioteca para análise estatística, voltada para conseguir comparar os gráficos do CDI/IBOV\n",
    "import seaborn as sns; sns.set()\n",
    "import bcb \n",
    "from bcb import sgs\n",
    "return None"
   ]
  },
  {
   "cell_type": "code",
   "execution_count": 3,
   "metadata": {},
   "outputs": [],
   "source": [
    "#Base de dados do banco do Brasil usando API\n",
    "def consulta_bc(codigo_bcb):\n",
    "    url = 'http://api.bcb.gov.br/dados/serie/bcdata.sgs.{}/dados?formato=json'.format(codigo_bcb)\n",
    "    df = pd.read_json(url)\n",
    "    df['data'] = pd.to_datetime(df['data'], dayfirst=True)\n",
    "    df.set_index('data', inplace=True)\n",
    "    return df\n",
    "    "
   ]
  },
  {
   "cell_type": "code",
   "execution_count": 7,
   "metadata": {},
   "outputs": [
    {
     "ename": "NameError",
     "evalue": "name 'sgs' is not defined",
     "output_type": "error",
     "traceback": [
      "\u001b[1;31m---------------------------------------------------------------------------\u001b[0m",
      "\u001b[1;31mNameError\u001b[0m                                 Traceback (most recent call last)",
      "\u001b[1;32mc:\\Users\\kiool\\Desktop\\GitHub\\Python\\PyFi\\Ibovespa\\IBOVESPA.ipynb Cell 4\u001b[0m in \u001b[0;36m2\n\u001b[0;32m      <a href='vscode-notebook-cell:/c%3A/Users/kiool/Desktop/GitHub/Python/PyFi/Ibovespa/IBOVESPA.ipynb#W3sZmlsZQ%3D%3D?line=0'>1</a>\u001b[0m \u001b[39m#Importando dados usando a biblioteca BCB\u001b[39;00m\n\u001b[1;32m----> <a href='vscode-notebook-cell:/c%3A/Users/kiool/Desktop/GitHub/Python/PyFi/Ibovespa/IBOVESPA.ipynb#W3sZmlsZQ%3D%3D?line=1'>2</a>\u001b[0m ipca2 \u001b[39m=\u001b[39m sgs\u001b[39m.\u001b[39mget((\u001b[39m'\u001b[39m\u001b[39mIPCA\u001b[39m\u001b[39m'\u001b[39m, \u001b[39m433\u001b[39m), last\u001b[39m=\u001b[39m\u001b[39m300\u001b[39m)\n\u001b[0;32m      <a href='vscode-notebook-cell:/c%3A/Users/kiool/Desktop/GitHub/Python/PyFi/Ibovespa/IBOVESPA.ipynb#W3sZmlsZQ%3D%3D?line=2'>3</a>\u001b[0m \u001b[39mprint\u001b[39m(ipca2)\n\u001b[0;32m      <a href='vscode-notebook-cell:/c%3A/Users/kiool/Desktop/GitHub/Python/PyFi/Ibovespa/IBOVESPA.ipynb#W3sZmlsZQ%3D%3D?line=3'>4</a>\u001b[0m ipca2[\u001b[39m'\u001b[39m\u001b[39mIPCA\u001b[39m\u001b[39m'\u001b[39m]\u001b[39m.\u001b[39mplot(figsize\u001b[39m=\u001b[39m(\u001b[39m16\u001b[39m,\u001b[39m2\u001b[39m))\n",
      "\u001b[1;31mNameError\u001b[0m: name 'sgs' is not defined"
     ]
    }
   ],
   "source": [
    "#Importando dados usando a biblioteca BCB\n",
    "ipca2 = sgs.get(('IPCA', 433), last=300)\n",
    "print(ipca2)\n",
    "ipca2['IPCA'].plot(figsize=(16,2))"
   ]
  },
  {
   "cell_type": "code",
   "execution_count": 41,
   "metadata": {},
   "outputs": [
    {
     "name": "stdout",
     "output_type": "stream",
     "text": [
      "[*********************100%***********************]  1 of 1 completed\n",
      "[*********************100%***********************]  1 of 1 completed\n",
      "[*********************100%***********************]  1 of 1 completed\n",
      "[*********************100%***********************]  1 of 1 completed\n",
      "[*********************100%***********************]  1 of 1 completed\n",
      "[*********************100%***********************]  1 of 1 completed\n"
     ]
    }
   ],
   "source": [
    "#Percorrendo a base de dados do Yahoo\n",
    "yf.pdr_override()\n",
    "# E com o comando web.get_data_yahoo podemos ter os dados históricos da bovespa\n",
    "# ÍNDICES BRASILEIROS\n",
    "ibov = web.get_data_yahoo('^BVSP', start='2000-11-03')\n",
    "ifix = web.get_data_yahoo('IFIX.SA', start='2000-01-01')\n",
    "#ÍNDICES AMERICANOS\n",
    "sp500 = web.get_data_yahoo('^GSPC', start='2000-01-01')\n",
    "#COMMODITIES\n",
    "crudeoil = web.get_data_yahoo('CL=F', start='2000-01-01')\n",
    "gold = web.get_data_yahoo('GC=F', start='2000-01-01')\n",
    "#CRIPTOMOEDAS\n",
    "btcusd = web.get_data_yahoo('BTC-USD', start=datetime.datetime(2019,1,1), end=today)\n",
    "# RENDA FIXA BR & INDICES DE INFLAÇÃO BR\n",
    "ipca = sgs.get(('IPCA', 433), last=12*365)\n",
    "igpm = sgs.get(('IGPM', 189), last=12)\n",
    "selic_meta = sgs.get(('SELIC_META', 432), last=12*700)\n",
    "selic = sgs.get(('SELIC', 1178), last=12*700)\n",
    "reservas_internacionais = sgs.get(('RESERVAS INT', 13621), last=12)\n",
    "cdi = sgs.get(('CDI', 12), last=(12*365))"
   ]
  },
  {
   "cell_type": "code",
   "execution_count": 34,
   "metadata": {},
   "outputs": [
    {
     "name": "stdout",
     "output_type": "stream",
     "text": [
      "                    Open          High           Low         Close  \\\n",
      "Date                                                                 \n",
      "2019-01-01   3746.713379   3850.913818   3707.231201   3843.520020   \n",
      "2019-01-02   3849.216309   3947.981201   3817.409424   3943.409424   \n",
      "2019-01-03   3931.048584   3935.685059   3826.222900   3836.741211   \n",
      "2019-01-04   3832.040039   3865.934570   3783.853760   3857.717529   \n",
      "2019-01-05   3851.973877   3904.903076   3836.900146   3845.194580   \n",
      "...                  ...           ...           ...           ...   \n",
      "2023-01-14  19910.537109  21075.142578  19907.828125  20976.298828   \n",
      "2023-01-15  20977.484375  20993.748047  20606.986328  20880.798828   \n",
      "2023-01-16  20882.224609  21360.875000  20715.746094  21169.632812   \n",
      "2023-01-17  21175.833984  21438.660156  20978.533203  21161.519531   \n",
      "2023-01-18  21161.050781  21564.501953  20541.544922  20688.781250   \n",
      "\n",
      "               Adj Close       Volume  \n",
      "Date                                   \n",
      "2019-01-01   3843.520020   4324200990  \n",
      "2019-01-02   3943.409424   5244856836  \n",
      "2019-01-03   3836.741211   4530215219  \n",
      "2019-01-04   3857.717529   4847965467  \n",
      "2019-01-05   3845.194580   5137609824  \n",
      "...                  ...          ...  \n",
      "2023-01-14  20976.298828  38967784639  \n",
      "2023-01-15  20880.798828  19298407543  \n",
      "2023-01-16  21169.632812  26792494050  \n",
      "2023-01-17  21161.519531  24999983362  \n",
      "2023-01-18  20688.781250  30005625418  \n",
      "\n",
      "[1479 rows x 6 columns]\n"
     ]
    }
   ],
   "source": [
    "print(btcusd)"
   ]
  },
  {
   "cell_type": "code",
   "execution_count": null,
   "metadata": {},
   "outputs": [],
   "source": [
    "print(cdi)\n",
    "cdi['CDI'].plot(figsize=(16,2))"
   ]
  },
  {
   "cell_type": "code",
   "execution_count": null,
   "metadata": {},
   "outputs": [],
   "source": [
    "igpm.plot()"
   ]
  },
  {
   "cell_type": "code",
   "execution_count": 43,
   "metadata": {},
   "outputs": [
    {
     "data": {
      "text/plain": [
       "<AxesSubplot: xlabel='Date'>"
      ]
     },
     "execution_count": 43,
     "metadata": {},
     "output_type": "execute_result"
    },
    {
     "data": {
      "image/png": "[encoded data removed]",
      "text/plain": [
       "<Figure size 640x480 with 1 Axes>"
      ]
     },
     "metadata": {},
     "output_type": "display_data"
    }
   ],
   "source": [
    "selic_meta.plot()"
   ]
  },
  {
   "cell_type": "code",
   "execution_count": 42,
   "metadata": {},
   "outputs": [
    {
     "data": {
      "text/plain": [
       "<AxesSubplot: xlabel='Date'>"
      ]
     },
     "execution_count": 42,
     "metadata": {},
     "output_type": "execute_result"
    },
    {
     "data": {
      "image/png": "[encoded data removed]",
      "text/plain": [
       "<Figure size 640x480 with 1 Axes>"
      ]
     },
     "metadata": {},
     "output_type": "display_data"
    }
   ],
   "source": [
    "selic.plot()"
   ]
  },
  {
   "cell_type": "code",
   "execution_count": null,
   "metadata": {},
   "outputs": [],
   "source": [
    "reservas_internacionais.plot(figsize=(16,2))"
   ]
  },
  {
   "cell_type": "code",
   "execution_count": null,
   "metadata": {},
   "outputs": [],
   "source": [
    "ibov['Adj Close'].tail(365).plot(figsize=(16,2))\n",
    "plt.title('IBOV')\n",
    "plt.xlabel('Tempo')\n",
    "plt.ylabel('Valor do índice')"
   ]
  },
  {
   "cell_type": "code",
   "execution_count": null,
   "metadata": {},
   "outputs": [],
   "source": [
    "ibov.tail(7) "
   ]
  },
  {
   "cell_type": "code",
   "execution_count": null,
   "metadata": {},
   "outputs": [],
   "source": [
    "ibov.head(7)"
   ]
  },
  {
   "cell_type": "code",
   "execution_count": null,
   "metadata": {},
   "outputs": [],
   "source": [
    "ibov.tail(15)['Adj Close'].plot(figsize=(16,2))\n",
    "plt.title('IBOV - Últimos 7 dias')\n",
    "plt.xlabel('Intervalo de tempo - Dias')\n",
    "plt.ylabel('BVSP - 15 dias passados')"
   ]
  },
  {
   "cell_type": "code",
   "execution_count": null,
   "metadata": {},
   "outputs": [],
   "source": [
    "ibov['Close'].plot()\n",
    "plt.title('Ibovespa - Histórico')\n",
    "plt.xlabel('Anos')\n",
    "plt.ylabel('BVSP')"
   ]
  },
  {
   "cell_type": "code",
   "execution_count": null,
   "metadata": {},
   "outputs": [],
   "source": [
    "sp500['Adj Close'].tail(365).plot(figsize=(16,2))\n",
    "plt.title('SP500')\n",
    "plt.xlabel('Tempo')\n",
    "plt.ylabel('Valor do índice')"
   ]
  },
  {
   "cell_type": "code",
   "execution_count": null,
   "metadata": {},
   "outputs": [],
   "source": [
    "btcusd['Adj Close'].tail(365).plot(figsize=(16,2))\n",
    "plt.title('btc-usd')\n",
    "plt.xlabel('Tempo')\n",
    "plt.ylabel('Valor do índice')"
   ]
  },
  {
   "cell_type": "code",
   "execution_count": null,
   "metadata": {},
   "outputs": [],
   "source": [
    "ipca.plot(figsize=(16,2))\n",
    "plt.title(\"IPCA\")\n",
    "plt.xlabel('Intervalo de Tempo em anos')\n",
    "plt.ylabel('Inflação (%)')"
   ]
  },
  {
   "cell_type": "code",
   "execution_count": null,
   "metadata": {},
   "outputs": [],
   "source": [
    "#RETORNOS ACUMULADOS\n",
    "data_inicio = '2000-01-01'\n",
    "ibovretorno = yf.download(tickers='^BVSP', start=datetime.datetime(2000,1,1))[['Adj Close']]\n",
    "ibov_retorno = ibovretorno.pct_change()\n",
    "ibov_retorno_acumulado = (1 + ibov_retorno[ibov_retorno.index >= data_inicio]).cumprod()\n",
    "ibov_retorno_acumulado.iloc[0] = 1\n",
    "\n",
    "cdi_acumulado = (1 + cdi[cdi.index >= data_inicio] / 100).cumprod()\n",
    "cdi_acumulado.iloc[0] = 1\n",
    "\n",
    "ipca_acumulado = (1 + ipca[ipca.index >= data_inicio] / 100).cumprod()\n",
    "ipca_acumulado.iloc[0] = 1\n",
    "\n",
    "selic_meta_acumulado = (1 + selic_meta[selic_meta.index >= data_inicio] / 100).cumprod()\n",
    "selic_meta_acumulado.iloc[0] = 1\n"
   ]
  },
  {
   "cell_type": "code",
   "execution_count": null,
   "metadata": {},
   "outputs": [],
   "source": [
    "ibov_retorno_acumulado.plot()"
   ]
  },
  {
   "cell_type": "code",
   "execution_count": null,
   "metadata": {},
   "outputs": [],
   "source": [
    "cdi_acumulado.plot()"
   ]
  },
  {
   "cell_type": "code",
   "execution_count": null,
   "metadata": {},
   "outputs": [],
   "source": [
    "#CDI vs. IPCA\n",
    "\n",
    "ax = plt.subplot()\n",
    "ax.plot(ipca_acumulado, color='red')\n",
    "ax.plot(cdi_acumulado, color='blue')\n",
    "ax.plot(ibov_retorno_acumulado, color='green')\n"
   ]
  },
  {
   "cell_type": "code",
   "execution_count": null,
   "metadata": {},
   "outputs": [],
   "source": [
    "#VOLATILIDADE\n",
    "pct_ibov = (ibov.Close/ibov.Open).apply(lambda x:x-1)*100\n",
    "display(pct_ibov.tail(10))\n"
   ]
  },
  {
   "cell_type": "code",
   "execution_count": null,
   "metadata": {},
   "outputs": [],
   "source": [
    "pct_ibov.tail(10).plot(figsize=(16,2), title='IBOV Volatilidade - 15d')"
   ]
  },
  {
   "cell_type": "code",
   "execution_count": null,
   "metadata": {},
   "outputs": [],
   "source": [
    "pct_ibov.plot(figsize=(16,2), title='IBOV Volatilidade - Completo')"
   ]
  },
  {
   "cell_type": "code",
   "execution_count": null,
   "metadata": {},
   "outputs": [],
   "source": [
    "#\n",
    "ipca2022 = ipca[(ipca.index.year >= 2021)]\n",
    "ipca2022.plot()"
   ]
  },
  {
   "cell_type": "code",
   "execution_count": null,
   "metadata": {},
   "outputs": [],
   "source": [
    "#FILTRO POR MÊS\n",
    "ibov_fatiado12 = ibov[ibov.index.month == 12] \n",
    "ibov_fatiado12.tail()"
   ]
  },
  {
   "cell_type": "code",
   "execution_count": null,
   "metadata": {},
   "outputs": [],
   "source": [
    "# FUNDOS IMOBILIÁRIOS #\n",
    "habt11 = web.get_data_yahoo('HABT11.SA', start='2020-02-01', end=today)\n",
    "tgar11 = web.get_data_yahoo('TGAR11.SA', start='2020-02-01', end=today)\n",
    "xplg11 = web.get_data_yahoo('XPLG11.SA', start='2020-02-01', end=today)\n",
    "mxrf11 = web.get_data_yahoo('MXRF11.SA', start='2020-02-01', end=today)\n",
    "flma11 = web.get_data_yahoo('FLMA11.SA', start='2020-02-01', end=today)\n",
    "knri11 = web.get_data_yahoo('KNRI11.SA', start='2020-02-01', end=today)\n",
    "bcff11 = web.get_data_yahoo('BCFF11.SA', start='2020-02-01', end=today)\n",
    "xpsf11 = web.get_data_yahoo('XPSF11.SA', start='2020-02-01', end=today)\n",
    "xpci11 = web.get_data_yahoo('XPCI11.SA', start='2020-02-01', end=today)\n",
    "xpml11 = web.get_data_yahoo('XPML11.SA', start='2020-02-01', end=today)"
   ]
  },
  {
   "cell_type": "code",
   "execution_count": null,
   "metadata": {},
   "outputs": [],
   "source": [
    "cota_xpci11 = xpci11[\"Adj Close\"].plot(figsize=(16,2), label=\"xpci11 - cotação\")"
   ]
  },
  {
   "cell_type": "code",
   "execution_count": null,
   "metadata": {},
   "outputs": [],
   "source": [
    "cotabcff11 = bcff11[\"Adj Close\"].plot(figsize=(8,2), label=bcff11)\n",
    "cotaxpsf11 = xpsf11[\"Close\"].plot(figsize=(8,2), label=xpsf11)\n",
    "cotamxrf11 = mxrf11[\"Close\"].plot(figsize=(8,2), label=mxrf11)\n",
    "cotaxplg11 = xplg11[\"Close\"].plot(figsize=(8,2), label=xplg11)\n",
    "cotaxpci11 = xpci11[\"Close\"].plot(figsize=(8,2), label=xpci11)\n",
    "cotaknri11 = knri11[\"Close\"].plot(figsize=(8,2), label=knri11)"
   ]
  },
  {
   "cell_type": "code",
   "execution_count": null,
   "metadata": {},
   "outputs": [],
   "source": [
    "# Baixando dados da sobre ITSA4 pelo YF\n",
    "itsa4 = web.get_data_yahoo('ITSA4.SA', start=datetime.datetime(2000,1,1), end=datetime.datetime.today())\n",
    "# Gráfico do fechamento da cota\n",
    "cota_itsa4 = itsa4[\"Close\"].plot(figsize=(16,2), title='ITSA4')"
   ]
  },
  {
   "cell_type": "code",
   "execution_count": null,
   "metadata": {},
   "outputs": [],
   "source": [
    "#Função lambda da volatilidade\n",
    "pct_itsa4 = (itsa4.Close/itsa4.Open).apply(lambda x:x-1)*100\n",
    "\n",
    "display(pct_itsa4.head(10))\n"
   ]
  },
  {
   "cell_type": "code",
   "execution_count": null,
   "metadata": {},
   "outputs": [],
   "source": [
    "#Gráfico da volatilidade\n",
    "pct_itsa4.tail(15).plot(figsize=(8,2))"
   ]
  },
  {
   "cell_type": "code",
   "execution_count": null,
   "metadata": {},
   "outputs": [],
   "source": [
    "#CRIAR FUNÇÃO QUE EXECUTA O PROCEDIMENTO DE ANGARIAR O GRÁFICO, A VOLATILIDADE E EXIBIR\n",
    "# O PARÂMETRO É O TICKER"
   ]
  },
  {
   "cell_type": "code",
   "execution_count": null,
   "metadata": {},
   "outputs": [],
   "source": [
    "#BIBLIOTECA FUNDAMENTOS\n",
    "\n",
    "fts_itub4 = fts.get_fundamentos('ITUB4')\n",
    "print(fts_itub4)\n",
    "\n"
   ]
  },
  {
   "cell_type": "code",
   "execution_count": null,
   "metadata": {},
   "outputs": [],
   "source": [
    "#Puxando uma coluna específica\n",
    "fts_itub4['Dividendos']\n"
   ]
  },
  {
   "cell_type": "code",
   "execution_count": null,
   "metadata": {},
   "outputs": [],
   "source": [
    "fts_itub4['Dividendos'].plot()\n"
   ]
  },
  {
   "cell_type": "code",
   "execution_count": null,
   "metadata": {},
   "outputs": [],
   "source": [
    "for col in fts_itub4.columns:\n",
    "    print(col)"
   ]
  },
  {
   "cell_type": "code",
   "execution_count": null,
   "metadata": {},
   "outputs": [],
   "source": [
    " #Todos os fundamentos do primeiro trimestre de 2020,\n",
    "ftsitub41t20 = fts.get_fundamentos('ITUB4', year=2020, quarter=1)\n",
    "#Todos os fundamentos dos terceiros trimestres ou de qualquer semestre específico, basta mudar o valor 3 por outro\n",
    "ftsitub43t = fts.get_fundamentos('ITUB4', quarter=3)"
   ]
  },
  {
   "cell_type": "code",
   "execution_count": null,
   "metadata": {},
   "outputs": [],
   "source": [
    "#Fundamentos das empresas em carteira\n",
    "#Todos os fundamentos históricos, anualmente\n",
    "#O comando fts.get_fundamentos serve para puxar o fundamento da empresa\n",
    "ftsbees3 = fts.get_fundamentos('BEES3')\n",
    "ftsabev3 = fts.get_fundamentos('ABEV3')\n",
    "ftsklbn4 = fts.get_fundamentos('KLBN4')\n",
    "ftswege3 = fts.get_fundamentos('WEGE3')\n",
    "ftsjhsf3 = fts.get_fundamentos('JHSF3')\n",
    "ftstris3 = fts.get_fundamentos('TRIS3')\n",
    "ftstpis3 = fts.get_fundamentos('TPIS3')\n",
    "ftsbpan4 = fts.get_fundamentos('BPAN4')\n",
    "ftsitub4 = fts.get_fundamentos('ITUB4')\n",
    "ftsrcsl4 = fts.get_fundamentos('RCSL4')\n",
    "ftsoibr3 = fts.get_fundamentos('OIBR3')\n",
    "ftsposi3 = fts.get_fundamentos('POSI3')\n",
    "ftstaee3 = fts.get_fundamentos('TAEE3')\n",
    "ftsengi4 = fts.get_fundamentos('ENGI4')\n",
    "ftssula4 = fts.get_fundamentos('SULA4')\n",
    "ftsslce3 = fts.get_fundamentos('SLCE3')\n",
    "ftsegie3 = fts.get_fundamentos('EGIE3')\n",
    "ftsmrve3 = fts.get_fundamentos('MRVE3')\n",
    "ftsgrnd3 = fts.get_fundamentos('GRND3')\n",
    "ftsitsa4 = fts.get_fundamentos('ITSA4')\n",
    "ftsigta3 = fts.get_fundamentos('IGTA3')"
   ]
  },
  {
   "cell_type": "code",
   "execution_count": null,
   "metadata": {},
   "outputs": [],
   "source": [
    "#Balanços anuais\n",
    "balance_petr4 = fts.get_balanco('PETR4')\n",
    "for col in balance_petr4:\n",
    "    print(col)"
   ]
  },
  {
   "cell_type": "code",
   "execution_count": null,
   "metadata": {},
   "outputs": [],
   "source": [
    "VT = web.get_data_yahoo('VT')\n"
   ]
  },
  {
   "cell_type": "code",
   "execution_count": null,
   "metadata": {},
   "outputs": [],
   "source": [
    "VT[\"Adj Close\"].plot()"
   ]
  }
 ],
 "metadata": {
  "kernelspec": {
   "display_name": "Python 3",
   "language": "python",
   "name": "python3"
  },
  "language_info": {
   "codemirror_mode": {
    "name": "ipython",
    "version": 3
   },
   "file_extension": ".py",
   "mimetype": "text/x-python",
   "name": "python",
   "nbconvert_exporter": "python",
   "pygments_lexer": "ipython3",
   "version": "3.10.11"
  },
  "orig_nbformat": 4,
  "vscode": {
   "interpreter": {
    "hash": "ce3fb133cab6a936c551081ee0d77ef4a6d11af85bd10385e088b263514ab4bf"
   }
  }
 },
 "nbformat": 4,
 "nbformat_minor": 2
}
