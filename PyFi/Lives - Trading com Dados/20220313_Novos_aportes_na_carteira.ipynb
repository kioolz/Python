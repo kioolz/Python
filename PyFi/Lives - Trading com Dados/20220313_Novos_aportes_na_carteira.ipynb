{
  "nbformat": 4,
  "nbformat_minor": 0,
  "metadata": {
    "colab": {
      "name": "20220313 - Novos aportes na carteira.ipynb",
      "provenance": [],
      "authorship_tag": "ABX9TyP9WuKnZsB5ClfsV7aeULyN",
      "include_colab_link": true
    },
    "kernelspec": {
      "name": "python3",
      "display_name": "Python 3"
    },
    "language_info": {
      "name": "python"
    }
  },
  "cells": [
    {
      "cell_type": "markdown",
      "metadata": {
        "id": "view-in-github",
        "colab_type": "text"
      },
      "source": [
        "<a href=\"https://colab.research.google.com/github/Trading-com-Dados/codigos_videos/blob/main/20220313_Novos_aportes_na_carteira.ipynb\" target=\"_parent\"><img src=\"https://colab.research.google.com/assets/colab-badge.svg\" alt=\"Open In Colab\"/></a>"
      ]
    },
    {
      "cell_type": "markdown",
      "source": [
        "# Simulação de carteiras que levam em consideração novos aportes"
      ],
      "metadata": {
        "id": "PtvIl_YH2Ay4"
      }
    },
    {
      "cell_type": "markdown",
      "source": [
        "Premissas:\n",
        "\n",
        "1. Só faremos aportes em ativos que já estão na carteira\n",
        "2. Novos aportes são feitos logo no início do pregão"
      ],
      "metadata": {
        "id": "VJ-VJ2aA0pR7"
      }
    },
    {
      "cell_type": "markdown",
      "source": [
        "# 0. Instalando e importando bibliotecas"
      ],
      "metadata": {
        "id": "RI8tNhuf2FIR"
      }
    },
    {
      "cell_type": "code",
      "source": [
        "!pip install yfinance"
      ],
      "metadata": {
        "colab": {
          "base_uri": "https://localhost:8080/"
        },
        "id": "wIxN8fgM2Omu",
        "outputId": "c33f378a-a845-4207-d843-4fe967eadefe"
      },
      "execution_count": 1,
      "outputs": [
        {
          "output_type": "stream",
          "name": "stdout",
          "text": [
            "Collecting yfinance\n",
            "  Downloading yfinance-0.1.70-py2.py3-none-any.whl (26 kB)\n",
            "Collecting lxml>=4.5.1\n",
            "  Downloading lxml-4.8.0-cp37-cp37m-manylinux_2_17_x86_64.manylinux2014_x86_64.manylinux_2_24_x86_64.whl (6.4 MB)\n",
            "\u001b[K     |████████████████████████████████| 6.4 MB 5.8 MB/s \n",
            "\u001b[?25hRequirement already satisfied: pandas>=0.24.0 in /usr/local/lib/python3.7/dist-packages (from yfinance) (1.3.5)\n",
            "Requirement already satisfied: multitasking>=0.0.7 in /usr/local/lib/python3.7/dist-packages (from yfinance) (0.0.10)\n",
            "Requirement already satisfied: numpy>=1.15 in /usr/local/lib/python3.7/dist-packages (from yfinance) (1.21.5)\n",
            "Collecting requests>=2.26\n",
            "  Downloading requests-2.27.1-py2.py3-none-any.whl (63 kB)\n",
            "\u001b[K     |████████████████████████████████| 63 kB 1.2 MB/s \n",
            "\u001b[?25hRequirement already satisfied: pytz>=2017.3 in /usr/local/lib/python3.7/dist-packages (from pandas>=0.24.0->yfinance) (2018.9)\n",
            "Requirement already satisfied: python-dateutil>=2.7.3 in /usr/local/lib/python3.7/dist-packages (from pandas>=0.24.0->yfinance) (2.8.2)\n",
            "Requirement already satisfied: six>=1.5 in /usr/local/lib/python3.7/dist-packages (from python-dateutil>=2.7.3->pandas>=0.24.0->yfinance) (1.15.0)\n",
            "Requirement already satisfied: certifi>=2017.4.17 in /usr/local/lib/python3.7/dist-packages (from requests>=2.26->yfinance) (2021.10.8)\n",
            "Requirement already satisfied: charset-normalizer~=2.0.0 in /usr/local/lib/python3.7/dist-packages (from requests>=2.26->yfinance) (2.0.12)\n",
            "Requirement already satisfied: urllib3<1.27,>=1.21.1 in /usr/local/lib/python3.7/dist-packages (from requests>=2.26->yfinance) (1.24.3)\n",
            "Requirement already satisfied: idna<4,>=2.5 in /usr/local/lib/python3.7/dist-packages (from requests>=2.26->yfinance) (2.10)\n",
            "Installing collected packages: requests, lxml, yfinance\n",
            "  Attempting uninstall: requests\n",
            "    Found existing installation: requests 2.23.0\n",
            "    Uninstalling requests-2.23.0:\n",
            "      Successfully uninstalled requests-2.23.0\n",
            "  Attempting uninstall: lxml\n",
            "    Found existing installation: lxml 4.2.6\n",
            "    Uninstalling lxml-4.2.6:\n",
            "      Successfully uninstalled lxml-4.2.6\n",
            "\u001b[31mERROR: pip's dependency resolver does not currently take into account all the packages that are installed. This behaviour is the source of the following dependency conflicts.\n",
            "google-colab 1.0.0 requires requests~=2.23.0, but you have requests 2.27.1 which is incompatible.\n",
            "datascience 0.10.6 requires folium==0.2.1, but you have folium 0.8.3 which is incompatible.\u001b[0m\n",
            "Successfully installed lxml-4.8.0 requests-2.27.1 yfinance-0.1.70\n"
          ]
        }
      ]
    },
    {
      "cell_type": "code",
      "source": [
        "import yfinance as yf"
      ],
      "metadata": {
        "id": "M1UbPVUA2TK5"
      },
      "execution_count": 2,
      "outputs": []
    },
    {
      "cell_type": "code",
      "source": [
        "import pandas as pd\n",
        "import numpy as np"
      ],
      "metadata": {
        "id": "26QY2LKC2Ywe"
      },
      "execution_count": 3,
      "outputs": []
    },
    {
      "cell_type": "markdown",
      "source": [
        "# 1. Criação da carteira de referência"
      ],
      "metadata": {
        "id": "MXuvP7wu0avv"
      }
    },
    {
      "cell_type": "markdown",
      "source": [
        "Como referência, assista ao vídeo: https://youtu.be/AzIXSFZOSrw"
      ],
      "metadata": {
        "id": "sSv2915U2bEN"
      }
    },
    {
      "cell_type": "code",
      "source": [
        "ativos = ['PETR4.SA','VALE3.SA', 'WEGE3.SA', \n",
        "          'RADL3.SA', 'OIBR3.SA','AAPL34.SA','IVVB11.SA']"
      ],
      "metadata": {
        "id": "o5QIg6VP2o3O"
      },
      "execution_count": 4,
      "outputs": []
    },
    {
      "cell_type": "code",
      "source": [
        "inicio = '2020-05-01'\n",
        "fim = '2022-03-11'"
      ],
      "metadata": {
        "id": "WqP32nBU23le"
      },
      "execution_count": 5,
      "outputs": []
    },
    {
      "cell_type": "code",
      "source": [
        "precos = yf.download(ativos, start = inicio, end = fim)['Adj Close']"
      ],
      "metadata": {
        "colab": {
          "base_uri": "https://localhost:8080/"
        },
        "id": "uRSVVTJo2733",
        "outputId": "793f626e-c193-4efb-a2e6-a5dca3db1140"
      },
      "execution_count": 6,
      "outputs": [
        {
          "output_type": "stream",
          "name": "stdout",
          "text": [
            "[*********************100%***********************]  7 of 7 completed\n"
          ]
        }
      ]
    },
    {
      "cell_type": "markdown",
      "source": [
        "Dicionário contendo as alocações iniciais no primeiro dia"
      ],
      "metadata": {
        "id": "PKrcBL7k3MoH"
      }
    },
    {
      "cell_type": "code",
      "source": [
        "compras = {'PETR4.SA': 2500, 'VALE3.SA': 2300, 'WEGE3.SA': 2000, \n",
        "           'RADL3.SA': 1700, 'OIBR3.SA': 1500, 'AAPL34.SA': 1100, 'IVVB11.SA': 900}"
      ],
      "metadata": {
        "id": "kGIOtaiM3EfO"
      },
      "execution_count": 8,
      "outputs": []
    },
    {
      "cell_type": "code",
      "source": [
        "compras_df = pd.Series(data = compras, index = list(compras.keys()) )"
      ],
      "metadata": {
        "id": "Qfb2mTrx3QMx"
      },
      "execution_count": 9,
      "outputs": []
    },
    {
      "cell_type": "code",
      "source": [
        "sum(compras.values())"
      ],
      "metadata": {
        "colab": {
          "base_uri": "https://localhost:8080/"
        },
        "id": "mGl-5yNo3aAg",
        "outputId": "315736d7-e0c5-434b-849d-30dc2bfd3d81"
      },
      "execution_count": 10,
      "outputs": [
        {
          "output_type": "execute_result",
          "data": {
            "text/plain": [
              "12000"
            ]
          },
          "metadata": {},
          "execution_count": 10
        }
      ]
    },
    {
      "cell_type": "markdown",
      "source": [
        "Preço dos ativos no primeiro dia do investimento"
      ],
      "metadata": {
        "id": "x9IUWCTM3fXi"
      }
    },
    {
      "cell_type": "code",
      "source": [
        "primeiro = precos.iloc[0]"
      ],
      "metadata": {
        "id": "ptJTaF_p3vnt"
      },
      "execution_count": 11,
      "outputs": []
    },
    {
      "cell_type": "code",
      "source": [
        "primeiro"
      ],
      "metadata": {
        "colab": {
          "base_uri": "https://localhost:8080/"
        },
        "id": "6r3VzAF23zMP",
        "outputId": "9b7104cf-d425-4653-a4d7-9dbddfbf6b54"
      },
      "execution_count": 12,
      "outputs": [
        {
          "output_type": "execute_result",
          "data": {
            "text/plain": [
              "AAPL34.SA     39.877621\n",
              "IVVB11.SA    169.199997\n",
              "OIBR3.SA       0.680000\n",
              "PETR4.SA      14.126041\n",
              "RADL3.SA      20.637646\n",
              "VALE3.SA      34.517658\n",
              "WEGE3.SA      19.485765\n",
              "Name: 2020-05-04 00:00:00, dtype: float64"
            ]
          },
          "metadata": {},
          "execution_count": 12
        }
      ]
    },
    {
      "cell_type": "markdown",
      "source": [
        "Quantidade de papéis comprados de cada ativo"
      ],
      "metadata": {
        "id": "J2kLAekj3pKz"
      }
    },
    {
      "cell_type": "code",
      "source": [
        "qtd_acoes = compras_df/primeiro"
      ],
      "metadata": {
        "id": "QuGWJ2gX30bW"
      },
      "execution_count": 14,
      "outputs": []
    },
    {
      "cell_type": "markdown",
      "source": [
        "Dataframe que contém a posição diária de cada ativo"
      ],
      "metadata": {
        "id": "KHPhUJfh3sGg"
      }
    },
    {
      "cell_type": "code",
      "source": [
        "PL = precos*qtd_acoes"
      ],
      "metadata": {
        "id": "6qvKl_vg3_Va"
      },
      "execution_count": 15,
      "outputs": []
    },
    {
      "cell_type": "code",
      "source": [
        "PL.head()"
      ],
      "metadata": {
        "colab": {
          "base_uri": "https://localhost:8080/",
          "height": 237
        },
        "id": "F_VigLgw4DZp",
        "outputId": "fafee9b7-294b-430c-eb1e-69963b27b264"
      },
      "execution_count": 16,
      "outputs": [
        {
          "output_type": "execute_result",
          "data": {
            "text/plain": [
              "              AAPL34.SA   IVVB11.SA     OIBR3.SA     PETR4.SA     RADL3.SA  \\\n",
              "Date                                                                         \n",
              "2020-05-04  1100.000000  900.000000  1500.000000  2500.000000  1700.000000   \n",
              "2020-05-05  1132.653031  916.170259  1544.117605  2580.552703  1692.683606   \n",
              "2020-05-06  1175.442177  928.989346  1544.117605  2485.615938  1683.090923   \n",
              "2020-05-07  1210.000116  973.404273  1477.941198  2508.630876  1685.854897   \n",
              "2020-05-08  1221.059801  961.436188  1522.058802  2658.228053  1701.951059   \n",
              "\n",
              "               VALE3.SA     WEGE3.SA  \n",
              "Date                                  \n",
              "2020-05-04  2300.000000  2000.000000  \n",
              "2020-05-05  2287.958586  1958.333240  \n",
              "2020-05-06  2320.942650  1949.297353  \n",
              "2020-05-07  2410.995130  1962.349037  \n",
              "2020-05-08  2557.591901  1919.678768  "
            ],
            "text/html": [
              "\n",
              "  <div id=\"df-629c5b1d-7396-494a-9c9a-da7b8b863687\">\n",
              "    <div class=\"colab-df-container\">\n",
              "      <div>\n",
              "<style scoped>\n",
              "    .dataframe tbody tr th:only-of-type {\n",
              "        vertical-align: middle;\n",
              "    }\n",
              "\n",
              "    .dataframe tbody tr th {\n",
              "        vertical-align: top;\n",
              "    }\n",
              "\n",
              "    .dataframe thead th {\n",
              "        text-align: right;\n",
              "    }\n",
              "</style>\n",
              "<table border=\"1\" class=\"dataframe\">\n",
              "  <thead>\n",
              "    <tr style=\"text-align: right;\">\n",
              "      <th></th>\n",
              "      <th>AAPL34.SA</th>\n",
              "      <th>IVVB11.SA</th>\n",
              "      <th>OIBR3.SA</th>\n",
              "      <th>PETR4.SA</th>\n",
              "      <th>RADL3.SA</th>\n",
              "      <th>VALE3.SA</th>\n",
              "      <th>WEGE3.SA</th>\n",
              "    </tr>\n",
              "    <tr>\n",
              "      <th>Date</th>\n",
              "      <th></th>\n",
              "      <th></th>\n",
              "      <th></th>\n",
              "      <th></th>\n",
              "      <th></th>\n",
              "      <th></th>\n",
              "      <th></th>\n",
              "    </tr>\n",
              "  </thead>\n",
              "  <tbody>\n",
              "    <tr>\n",
              "      <th>2020-05-04</th>\n",
              "      <td>1100.000000</td>\n",
              "      <td>900.000000</td>\n",
              "      <td>1500.000000</td>\n",
              "      <td>2500.000000</td>\n",
              "      <td>1700.000000</td>\n",
              "      <td>2300.000000</td>\n",
              "      <td>2000.000000</td>\n",
              "    </tr>\n",
              "    <tr>\n",
              "      <th>2020-05-05</th>\n",
              "      <td>1132.653031</td>\n",
              "      <td>916.170259</td>\n",
              "      <td>1544.117605</td>\n",
              "      <td>2580.552703</td>\n",
              "      <td>1692.683606</td>\n",
              "      <td>2287.958586</td>\n",
              "      <td>1958.333240</td>\n",
              "    </tr>\n",
              "    <tr>\n",
              "      <th>2020-05-06</th>\n",
              "      <td>1175.442177</td>\n",
              "      <td>928.989346</td>\n",
              "      <td>1544.117605</td>\n",
              "      <td>2485.615938</td>\n",
              "      <td>1683.090923</td>\n",
              "      <td>2320.942650</td>\n",
              "      <td>1949.297353</td>\n",
              "    </tr>\n",
              "    <tr>\n",
              "      <th>2020-05-07</th>\n",
              "      <td>1210.000116</td>\n",
              "      <td>973.404273</td>\n",
              "      <td>1477.941198</td>\n",
              "      <td>2508.630876</td>\n",
              "      <td>1685.854897</td>\n",
              "      <td>2410.995130</td>\n",
              "      <td>1962.349037</td>\n",
              "    </tr>\n",
              "    <tr>\n",
              "      <th>2020-05-08</th>\n",
              "      <td>1221.059801</td>\n",
              "      <td>961.436188</td>\n",
              "      <td>1522.058802</td>\n",
              "      <td>2658.228053</td>\n",
              "      <td>1701.951059</td>\n",
              "      <td>2557.591901</td>\n",
              "      <td>1919.678768</td>\n",
              "    </tr>\n",
              "  </tbody>\n",
              "</table>\n",
              "</div>\n",
              "      <button class=\"colab-df-convert\" onclick=\"convertToInteractive('df-629c5b1d-7396-494a-9c9a-da7b8b863687')\"\n",
              "              title=\"Convert this dataframe to an interactive table.\"\n",
              "              style=\"display:none;\">\n",
              "        \n",
              "  <svg xmlns=\"http://www.w3.org/2000/svg\" height=\"24px\"viewBox=\"0 0 24 24\"\n",
              "       width=\"24px\">\n",
              "    <path d=\"M0 0h24v24H0V0z\" fill=\"none\"/>\n",
              "    <path d=\"M18.56 5.44l.94 2.06.94-2.06 2.06-.94-2.06-.94-.94-2.06-.94 2.06-2.06.94zm-11 1L8.5 8.5l.94-2.06 2.06-.94-2.06-.94L8.5 2.5l-.94 2.06-2.06.94zm10 10l.94 2.06.94-2.06 2.06-.94-2.06-.94-.94-2.06-.94 2.06-2.06.94z\"/><path d=\"M17.41 7.96l-1.37-1.37c-.4-.4-.92-.59-1.43-.59-.52 0-1.04.2-1.43.59L10.3 9.45l-7.72 7.72c-.78.78-.78 2.05 0 2.83L4 21.41c.39.39.9.59 1.41.59.51 0 1.02-.2 1.41-.59l7.78-7.78 2.81-2.81c.8-.78.8-2.07 0-2.86zM5.41 20L4 18.59l7.72-7.72 1.47 1.35L5.41 20z\"/>\n",
              "  </svg>\n",
              "      </button>\n",
              "      \n",
              "  <style>\n",
              "    .colab-df-container {\n",
              "      display:flex;\n",
              "      flex-wrap:wrap;\n",
              "      gap: 12px;\n",
              "    }\n",
              "\n",
              "    .colab-df-convert {\n",
              "      background-color: #E8F0FE;\n",
              "      border: none;\n",
              "      border-radius: 50%;\n",
              "      cursor: pointer;\n",
              "      display: none;\n",
              "      fill: #1967D2;\n",
              "      height: 32px;\n",
              "      padding: 0 0 0 0;\n",
              "      width: 32px;\n",
              "    }\n",
              "\n",
              "    .colab-df-convert:hover {\n",
              "      background-color: #E2EBFA;\n",
              "      box-shadow: 0px 1px 2px rgba(60, 64, 67, 0.3), 0px 1px 3px 1px rgba(60, 64, 67, 0.15);\n",
              "      fill: #174EA6;\n",
              "    }\n",
              "\n",
              "    [theme=dark] .colab-df-convert {\n",
              "      background-color: #3B4455;\n",
              "      fill: #D2E3FC;\n",
              "    }\n",
              "\n",
              "    [theme=dark] .colab-df-convert:hover {\n",
              "      background-color: #434B5C;\n",
              "      box-shadow: 0px 1px 3px 1px rgba(0, 0, 0, 0.15);\n",
              "      filter: drop-shadow(0px 1px 2px rgba(0, 0, 0, 0.3));\n",
              "      fill: #FFFFFF;\n",
              "    }\n",
              "  </style>\n",
              "\n",
              "      <script>\n",
              "        const buttonEl =\n",
              "          document.querySelector('#df-629c5b1d-7396-494a-9c9a-da7b8b863687 button.colab-df-convert');\n",
              "        buttonEl.style.display =\n",
              "          google.colab.kernel.accessAllowed ? 'block' : 'none';\n",
              "\n",
              "        async function convertToInteractive(key) {\n",
              "          const element = document.querySelector('#df-629c5b1d-7396-494a-9c9a-da7b8b863687');\n",
              "          const dataTable =\n",
              "            await google.colab.kernel.invokeFunction('convertToInteractive',\n",
              "                                                     [key], {});\n",
              "          if (!dataTable) return;\n",
              "\n",
              "          const docLinkHtml = 'Like what you see? Visit the ' +\n",
              "            '<a target=\"_blank\" href=https://colab.research.google.com/notebooks/data_table.ipynb>data table notebook</a>'\n",
              "            + ' to learn more about interactive tables.';\n",
              "          element.innerHTML = '';\n",
              "          dataTable['output_type'] = 'display_data';\n",
              "          await google.colab.output.renderOutput(dataTable, element);\n",
              "          const docLink = document.createElement('div');\n",
              "          docLink.innerHTML = docLinkHtml;\n",
              "          element.appendChild(docLink);\n",
              "        }\n",
              "      </script>\n",
              "    </div>\n",
              "  </div>\n",
              "  "
            ]
          },
          "metadata": {},
          "execution_count": 16
        }
      ]
    },
    {
      "cell_type": "code",
      "source": [
        "PL['PL Total'] = PL.sum(axis = 1)"
      ],
      "metadata": {
        "id": "yrUm1IOv4Hnk"
      },
      "execution_count": 17,
      "outputs": []
    },
    {
      "cell_type": "code",
      "source": [
        "PL.head()"
      ],
      "metadata": {
        "colab": {
          "base_uri": "https://localhost:8080/",
          "height": 237
        },
        "id": "PVS7kgDN4K3n",
        "outputId": "8d2c26de-f125-4362-d604-c55915cfccb6"
      },
      "execution_count": 18,
      "outputs": [
        {
          "output_type": "execute_result",
          "data": {
            "text/plain": [
              "              AAPL34.SA   IVVB11.SA     OIBR3.SA     PETR4.SA     RADL3.SA  \\\n",
              "Date                                                                         \n",
              "2020-05-04  1100.000000  900.000000  1500.000000  2500.000000  1700.000000   \n",
              "2020-05-05  1132.653031  916.170259  1544.117605  2580.552703  1692.683606   \n",
              "2020-05-06  1175.442177  928.989346  1544.117605  2485.615938  1683.090923   \n",
              "2020-05-07  1210.000116  973.404273  1477.941198  2508.630876  1685.854897   \n",
              "2020-05-08  1221.059801  961.436188  1522.058802  2658.228053  1701.951059   \n",
              "\n",
              "               VALE3.SA     WEGE3.SA      PL Total  \n",
              "Date                                                \n",
              "2020-05-04  2300.000000  2000.000000  12000.000000  \n",
              "2020-05-05  2287.958586  1958.333240  12112.469028  \n",
              "2020-05-06  2320.942650  1949.297353  12087.495991  \n",
              "2020-05-07  2410.995130  1962.349037  12229.175526  \n",
              "2020-05-08  2557.591901  1919.678768  12542.004572  "
            ],
            "text/html": [
              "\n",
              "  <div id=\"df-4976f690-9445-41d4-a46b-b6011f27d9e2\">\n",
              "    <div class=\"colab-df-container\">\n",
              "      <div>\n",
              "<style scoped>\n",
              "    .dataframe tbody tr th:only-of-type {\n",
              "        vertical-align: middle;\n",
              "    }\n",
              "\n",
              "    .dataframe tbody tr th {\n",
              "        vertical-align: top;\n",
              "    }\n",
              "\n",
              "    .dataframe thead th {\n",
              "        text-align: right;\n",
              "    }\n",
              "</style>\n",
              "<table border=\"1\" class=\"dataframe\">\n",
              "  <thead>\n",
              "    <tr style=\"text-align: right;\">\n",
              "      <th></th>\n",
              "      <th>AAPL34.SA</th>\n",
              "      <th>IVVB11.SA</th>\n",
              "      <th>OIBR3.SA</th>\n",
              "      <th>PETR4.SA</th>\n",
              "      <th>RADL3.SA</th>\n",
              "      <th>VALE3.SA</th>\n",
              "      <th>WEGE3.SA</th>\n",
              "      <th>PL Total</th>\n",
              "    </tr>\n",
              "    <tr>\n",
              "      <th>Date</th>\n",
              "      <th></th>\n",
              "      <th></th>\n",
              "      <th></th>\n",
              "      <th></th>\n",
              "      <th></th>\n",
              "      <th></th>\n",
              "      <th></th>\n",
              "      <th></th>\n",
              "    </tr>\n",
              "  </thead>\n",
              "  <tbody>\n",
              "    <tr>\n",
              "      <th>2020-05-04</th>\n",
              "      <td>1100.000000</td>\n",
              "      <td>900.000000</td>\n",
              "      <td>1500.000000</td>\n",
              "      <td>2500.000000</td>\n",
              "      <td>1700.000000</td>\n",
              "      <td>2300.000000</td>\n",
              "      <td>2000.000000</td>\n",
              "      <td>12000.000000</td>\n",
              "    </tr>\n",
              "    <tr>\n",
              "      <th>2020-05-05</th>\n",
              "      <td>1132.653031</td>\n",
              "      <td>916.170259</td>\n",
              "      <td>1544.117605</td>\n",
              "      <td>2580.552703</td>\n",
              "      <td>1692.683606</td>\n",
              "      <td>2287.958586</td>\n",
              "      <td>1958.333240</td>\n",
              "      <td>12112.469028</td>\n",
              "    </tr>\n",
              "    <tr>\n",
              "      <th>2020-05-06</th>\n",
              "      <td>1175.442177</td>\n",
              "      <td>928.989346</td>\n",
              "      <td>1544.117605</td>\n",
              "      <td>2485.615938</td>\n",
              "      <td>1683.090923</td>\n",
              "      <td>2320.942650</td>\n",
              "      <td>1949.297353</td>\n",
              "      <td>12087.495991</td>\n",
              "    </tr>\n",
              "    <tr>\n",
              "      <th>2020-05-07</th>\n",
              "      <td>1210.000116</td>\n",
              "      <td>973.404273</td>\n",
              "      <td>1477.941198</td>\n",
              "      <td>2508.630876</td>\n",
              "      <td>1685.854897</td>\n",
              "      <td>2410.995130</td>\n",
              "      <td>1962.349037</td>\n",
              "      <td>12229.175526</td>\n",
              "    </tr>\n",
              "    <tr>\n",
              "      <th>2020-05-08</th>\n",
              "      <td>1221.059801</td>\n",
              "      <td>961.436188</td>\n",
              "      <td>1522.058802</td>\n",
              "      <td>2658.228053</td>\n",
              "      <td>1701.951059</td>\n",
              "      <td>2557.591901</td>\n",
              "      <td>1919.678768</td>\n",
              "      <td>12542.004572</td>\n",
              "    </tr>\n",
              "  </tbody>\n",
              "</table>\n",
              "</div>\n",
              "      <button class=\"colab-df-convert\" onclick=\"convertToInteractive('df-4976f690-9445-41d4-a46b-b6011f27d9e2')\"\n",
              "              title=\"Convert this dataframe to an interactive table.\"\n",
              "              style=\"display:none;\">\n",
              "        \n",
              "  <svg xmlns=\"http://www.w3.org/2000/svg\" height=\"24px\"viewBox=\"0 0 24 24\"\n",
              "       width=\"24px\">\n",
              "    <path d=\"M0 0h24v24H0V0z\" fill=\"none\"/>\n",
              "    <path d=\"M18.56 5.44l.94 2.06.94-2.06 2.06-.94-2.06-.94-.94-2.06-.94 2.06-2.06.94zm-11 1L8.5 8.5l.94-2.06 2.06-.94-2.06-.94L8.5 2.5l-.94 2.06-2.06.94zm10 10l.94 2.06.94-2.06 2.06-.94-2.06-.94-.94-2.06-.94 2.06-2.06.94z\"/><path d=\"M17.41 7.96l-1.37-1.37c-.4-.4-.92-.59-1.43-.59-.52 0-1.04.2-1.43.59L10.3 9.45l-7.72 7.72c-.78.78-.78 2.05 0 2.83L4 21.41c.39.39.9.59 1.41.59.51 0 1.02-.2 1.41-.59l7.78-7.78 2.81-2.81c.8-.78.8-2.07 0-2.86zM5.41 20L4 18.59l7.72-7.72 1.47 1.35L5.41 20z\"/>\n",
              "  </svg>\n",
              "      </button>\n",
              "      \n",
              "  <style>\n",
              "    .colab-df-container {\n",
              "      display:flex;\n",
              "      flex-wrap:wrap;\n",
              "      gap: 12px;\n",
              "    }\n",
              "\n",
              "    .colab-df-convert {\n",
              "      background-color: #E8F0FE;\n",
              "      border: none;\n",
              "      border-radius: 50%;\n",
              "      cursor: pointer;\n",
              "      display: none;\n",
              "      fill: #1967D2;\n",
              "      height: 32px;\n",
              "      padding: 0 0 0 0;\n",
              "      width: 32px;\n",
              "    }\n",
              "\n",
              "    .colab-df-convert:hover {\n",
              "      background-color: #E2EBFA;\n",
              "      box-shadow: 0px 1px 2px rgba(60, 64, 67, 0.3), 0px 1px 3px 1px rgba(60, 64, 67, 0.15);\n",
              "      fill: #174EA6;\n",
              "    }\n",
              "\n",
              "    [theme=dark] .colab-df-convert {\n",
              "      background-color: #3B4455;\n",
              "      fill: #D2E3FC;\n",
              "    }\n",
              "\n",
              "    [theme=dark] .colab-df-convert:hover {\n",
              "      background-color: #434B5C;\n",
              "      box-shadow: 0px 1px 3px 1px rgba(0, 0, 0, 0.15);\n",
              "      filter: drop-shadow(0px 1px 2px rgba(0, 0, 0, 0.3));\n",
              "      fill: #FFFFFF;\n",
              "    }\n",
              "  </style>\n",
              "\n",
              "      <script>\n",
              "        const buttonEl =\n",
              "          document.querySelector('#df-4976f690-9445-41d4-a46b-b6011f27d9e2 button.colab-df-convert');\n",
              "        buttonEl.style.display =\n",
              "          google.colab.kernel.accessAllowed ? 'block' : 'none';\n",
              "\n",
              "        async function convertToInteractive(key) {\n",
              "          const element = document.querySelector('#df-4976f690-9445-41d4-a46b-b6011f27d9e2');\n",
              "          const dataTable =\n",
              "            await google.colab.kernel.invokeFunction('convertToInteractive',\n",
              "                                                     [key], {});\n",
              "          if (!dataTable) return;\n",
              "\n",
              "          const docLinkHtml = 'Like what you see? Visit the ' +\n",
              "            '<a target=\"_blank\" href=https://colab.research.google.com/notebooks/data_table.ipynb>data table notebook</a>'\n",
              "            + ' to learn more about interactive tables.';\n",
              "          element.innerHTML = '';\n",
              "          dataTable['output_type'] = 'display_data';\n",
              "          await google.colab.output.renderOutput(dataTable, element);\n",
              "          const docLink = document.createElement('div');\n",
              "          docLink.innerHTML = docLinkHtml;\n",
              "          element.appendChild(docLink);\n",
              "        }\n",
              "      </script>\n",
              "    </div>\n",
              "  </div>\n",
              "  "
            ]
          },
          "metadata": {},
          "execution_count": 18
        }
      ]
    },
    {
      "cell_type": "code",
      "source": [
        "PL.tail()"
      ],
      "metadata": {
        "colab": {
          "base_uri": "https://localhost:8080/",
          "height": 237
        },
        "id": "JxQRYuHp4O9W",
        "outputId": "5d8defaf-abde-462f-cefd-dc34f382362d"
      },
      "execution_count": 19,
      "outputs": [
        {
          "output_type": "execute_result",
          "data": {
            "text/plain": [
              "              AAPL34.SA    IVVB11.SA     OIBR3.SA     PETR4.SA     RADL3.SA  \\\n",
              "Date                                                                          \n",
              "2022-03-04  2269.643902  1271.808566  1852.941099  6057.960355  1959.671278   \n",
              "2022-03-07  2232.129110  1244.680874  1742.647088  5627.903513  1888.006057   \n",
              "2022-03-08  2194.062722  1225.531905  1808.823495  5744.709034  1850.937813   \n",
              "2022-03-09  2261.644403  1244.680874  1875.000033  5762.407249  1897.890975   \n",
              "2022-03-10  2184.408226  1241.489352  1852.941099  5964.162177  1841.876809   \n",
              "\n",
              "               VALE3.SA     WEGE3.SA      PL Total  \n",
              "Date                                                \n",
              "2022-03-04  6542.974231  3234.155753  23189.155185  \n",
              "2022-03-07  6741.887720  3190.020940  22667.275302  \n",
              "2022-03-08  6446.083719  3240.314040  22510.462726  \n",
              "2022-03-09  6276.121171  3353.216813  22670.961517  \n",
              "2022-03-10  6483.348479  3255.709855  22823.935997  "
            ],
            "text/html": [
              "\n",
              "  <div id=\"df-8875f472-b015-498a-8c3c-c8be1c8a0511\">\n",
              "    <div class=\"colab-df-container\">\n",
              "      <div>\n",
              "<style scoped>\n",
              "    .dataframe tbody tr th:only-of-type {\n",
              "        vertical-align: middle;\n",
              "    }\n",
              "\n",
              "    .dataframe tbody tr th {\n",
              "        vertical-align: top;\n",
              "    }\n",
              "\n",
              "    .dataframe thead th {\n",
              "        text-align: right;\n",
              "    }\n",
              "</style>\n",
              "<table border=\"1\" class=\"dataframe\">\n",
              "  <thead>\n",
              "    <tr style=\"text-align: right;\">\n",
              "      <th></th>\n",
              "      <th>AAPL34.SA</th>\n",
              "      <th>IVVB11.SA</th>\n",
              "      <th>OIBR3.SA</th>\n",
              "      <th>PETR4.SA</th>\n",
              "      <th>RADL3.SA</th>\n",
              "      <th>VALE3.SA</th>\n",
              "      <th>WEGE3.SA</th>\n",
              "      <th>PL Total</th>\n",
              "    </tr>\n",
              "    <tr>\n",
              "      <th>Date</th>\n",
              "      <th></th>\n",
              "      <th></th>\n",
              "      <th></th>\n",
              "      <th></th>\n",
              "      <th></th>\n",
              "      <th></th>\n",
              "      <th></th>\n",
              "      <th></th>\n",
              "    </tr>\n",
              "  </thead>\n",
              "  <tbody>\n",
              "    <tr>\n",
              "      <th>2022-03-04</th>\n",
              "      <td>2269.643902</td>\n",
              "      <td>1271.808566</td>\n",
              "      <td>1852.941099</td>\n",
              "      <td>6057.960355</td>\n",
              "      <td>1959.671278</td>\n",
              "      <td>6542.974231</td>\n",
              "      <td>3234.155753</td>\n",
              "      <td>23189.155185</td>\n",
              "    </tr>\n",
              "    <tr>\n",
              "      <th>2022-03-07</th>\n",
              "      <td>2232.129110</td>\n",
              "      <td>1244.680874</td>\n",
              "      <td>1742.647088</td>\n",
              "      <td>5627.903513</td>\n",
              "      <td>1888.006057</td>\n",
              "      <td>6741.887720</td>\n",
              "      <td>3190.020940</td>\n",
              "      <td>22667.275302</td>\n",
              "    </tr>\n",
              "    <tr>\n",
              "      <th>2022-03-08</th>\n",
              "      <td>2194.062722</td>\n",
              "      <td>1225.531905</td>\n",
              "      <td>1808.823495</td>\n",
              "      <td>5744.709034</td>\n",
              "      <td>1850.937813</td>\n",
              "      <td>6446.083719</td>\n",
              "      <td>3240.314040</td>\n",
              "      <td>22510.462726</td>\n",
              "    </tr>\n",
              "    <tr>\n",
              "      <th>2022-03-09</th>\n",
              "      <td>2261.644403</td>\n",
              "      <td>1244.680874</td>\n",
              "      <td>1875.000033</td>\n",
              "      <td>5762.407249</td>\n",
              "      <td>1897.890975</td>\n",
              "      <td>6276.121171</td>\n",
              "      <td>3353.216813</td>\n",
              "      <td>22670.961517</td>\n",
              "    </tr>\n",
              "    <tr>\n",
              "      <th>2022-03-10</th>\n",
              "      <td>2184.408226</td>\n",
              "      <td>1241.489352</td>\n",
              "      <td>1852.941099</td>\n",
              "      <td>5964.162177</td>\n",
              "      <td>1841.876809</td>\n",
              "      <td>6483.348479</td>\n",
              "      <td>3255.709855</td>\n",
              "      <td>22823.935997</td>\n",
              "    </tr>\n",
              "  </tbody>\n",
              "</table>\n",
              "</div>\n",
              "      <button class=\"colab-df-convert\" onclick=\"convertToInteractive('df-8875f472-b015-498a-8c3c-c8be1c8a0511')\"\n",
              "              title=\"Convert this dataframe to an interactive table.\"\n",
              "              style=\"display:none;\">\n",
              "        \n",
              "  <svg xmlns=\"http://www.w3.org/2000/svg\" height=\"24px\"viewBox=\"0 0 24 24\"\n",
              "       width=\"24px\">\n",
              "    <path d=\"M0 0h24v24H0V0z\" fill=\"none\"/>\n",
              "    <path d=\"M18.56 5.44l.94 2.06.94-2.06 2.06-.94-2.06-.94-.94-2.06-.94 2.06-2.06.94zm-11 1L8.5 8.5l.94-2.06 2.06-.94-2.06-.94L8.5 2.5l-.94 2.06-2.06.94zm10 10l.94 2.06.94-2.06 2.06-.94-2.06-.94-.94-2.06-.94 2.06-2.06.94z\"/><path d=\"M17.41 7.96l-1.37-1.37c-.4-.4-.92-.59-1.43-.59-.52 0-1.04.2-1.43.59L10.3 9.45l-7.72 7.72c-.78.78-.78 2.05 0 2.83L4 21.41c.39.39.9.59 1.41.59.51 0 1.02-.2 1.41-.59l7.78-7.78 2.81-2.81c.8-.78.8-2.07 0-2.86zM5.41 20L4 18.59l7.72-7.72 1.47 1.35L5.41 20z\"/>\n",
              "  </svg>\n",
              "      </button>\n",
              "      \n",
              "  <style>\n",
              "    .colab-df-container {\n",
              "      display:flex;\n",
              "      flex-wrap:wrap;\n",
              "      gap: 12px;\n",
              "    }\n",
              "\n",
              "    .colab-df-convert {\n",
              "      background-color: #E8F0FE;\n",
              "      border: none;\n",
              "      border-radius: 50%;\n",
              "      cursor: pointer;\n",
              "      display: none;\n",
              "      fill: #1967D2;\n",
              "      height: 32px;\n",
              "      padding: 0 0 0 0;\n",
              "      width: 32px;\n",
              "    }\n",
              "\n",
              "    .colab-df-convert:hover {\n",
              "      background-color: #E2EBFA;\n",
              "      box-shadow: 0px 1px 2px rgba(60, 64, 67, 0.3), 0px 1px 3px 1px rgba(60, 64, 67, 0.15);\n",
              "      fill: #174EA6;\n",
              "    }\n",
              "\n",
              "    [theme=dark] .colab-df-convert {\n",
              "      background-color: #3B4455;\n",
              "      fill: #D2E3FC;\n",
              "    }\n",
              "\n",
              "    [theme=dark] .colab-df-convert:hover {\n",
              "      background-color: #434B5C;\n",
              "      box-shadow: 0px 1px 3px 1px rgba(0, 0, 0, 0.15);\n",
              "      filter: drop-shadow(0px 1px 2px rgba(0, 0, 0, 0.3));\n",
              "      fill: #FFFFFF;\n",
              "    }\n",
              "  </style>\n",
              "\n",
              "      <script>\n",
              "        const buttonEl =\n",
              "          document.querySelector('#df-8875f472-b015-498a-8c3c-c8be1c8a0511 button.colab-df-convert');\n",
              "        buttonEl.style.display =\n",
              "          google.colab.kernel.accessAllowed ? 'block' : 'none';\n",
              "\n",
              "        async function convertToInteractive(key) {\n",
              "          const element = document.querySelector('#df-8875f472-b015-498a-8c3c-c8be1c8a0511');\n",
              "          const dataTable =\n",
              "            await google.colab.kernel.invokeFunction('convertToInteractive',\n",
              "                                                     [key], {});\n",
              "          if (!dataTable) return;\n",
              "\n",
              "          const docLinkHtml = 'Like what you see? Visit the ' +\n",
              "            '<a target=\"_blank\" href=https://colab.research.google.com/notebooks/data_table.ipynb>data table notebook</a>'\n",
              "            + ' to learn more about interactive tables.';\n",
              "          element.innerHTML = '';\n",
              "          dataTable['output_type'] = 'display_data';\n",
              "          await google.colab.output.renderOutput(dataTable, element);\n",
              "          const docLink = document.createElement('div');\n",
              "          docLink.innerHTML = docLinkHtml;\n",
              "          element.appendChild(docLink);\n",
              "        }\n",
              "      </script>\n",
              "    </div>\n",
              "  </div>\n",
              "  "
            ]
          },
          "metadata": {},
          "execution_count": 19
        }
      ]
    },
    {
      "cell_type": "code",
      "source": [
        "PL['PL Total'].plot();"
      ],
      "metadata": {
        "colab": {
          "base_uri": "https://localhost:8080/",
          "height": 277
        },
        "id": "cQt7PDd14W0-",
        "outputId": "0e84f489-d645-467e-d17c-351acc6d1ea0"
      },
      "execution_count": 22,
      "outputs": [
        {
          "output_type": "display_data",
          "data": {
            "text/plain": [
              "<Figure size 432x288 with 1 Axes>"
            ],
            "image/png": "[encoded data removed]"
          },
          "metadata": {
            "needs_background": "light"
          }
        }
      ]
    },
    {
      "cell_type": "code",
      "source": [
        "# Criando função que recebe carteira e compara com o IBOV\n",
        "\n",
        "def comparaibov(i, f, carteira, largura,altura,nome):\n",
        "   import matplotlib.pyplot as plt\n",
        "   ibov = pd.DataFrame(yf.download('^BVSP', start = i, end =  f, progress=False)['Adj Close'].rename('IBOV', inplace = True))\n",
        "   consolidado = pd.merge(ibov, carteira, how = 'inner', on = 'Date')\n",
        "   consolidado_adj = consolidado/consolidado.iloc[0]\n",
        "   comparativo = consolidado_adj[['IBOV', 'PL Total']]\n",
        "   comparativo.plot(figsize = (largura,altura))\n",
        "   plt.legend([\"IBOV\", str(nome)]);"
      ],
      "metadata": {
        "id": "TvO7FB404qjO"
      },
      "execution_count": 23,
      "outputs": []
    },
    {
      "cell_type": "code",
      "source": [
        "comparaibov(inicio, fim, PL, 8, 8, 'Carteira com Um Aporte')"
      ],
      "metadata": {
        "colab": {
          "base_uri": "https://localhost:8080/",
          "height": 473
        },
        "id": "ACbK0lkA4zZ3",
        "outputId": "333cc008-444e-49c1-a4dd-a5bf5350ef98"
      },
      "execution_count": 24,
      "outputs": [
        {
          "output_type": "display_data",
          "data": {
            "text/plain": [
              "<Figure size 576x576 with 1 Axes>"
            ],
            "image/png": "[encoded data removed]"
          },
          "metadata": {
            "needs_background": "light"
          }
        }
      ]
    },
    {
      "cell_type": "markdown",
      "source": [
        "# 2. Reformular a carteira considerando novo aporte"
      ],
      "metadata": {
        "id": "8GFPQpFG0ukd"
      }
    },
    {
      "cell_type": "markdown",
      "source": [
        "Quando foi o novo aporte?"
      ],
      "metadata": {
        "id": "y94B9-zc6hkA"
      }
    },
    {
      "cell_type": "code",
      "source": [
        "data_aporte = '2021-09-14'"
      ],
      "metadata": {
        "id": "9Fmm5ZRz6VmY"
      },
      "execution_count": 26,
      "outputs": []
    },
    {
      "cell_type": "markdown",
      "source": [
        "Quanto nossa carteira tinha nesse dia?"
      ],
      "metadata": {
        "id": "pofZDw5Z6flY"
      }
    },
    {
      "cell_type": "code",
      "source": [
        "PL.loc[data_aporte]"
      ],
      "metadata": {
        "colab": {
          "base_uri": "https://localhost:8080/"
        },
        "id": "IZzYVDcM6lWw",
        "outputId": "d611d768-32c0-4657-8310-c20b70e1b0d2"
      },
      "execution_count": 27,
      "outputs": [
        {
          "output_type": "execute_result",
          "data": {
            "text/plain": [
              "AAPL34.SA     2148.324088\n",
              "IVVB11.SA     1351.063854\n",
              "OIBR3.SA      2227.941132\n",
              "PETR4.SA      4077.224912\n",
              "RADL3.SA      2126.490790\n",
              "VALE3.SA      5469.220632\n",
              "WEGE3.SA      4008.407078\n",
              "PL Total     21408.672485\n",
              "Name: 2021-09-14 00:00:00, dtype: float64"
            ]
          },
          "metadata": {},
          "execution_count": 27
        }
      ]
    },
    {
      "cell_type": "markdown",
      "source": [
        "Determine os novos aportes"
      ],
      "metadata": {
        "id": "b8Y8P-846udZ"
      }
    },
    {
      "cell_type": "code",
      "source": [
        "segunda_compra = {'OIBR3.SA': 6000, 'RADL3.SA': 2000, 'VALE3.SA': 1000}"
      ],
      "metadata": {
        "id": "aKl81sFA6y7B"
      },
      "execution_count": 28,
      "outputs": []
    },
    {
      "cell_type": "code",
      "source": [
        "segunda_compra_df = pd.Series(data = segunda_compra, index = list(segunda_compra.keys()) )"
      ],
      "metadata": {
        "id": "Y1hUFPRn7CWK"
      },
      "execution_count": 30,
      "outputs": []
    },
    {
      "cell_type": "code",
      "source": [
        "sum(segunda_compra.values())"
      ],
      "metadata": {
        "colab": {
          "base_uri": "https://localhost:8080/"
        },
        "id": "GC5XhHrl7JYv",
        "outputId": "b9c39ee5-6f89-4b24-cbf8-d0da07a9279c"
      },
      "execution_count": 31,
      "outputs": [
        {
          "output_type": "execute_result",
          "data": {
            "text/plain": [
              "9000"
            ]
          },
          "metadata": {},
          "execution_count": 31
        }
      ]
    },
    {
      "cell_type": "markdown",
      "source": [
        "Preço dos ativos no dia do aporte"
      ],
      "metadata": {
        "id": "l0TgRSiy7RIK"
      }
    },
    {
      "cell_type": "code",
      "source": [
        "precos_segundo_aporte = precos.loc[data_aporte]"
      ],
      "metadata": {
        "id": "03iaM9he7Xy6"
      },
      "execution_count": 32,
      "outputs": []
    },
    {
      "cell_type": "code",
      "source": [
        "precos_segundo_aporte"
      ],
      "metadata": {
        "colab": {
          "base_uri": "https://localhost:8080/"
        },
        "id": "MkKV0jWR7dCo",
        "outputId": "ace312bc-7296-4335-f06c-774d3245c596"
      },
      "execution_count": 33,
      "outputs": [
        {
          "output_type": "execute_result",
          "data": {
            "text/plain": [
              "AAPL34.SA     77.881866\n",
              "IVVB11.SA    254.000000\n",
              "OIBR3.SA       1.010000\n",
              "PETR4.SA      23.038019\n",
              "RADL3.SA      25.815155\n",
              "VALE3.SA      82.080299\n",
              "WEGE3.SA      39.053440\n",
              "Name: 2021-09-14 00:00:00, dtype: float64"
            ]
          },
          "metadata": {},
          "execution_count": 33
        }
      ]
    },
    {
      "cell_type": "markdown",
      "source": [
        "Número de papéis comprados no segundo aporte"
      ],
      "metadata": {
        "id": "SyGiaKFd7ia_"
      }
    },
    {
      "cell_type": "code",
      "source": [
        "qtd_acoes_segundo = segunda_compra_df/precos_segundo_aporte"
      ],
      "metadata": {
        "id": "e3Gemq3a7mLL"
      },
      "execution_count": 35,
      "outputs": []
    },
    {
      "cell_type": "code",
      "source": [
        "qtd_acoes_segundo"
      ],
      "metadata": {
        "colab": {
          "base_uri": "https://localhost:8080/"
        },
        "id": "m0hgDAdm7w9F",
        "outputId": "2068b6b1-e089-463b-c2f8-d4a12fe42fe7"
      },
      "execution_count": 36,
      "outputs": [
        {
          "output_type": "execute_result",
          "data": {
            "text/plain": [
              "AAPL34.SA            NaN\n",
              "IVVB11.SA            NaN\n",
              "OIBR3.SA     5940.594115\n",
              "PETR4.SA             NaN\n",
              "RADL3.SA       77.473871\n",
              "VALE3.SA       12.183191\n",
              "WEGE3.SA             NaN\n",
              "dtype: float64"
            ]
          },
          "metadata": {},
          "execution_count": 36
        }
      ]
    },
    {
      "cell_type": "markdown",
      "source": [
        "Vamos criar um data frame novo exclusivo para o novo aporte. As operações serão consideradas separadamente, e depois vamos juntar com a carteira original."
      ],
      "metadata": {
        "id": "TaXElzWe7z8y"
      }
    },
    {
      "cell_type": "code",
      "source": [
        "novo_PL = pd.DataFrame(data = None, index = precos.index, columns = precos.columns)"
      ],
      "metadata": {
        "id": "7R1hd1o68LHo"
      },
      "execution_count": 38,
      "outputs": []
    },
    {
      "cell_type": "code",
      "source": [
        "novo_PL.head()"
      ],
      "metadata": {
        "colab": {
          "base_uri": "https://localhost:8080/",
          "height": 237
        },
        "id": "6IzGnsaf8dzj",
        "outputId": "ec98bfa4-b207-4be2-9581-8ef73bf9d39d"
      },
      "execution_count": 39,
      "outputs": [
        {
          "output_type": "execute_result",
          "data": {
            "text/plain": [
              "           AAPL34.SA IVVB11.SA OIBR3.SA PETR4.SA RADL3.SA VALE3.SA WEGE3.SA\n",
              "Date                                                                       \n",
              "2020-05-04       NaN       NaN      NaN      NaN      NaN      NaN      NaN\n",
              "2020-05-05       NaN       NaN      NaN      NaN      NaN      NaN      NaN\n",
              "2020-05-06       NaN       NaN      NaN      NaN      NaN      NaN      NaN\n",
              "2020-05-07       NaN       NaN      NaN      NaN      NaN      NaN      NaN\n",
              "2020-05-08       NaN       NaN      NaN      NaN      NaN      NaN      NaN"
            ],
            "text/html": [
              "\n",
              "  <div id=\"df-324398d3-13c0-4dfc-884a-b3fc310b1e9a\">\n",
              "    <div class=\"colab-df-container\">\n",
              "      <div>\n",
              "<style scoped>\n",
              "    .dataframe tbody tr th:only-of-type {\n",
              "        vertical-align: middle;\n",
              "    }\n",
              "\n",
              "    .dataframe tbody tr th {\n",
              "        vertical-align: top;\n",
              "    }\n",
              "\n",
              "    .dataframe thead th {\n",
              "        text-align: right;\n",
              "    }\n",
              "</style>\n",
              "<table border=\"1\" class=\"dataframe\">\n",
              "  <thead>\n",
              "    <tr style=\"text-align: right;\">\n",
              "      <th></th>\n",
              "      <th>AAPL34.SA</th>\n",
              "      <th>IVVB11.SA</th>\n",
              "      <th>OIBR3.SA</th>\n",
              "      <th>PETR4.SA</th>\n",
              "      <th>RADL3.SA</th>\n",
              "      <th>VALE3.SA</th>\n",
              "      <th>WEGE3.SA</th>\n",
              "    </tr>\n",
              "    <tr>\n",
              "      <th>Date</th>\n",
              "      <th></th>\n",
              "      <th></th>\n",
              "      <th></th>\n",
              "      <th></th>\n",
              "      <th></th>\n",
              "      <th></th>\n",
              "      <th></th>\n",
              "    </tr>\n",
              "  </thead>\n",
              "  <tbody>\n",
              "    <tr>\n",
              "      <th>2020-05-04</th>\n",
              "      <td>NaN</td>\n",
              "      <td>NaN</td>\n",
              "      <td>NaN</td>\n",
              "      <td>NaN</td>\n",
              "      <td>NaN</td>\n",
              "      <td>NaN</td>\n",
              "      <td>NaN</td>\n",
              "    </tr>\n",
              "    <tr>\n",
              "      <th>2020-05-05</th>\n",
              "      <td>NaN</td>\n",
              "      <td>NaN</td>\n",
              "      <td>NaN</td>\n",
              "      <td>NaN</td>\n",
              "      <td>NaN</td>\n",
              "      <td>NaN</td>\n",
              "      <td>NaN</td>\n",
              "    </tr>\n",
              "    <tr>\n",
              "      <th>2020-05-06</th>\n",
              "      <td>NaN</td>\n",
              "      <td>NaN</td>\n",
              "      <td>NaN</td>\n",
              "      <td>NaN</td>\n",
              "      <td>NaN</td>\n",
              "      <td>NaN</td>\n",
              "      <td>NaN</td>\n",
              "    </tr>\n",
              "    <tr>\n",
              "      <th>2020-05-07</th>\n",
              "      <td>NaN</td>\n",
              "      <td>NaN</td>\n",
              "      <td>NaN</td>\n",
              "      <td>NaN</td>\n",
              "      <td>NaN</td>\n",
              "      <td>NaN</td>\n",
              "      <td>NaN</td>\n",
              "    </tr>\n",
              "    <tr>\n",
              "      <th>2020-05-08</th>\n",
              "      <td>NaN</td>\n",
              "      <td>NaN</td>\n",
              "      <td>NaN</td>\n",
              "      <td>NaN</td>\n",
              "      <td>NaN</td>\n",
              "      <td>NaN</td>\n",
              "      <td>NaN</td>\n",
              "    </tr>\n",
              "  </tbody>\n",
              "</table>\n",
              "</div>\n",
              "      <button class=\"colab-df-convert\" onclick=\"convertToInteractive('df-324398d3-13c0-4dfc-884a-b3fc310b1e9a')\"\n",
              "              title=\"Convert this dataframe to an interactive table.\"\n",
              "              style=\"display:none;\">\n",
              "        \n",
              "  <svg xmlns=\"http://www.w3.org/2000/svg\" height=\"24px\"viewBox=\"0 0 24 24\"\n",
              "       width=\"24px\">\n",
              "    <path d=\"M0 0h24v24H0V0z\" fill=\"none\"/>\n",
              "    <path d=\"M18.56 5.44l.94 2.06.94-2.06 2.06-.94-2.06-.94-.94-2.06-.94 2.06-2.06.94zm-11 1L8.5 8.5l.94-2.06 2.06-.94-2.06-.94L8.5 2.5l-.94 2.06-2.06.94zm10 10l.94 2.06.94-2.06 2.06-.94-2.06-.94-.94-2.06-.94 2.06-2.06.94z\"/><path d=\"M17.41 7.96l-1.37-1.37c-.4-.4-.92-.59-1.43-.59-.52 0-1.04.2-1.43.59L10.3 9.45l-7.72 7.72c-.78.78-.78 2.05 0 2.83L4 21.41c.39.39.9.59 1.41.59.51 0 1.02-.2 1.41-.59l7.78-7.78 2.81-2.81c.8-.78.8-2.07 0-2.86zM5.41 20L4 18.59l7.72-7.72 1.47 1.35L5.41 20z\"/>\n",
              "  </svg>\n",
              "      </button>\n",
              "      \n",
              "  <style>\n",
              "    .colab-df-container {\n",
              "      display:flex;\n",
              "      flex-wrap:wrap;\n",
              "      gap: 12px;\n",
              "    }\n",
              "\n",
              "    .colab-df-convert {\n",
              "      background-color: #E8F0FE;\n",
              "      border: none;\n",
              "      border-radius: 50%;\n",
              "      cursor: pointer;\n",
              "      display: none;\n",
              "      fill: #1967D2;\n",
              "      height: 32px;\n",
              "      padding: 0 0 0 0;\n",
              "      width: 32px;\n",
              "    }\n",
              "\n",
              "    .colab-df-convert:hover {\n",
              "      background-color: #E2EBFA;\n",
              "      box-shadow: 0px 1px 2px rgba(60, 64, 67, 0.3), 0px 1px 3px 1px rgba(60, 64, 67, 0.15);\n",
              "      fill: #174EA6;\n",
              "    }\n",
              "\n",
              "    [theme=dark] .colab-df-convert {\n",
              "      background-color: #3B4455;\n",
              "      fill: #D2E3FC;\n",
              "    }\n",
              "\n",
              "    [theme=dark] .colab-df-convert:hover {\n",
              "      background-color: #434B5C;\n",
              "      box-shadow: 0px 1px 3px 1px rgba(0, 0, 0, 0.15);\n",
              "      filter: drop-shadow(0px 1px 2px rgba(0, 0, 0, 0.3));\n",
              "      fill: #FFFFFF;\n",
              "    }\n",
              "  </style>\n",
              "\n",
              "      <script>\n",
              "        const buttonEl =\n",
              "          document.querySelector('#df-324398d3-13c0-4dfc-884a-b3fc310b1e9a button.colab-df-convert');\n",
              "        buttonEl.style.display =\n",
              "          google.colab.kernel.accessAllowed ? 'block' : 'none';\n",
              "\n",
              "        async function convertToInteractive(key) {\n",
              "          const element = document.querySelector('#df-324398d3-13c0-4dfc-884a-b3fc310b1e9a');\n",
              "          const dataTable =\n",
              "            await google.colab.kernel.invokeFunction('convertToInteractive',\n",
              "                                                     [key], {});\n",
              "          if (!dataTable) return;\n",
              "\n",
              "          const docLinkHtml = 'Like what you see? Visit the ' +\n",
              "            '<a target=\"_blank\" href=https://colab.research.google.com/notebooks/data_table.ipynb>data table notebook</a>'\n",
              "            + ' to learn more about interactive tables.';\n",
              "          element.innerHTML = '';\n",
              "          dataTable['output_type'] = 'display_data';\n",
              "          await google.colab.output.renderOutput(dataTable, element);\n",
              "          const docLink = document.createElement('div');\n",
              "          docLink.innerHTML = docLinkHtml;\n",
              "          element.appendChild(docLink);\n",
              "        }\n",
              "      </script>\n",
              "    </div>\n",
              "  </div>\n",
              "  "
            ]
          },
          "metadata": {},
          "execution_count": 39
        }
      ]
    },
    {
      "cell_type": "markdown",
      "source": [
        "Qual a variação de patrimônio para as novas posições montadas?"
      ],
      "metadata": {
        "id": "LdvGPvLl8ljJ"
      }
    },
    {
      "cell_type": "code",
      "source": [
        "novos_PL = precos*qtd_acoes_segundo"
      ],
      "metadata": {
        "id": "D5EA7Sv88rlS"
      },
      "execution_count": 41,
      "outputs": []
    },
    {
      "cell_type": "code",
      "source": [
        "novos_PL.head()"
      ],
      "metadata": {
        "colab": {
          "base_uri": "https://localhost:8080/",
          "height": 237
        },
        "id": "8-yIrsXK8zLi",
        "outputId": "fd09aac0-5b89-4462-8bfb-8ca0f0f09e9d"
      },
      "execution_count": 42,
      "outputs": [
        {
          "output_type": "execute_result",
          "data": {
            "text/plain": [
              "            AAPL34.SA  IVVB11.SA     OIBR3.SA  PETR4.SA     RADL3.SA  \\\n",
              "Date                                                                   \n",
              "2020-05-04        NaN        NaN  4039.604041       NaN  1598.878310   \n",
              "2020-05-05        NaN        NaN  4158.415810       NaN  1591.997119   \n",
              "2020-05-06        NaN        NaN  4158.415810       NaN  1582.975041   \n",
              "2020-05-07        NaN        NaN  3980.198157       NaN  1585.574605   \n",
              "2020-05-08        NaN        NaN  4099.009926       NaN  1600.713314   \n",
              "\n",
              "              VALE3.SA  WEGE3.SA  \n",
              "Date                              \n",
              "2020-05-04  420.535238       NaN  \n",
              "2020-05-05  418.333569       NaN  \n",
              "2020-05-06  424.364422       NaN  \n",
              "2020-05-07  440.829744       NaN  \n",
              "2020-05-08  467.633704       NaN  "
            ],
            "text/html": [
              "\n",
              "  <div id=\"df-79046486-46d9-46a7-8e4f-ff798dafc0f7\">\n",
              "    <div class=\"colab-df-container\">\n",
              "      <div>\n",
              "<style scoped>\n",
              "    .dataframe tbody tr th:only-of-type {\n",
              "        vertical-align: middle;\n",
              "    }\n",
              "\n",
              "    .dataframe tbody tr th {\n",
              "        vertical-align: top;\n",
              "    }\n",
              "\n",
              "    .dataframe thead th {\n",
              "        text-align: right;\n",
              "    }\n",
              "</style>\n",
              "<table border=\"1\" class=\"dataframe\">\n",
              "  <thead>\n",
              "    <tr style=\"text-align: right;\">\n",
              "      <th></th>\n",
              "      <th>AAPL34.SA</th>\n",
              "      <th>IVVB11.SA</th>\n",
              "      <th>OIBR3.SA</th>\n",
              "      <th>PETR4.SA</th>\n",
              "      <th>RADL3.SA</th>\n",
              "      <th>VALE3.SA</th>\n",
              "      <th>WEGE3.SA</th>\n",
              "    </tr>\n",
              "    <tr>\n",
              "      <th>Date</th>\n",
              "      <th></th>\n",
              "      <th></th>\n",
              "      <th></th>\n",
              "      <th></th>\n",
              "      <th></th>\n",
              "      <th></th>\n",
              "      <th></th>\n",
              "    </tr>\n",
              "  </thead>\n",
              "  <tbody>\n",
              "    <tr>\n",
              "      <th>2020-05-04</th>\n",
              "      <td>NaN</td>\n",
              "      <td>NaN</td>\n",
              "      <td>4039.604041</td>\n",
              "      <td>NaN</td>\n",
              "      <td>1598.878310</td>\n",
              "      <td>420.535238</td>\n",
              "      <td>NaN</td>\n",
              "    </tr>\n",
              "    <tr>\n",
              "      <th>2020-05-05</th>\n",
              "      <td>NaN</td>\n",
              "      <td>NaN</td>\n",
              "      <td>4158.415810</td>\n",
              "      <td>NaN</td>\n",
              "      <td>1591.997119</td>\n",
              "      <td>418.333569</td>\n",
              "      <td>NaN</td>\n",
              "    </tr>\n",
              "    <tr>\n",
              "      <th>2020-05-06</th>\n",
              "      <td>NaN</td>\n",
              "      <td>NaN</td>\n",
              "      <td>4158.415810</td>\n",
              "      <td>NaN</td>\n",
              "      <td>1582.975041</td>\n",
              "      <td>424.364422</td>\n",
              "      <td>NaN</td>\n",
              "    </tr>\n",
              "    <tr>\n",
              "      <th>2020-05-07</th>\n",
              "      <td>NaN</td>\n",
              "      <td>NaN</td>\n",
              "      <td>3980.198157</td>\n",
              "      <td>NaN</td>\n",
              "      <td>1585.574605</td>\n",
              "      <td>440.829744</td>\n",
              "      <td>NaN</td>\n",
              "    </tr>\n",
              "    <tr>\n",
              "      <th>2020-05-08</th>\n",
              "      <td>NaN</td>\n",
              "      <td>NaN</td>\n",
              "      <td>4099.009926</td>\n",
              "      <td>NaN</td>\n",
              "      <td>1600.713314</td>\n",
              "      <td>467.633704</td>\n",
              "      <td>NaN</td>\n",
              "    </tr>\n",
              "  </tbody>\n",
              "</table>\n",
              "</div>\n",
              "      <button class=\"colab-df-convert\" onclick=\"convertToInteractive('df-79046486-46d9-46a7-8e4f-ff798dafc0f7')\"\n",
              "              title=\"Convert this dataframe to an interactive table.\"\n",
              "              style=\"display:none;\">\n",
              "        \n",
              "  <svg xmlns=\"http://www.w3.org/2000/svg\" height=\"24px\"viewBox=\"0 0 24 24\"\n",
              "       width=\"24px\">\n",
              "    <path d=\"M0 0h24v24H0V0z\" fill=\"none\"/>\n",
              "    <path d=\"M18.56 5.44l.94 2.06.94-2.06 2.06-.94-2.06-.94-.94-2.06-.94 2.06-2.06.94zm-11 1L8.5 8.5l.94-2.06 2.06-.94-2.06-.94L8.5 2.5l-.94 2.06-2.06.94zm10 10l.94 2.06.94-2.06 2.06-.94-2.06-.94-.94-2.06-.94 2.06-2.06.94z\"/><path d=\"M17.41 7.96l-1.37-1.37c-.4-.4-.92-.59-1.43-.59-.52 0-1.04.2-1.43.59L10.3 9.45l-7.72 7.72c-.78.78-.78 2.05 0 2.83L4 21.41c.39.39.9.59 1.41.59.51 0 1.02-.2 1.41-.59l7.78-7.78 2.81-2.81c.8-.78.8-2.07 0-2.86zM5.41 20L4 18.59l7.72-7.72 1.47 1.35L5.41 20z\"/>\n",
              "  </svg>\n",
              "      </button>\n",
              "      \n",
              "  <style>\n",
              "    .colab-df-container {\n",
              "      display:flex;\n",
              "      flex-wrap:wrap;\n",
              "      gap: 12px;\n",
              "    }\n",
              "\n",
              "    .colab-df-convert {\n",
              "      background-color: #E8F0FE;\n",
              "      border: none;\n",
              "      border-radius: 50%;\n",
              "      cursor: pointer;\n",
              "      display: none;\n",
              "      fill: #1967D2;\n",
              "      height: 32px;\n",
              "      padding: 0 0 0 0;\n",
              "      width: 32px;\n",
              "    }\n",
              "\n",
              "    .colab-df-convert:hover {\n",
              "      background-color: #E2EBFA;\n",
              "      box-shadow: 0px 1px 2px rgba(60, 64, 67, 0.3), 0px 1px 3px 1px rgba(60, 64, 67, 0.15);\n",
              "      fill: #174EA6;\n",
              "    }\n",
              "\n",
              "    [theme=dark] .colab-df-convert {\n",
              "      background-color: #3B4455;\n",
              "      fill: #D2E3FC;\n",
              "    }\n",
              "\n",
              "    [theme=dark] .colab-df-convert:hover {\n",
              "      background-color: #434B5C;\n",
              "      box-shadow: 0px 1px 3px 1px rgba(0, 0, 0, 0.15);\n",
              "      filter: drop-shadow(0px 1px 2px rgba(0, 0, 0, 0.3));\n",
              "      fill: #FFFFFF;\n",
              "    }\n",
              "  </style>\n",
              "\n",
              "      <script>\n",
              "        const buttonEl =\n",
              "          document.querySelector('#df-79046486-46d9-46a7-8e4f-ff798dafc0f7 button.colab-df-convert');\n",
              "        buttonEl.style.display =\n",
              "          google.colab.kernel.accessAllowed ? 'block' : 'none';\n",
              "\n",
              "        async function convertToInteractive(key) {\n",
              "          const element = document.querySelector('#df-79046486-46d9-46a7-8e4f-ff798dafc0f7');\n",
              "          const dataTable =\n",
              "            await google.colab.kernel.invokeFunction('convertToInteractive',\n",
              "                                                     [key], {});\n",
              "          if (!dataTable) return;\n",
              "\n",
              "          const docLinkHtml = 'Like what you see? Visit the ' +\n",
              "            '<a target=\"_blank\" href=https://colab.research.google.com/notebooks/data_table.ipynb>data table notebook</a>'\n",
              "            + ' to learn more about interactive tables.';\n",
              "          element.innerHTML = '';\n",
              "          dataTable['output_type'] = 'display_data';\n",
              "          await google.colab.output.renderOutput(dataTable, element);\n",
              "          const docLink = document.createElement('div');\n",
              "          docLink.innerHTML = docLinkHtml;\n",
              "          element.appendChild(docLink);\n",
              "        }\n",
              "      </script>\n",
              "    </div>\n",
              "  </div>\n",
              "  "
            ]
          },
          "metadata": {},
          "execution_count": 42
        }
      ]
    },
    {
      "cell_type": "markdown",
      "source": [
        "Vamos preencher os NaN com zeros"
      ],
      "metadata": {
        "id": "_wFAwfd79J-C"
      }
    },
    {
      "cell_type": "code",
      "source": [
        "novos_PL = novos_PL.fillna(0)"
      ],
      "metadata": {
        "id": "tLR8aqG89NZA"
      },
      "execution_count": 43,
      "outputs": []
    },
    {
      "cell_type": "markdown",
      "source": [
        "O que houve antes do aporte deve ser zero"
      ],
      "metadata": {
        "id": "TOheL9p19R_Y"
      }
    },
    {
      "cell_type": "code",
      "source": [
        "novos_PL[novos_PL.index < data_aporte] = 0"
      ],
      "metadata": {
        "id": "NB73d5dK9Vc5"
      },
      "execution_count": 44,
      "outputs": []
    },
    {
      "cell_type": "code",
      "source": [
        "novos_PL.head()"
      ],
      "metadata": {
        "colab": {
          "base_uri": "https://localhost:8080/",
          "height": 237
        },
        "id": "uQkUEABf9aPg",
        "outputId": "65ddb68d-c127-463a-de82-d6949cb9b763"
      },
      "execution_count": 45,
      "outputs": [
        {
          "output_type": "execute_result",
          "data": {
            "text/plain": [
              "            AAPL34.SA  IVVB11.SA  OIBR3.SA  PETR4.SA  RADL3.SA  VALE3.SA  \\\n",
              "Date                                                                       \n",
              "2020-05-04        0.0        0.0       0.0       0.0       0.0       0.0   \n",
              "2020-05-05        0.0        0.0       0.0       0.0       0.0       0.0   \n",
              "2020-05-06        0.0        0.0       0.0       0.0       0.0       0.0   \n",
              "2020-05-07        0.0        0.0       0.0       0.0       0.0       0.0   \n",
              "2020-05-08        0.0        0.0       0.0       0.0       0.0       0.0   \n",
              "\n",
              "            WEGE3.SA  \n",
              "Date                  \n",
              "2020-05-04       0.0  \n",
              "2020-05-05       0.0  \n",
              "2020-05-06       0.0  \n",
              "2020-05-07       0.0  \n",
              "2020-05-08       0.0  "
            ],
            "text/html": [
              "\n",
              "  <div id=\"df-69226d0f-31e8-4085-922a-67666a28ef16\">\n",
              "    <div class=\"colab-df-container\">\n",
              "      <div>\n",
              "<style scoped>\n",
              "    .dataframe tbody tr th:only-of-type {\n",
              "        vertical-align: middle;\n",
              "    }\n",
              "\n",
              "    .dataframe tbody tr th {\n",
              "        vertical-align: top;\n",
              "    }\n",
              "\n",
              "    .dataframe thead th {\n",
              "        text-align: right;\n",
              "    }\n",
              "</style>\n",
              "<table border=\"1\" class=\"dataframe\">\n",
              "  <thead>\n",
              "    <tr style=\"text-align: right;\">\n",
              "      <th></th>\n",
              "      <th>AAPL34.SA</th>\n",
              "      <th>IVVB11.SA</th>\n",
              "      <th>OIBR3.SA</th>\n",
              "      <th>PETR4.SA</th>\n",
              "      <th>RADL3.SA</th>\n",
              "      <th>VALE3.SA</th>\n",
              "      <th>WEGE3.SA</th>\n",
              "    </tr>\n",
              "    <tr>\n",
              "      <th>Date</th>\n",
              "      <th></th>\n",
              "      <th></th>\n",
              "      <th></th>\n",
              "      <th></th>\n",
              "      <th></th>\n",
              "      <th></th>\n",
              "      <th></th>\n",
              "    </tr>\n",
              "  </thead>\n",
              "  <tbody>\n",
              "    <tr>\n",
              "      <th>2020-05-04</th>\n",
              "      <td>0.0</td>\n",
              "      <td>0.0</td>\n",
              "      <td>0.0</td>\n",
              "      <td>0.0</td>\n",
              "      <td>0.0</td>\n",
              "      <td>0.0</td>\n",
              "      <td>0.0</td>\n",
              "    </tr>\n",
              "    <tr>\n",
              "      <th>2020-05-05</th>\n",
              "      <td>0.0</td>\n",
              "      <td>0.0</td>\n",
              "      <td>0.0</td>\n",
              "      <td>0.0</td>\n",
              "      <td>0.0</td>\n",
              "      <td>0.0</td>\n",
              "      <td>0.0</td>\n",
              "    </tr>\n",
              "    <tr>\n",
              "      <th>2020-05-06</th>\n",
              "      <td>0.0</td>\n",
              "      <td>0.0</td>\n",
              "      <td>0.0</td>\n",
              "      <td>0.0</td>\n",
              "      <td>0.0</td>\n",
              "      <td>0.0</td>\n",
              "      <td>0.0</td>\n",
              "    </tr>\n",
              "    <tr>\n",
              "      <th>2020-05-07</th>\n",
              "      <td>0.0</td>\n",
              "      <td>0.0</td>\n",
              "      <td>0.0</td>\n",
              "      <td>0.0</td>\n",
              "      <td>0.0</td>\n",
              "      <td>0.0</td>\n",
              "      <td>0.0</td>\n",
              "    </tr>\n",
              "    <tr>\n",
              "      <th>2020-05-08</th>\n",
              "      <td>0.0</td>\n",
              "      <td>0.0</td>\n",
              "      <td>0.0</td>\n",
              "      <td>0.0</td>\n",
              "      <td>0.0</td>\n",
              "      <td>0.0</td>\n",
              "      <td>0.0</td>\n",
              "    </tr>\n",
              "  </tbody>\n",
              "</table>\n",
              "</div>\n",
              "      <button class=\"colab-df-convert\" onclick=\"convertToInteractive('df-69226d0f-31e8-4085-922a-67666a28ef16')\"\n",
              "              title=\"Convert this dataframe to an interactive table.\"\n",
              "              style=\"display:none;\">\n",
              "        \n",
              "  <svg xmlns=\"http://www.w3.org/2000/svg\" height=\"24px\"viewBox=\"0 0 24 24\"\n",
              "       width=\"24px\">\n",
              "    <path d=\"M0 0h24v24H0V0z\" fill=\"none\"/>\n",
              "    <path d=\"M18.56 5.44l.94 2.06.94-2.06 2.06-.94-2.06-.94-.94-2.06-.94 2.06-2.06.94zm-11 1L8.5 8.5l.94-2.06 2.06-.94-2.06-.94L8.5 2.5l-.94 2.06-2.06.94zm10 10l.94 2.06.94-2.06 2.06-.94-2.06-.94-.94-2.06-.94 2.06-2.06.94z\"/><path d=\"M17.41 7.96l-1.37-1.37c-.4-.4-.92-.59-1.43-.59-.52 0-1.04.2-1.43.59L10.3 9.45l-7.72 7.72c-.78.78-.78 2.05 0 2.83L4 21.41c.39.39.9.59 1.41.59.51 0 1.02-.2 1.41-.59l7.78-7.78 2.81-2.81c.8-.78.8-2.07 0-2.86zM5.41 20L4 18.59l7.72-7.72 1.47 1.35L5.41 20z\"/>\n",
              "  </svg>\n",
              "      </button>\n",
              "      \n",
              "  <style>\n",
              "    .colab-df-container {\n",
              "      display:flex;\n",
              "      flex-wrap:wrap;\n",
              "      gap: 12px;\n",
              "    }\n",
              "\n",
              "    .colab-df-convert {\n",
              "      background-color: #E8F0FE;\n",
              "      border: none;\n",
              "      border-radius: 50%;\n",
              "      cursor: pointer;\n",
              "      display: none;\n",
              "      fill: #1967D2;\n",
              "      height: 32px;\n",
              "      padding: 0 0 0 0;\n",
              "      width: 32px;\n",
              "    }\n",
              "\n",
              "    .colab-df-convert:hover {\n",
              "      background-color: #E2EBFA;\n",
              "      box-shadow: 0px 1px 2px rgba(60, 64, 67, 0.3), 0px 1px 3px 1px rgba(60, 64, 67, 0.15);\n",
              "      fill: #174EA6;\n",
              "    }\n",
              "\n",
              "    [theme=dark] .colab-df-convert {\n",
              "      background-color: #3B4455;\n",
              "      fill: #D2E3FC;\n",
              "    }\n",
              "\n",
              "    [theme=dark] .colab-df-convert:hover {\n",
              "      background-color: #434B5C;\n",
              "      box-shadow: 0px 1px 3px 1px rgba(0, 0, 0, 0.15);\n",
              "      filter: drop-shadow(0px 1px 2px rgba(0, 0, 0, 0.3));\n",
              "      fill: #FFFFFF;\n",
              "    }\n",
              "  </style>\n",
              "\n",
              "      <script>\n",
              "        const buttonEl =\n",
              "          document.querySelector('#df-69226d0f-31e8-4085-922a-67666a28ef16 button.colab-df-convert');\n",
              "        buttonEl.style.display =\n",
              "          google.colab.kernel.accessAllowed ? 'block' : 'none';\n",
              "\n",
              "        async function convertToInteractive(key) {\n",
              "          const element = document.querySelector('#df-69226d0f-31e8-4085-922a-67666a28ef16');\n",
              "          const dataTable =\n",
              "            await google.colab.kernel.invokeFunction('convertToInteractive',\n",
              "                                                     [key], {});\n",
              "          if (!dataTable) return;\n",
              "\n",
              "          const docLinkHtml = 'Like what you see? Visit the ' +\n",
              "            '<a target=\"_blank\" href=https://colab.research.google.com/notebooks/data_table.ipynb>data table notebook</a>'\n",
              "            + ' to learn more about interactive tables.';\n",
              "          element.innerHTML = '';\n",
              "          dataTable['output_type'] = 'display_data';\n",
              "          await google.colab.output.renderOutput(dataTable, element);\n",
              "          const docLink = document.createElement('div');\n",
              "          docLink.innerHTML = docLinkHtml;\n",
              "          element.appendChild(docLink);\n",
              "        }\n",
              "      </script>\n",
              "    </div>\n",
              "  </div>\n",
              "  "
            ]
          },
          "metadata": {},
          "execution_count": 45
        }
      ]
    },
    {
      "cell_type": "code",
      "source": [
        "novos_PL.tail()"
      ],
      "metadata": {
        "colab": {
          "base_uri": "https://localhost:8080/",
          "height": 237
        },
        "id": "Khv4M1bF9l7c",
        "outputId": "db87a1b5-12e0-4d93-b6f0-4fea710e58d5"
      },
      "execution_count": 46,
      "outputs": [
        {
          "output_type": "execute_result",
          "data": {
            "text/plain": [
              "            AAPL34.SA  IVVB11.SA     OIBR3.SA  PETR4.SA     RADL3.SA  \\\n",
              "Date                                                                   \n",
              "2022-03-04        0.0        0.0  4990.098901       0.0  1843.103471   \n",
              "2022-03-07        0.0        0.0  4693.069479       0.0  1775.701138   \n",
              "2022-03-08        0.0        0.0  4871.287132       0.0  1740.837836   \n",
              "2022-03-09        0.0        0.0  5049.505140       0.0  1784.998067   \n",
              "2022-03-10        0.0        0.0  4990.098901       0.0  1732.315811   \n",
              "\n",
              "               VALE3.SA  WEGE3.SA  \n",
              "Date                               \n",
              "2022-03-04  1196.326620       0.0  \n",
              "2022-03-07  1232.696242       0.0  \n",
              "2022-03-08  1178.611022       0.0  \n",
              "2022-03-09  1147.534831       0.0  \n",
              "2022-03-10  1185.424563       0.0  "
            ],
            "text/html": [
              "\n",
              "  <div id=\"df-4acac93e-fe75-44a8-a72c-053519edc4e0\">\n",
              "    <div class=\"colab-df-container\">\n",
              "      <div>\n",
              "<style scoped>\n",
              "    .dataframe tbody tr th:only-of-type {\n",
              "        vertical-align: middle;\n",
              "    }\n",
              "\n",
              "    .dataframe tbody tr th {\n",
              "        vertical-align: top;\n",
              "    }\n",
              "\n",
              "    .dataframe thead th {\n",
              "        text-align: right;\n",
              "    }\n",
              "</style>\n",
              "<table border=\"1\" class=\"dataframe\">\n",
              "  <thead>\n",
              "    <tr style=\"text-align: right;\">\n",
              "      <th></th>\n",
              "      <th>AAPL34.SA</th>\n",
              "      <th>IVVB11.SA</th>\n",
              "      <th>OIBR3.SA</th>\n",
              "      <th>PETR4.SA</th>\n",
              "      <th>RADL3.SA</th>\n",
              "      <th>VALE3.SA</th>\n",
              "      <th>WEGE3.SA</th>\n",
              "    </tr>\n",
              "    <tr>\n",
              "      <th>Date</th>\n",
              "      <th></th>\n",
              "      <th></th>\n",
              "      <th></th>\n",
              "      <th></th>\n",
              "      <th></th>\n",
              "      <th></th>\n",
              "      <th></th>\n",
              "    </tr>\n",
              "  </thead>\n",
              "  <tbody>\n",
              "    <tr>\n",
              "      <th>2022-03-04</th>\n",
              "      <td>0.0</td>\n",
              "      <td>0.0</td>\n",
              "      <td>4990.098901</td>\n",
              "      <td>0.0</td>\n",
              "      <td>1843.103471</td>\n",
              "      <td>1196.326620</td>\n",
              "      <td>0.0</td>\n",
              "    </tr>\n",
              "    <tr>\n",
              "      <th>2022-03-07</th>\n",
              "      <td>0.0</td>\n",
              "      <td>0.0</td>\n",
              "      <td>4693.069479</td>\n",
              "      <td>0.0</td>\n",
              "      <td>1775.701138</td>\n",
              "      <td>1232.696242</td>\n",
              "      <td>0.0</td>\n",
              "    </tr>\n",
              "    <tr>\n",
              "      <th>2022-03-08</th>\n",
              "      <td>0.0</td>\n",
              "      <td>0.0</td>\n",
              "      <td>4871.287132</td>\n",
              "      <td>0.0</td>\n",
              "      <td>1740.837836</td>\n",
              "      <td>1178.611022</td>\n",
              "      <td>0.0</td>\n",
              "    </tr>\n",
              "    <tr>\n",
              "      <th>2022-03-09</th>\n",
              "      <td>0.0</td>\n",
              "      <td>0.0</td>\n",
              "      <td>5049.505140</td>\n",
              "      <td>0.0</td>\n",
              "      <td>1784.998067</td>\n",
              "      <td>1147.534831</td>\n",
              "      <td>0.0</td>\n",
              "    </tr>\n",
              "    <tr>\n",
              "      <th>2022-03-10</th>\n",
              "      <td>0.0</td>\n",
              "      <td>0.0</td>\n",
              "      <td>4990.098901</td>\n",
              "      <td>0.0</td>\n",
              "      <td>1732.315811</td>\n",
              "      <td>1185.424563</td>\n",
              "      <td>0.0</td>\n",
              "    </tr>\n",
              "  </tbody>\n",
              "</table>\n",
              "</div>\n",
              "      <button class=\"colab-df-convert\" onclick=\"convertToInteractive('df-4acac93e-fe75-44a8-a72c-053519edc4e0')\"\n",
              "              title=\"Convert this dataframe to an interactive table.\"\n",
              "              style=\"display:none;\">\n",
              "        \n",
              "  <svg xmlns=\"http://www.w3.org/2000/svg\" height=\"24px\"viewBox=\"0 0 24 24\"\n",
              "       width=\"24px\">\n",
              "    <path d=\"M0 0h24v24H0V0z\" fill=\"none\"/>\n",
              "    <path d=\"M18.56 5.44l.94 2.06.94-2.06 2.06-.94-2.06-.94-.94-2.06-.94 2.06-2.06.94zm-11 1L8.5 8.5l.94-2.06 2.06-.94-2.06-.94L8.5 2.5l-.94 2.06-2.06.94zm10 10l.94 2.06.94-2.06 2.06-.94-2.06-.94-.94-2.06-.94 2.06-2.06.94z\"/><path d=\"M17.41 7.96l-1.37-1.37c-.4-.4-.92-.59-1.43-.59-.52 0-1.04.2-1.43.59L10.3 9.45l-7.72 7.72c-.78.78-.78 2.05 0 2.83L4 21.41c.39.39.9.59 1.41.59.51 0 1.02-.2 1.41-.59l7.78-7.78 2.81-2.81c.8-.78.8-2.07 0-2.86zM5.41 20L4 18.59l7.72-7.72 1.47 1.35L5.41 20z\"/>\n",
              "  </svg>\n",
              "      </button>\n",
              "      \n",
              "  <style>\n",
              "    .colab-df-container {\n",
              "      display:flex;\n",
              "      flex-wrap:wrap;\n",
              "      gap: 12px;\n",
              "    }\n",
              "\n",
              "    .colab-df-convert {\n",
              "      background-color: #E8F0FE;\n",
              "      border: none;\n",
              "      border-radius: 50%;\n",
              "      cursor: pointer;\n",
              "      display: none;\n",
              "      fill: #1967D2;\n",
              "      height: 32px;\n",
              "      padding: 0 0 0 0;\n",
              "      width: 32px;\n",
              "    }\n",
              "\n",
              "    .colab-df-convert:hover {\n",
              "      background-color: #E2EBFA;\n",
              "      box-shadow: 0px 1px 2px rgba(60, 64, 67, 0.3), 0px 1px 3px 1px rgba(60, 64, 67, 0.15);\n",
              "      fill: #174EA6;\n",
              "    }\n",
              "\n",
              "    [theme=dark] .colab-df-convert {\n",
              "      background-color: #3B4455;\n",
              "      fill: #D2E3FC;\n",
              "    }\n",
              "\n",
              "    [theme=dark] .colab-df-convert:hover {\n",
              "      background-color: #434B5C;\n",
              "      box-shadow: 0px 1px 3px 1px rgba(0, 0, 0, 0.15);\n",
              "      filter: drop-shadow(0px 1px 2px rgba(0, 0, 0, 0.3));\n",
              "      fill: #FFFFFF;\n",
              "    }\n",
              "  </style>\n",
              "\n",
              "      <script>\n",
              "        const buttonEl =\n",
              "          document.querySelector('#df-4acac93e-fe75-44a8-a72c-053519edc4e0 button.colab-df-convert');\n",
              "        buttonEl.style.display =\n",
              "          google.colab.kernel.accessAllowed ? 'block' : 'none';\n",
              "\n",
              "        async function convertToInteractive(key) {\n",
              "          const element = document.querySelector('#df-4acac93e-fe75-44a8-a72c-053519edc4e0');\n",
              "          const dataTable =\n",
              "            await google.colab.kernel.invokeFunction('convertToInteractive',\n",
              "                                                     [key], {});\n",
              "          if (!dataTable) return;\n",
              "\n",
              "          const docLinkHtml = 'Like what you see? Visit the ' +\n",
              "            '<a target=\"_blank\" href=https://colab.research.google.com/notebooks/data_table.ipynb>data table notebook</a>'\n",
              "            + ' to learn more about interactive tables.';\n",
              "          element.innerHTML = '';\n",
              "          dataTable['output_type'] = 'display_data';\n",
              "          await google.colab.output.renderOutput(dataTable, element);\n",
              "          const docLink = document.createElement('div');\n",
              "          docLink.innerHTML = docLinkHtml;\n",
              "          element.appendChild(docLink);\n",
              "        }\n",
              "      </script>\n",
              "    </div>\n",
              "  </div>\n",
              "  "
            ]
          },
          "metadata": {},
          "execution_count": 46
        }
      ]
    },
    {
      "cell_type": "markdown",
      "source": [
        "Agora precisamos somar a carteira original com as operações após aporte"
      ],
      "metadata": {
        "id": "OBkgaOO29x4A"
      }
    },
    {
      "cell_type": "code",
      "source": [
        "carteira_full = pd.concat([PL, novos_PL], axis = 1)"
      ],
      "metadata": {
        "id": "fc881Tn292KS"
      },
      "execution_count": 47,
      "outputs": []
    },
    {
      "cell_type": "code",
      "source": [
        "carteira_full.head()"
      ],
      "metadata": {
        "colab": {
          "base_uri": "https://localhost:8080/",
          "height": 388
        },
        "id": "RuCCTJIX96tM",
        "outputId": "52b10f2f-51c1-4f74-abbe-e33c4846aa57"
      },
      "execution_count": 48,
      "outputs": [
        {
          "output_type": "execute_result",
          "data": {
            "text/plain": [
              "              AAPL34.SA   IVVB11.SA     OIBR3.SA     PETR4.SA     RADL3.SA  \\\n",
              "Date                                                                         \n",
              "2020-05-04  1100.000000  900.000000  1500.000000  2500.000000  1700.000000   \n",
              "2020-05-05  1132.653031  916.170259  1544.117605  2580.552703  1692.683606   \n",
              "2020-05-06  1175.442177  928.989346  1544.117605  2485.615938  1683.090923   \n",
              "2020-05-07  1210.000116  973.404273  1477.941198  2508.630876  1685.854897   \n",
              "2020-05-08  1221.059801  961.436188  1522.058802  2658.228053  1701.951059   \n",
              "\n",
              "               VALE3.SA     WEGE3.SA      PL Total  AAPL34.SA  IVVB11.SA  \\\n",
              "Date                                                                       \n",
              "2020-05-04  2300.000000  2000.000000  12000.000000        0.0        0.0   \n",
              "2020-05-05  2287.958586  1958.333240  12112.469028        0.0        0.0   \n",
              "2020-05-06  2320.942650  1949.297353  12087.495991        0.0        0.0   \n",
              "2020-05-07  2410.995130  1962.349037  12229.175526        0.0        0.0   \n",
              "2020-05-08  2557.591901  1919.678768  12542.004572        0.0        0.0   \n",
              "\n",
              "            OIBR3.SA  PETR4.SA  RADL3.SA  VALE3.SA  WEGE3.SA  \n",
              "Date                                                          \n",
              "2020-05-04       0.0       0.0       0.0       0.0       0.0  \n",
              "2020-05-05       0.0       0.0       0.0       0.0       0.0  \n",
              "2020-05-06       0.0       0.0       0.0       0.0       0.0  \n",
              "2020-05-07       0.0       0.0       0.0       0.0       0.0  \n",
              "2020-05-08       0.0       0.0       0.0       0.0       0.0  "
            ],
            "text/html": [
              "\n",
              "  <div id=\"df-e27dac27-f7b8-4afb-91a2-1b9ab51ce8e0\">\n",
              "    <div class=\"colab-df-container\">\n",
              "      <div>\n",
              "<style scoped>\n",
              "    .dataframe tbody tr th:only-of-type {\n",
              "        vertical-align: middle;\n",
              "    }\n",
              "\n",
              "    .dataframe tbody tr th {\n",
              "        vertical-align: top;\n",
              "    }\n",
              "\n",
              "    .dataframe thead th {\n",
              "        text-align: right;\n",
              "    }\n",
              "</style>\n",
              "<table border=\"1\" class=\"dataframe\">\n",
              "  <thead>\n",
              "    <tr style=\"text-align: right;\">\n",
              "      <th></th>\n",
              "      <th>AAPL34.SA</th>\n",
              "      <th>IVVB11.SA</th>\n",
              "      <th>OIBR3.SA</th>\n",
              "      <th>PETR4.SA</th>\n",
              "      <th>RADL3.SA</th>\n",
              "      <th>VALE3.SA</th>\n",
              "      <th>WEGE3.SA</th>\n",
              "      <th>PL Total</th>\n",
              "      <th>AAPL34.SA</th>\n",
              "      <th>IVVB11.SA</th>\n",
              "      <th>OIBR3.SA</th>\n",
              "      <th>PETR4.SA</th>\n",
              "      <th>RADL3.SA</th>\n",
              "      <th>VALE3.SA</th>\n",
              "      <th>WEGE3.SA</th>\n",
              "    </tr>\n",
              "    <tr>\n",
              "      <th>Date</th>\n",
              "      <th></th>\n",
              "      <th></th>\n",
              "      <th></th>\n",
              "      <th></th>\n",
              "      <th></th>\n",
              "      <th></th>\n",
              "      <th></th>\n",
              "      <th></th>\n",
              "      <th></th>\n",
              "      <th></th>\n",
              "      <th></th>\n",
              "      <th></th>\n",
              "      <th></th>\n",
              "      <th></th>\n",
              "      <th></th>\n",
              "    </tr>\n",
              "  </thead>\n",
              "  <tbody>\n",
              "    <tr>\n",
              "      <th>2020-05-04</th>\n",
              "      <td>1100.000000</td>\n",
              "      <td>900.000000</td>\n",
              "      <td>1500.000000</td>\n",
              "      <td>2500.000000</td>\n",
              "      <td>1700.000000</td>\n",
              "      <td>2300.000000</td>\n",
              "      <td>2000.000000</td>\n",
              "      <td>12000.000000</td>\n",
              "      <td>0.0</td>\n",
              "      <td>0.0</td>\n",
              "      <td>0.0</td>\n",
              "      <td>0.0</td>\n",
              "      <td>0.0</td>\n",
              "      <td>0.0</td>\n",
              "      <td>0.0</td>\n",
              "    </tr>\n",
              "    <tr>\n",
              "      <th>2020-05-05</th>\n",
              "      <td>1132.653031</td>\n",
              "      <td>916.170259</td>\n",
              "      <td>1544.117605</td>\n",
              "      <td>2580.552703</td>\n",
              "      <td>1692.683606</td>\n",
              "      <td>2287.958586</td>\n",
              "      <td>1958.333240</td>\n",
              "      <td>12112.469028</td>\n",
              "      <td>0.0</td>\n",
              "      <td>0.0</td>\n",
              "      <td>0.0</td>\n",
              "      <td>0.0</td>\n",
              "      <td>0.0</td>\n",
              "      <td>0.0</td>\n",
              "      <td>0.0</td>\n",
              "    </tr>\n",
              "    <tr>\n",
              "      <th>2020-05-06</th>\n",
              "      <td>1175.442177</td>\n",
              "      <td>928.989346</td>\n",
              "      <td>1544.117605</td>\n",
              "      <td>2485.615938</td>\n",
              "      <td>1683.090923</td>\n",
              "      <td>2320.942650</td>\n",
              "      <td>1949.297353</td>\n",
              "      <td>12087.495991</td>\n",
              "      <td>0.0</td>\n",
              "      <td>0.0</td>\n",
              "      <td>0.0</td>\n",
              "      <td>0.0</td>\n",
              "      <td>0.0</td>\n",
              "      <td>0.0</td>\n",
              "      <td>0.0</td>\n",
              "    </tr>\n",
              "    <tr>\n",
              "      <th>2020-05-07</th>\n",
              "      <td>1210.000116</td>\n",
              "      <td>973.404273</td>\n",
              "      <td>1477.941198</td>\n",
              "      <td>2508.630876</td>\n",
              "      <td>1685.854897</td>\n",
              "      <td>2410.995130</td>\n",
              "      <td>1962.349037</td>\n",
              "      <td>12229.175526</td>\n",
              "      <td>0.0</td>\n",
              "      <td>0.0</td>\n",
              "      <td>0.0</td>\n",
              "      <td>0.0</td>\n",
              "      <td>0.0</td>\n",
              "      <td>0.0</td>\n",
              "      <td>0.0</td>\n",
              "    </tr>\n",
              "    <tr>\n",
              "      <th>2020-05-08</th>\n",
              "      <td>1221.059801</td>\n",
              "      <td>961.436188</td>\n",
              "      <td>1522.058802</td>\n",
              "      <td>2658.228053</td>\n",
              "      <td>1701.951059</td>\n",
              "      <td>2557.591901</td>\n",
              "      <td>1919.678768</td>\n",
              "      <td>12542.004572</td>\n",
              "      <td>0.0</td>\n",
              "      <td>0.0</td>\n",
              "      <td>0.0</td>\n",
              "      <td>0.0</td>\n",
              "      <td>0.0</td>\n",
              "      <td>0.0</td>\n",
              "      <td>0.0</td>\n",
              "    </tr>\n",
              "  </tbody>\n",
              "</table>\n",
              "</div>\n",
              "      <button class=\"colab-df-convert\" onclick=\"convertToInteractive('df-e27dac27-f7b8-4afb-91a2-1b9ab51ce8e0')\"\n",
              "              title=\"Convert this dataframe to an interactive table.\"\n",
              "              style=\"display:none;\">\n",
              "        \n",
              "  <svg xmlns=\"http://www.w3.org/2000/svg\" height=\"24px\"viewBox=\"0 0 24 24\"\n",
              "       width=\"24px\">\n",
              "    <path d=\"M0 0h24v24H0V0z\" fill=\"none\"/>\n",
              "    <path d=\"M18.56 5.44l.94 2.06.94-2.06 2.06-.94-2.06-.94-.94-2.06-.94 2.06-2.06.94zm-11 1L8.5 8.5l.94-2.06 2.06-.94-2.06-.94L8.5 2.5l-.94 2.06-2.06.94zm10 10l.94 2.06.94-2.06 2.06-.94-2.06-.94-.94-2.06-.94 2.06-2.06.94z\"/><path d=\"M17.41 7.96l-1.37-1.37c-.4-.4-.92-.59-1.43-.59-.52 0-1.04.2-1.43.59L10.3 9.45l-7.72 7.72c-.78.78-.78 2.05 0 2.83L4 21.41c.39.39.9.59 1.41.59.51 0 1.02-.2 1.41-.59l7.78-7.78 2.81-2.81c.8-.78.8-2.07 0-2.86zM5.41 20L4 18.59l7.72-7.72 1.47 1.35L5.41 20z\"/>\n",
              "  </svg>\n",
              "      </button>\n",
              "      \n",
              "  <style>\n",
              "    .colab-df-container {\n",
              "      display:flex;\n",
              "      flex-wrap:wrap;\n",
              "      gap: 12px;\n",
              "    }\n",
              "\n",
              "    .colab-df-convert {\n",
              "      background-color: #E8F0FE;\n",
              "      border: none;\n",
              "      border-radius: 50%;\n",
              "      cursor: pointer;\n",
              "      display: none;\n",
              "      fill: #1967D2;\n",
              "      height: 32px;\n",
              "      padding: 0 0 0 0;\n",
              "      width: 32px;\n",
              "    }\n",
              "\n",
              "    .colab-df-convert:hover {\n",
              "      background-color: #E2EBFA;\n",
              "      box-shadow: 0px 1px 2px rgba(60, 64, 67, 0.3), 0px 1px 3px 1px rgba(60, 64, 67, 0.15);\n",
              "      fill: #174EA6;\n",
              "    }\n",
              "\n",
              "    [theme=dark] .colab-df-convert {\n",
              "      background-color: #3B4455;\n",
              "      fill: #D2E3FC;\n",
              "    }\n",
              "\n",
              "    [theme=dark] .colab-df-convert:hover {\n",
              "      background-color: #434B5C;\n",
              "      box-shadow: 0px 1px 3px 1px rgba(0, 0, 0, 0.15);\n",
              "      filter: drop-shadow(0px 1px 2px rgba(0, 0, 0, 0.3));\n",
              "      fill: #FFFFFF;\n",
              "    }\n",
              "  </style>\n",
              "\n",
              "      <script>\n",
              "        const buttonEl =\n",
              "          document.querySelector('#df-e27dac27-f7b8-4afb-91a2-1b9ab51ce8e0 button.colab-df-convert');\n",
              "        buttonEl.style.display =\n",
              "          google.colab.kernel.accessAllowed ? 'block' : 'none';\n",
              "\n",
              "        async function convertToInteractive(key) {\n",
              "          const element = document.querySelector('#df-e27dac27-f7b8-4afb-91a2-1b9ab51ce8e0');\n",
              "          const dataTable =\n",
              "            await google.colab.kernel.invokeFunction('convertToInteractive',\n",
              "                                                     [key], {});\n",
              "          if (!dataTable) return;\n",
              "\n",
              "          const docLinkHtml = 'Like what you see? Visit the ' +\n",
              "            '<a target=\"_blank\" href=https://colab.research.google.com/notebooks/data_table.ipynb>data table notebook</a>'\n",
              "            + ' to learn more about interactive tables.';\n",
              "          element.innerHTML = '';\n",
              "          dataTable['output_type'] = 'display_data';\n",
              "          await google.colab.output.renderOutput(dataTable, element);\n",
              "          const docLink = document.createElement('div');\n",
              "          docLink.innerHTML = docLinkHtml;\n",
              "          element.appendChild(docLink);\n",
              "        }\n",
              "      </script>\n",
              "    </div>\n",
              "  </div>\n",
              "  "
            ]
          },
          "metadata": {},
          "execution_count": 48
        }
      ]
    },
    {
      "cell_type": "code",
      "source": [
        "carteira_full = carteira_full.groupby(lambda x:x, axis = 1).sum()"
      ],
      "metadata": {
        "id": "CSYcmiFH-Cwq"
      },
      "execution_count": 50,
      "outputs": []
    },
    {
      "cell_type": "code",
      "source": [
        "carteira_full.head()"
      ],
      "metadata": {
        "colab": {
          "base_uri": "https://localhost:8080/",
          "height": 237
        },
        "id": "w_qR4tyZ-Nwm",
        "outputId": "d4eef1c6-7e97-4c12-f3bb-399939484a39"
      },
      "execution_count": 51,
      "outputs": [
        {
          "output_type": "execute_result",
          "data": {
            "text/plain": [
              "              AAPL34.SA   IVVB11.SA     OIBR3.SA     PETR4.SA      PL Total  \\\n",
              "Date                                                                          \n",
              "2020-05-04  1100.000000  900.000000  1500.000000  2500.000000  12000.000000   \n",
              "2020-05-05  1132.653031  916.170259  1544.117605  2580.552703  12112.469028   \n",
              "2020-05-06  1175.442177  928.989346  1544.117605  2485.615938  12087.495991   \n",
              "2020-05-07  1210.000116  973.404273  1477.941198  2508.630876  12229.175526   \n",
              "2020-05-08  1221.059801  961.436188  1522.058802  2658.228053  12542.004572   \n",
              "\n",
              "               RADL3.SA     VALE3.SA     WEGE3.SA  \n",
              "Date                                               \n",
              "2020-05-04  1700.000000  2300.000000  2000.000000  \n",
              "2020-05-05  1692.683606  2287.958586  1958.333240  \n",
              "2020-05-06  1683.090923  2320.942650  1949.297353  \n",
              "2020-05-07  1685.854897  2410.995130  1962.349037  \n",
              "2020-05-08  1701.951059  2557.591901  1919.678768  "
            ],
            "text/html": [
              "\n",
              "  <div id=\"df-dd7c3c20-f82e-47f8-8864-f1a65aebe3eb\">\n",
              "    <div class=\"colab-df-container\">\n",
              "      <div>\n",
              "<style scoped>\n",
              "    .dataframe tbody tr th:only-of-type {\n",
              "        vertical-align: middle;\n",
              "    }\n",
              "\n",
              "    .dataframe tbody tr th {\n",
              "        vertical-align: top;\n",
              "    }\n",
              "\n",
              "    .dataframe thead th {\n",
              "        text-align: right;\n",
              "    }\n",
              "</style>\n",
              "<table border=\"1\" class=\"dataframe\">\n",
              "  <thead>\n",
              "    <tr style=\"text-align: right;\">\n",
              "      <th></th>\n",
              "      <th>AAPL34.SA</th>\n",
              "      <th>IVVB11.SA</th>\n",
              "      <th>OIBR3.SA</th>\n",
              "      <th>PETR4.SA</th>\n",
              "      <th>PL Total</th>\n",
              "      <th>RADL3.SA</th>\n",
              "      <th>VALE3.SA</th>\n",
              "      <th>WEGE3.SA</th>\n",
              "    </tr>\n",
              "    <tr>\n",
              "      <th>Date</th>\n",
              "      <th></th>\n",
              "      <th></th>\n",
              "      <th></th>\n",
              "      <th></th>\n",
              "      <th></th>\n",
              "      <th></th>\n",
              "      <th></th>\n",
              "      <th></th>\n",
              "    </tr>\n",
              "  </thead>\n",
              "  <tbody>\n",
              "    <tr>\n",
              "      <th>2020-05-04</th>\n",
              "      <td>1100.000000</td>\n",
              "      <td>900.000000</td>\n",
              "      <td>1500.000000</td>\n",
              "      <td>2500.000000</td>\n",
              "      <td>12000.000000</td>\n",
              "      <td>1700.000000</td>\n",
              "      <td>2300.000000</td>\n",
              "      <td>2000.000000</td>\n",
              "    </tr>\n",
              "    <tr>\n",
              "      <th>2020-05-05</th>\n",
              "      <td>1132.653031</td>\n",
              "      <td>916.170259</td>\n",
              "      <td>1544.117605</td>\n",
              "      <td>2580.552703</td>\n",
              "      <td>12112.469028</td>\n",
              "      <td>1692.683606</td>\n",
              "      <td>2287.958586</td>\n",
              "      <td>1958.333240</td>\n",
              "    </tr>\n",
              "    <tr>\n",
              "      <th>2020-05-06</th>\n",
              "      <td>1175.442177</td>\n",
              "      <td>928.989346</td>\n",
              "      <td>1544.117605</td>\n",
              "      <td>2485.615938</td>\n",
              "      <td>12087.495991</td>\n",
              "      <td>1683.090923</td>\n",
              "      <td>2320.942650</td>\n",
              "      <td>1949.297353</td>\n",
              "    </tr>\n",
              "    <tr>\n",
              "      <th>2020-05-07</th>\n",
              "      <td>1210.000116</td>\n",
              "      <td>973.404273</td>\n",
              "      <td>1477.941198</td>\n",
              "      <td>2508.630876</td>\n",
              "      <td>12229.175526</td>\n",
              "      <td>1685.854897</td>\n",
              "      <td>2410.995130</td>\n",
              "      <td>1962.349037</td>\n",
              "    </tr>\n",
              "    <tr>\n",
              "      <th>2020-05-08</th>\n",
              "      <td>1221.059801</td>\n",
              "      <td>961.436188</td>\n",
              "      <td>1522.058802</td>\n",
              "      <td>2658.228053</td>\n",
              "      <td>12542.004572</td>\n",
              "      <td>1701.951059</td>\n",
              "      <td>2557.591901</td>\n",
              "      <td>1919.678768</td>\n",
              "    </tr>\n",
              "  </tbody>\n",
              "</table>\n",
              "</div>\n",
              "      <button class=\"colab-df-convert\" onclick=\"convertToInteractive('df-dd7c3c20-f82e-47f8-8864-f1a65aebe3eb')\"\n",
              "              title=\"Convert this dataframe to an interactive table.\"\n",
              "              style=\"display:none;\">\n",
              "        \n",
              "  <svg xmlns=\"http://www.w3.org/2000/svg\" height=\"24px\"viewBox=\"0 0 24 24\"\n",
              "       width=\"24px\">\n",
              "    <path d=\"M0 0h24v24H0V0z\" fill=\"none\"/>\n",
              "    <path d=\"M18.56 5.44l.94 2.06.94-2.06 2.06-.94-2.06-.94-.94-2.06-.94 2.06-2.06.94zm-11 1L8.5 8.5l.94-2.06 2.06-.94-2.06-.94L8.5 2.5l-.94 2.06-2.06.94zm10 10l.94 2.06.94-2.06 2.06-.94-2.06-.94-.94-2.06-.94 2.06-2.06.94z\"/><path d=\"M17.41 7.96l-1.37-1.37c-.4-.4-.92-.59-1.43-.59-.52 0-1.04.2-1.43.59L10.3 9.45l-7.72 7.72c-.78.78-.78 2.05 0 2.83L4 21.41c.39.39.9.59 1.41.59.51 0 1.02-.2 1.41-.59l7.78-7.78 2.81-2.81c.8-.78.8-2.07 0-2.86zM5.41 20L4 18.59l7.72-7.72 1.47 1.35L5.41 20z\"/>\n",
              "  </svg>\n",
              "      </button>\n",
              "      \n",
              "  <style>\n",
              "    .colab-df-container {\n",
              "      display:flex;\n",
              "      flex-wrap:wrap;\n",
              "      gap: 12px;\n",
              "    }\n",
              "\n",
              "    .colab-df-convert {\n",
              "      background-color: #E8F0FE;\n",
              "      border: none;\n",
              "      border-radius: 50%;\n",
              "      cursor: pointer;\n",
              "      display: none;\n",
              "      fill: #1967D2;\n",
              "      height: 32px;\n",
              "      padding: 0 0 0 0;\n",
              "      width: 32px;\n",
              "    }\n",
              "\n",
              "    .colab-df-convert:hover {\n",
              "      background-color: #E2EBFA;\n",
              "      box-shadow: 0px 1px 2px rgba(60, 64, 67, 0.3), 0px 1px 3px 1px rgba(60, 64, 67, 0.15);\n",
              "      fill: #174EA6;\n",
              "    }\n",
              "\n",
              "    [theme=dark] .colab-df-convert {\n",
              "      background-color: #3B4455;\n",
              "      fill: #D2E3FC;\n",
              "    }\n",
              "\n",
              "    [theme=dark] .colab-df-convert:hover {\n",
              "      background-color: #434B5C;\n",
              "      box-shadow: 0px 1px 3px 1px rgba(0, 0, 0, 0.15);\n",
              "      filter: drop-shadow(0px 1px 2px rgba(0, 0, 0, 0.3));\n",
              "      fill: #FFFFFF;\n",
              "    }\n",
              "  </style>\n",
              "\n",
              "      <script>\n",
              "        const buttonEl =\n",
              "          document.querySelector('#df-dd7c3c20-f82e-47f8-8864-f1a65aebe3eb button.colab-df-convert');\n",
              "        buttonEl.style.display =\n",
              "          google.colab.kernel.accessAllowed ? 'block' : 'none';\n",
              "\n",
              "        async function convertToInteractive(key) {\n",
              "          const element = document.querySelector('#df-dd7c3c20-f82e-47f8-8864-f1a65aebe3eb');\n",
              "          const dataTable =\n",
              "            await google.colab.kernel.invokeFunction('convertToInteractive',\n",
              "                                                     [key], {});\n",
              "          if (!dataTable) return;\n",
              "\n",
              "          const docLinkHtml = 'Like what you see? Visit the ' +\n",
              "            '<a target=\"_blank\" href=https://colab.research.google.com/notebooks/data_table.ipynb>data table notebook</a>'\n",
              "            + ' to learn more about interactive tables.';\n",
              "          element.innerHTML = '';\n",
              "          dataTable['output_type'] = 'display_data';\n",
              "          await google.colab.output.renderOutput(dataTable, element);\n",
              "          const docLink = document.createElement('div');\n",
              "          docLink.innerHTML = docLinkHtml;\n",
              "          element.appendChild(docLink);\n",
              "        }\n",
              "      </script>\n",
              "    </div>\n",
              "  </div>\n",
              "  "
            ]
          },
          "metadata": {},
          "execution_count": 51
        }
      ]
    },
    {
      "cell_type": "code",
      "source": [
        "carteira_full.drop('PL Total', axis = 1, inplace = True)"
      ],
      "metadata": {
        "id": "3e2lkUXl-jyQ"
      },
      "execution_count": 54,
      "outputs": []
    },
    {
      "cell_type": "code",
      "source": [
        "carteira_full.head()"
      ],
      "metadata": {
        "colab": {
          "base_uri": "https://localhost:8080/",
          "height": 237
        },
        "id": "JXgvdcGA-Qo_",
        "outputId": "70bb3454-a23a-4261-cf70-07a0082e17c0"
      },
      "execution_count": 55,
      "outputs": [
        {
          "output_type": "execute_result",
          "data": {
            "text/plain": [
              "              AAPL34.SA   IVVB11.SA     OIBR3.SA     PETR4.SA     RADL3.SA  \\\n",
              "Date                                                                         \n",
              "2020-05-04  1100.000000  900.000000  1500.000000  2500.000000  1700.000000   \n",
              "2020-05-05  1132.653031  916.170259  1544.117605  2580.552703  1692.683606   \n",
              "2020-05-06  1175.442177  928.989346  1544.117605  2485.615938  1683.090923   \n",
              "2020-05-07  1210.000116  973.404273  1477.941198  2508.630876  1685.854897   \n",
              "2020-05-08  1221.059801  961.436188  1522.058802  2658.228053  1701.951059   \n",
              "\n",
              "               VALE3.SA     WEGE3.SA  \n",
              "Date                                  \n",
              "2020-05-04  2300.000000  2000.000000  \n",
              "2020-05-05  2287.958586  1958.333240  \n",
              "2020-05-06  2320.942650  1949.297353  \n",
              "2020-05-07  2410.995130  1962.349037  \n",
              "2020-05-08  2557.591901  1919.678768  "
            ],
            "text/html": [
              "\n",
              "  <div id=\"df-c675faa6-c4f8-4f20-bf9a-f8ed8383ba4f\">\n",
              "    <div class=\"colab-df-container\">\n",
              "      <div>\n",
              "<style scoped>\n",
              "    .dataframe tbody tr th:only-of-type {\n",
              "        vertical-align: middle;\n",
              "    }\n",
              "\n",
              "    .dataframe tbody tr th {\n",
              "        vertical-align: top;\n",
              "    }\n",
              "\n",
              "    .dataframe thead th {\n",
              "        text-align: right;\n",
              "    }\n",
              "</style>\n",
              "<table border=\"1\" class=\"dataframe\">\n",
              "  <thead>\n",
              "    <tr style=\"text-align: right;\">\n",
              "      <th></th>\n",
              "      <th>AAPL34.SA</th>\n",
              "      <th>IVVB11.SA</th>\n",
              "      <th>OIBR3.SA</th>\n",
              "      <th>PETR4.SA</th>\n",
              "      <th>RADL3.SA</th>\n",
              "      <th>VALE3.SA</th>\n",
              "      <th>WEGE3.SA</th>\n",
              "    </tr>\n",
              "    <tr>\n",
              "      <th>Date</th>\n",
              "      <th></th>\n",
              "      <th></th>\n",
              "      <th></th>\n",
              "      <th></th>\n",
              "      <th></th>\n",
              "      <th></th>\n",
              "      <th></th>\n",
              "    </tr>\n",
              "  </thead>\n",
              "  <tbody>\n",
              "    <tr>\n",
              "      <th>2020-05-04</th>\n",
              "      <td>1100.000000</td>\n",
              "      <td>900.000000</td>\n",
              "      <td>1500.000000</td>\n",
              "      <td>2500.000000</td>\n",
              "      <td>1700.000000</td>\n",
              "      <td>2300.000000</td>\n",
              "      <td>2000.000000</td>\n",
              "    </tr>\n",
              "    <tr>\n",
              "      <th>2020-05-05</th>\n",
              "      <td>1132.653031</td>\n",
              "      <td>916.170259</td>\n",
              "      <td>1544.117605</td>\n",
              "      <td>2580.552703</td>\n",
              "      <td>1692.683606</td>\n",
              "      <td>2287.958586</td>\n",
              "      <td>1958.333240</td>\n",
              "    </tr>\n",
              "    <tr>\n",
              "      <th>2020-05-06</th>\n",
              "      <td>1175.442177</td>\n",
              "      <td>928.989346</td>\n",
              "      <td>1544.117605</td>\n",
              "      <td>2485.615938</td>\n",
              "      <td>1683.090923</td>\n",
              "      <td>2320.942650</td>\n",
              "      <td>1949.297353</td>\n",
              "    </tr>\n",
              "    <tr>\n",
              "      <th>2020-05-07</th>\n",
              "      <td>1210.000116</td>\n",
              "      <td>973.404273</td>\n",
              "      <td>1477.941198</td>\n",
              "      <td>2508.630876</td>\n",
              "      <td>1685.854897</td>\n",
              "      <td>2410.995130</td>\n",
              "      <td>1962.349037</td>\n",
              "    </tr>\n",
              "    <tr>\n",
              "      <th>2020-05-08</th>\n",
              "      <td>1221.059801</td>\n",
              "      <td>961.436188</td>\n",
              "      <td>1522.058802</td>\n",
              "      <td>2658.228053</td>\n",
              "      <td>1701.951059</td>\n",
              "      <td>2557.591901</td>\n",
              "      <td>1919.678768</td>\n",
              "    </tr>\n",
              "  </tbody>\n",
              "</table>\n",
              "</div>\n",
              "      <button class=\"colab-df-convert\" onclick=\"convertToInteractive('df-c675faa6-c4f8-4f20-bf9a-f8ed8383ba4f')\"\n",
              "              title=\"Convert this dataframe to an interactive table.\"\n",
              "              style=\"display:none;\">\n",
              "        \n",
              "  <svg xmlns=\"http://www.w3.org/2000/svg\" height=\"24px\"viewBox=\"0 0 24 24\"\n",
              "       width=\"24px\">\n",
              "    <path d=\"M0 0h24v24H0V0z\" fill=\"none\"/>\n",
              "    <path d=\"M18.56 5.44l.94 2.06.94-2.06 2.06-.94-2.06-.94-.94-2.06-.94 2.06-2.06.94zm-11 1L8.5 8.5l.94-2.06 2.06-.94-2.06-.94L8.5 2.5l-.94 2.06-2.06.94zm10 10l.94 2.06.94-2.06 2.06-.94-2.06-.94-.94-2.06-.94 2.06-2.06.94z\"/><path d=\"M17.41 7.96l-1.37-1.37c-.4-.4-.92-.59-1.43-.59-.52 0-1.04.2-1.43.59L10.3 9.45l-7.72 7.72c-.78.78-.78 2.05 0 2.83L4 21.41c.39.39.9.59 1.41.59.51 0 1.02-.2 1.41-.59l7.78-7.78 2.81-2.81c.8-.78.8-2.07 0-2.86zM5.41 20L4 18.59l7.72-7.72 1.47 1.35L5.41 20z\"/>\n",
              "  </svg>\n",
              "      </button>\n",
              "      \n",
              "  <style>\n",
              "    .colab-df-container {\n",
              "      display:flex;\n",
              "      flex-wrap:wrap;\n",
              "      gap: 12px;\n",
              "    }\n",
              "\n",
              "    .colab-df-convert {\n",
              "      background-color: #E8F0FE;\n",
              "      border: none;\n",
              "      border-radius: 50%;\n",
              "      cursor: pointer;\n",
              "      display: none;\n",
              "      fill: #1967D2;\n",
              "      height: 32px;\n",
              "      padding: 0 0 0 0;\n",
              "      width: 32px;\n",
              "    }\n",
              "\n",
              "    .colab-df-convert:hover {\n",
              "      background-color: #E2EBFA;\n",
              "      box-shadow: 0px 1px 2px rgba(60, 64, 67, 0.3), 0px 1px 3px 1px rgba(60, 64, 67, 0.15);\n",
              "      fill: #174EA6;\n",
              "    }\n",
              "\n",
              "    [theme=dark] .colab-df-convert {\n",
              "      background-color: #3B4455;\n",
              "      fill: #D2E3FC;\n",
              "    }\n",
              "\n",
              "    [theme=dark] .colab-df-convert:hover {\n",
              "      background-color: #434B5C;\n",
              "      box-shadow: 0px 1px 3px 1px rgba(0, 0, 0, 0.15);\n",
              "      filter: drop-shadow(0px 1px 2px rgba(0, 0, 0, 0.3));\n",
              "      fill: #FFFFFF;\n",
              "    }\n",
              "  </style>\n",
              "\n",
              "      <script>\n",
              "        const buttonEl =\n",
              "          document.querySelector('#df-c675faa6-c4f8-4f20-bf9a-f8ed8383ba4f button.colab-df-convert');\n",
              "        buttonEl.style.display =\n",
              "          google.colab.kernel.accessAllowed ? 'block' : 'none';\n",
              "\n",
              "        async function convertToInteractive(key) {\n",
              "          const element = document.querySelector('#df-c675faa6-c4f8-4f20-bf9a-f8ed8383ba4f');\n",
              "          const dataTable =\n",
              "            await google.colab.kernel.invokeFunction('convertToInteractive',\n",
              "                                                     [key], {});\n",
              "          if (!dataTable) return;\n",
              "\n",
              "          const docLinkHtml = 'Like what you see? Visit the ' +\n",
              "            '<a target=\"_blank\" href=https://colab.research.google.com/notebooks/data_table.ipynb>data table notebook</a>'\n",
              "            + ' to learn more about interactive tables.';\n",
              "          element.innerHTML = '';\n",
              "          dataTable['output_type'] = 'display_data';\n",
              "          await google.colab.output.renderOutput(dataTable, element);\n",
              "          const docLink = document.createElement('div');\n",
              "          docLink.innerHTML = docLinkHtml;\n",
              "          element.appendChild(docLink);\n",
              "        }\n",
              "      </script>\n",
              "    </div>\n",
              "  </div>\n",
              "  "
            ]
          },
          "metadata": {},
          "execution_count": 55
        }
      ]
    },
    {
      "cell_type": "code",
      "source": [
        "carteira_full['PL Total'] = carteira_full.sum(axis = 1)"
      ],
      "metadata": {
        "id": "-PhxdhiK-uJC"
      },
      "execution_count": 56,
      "outputs": []
    },
    {
      "cell_type": "code",
      "source": [
        "carteira_full.head()"
      ],
      "metadata": {
        "colab": {
          "base_uri": "https://localhost:8080/",
          "height": 237
        },
        "id": "kRKFsVP0-yNi",
        "outputId": "3ccd473d-3ddb-4d13-ec51-4093da6eba34"
      },
      "execution_count": 57,
      "outputs": [
        {
          "output_type": "execute_result",
          "data": {
            "text/plain": [
              "              AAPL34.SA   IVVB11.SA     OIBR3.SA     PETR4.SA     RADL3.SA  \\\n",
              "Date                                                                         \n",
              "2020-05-04  1100.000000  900.000000  1500.000000  2500.000000  1700.000000   \n",
              "2020-05-05  1132.653031  916.170259  1544.117605  2580.552703  1692.683606   \n",
              "2020-05-06  1175.442177  928.989346  1544.117605  2485.615938  1683.090923   \n",
              "2020-05-07  1210.000116  973.404273  1477.941198  2508.630876  1685.854897   \n",
              "2020-05-08  1221.059801  961.436188  1522.058802  2658.228053  1701.951059   \n",
              "\n",
              "               VALE3.SA     WEGE3.SA      PL Total  \n",
              "Date                                                \n",
              "2020-05-04  2300.000000  2000.000000  12000.000000  \n",
              "2020-05-05  2287.958586  1958.333240  12112.469028  \n",
              "2020-05-06  2320.942650  1949.297353  12087.495991  \n",
              "2020-05-07  2410.995130  1962.349037  12229.175526  \n",
              "2020-05-08  2557.591901  1919.678768  12542.004572  "
            ],
            "text/html": [
              "\n",
              "  <div id=\"df-af9b7915-6e27-4fc4-9542-834e427b0c04\">\n",
              "    <div class=\"colab-df-container\">\n",
              "      <div>\n",
              "<style scoped>\n",
              "    .dataframe tbody tr th:only-of-type {\n",
              "        vertical-align: middle;\n",
              "    }\n",
              "\n",
              "    .dataframe tbody tr th {\n",
              "        vertical-align: top;\n",
              "    }\n",
              "\n",
              "    .dataframe thead th {\n",
              "        text-align: right;\n",
              "    }\n",
              "</style>\n",
              "<table border=\"1\" class=\"dataframe\">\n",
              "  <thead>\n",
              "    <tr style=\"text-align: right;\">\n",
              "      <th></th>\n",
              "      <th>AAPL34.SA</th>\n",
              "      <th>IVVB11.SA</th>\n",
              "      <th>OIBR3.SA</th>\n",
              "      <th>PETR4.SA</th>\n",
              "      <th>RADL3.SA</th>\n",
              "      <th>VALE3.SA</th>\n",
              "      <th>WEGE3.SA</th>\n",
              "      <th>PL Total</th>\n",
              "    </tr>\n",
              "    <tr>\n",
              "      <th>Date</th>\n",
              "      <th></th>\n",
              "      <th></th>\n",
              "      <th></th>\n",
              "      <th></th>\n",
              "      <th></th>\n",
              "      <th></th>\n",
              "      <th></th>\n",
              "      <th></th>\n",
              "    </tr>\n",
              "  </thead>\n",
              "  <tbody>\n",
              "    <tr>\n",
              "      <th>2020-05-04</th>\n",
              "      <td>1100.000000</td>\n",
              "      <td>900.000000</td>\n",
              "      <td>1500.000000</td>\n",
              "      <td>2500.000000</td>\n",
              "      <td>1700.000000</td>\n",
              "      <td>2300.000000</td>\n",
              "      <td>2000.000000</td>\n",
              "      <td>12000.000000</td>\n",
              "    </tr>\n",
              "    <tr>\n",
              "      <th>2020-05-05</th>\n",
              "      <td>1132.653031</td>\n",
              "      <td>916.170259</td>\n",
              "      <td>1544.117605</td>\n",
              "      <td>2580.552703</td>\n",
              "      <td>1692.683606</td>\n",
              "      <td>2287.958586</td>\n",
              "      <td>1958.333240</td>\n",
              "      <td>12112.469028</td>\n",
              "    </tr>\n",
              "    <tr>\n",
              "      <th>2020-05-06</th>\n",
              "      <td>1175.442177</td>\n",
              "      <td>928.989346</td>\n",
              "      <td>1544.117605</td>\n",
              "      <td>2485.615938</td>\n",
              "      <td>1683.090923</td>\n",
              "      <td>2320.942650</td>\n",
              "      <td>1949.297353</td>\n",
              "      <td>12087.495991</td>\n",
              "    </tr>\n",
              "    <tr>\n",
              "      <th>2020-05-07</th>\n",
              "      <td>1210.000116</td>\n",
              "      <td>973.404273</td>\n",
              "      <td>1477.941198</td>\n",
              "      <td>2508.630876</td>\n",
              "      <td>1685.854897</td>\n",
              "      <td>2410.995130</td>\n",
              "      <td>1962.349037</td>\n",
              "      <td>12229.175526</td>\n",
              "    </tr>\n",
              "    <tr>\n",
              "      <th>2020-05-08</th>\n",
              "      <td>1221.059801</td>\n",
              "      <td>961.436188</td>\n",
              "      <td>1522.058802</td>\n",
              "      <td>2658.228053</td>\n",
              "      <td>1701.951059</td>\n",
              "      <td>2557.591901</td>\n",
              "      <td>1919.678768</td>\n",
              "      <td>12542.004572</td>\n",
              "    </tr>\n",
              "  </tbody>\n",
              "</table>\n",
              "</div>\n",
              "      <button class=\"colab-df-convert\" onclick=\"convertToInteractive('df-af9b7915-6e27-4fc4-9542-834e427b0c04')\"\n",
              "              title=\"Convert this dataframe to an interactive table.\"\n",
              "              style=\"display:none;\">\n",
              "        \n",
              "  <svg xmlns=\"http://www.w3.org/2000/svg\" height=\"24px\"viewBox=\"0 0 24 24\"\n",
              "       width=\"24px\">\n",
              "    <path d=\"M0 0h24v24H0V0z\" fill=\"none\"/>\n",
              "    <path d=\"M18.56 5.44l.94 2.06.94-2.06 2.06-.94-2.06-.94-.94-2.06-.94 2.06-2.06.94zm-11 1L8.5 8.5l.94-2.06 2.06-.94-2.06-.94L8.5 2.5l-.94 2.06-2.06.94zm10 10l.94 2.06.94-2.06 2.06-.94-2.06-.94-.94-2.06-.94 2.06-2.06.94z\"/><path d=\"M17.41 7.96l-1.37-1.37c-.4-.4-.92-.59-1.43-.59-.52 0-1.04.2-1.43.59L10.3 9.45l-7.72 7.72c-.78.78-.78 2.05 0 2.83L4 21.41c.39.39.9.59 1.41.59.51 0 1.02-.2 1.41-.59l7.78-7.78 2.81-2.81c.8-.78.8-2.07 0-2.86zM5.41 20L4 18.59l7.72-7.72 1.47 1.35L5.41 20z\"/>\n",
              "  </svg>\n",
              "      </button>\n",
              "      \n",
              "  <style>\n",
              "    .colab-df-container {\n",
              "      display:flex;\n",
              "      flex-wrap:wrap;\n",
              "      gap: 12px;\n",
              "    }\n",
              "\n",
              "    .colab-df-convert {\n",
              "      background-color: #E8F0FE;\n",
              "      border: none;\n",
              "      border-radius: 50%;\n",
              "      cursor: pointer;\n",
              "      display: none;\n",
              "      fill: #1967D2;\n",
              "      height: 32px;\n",
              "      padding: 0 0 0 0;\n",
              "      width: 32px;\n",
              "    }\n",
              "\n",
              "    .colab-df-convert:hover {\n",
              "      background-color: #E2EBFA;\n",
              "      box-shadow: 0px 1px 2px rgba(60, 64, 67, 0.3), 0px 1px 3px 1px rgba(60, 64, 67, 0.15);\n",
              "      fill: #174EA6;\n",
              "    }\n",
              "\n",
              "    [theme=dark] .colab-df-convert {\n",
              "      background-color: #3B4455;\n",
              "      fill: #D2E3FC;\n",
              "    }\n",
              "\n",
              "    [theme=dark] .colab-df-convert:hover {\n",
              "      background-color: #434B5C;\n",
              "      box-shadow: 0px 1px 3px 1px rgba(0, 0, 0, 0.15);\n",
              "      filter: drop-shadow(0px 1px 2px rgba(0, 0, 0, 0.3));\n",
              "      fill: #FFFFFF;\n",
              "    }\n",
              "  </style>\n",
              "\n",
              "      <script>\n",
              "        const buttonEl =\n",
              "          document.querySelector('#df-af9b7915-6e27-4fc4-9542-834e427b0c04 button.colab-df-convert');\n",
              "        buttonEl.style.display =\n",
              "          google.colab.kernel.accessAllowed ? 'block' : 'none';\n",
              "\n",
              "        async function convertToInteractive(key) {\n",
              "          const element = document.querySelector('#df-af9b7915-6e27-4fc4-9542-834e427b0c04');\n",
              "          const dataTable =\n",
              "            await google.colab.kernel.invokeFunction('convertToInteractive',\n",
              "                                                     [key], {});\n",
              "          if (!dataTable) return;\n",
              "\n",
              "          const docLinkHtml = 'Like what you see? Visit the ' +\n",
              "            '<a target=\"_blank\" href=https://colab.research.google.com/notebooks/data_table.ipynb>data table notebook</a>'\n",
              "            + ' to learn more about interactive tables.';\n",
              "          element.innerHTML = '';\n",
              "          dataTable['output_type'] = 'display_data';\n",
              "          await google.colab.output.renderOutput(dataTable, element);\n",
              "          const docLink = document.createElement('div');\n",
              "          docLink.innerHTML = docLinkHtml;\n",
              "          element.appendChild(docLink);\n",
              "        }\n",
              "      </script>\n",
              "    </div>\n",
              "  </div>\n",
              "  "
            ]
          },
          "metadata": {},
          "execution_count": 57
        }
      ]
    },
    {
      "cell_type": "code",
      "source": [
        "carteira_full.tail()"
      ],
      "metadata": {
        "colab": {
          "base_uri": "https://localhost:8080/",
          "height": 237
        },
        "id": "F7aAfMUW-1qC",
        "outputId": "334329a0-f746-44fc-a588-75dc7edc0d8c"
      },
      "execution_count": 58,
      "outputs": [
        {
          "output_type": "execute_result",
          "data": {
            "text/plain": [
              "              AAPL34.SA    IVVB11.SA     OIBR3.SA     PETR4.SA     RADL3.SA  \\\n",
              "Date                                                                          \n",
              "2022-03-04  2269.643902  1271.808566  6843.040000  6057.960355  3802.774748   \n",
              "2022-03-07  2232.129110  1244.680874  6435.716567  5627.903513  3663.707195   \n",
              "2022-03-08  2194.062722  1225.531905  6680.110627  5744.709034  3591.775649   \n",
              "2022-03-09  2261.644403  1244.680874  6924.505173  5762.407249  3682.889042   \n",
              "2022-03-10  2184.408226  1241.489352  6843.040000  5964.162177  3574.192620   \n",
              "\n",
              "               VALE3.SA     WEGE3.SA      PL Total  \n",
              "Date                                                \n",
              "2022-03-04  7739.300851  3234.155753  31218.684177  \n",
              "2022-03-07  7974.583962  3190.020940  30368.742161  \n",
              "2022-03-08  7624.694741  3240.314040  30301.198717  \n",
              "2022-03-09  7423.656002  3353.216813  30652.999554  \n",
              "2022-03-10  7668.773043  3255.709855  30731.775272  "
            ],
            "text/html": [
              "\n",
              "  <div id=\"df-6fd3f57a-a296-4b4f-b0c8-bcff22f5990b\">\n",
              "    <div class=\"colab-df-container\">\n",
              "      <div>\n",
              "<style scoped>\n",
              "    .dataframe tbody tr th:only-of-type {\n",
              "        vertical-align: middle;\n",
              "    }\n",
              "\n",
              "    .dataframe tbody tr th {\n",
              "        vertical-align: top;\n",
              "    }\n",
              "\n",
              "    .dataframe thead th {\n",
              "        text-align: right;\n",
              "    }\n",
              "</style>\n",
              "<table border=\"1\" class=\"dataframe\">\n",
              "  <thead>\n",
              "    <tr style=\"text-align: right;\">\n",
              "      <th></th>\n",
              "      <th>AAPL34.SA</th>\n",
              "      <th>IVVB11.SA</th>\n",
              "      <th>OIBR3.SA</th>\n",
              "      <th>PETR4.SA</th>\n",
              "      <th>RADL3.SA</th>\n",
              "      <th>VALE3.SA</th>\n",
              "      <th>WEGE3.SA</th>\n",
              "      <th>PL Total</th>\n",
              "    </tr>\n",
              "    <tr>\n",
              "      <th>Date</th>\n",
              "      <th></th>\n",
              "      <th></th>\n",
              "      <th></th>\n",
              "      <th></th>\n",
              "      <th></th>\n",
              "      <th></th>\n",
              "      <th></th>\n",
              "      <th></th>\n",
              "    </tr>\n",
              "  </thead>\n",
              "  <tbody>\n",
              "    <tr>\n",
              "      <th>2022-03-04</th>\n",
              "      <td>2269.643902</td>\n",
              "      <td>1271.808566</td>\n",
              "      <td>6843.040000</td>\n",
              "      <td>6057.960355</td>\n",
              "      <td>3802.774748</td>\n",
              "      <td>7739.300851</td>\n",
              "      <td>3234.155753</td>\n",
              "      <td>31218.684177</td>\n",
              "    </tr>\n",
              "    <tr>\n",
              "      <th>2022-03-07</th>\n",
              "      <td>2232.129110</td>\n",
              "      <td>1244.680874</td>\n",
              "      <td>6435.716567</td>\n",
              "      <td>5627.903513</td>\n",
              "      <td>3663.707195</td>\n",
              "      <td>7974.583962</td>\n",
              "      <td>3190.020940</td>\n",
              "      <td>30368.742161</td>\n",
              "    </tr>\n",
              "    <tr>\n",
              "      <th>2022-03-08</th>\n",
              "      <td>2194.062722</td>\n",
              "      <td>1225.531905</td>\n",
              "      <td>6680.110627</td>\n",
              "      <td>5744.709034</td>\n",
              "      <td>3591.775649</td>\n",
              "      <td>7624.694741</td>\n",
              "      <td>3240.314040</td>\n",
              "      <td>30301.198717</td>\n",
              "    </tr>\n",
              "    <tr>\n",
              "      <th>2022-03-09</th>\n",
              "      <td>2261.644403</td>\n",
              "      <td>1244.680874</td>\n",
              "      <td>6924.505173</td>\n",
              "      <td>5762.407249</td>\n",
              "      <td>3682.889042</td>\n",
              "      <td>7423.656002</td>\n",
              "      <td>3353.216813</td>\n",
              "      <td>30652.999554</td>\n",
              "    </tr>\n",
              "    <tr>\n",
              "      <th>2022-03-10</th>\n",
              "      <td>2184.408226</td>\n",
              "      <td>1241.489352</td>\n",
              "      <td>6843.040000</td>\n",
              "      <td>5964.162177</td>\n",
              "      <td>3574.192620</td>\n",
              "      <td>7668.773043</td>\n",
              "      <td>3255.709855</td>\n",
              "      <td>30731.775272</td>\n",
              "    </tr>\n",
              "  </tbody>\n",
              "</table>\n",
              "</div>\n",
              "      <button class=\"colab-df-convert\" onclick=\"convertToInteractive('df-6fd3f57a-a296-4b4f-b0c8-bcff22f5990b')\"\n",
              "              title=\"Convert this dataframe to an interactive table.\"\n",
              "              style=\"display:none;\">\n",
              "        \n",
              "  <svg xmlns=\"http://www.w3.org/2000/svg\" height=\"24px\"viewBox=\"0 0 24 24\"\n",
              "       width=\"24px\">\n",
              "    <path d=\"M0 0h24v24H0V0z\" fill=\"none\"/>\n",
              "    <path d=\"M18.56 5.44l.94 2.06.94-2.06 2.06-.94-2.06-.94-.94-2.06-.94 2.06-2.06.94zm-11 1L8.5 8.5l.94-2.06 2.06-.94-2.06-.94L8.5 2.5l-.94 2.06-2.06.94zm10 10l.94 2.06.94-2.06 2.06-.94-2.06-.94-.94-2.06-.94 2.06-2.06.94z\"/><path d=\"M17.41 7.96l-1.37-1.37c-.4-.4-.92-.59-1.43-.59-.52 0-1.04.2-1.43.59L10.3 9.45l-7.72 7.72c-.78.78-.78 2.05 0 2.83L4 21.41c.39.39.9.59 1.41.59.51 0 1.02-.2 1.41-.59l7.78-7.78 2.81-2.81c.8-.78.8-2.07 0-2.86zM5.41 20L4 18.59l7.72-7.72 1.47 1.35L5.41 20z\"/>\n",
              "  </svg>\n",
              "      </button>\n",
              "      \n",
              "  <style>\n",
              "    .colab-df-container {\n",
              "      display:flex;\n",
              "      flex-wrap:wrap;\n",
              "      gap: 12px;\n",
              "    }\n",
              "\n",
              "    .colab-df-convert {\n",
              "      background-color: #E8F0FE;\n",
              "      border: none;\n",
              "      border-radius: 50%;\n",
              "      cursor: pointer;\n",
              "      display: none;\n",
              "      fill: #1967D2;\n",
              "      height: 32px;\n",
              "      padding: 0 0 0 0;\n",
              "      width: 32px;\n",
              "    }\n",
              "\n",
              "    .colab-df-convert:hover {\n",
              "      background-color: #E2EBFA;\n",
              "      box-shadow: 0px 1px 2px rgba(60, 64, 67, 0.3), 0px 1px 3px 1px rgba(60, 64, 67, 0.15);\n",
              "      fill: #174EA6;\n",
              "    }\n",
              "\n",
              "    [theme=dark] .colab-df-convert {\n",
              "      background-color: #3B4455;\n",
              "      fill: #D2E3FC;\n",
              "    }\n",
              "\n",
              "    [theme=dark] .colab-df-convert:hover {\n",
              "      background-color: #434B5C;\n",
              "      box-shadow: 0px 1px 3px 1px rgba(0, 0, 0, 0.15);\n",
              "      filter: drop-shadow(0px 1px 2px rgba(0, 0, 0, 0.3));\n",
              "      fill: #FFFFFF;\n",
              "    }\n",
              "  </style>\n",
              "\n",
              "      <script>\n",
              "        const buttonEl =\n",
              "          document.querySelector('#df-6fd3f57a-a296-4b4f-b0c8-bcff22f5990b button.colab-df-convert');\n",
              "        buttonEl.style.display =\n",
              "          google.colab.kernel.accessAllowed ? 'block' : 'none';\n",
              "\n",
              "        async function convertToInteractive(key) {\n",
              "          const element = document.querySelector('#df-6fd3f57a-a296-4b4f-b0c8-bcff22f5990b');\n",
              "          const dataTable =\n",
              "            await google.colab.kernel.invokeFunction('convertToInteractive',\n",
              "                                                     [key], {});\n",
              "          if (!dataTable) return;\n",
              "\n",
              "          const docLinkHtml = 'Like what you see? Visit the ' +\n",
              "            '<a target=\"_blank\" href=https://colab.research.google.com/notebooks/data_table.ipynb>data table notebook</a>'\n",
              "            + ' to learn more about interactive tables.';\n",
              "          element.innerHTML = '';\n",
              "          dataTable['output_type'] = 'display_data';\n",
              "          await google.colab.output.renderOutput(dataTable, element);\n",
              "          const docLink = document.createElement('div');\n",
              "          docLink.innerHTML = docLinkHtml;\n",
              "          element.appendChild(docLink);\n",
              "        }\n",
              "      </script>\n",
              "    </div>\n",
              "  </div>\n",
              "  "
            ]
          },
          "metadata": {},
          "execution_count": 58
        }
      ]
    },
    {
      "cell_type": "code",
      "source": [
        "PL.tail()"
      ],
      "metadata": {
        "colab": {
          "base_uri": "https://localhost:8080/",
          "height": 237
        },
        "id": "i3edko55-8Ri",
        "outputId": "b3d1682e-bce2-41f9-eb95-6f369c96cd99"
      },
      "execution_count": 59,
      "outputs": [
        {
          "output_type": "execute_result",
          "data": {
            "text/plain": [
              "              AAPL34.SA    IVVB11.SA     OIBR3.SA     PETR4.SA     RADL3.SA  \\\n",
              "Date                                                                          \n",
              "2022-03-04  2269.643902  1271.808566  1852.941099  6057.960355  1959.671278   \n",
              "2022-03-07  2232.129110  1244.680874  1742.647088  5627.903513  1888.006057   \n",
              "2022-03-08  2194.062722  1225.531905  1808.823495  5744.709034  1850.937813   \n",
              "2022-03-09  2261.644403  1244.680874  1875.000033  5762.407249  1897.890975   \n",
              "2022-03-10  2184.408226  1241.489352  1852.941099  5964.162177  1841.876809   \n",
              "\n",
              "               VALE3.SA     WEGE3.SA      PL Total  \n",
              "Date                                                \n",
              "2022-03-04  6542.974231  3234.155753  23189.155185  \n",
              "2022-03-07  6741.887720  3190.020940  22667.275302  \n",
              "2022-03-08  6446.083719  3240.314040  22510.462726  \n",
              "2022-03-09  6276.121171  3353.216813  22670.961517  \n",
              "2022-03-10  6483.348479  3255.709855  22823.935997  "
            ],
            "text/html": [
              "\n",
              "  <div id=\"df-71fa14d3-2273-41dc-bccb-ff7655a589ba\">\n",
              "    <div class=\"colab-df-container\">\n",
              "      <div>\n",
              "<style scoped>\n",
              "    .dataframe tbody tr th:only-of-type {\n",
              "        vertical-align: middle;\n",
              "    }\n",
              "\n",
              "    .dataframe tbody tr th {\n",
              "        vertical-align: top;\n",
              "    }\n",
              "\n",
              "    .dataframe thead th {\n",
              "        text-align: right;\n",
              "    }\n",
              "</style>\n",
              "<table border=\"1\" class=\"dataframe\">\n",
              "  <thead>\n",
              "    <tr style=\"text-align: right;\">\n",
              "      <th></th>\n",
              "      <th>AAPL34.SA</th>\n",
              "      <th>IVVB11.SA</th>\n",
              "      <th>OIBR3.SA</th>\n",
              "      <th>PETR4.SA</th>\n",
              "      <th>RADL3.SA</th>\n",
              "      <th>VALE3.SA</th>\n",
              "      <th>WEGE3.SA</th>\n",
              "      <th>PL Total</th>\n",
              "    </tr>\n",
              "    <tr>\n",
              "      <th>Date</th>\n",
              "      <th></th>\n",
              "      <th></th>\n",
              "      <th></th>\n",
              "      <th></th>\n",
              "      <th></th>\n",
              "      <th></th>\n",
              "      <th></th>\n",
              "      <th></th>\n",
              "    </tr>\n",
              "  </thead>\n",
              "  <tbody>\n",
              "    <tr>\n",
              "      <th>2022-03-04</th>\n",
              "      <td>2269.643902</td>\n",
              "      <td>1271.808566</td>\n",
              "      <td>1852.941099</td>\n",
              "      <td>6057.960355</td>\n",
              "      <td>1959.671278</td>\n",
              "      <td>6542.974231</td>\n",
              "      <td>3234.155753</td>\n",
              "      <td>23189.155185</td>\n",
              "    </tr>\n",
              "    <tr>\n",
              "      <th>2022-03-07</th>\n",
              "      <td>2232.129110</td>\n",
              "      <td>1244.680874</td>\n",
              "      <td>1742.647088</td>\n",
              "      <td>5627.903513</td>\n",
              "      <td>1888.006057</td>\n",
              "      <td>6741.887720</td>\n",
              "      <td>3190.020940</td>\n",
              "      <td>22667.275302</td>\n",
              "    </tr>\n",
              "    <tr>\n",
              "      <th>2022-03-08</th>\n",
              "      <td>2194.062722</td>\n",
              "      <td>1225.531905</td>\n",
              "      <td>1808.823495</td>\n",
              "      <td>5744.709034</td>\n",
              "      <td>1850.937813</td>\n",
              "      <td>6446.083719</td>\n",
              "      <td>3240.314040</td>\n",
              "      <td>22510.462726</td>\n",
              "    </tr>\n",
              "    <tr>\n",
              "      <th>2022-03-09</th>\n",
              "      <td>2261.644403</td>\n",
              "      <td>1244.680874</td>\n",
              "      <td>1875.000033</td>\n",
              "      <td>5762.407249</td>\n",
              "      <td>1897.890975</td>\n",
              "      <td>6276.121171</td>\n",
              "      <td>3353.216813</td>\n",
              "      <td>22670.961517</td>\n",
              "    </tr>\n",
              "    <tr>\n",
              "      <th>2022-03-10</th>\n",
              "      <td>2184.408226</td>\n",
              "      <td>1241.489352</td>\n",
              "      <td>1852.941099</td>\n",
              "      <td>5964.162177</td>\n",
              "      <td>1841.876809</td>\n",
              "      <td>6483.348479</td>\n",
              "      <td>3255.709855</td>\n",
              "      <td>22823.935997</td>\n",
              "    </tr>\n",
              "  </tbody>\n",
              "</table>\n",
              "</div>\n",
              "      <button class=\"colab-df-convert\" onclick=\"convertToInteractive('df-71fa14d3-2273-41dc-bccb-ff7655a589ba')\"\n",
              "              title=\"Convert this dataframe to an interactive table.\"\n",
              "              style=\"display:none;\">\n",
              "        \n",
              "  <svg xmlns=\"http://www.w3.org/2000/svg\" height=\"24px\"viewBox=\"0 0 24 24\"\n",
              "       width=\"24px\">\n",
              "    <path d=\"M0 0h24v24H0V0z\" fill=\"none\"/>\n",
              "    <path d=\"M18.56 5.44l.94 2.06.94-2.06 2.06-.94-2.06-.94-.94-2.06-.94 2.06-2.06.94zm-11 1L8.5 8.5l.94-2.06 2.06-.94-2.06-.94L8.5 2.5l-.94 2.06-2.06.94zm10 10l.94 2.06.94-2.06 2.06-.94-2.06-.94-.94-2.06-.94 2.06-2.06.94z\"/><path d=\"M17.41 7.96l-1.37-1.37c-.4-.4-.92-.59-1.43-.59-.52 0-1.04.2-1.43.59L10.3 9.45l-7.72 7.72c-.78.78-.78 2.05 0 2.83L4 21.41c.39.39.9.59 1.41.59.51 0 1.02-.2 1.41-.59l7.78-7.78 2.81-2.81c.8-.78.8-2.07 0-2.86zM5.41 20L4 18.59l7.72-7.72 1.47 1.35L5.41 20z\"/>\n",
              "  </svg>\n",
              "      </button>\n",
              "      \n",
              "  <style>\n",
              "    .colab-df-container {\n",
              "      display:flex;\n",
              "      flex-wrap:wrap;\n",
              "      gap: 12px;\n",
              "    }\n",
              "\n",
              "    .colab-df-convert {\n",
              "      background-color: #E8F0FE;\n",
              "      border: none;\n",
              "      border-radius: 50%;\n",
              "      cursor: pointer;\n",
              "      display: none;\n",
              "      fill: #1967D2;\n",
              "      height: 32px;\n",
              "      padding: 0 0 0 0;\n",
              "      width: 32px;\n",
              "    }\n",
              "\n",
              "    .colab-df-convert:hover {\n",
              "      background-color: #E2EBFA;\n",
              "      box-shadow: 0px 1px 2px rgba(60, 64, 67, 0.3), 0px 1px 3px 1px rgba(60, 64, 67, 0.15);\n",
              "      fill: #174EA6;\n",
              "    }\n",
              "\n",
              "    [theme=dark] .colab-df-convert {\n",
              "      background-color: #3B4455;\n",
              "      fill: #D2E3FC;\n",
              "    }\n",
              "\n",
              "    [theme=dark] .colab-df-convert:hover {\n",
              "      background-color: #434B5C;\n",
              "      box-shadow: 0px 1px 3px 1px rgba(0, 0, 0, 0.15);\n",
              "      filter: drop-shadow(0px 1px 2px rgba(0, 0, 0, 0.3));\n",
              "      fill: #FFFFFF;\n",
              "    }\n",
              "  </style>\n",
              "\n",
              "      <script>\n",
              "        const buttonEl =\n",
              "          document.querySelector('#df-71fa14d3-2273-41dc-bccb-ff7655a589ba button.colab-df-convert');\n",
              "        buttonEl.style.display =\n",
              "          google.colab.kernel.accessAllowed ? 'block' : 'none';\n",
              "\n",
              "        async function convertToInteractive(key) {\n",
              "          const element = document.querySelector('#df-71fa14d3-2273-41dc-bccb-ff7655a589ba');\n",
              "          const dataTable =\n",
              "            await google.colab.kernel.invokeFunction('convertToInteractive',\n",
              "                                                     [key], {});\n",
              "          if (!dataTable) return;\n",
              "\n",
              "          const docLinkHtml = 'Like what you see? Visit the ' +\n",
              "            '<a target=\"_blank\" href=https://colab.research.google.com/notebooks/data_table.ipynb>data table notebook</a>'\n",
              "            + ' to learn more about interactive tables.';\n",
              "          element.innerHTML = '';\n",
              "          dataTable['output_type'] = 'display_data';\n",
              "          await google.colab.output.renderOutput(dataTable, element);\n",
              "          const docLink = document.createElement('div');\n",
              "          docLink.innerHTML = docLinkHtml;\n",
              "          element.appendChild(docLink);\n",
              "        }\n",
              "      </script>\n",
              "    </div>\n",
              "  </div>\n",
              "  "
            ]
          },
          "metadata": {},
          "execution_count": 59
        }
      ]
    },
    {
      "cell_type": "code",
      "source": [
        "carteira_full[['OIBR3.SA']].plot();"
      ],
      "metadata": {
        "colab": {
          "base_uri": "https://localhost:8080/",
          "height": 277
        },
        "id": "LrtQB9jB-74N",
        "outputId": "f9434b03-f91d-41e2-99c5-4b99ff1f960b"
      },
      "execution_count": 60,
      "outputs": [
        {
          "output_type": "display_data",
          "data": {
            "text/plain": [
              "<Figure size 432x288 with 1 Axes>"
            ],
            "image/png": "[encoded data removed]"
          },
          "metadata": {
            "needs_background": "light"
          }
        }
      ]
    },
    {
      "cell_type": "code",
      "source": [
        "carteira_full[['RADL3.SA']].plot();"
      ],
      "metadata": {
        "colab": {
          "base_uri": "https://localhost:8080/",
          "height": 277
        },
        "id": "BtlZhFnI-7gg",
        "outputId": "3c2bead2-cc1f-4c55-826c-ab2f69ba1581"
      },
      "execution_count": 61,
      "outputs": [
        {
          "output_type": "display_data",
          "data": {
            "text/plain": [
              "<Figure size 432x288 with 1 Axes>"
            ],
            "image/png": "[encoded data removed]"
          },
          "metadata": {
            "needs_background": "light"
          }
        }
      ]
    },
    {
      "cell_type": "code",
      "source": [
        "carteira_full[['VALE3.SA']].plot();"
      ],
      "metadata": {
        "colab": {
          "base_uri": "https://localhost:8080/",
          "height": 277
        },
        "id": "3yKG9Xrb_PNK",
        "outputId": "6d5dd48e-915e-4cba-cead-97ba72035093"
      },
      "execution_count": 62,
      "outputs": [
        {
          "output_type": "display_data",
          "data": {
            "text/plain": [
              "<Figure size 432x288 with 1 Axes>"
            ],
            "image/png": "[encoded data removed]"
          },
          "metadata": {
            "needs_background": "light"
          }
        }
      ]
    },
    {
      "cell_type": "code",
      "source": [
        "carteira_full[['PL Total']].plot();"
      ],
      "metadata": {
        "colab": {
          "base_uri": "https://localhost:8080/",
          "height": 279
        },
        "id": "kbxoDhw-_fPY",
        "outputId": "acb4e96c-598b-406f-f44a-e675e8c9ed8c"
      },
      "execution_count": 64,
      "outputs": [
        {
          "output_type": "display_data",
          "data": {
            "text/plain": [
              "<Figure size 432x288 with 1 Axes>"
            ],
            "image/png": "[encoded data removed]"
          },
          "metadata": {
            "needs_background": "light"
          }
        }
      ]
    },
    {
      "cell_type": "markdown",
      "source": [
        "# 3. Cálculo dos retornos diários e da rentabilidade acumulada da carteira"
      ],
      "metadata": {
        "id": "X1ZYYD470xs6"
      }
    },
    {
      "cell_type": "markdown",
      "source": [
        "Vamos agora para o cálculo dos retornos diários. \n",
        "\n",
        "Só que esse cálculo não pode ser feito da forma tradicional, ou seja, considerando simplesmente o retorno de um dia para o outro. Isso porque o retorno do dia quando houve o aporte será distorcido se calcularmos utilizando o valor do aporte. Para que o cálculo seja feito corretamente, precisaremos separar os dataframes em dois momentos: antes e depois do aporte."
      ],
      "metadata": {
        "id": "ta9du0d3_2B6"
      }
    },
    {
      "cell_type": "code",
      "source": [
        "carteira_full.drop(['PL Total'], axis = 1, inplace = True)"
      ],
      "metadata": {
        "id": "2Km-54e8_11D"
      },
      "execution_count": 66,
      "outputs": []
    },
    {
      "cell_type": "markdown",
      "source": [
        "Dividindo o cálculo da rentabilidade em antes e depois do aportea"
      ],
      "metadata": {
        "id": "32ZD1PA0_1eI"
      }
    },
    {
      "cell_type": "code",
      "source": [
        "antes_aporte = carteira_full[carteira_full.index < data_aporte]\n",
        "depois_aporte = carteira_full[carteira_full.index >= data_aporte]"
      ],
      "metadata": {
        "id": "e-GGw6Oi_1RZ"
      },
      "execution_count": 67,
      "outputs": []
    },
    {
      "cell_type": "code",
      "source": [
        "antes_aporte['PL Total'] = antes_aporte.sum(axis = 1)\n",
        "depois_aporte['PL Total'] = depois_aporte.sum(axis = 1)"
      ],
      "metadata": {
        "colab": {
          "base_uri": "https://localhost:8080/"
        },
        "id": "0kddvafsAvvy",
        "outputId": "eff43ee9-3937-4090-990a-53fb9f7f3164"
      },
      "execution_count": 68,
      "outputs": [
        {
          "output_type": "stream",
          "name": "stderr",
          "text": [
            "/usr/local/lib/python3.7/dist-packages/ipykernel_launcher.py:1: SettingWithCopyWarning: \n",
            "A value is trying to be set on a copy of a slice from a DataFrame.\n",
            "Try using .loc[row_indexer,col_indexer] = value instead\n",
            "\n",
            "See the caveats in the documentation: https://pandas.pydata.org/pandas-docs/stable/user_guide/indexing.html#returning-a-view-versus-a-copy\n",
            "  \"\"\"Entry point for launching an IPython kernel.\n",
            "/usr/local/lib/python3.7/dist-packages/ipykernel_launcher.py:2: SettingWithCopyWarning: \n",
            "A value is trying to be set on a copy of a slice from a DataFrame.\n",
            "Try using .loc[row_indexer,col_indexer] = value instead\n",
            "\n",
            "See the caveats in the documentation: https://pandas.pydata.org/pandas-docs/stable/user_guide/indexing.html#returning-a-view-versus-a-copy\n",
            "  \n"
          ]
        }
      ]
    },
    {
      "cell_type": "code",
      "source": [
        "antes_aporte.tail()"
      ],
      "metadata": {
        "colab": {
          "base_uri": "https://localhost:8080/",
          "height": 237
        },
        "id": "gjQGjiBoAvgJ",
        "outputId": "626a8638-b8e6-44f8-da2a-81f478409e84"
      },
      "execution_count": 69,
      "outputs": [
        {
          "output_type": "execute_result",
          "data": {
            "text/plain": [
              "              AAPL34.SA    IVVB11.SA     OIBR3.SA     PETR4.SA     RADL3.SA  \\\n",
              "Date                                                                          \n",
              "2021-09-06  2244.887145  1363.031939  2249.999934  4168.600092  2139.576777   \n",
              "2021-09-08  2266.896028  1390.957472  2161.764725  3933.860254  2075.782098   \n",
              "2021-09-09  2223.153743  1361.702152  2272.058737  4017.358496  2113.404802   \n",
              "2021-09-10  2154.376483  1361.702152  2161.764725  3992.151620  2089.686185   \n",
              "2021-09-13  2143.647208  1344.946865  2249.999934  4132.365165  2132.215919   \n",
              "\n",
              "               VALE3.SA     WEGE3.SA      PL Total  \n",
              "Date                                                \n",
              "2021-09-06  5641.859727  3703.043602  21510.999216  \n",
              "2021-09-08  5524.442408  3714.240380  21067.943364  \n",
              "2021-09-09  5504.678659  3953.441966  21445.798555  \n",
              "2021-09-10  5511.072888  3935.119609  21205.873662  \n",
              "2021-09-13  5508.166559  3959.549157  21470.890807  "
            ],
            "text/html": [
              "\n",
              "  <div id=\"df-5906e47f-ab2d-4914-a92d-8856f495b5e4\">\n",
              "    <div class=\"colab-df-container\">\n",
              "      <div>\n",
              "<style scoped>\n",
              "    .dataframe tbody tr th:only-of-type {\n",
              "        vertical-align: middle;\n",
              "    }\n",
              "\n",
              "    .dataframe tbody tr th {\n",
              "        vertical-align: top;\n",
              "    }\n",
              "\n",
              "    .dataframe thead th {\n",
              "        text-align: right;\n",
              "    }\n",
              "</style>\n",
              "<table border=\"1\" class=\"dataframe\">\n",
              "  <thead>\n",
              "    <tr style=\"text-align: right;\">\n",
              "      <th></th>\n",
              "      <th>AAPL34.SA</th>\n",
              "      <th>IVVB11.SA</th>\n",
              "      <th>OIBR3.SA</th>\n",
              "      <th>PETR4.SA</th>\n",
              "      <th>RADL3.SA</th>\n",
              "      <th>VALE3.SA</th>\n",
              "      <th>WEGE3.SA</th>\n",
              "      <th>PL Total</th>\n",
              "    </tr>\n",
              "    <tr>\n",
              "      <th>Date</th>\n",
              "      <th></th>\n",
              "      <th></th>\n",
              "      <th></th>\n",
              "      <th></th>\n",
              "      <th></th>\n",
              "      <th></th>\n",
              "      <th></th>\n",
              "      <th></th>\n",
              "    </tr>\n",
              "  </thead>\n",
              "  <tbody>\n",
              "    <tr>\n",
              "      <th>2021-09-06</th>\n",
              "      <td>2244.887145</td>\n",
              "      <td>1363.031939</td>\n",
              "      <td>2249.999934</td>\n",
              "      <td>4168.600092</td>\n",
              "      <td>2139.576777</td>\n",
              "      <td>5641.859727</td>\n",
              "      <td>3703.043602</td>\n",
              "      <td>21510.999216</td>\n",
              "    </tr>\n",
              "    <tr>\n",
              "      <th>2021-09-08</th>\n",
              "      <td>2266.896028</td>\n",
              "      <td>1390.957472</td>\n",
              "      <td>2161.764725</td>\n",
              "      <td>3933.860254</td>\n",
              "      <td>2075.782098</td>\n",
              "      <td>5524.442408</td>\n",
              "      <td>3714.240380</td>\n",
              "      <td>21067.943364</td>\n",
              "    </tr>\n",
              "    <tr>\n",
              "      <th>2021-09-09</th>\n",
              "      <td>2223.153743</td>\n",
              "      <td>1361.702152</td>\n",
              "      <td>2272.058737</td>\n",
              "      <td>4017.358496</td>\n",
              "      <td>2113.404802</td>\n",
              "      <td>5504.678659</td>\n",
              "      <td>3953.441966</td>\n",
              "      <td>21445.798555</td>\n",
              "    </tr>\n",
              "    <tr>\n",
              "      <th>2021-09-10</th>\n",
              "      <td>2154.376483</td>\n",
              "      <td>1361.702152</td>\n",
              "      <td>2161.764725</td>\n",
              "      <td>3992.151620</td>\n",
              "      <td>2089.686185</td>\n",
              "      <td>5511.072888</td>\n",
              "      <td>3935.119609</td>\n",
              "      <td>21205.873662</td>\n",
              "    </tr>\n",
              "    <tr>\n",
              "      <th>2021-09-13</th>\n",
              "      <td>2143.647208</td>\n",
              "      <td>1344.946865</td>\n",
              "      <td>2249.999934</td>\n",
              "      <td>4132.365165</td>\n",
              "      <td>2132.215919</td>\n",
              "      <td>5508.166559</td>\n",
              "      <td>3959.549157</td>\n",
              "      <td>21470.890807</td>\n",
              "    </tr>\n",
              "  </tbody>\n",
              "</table>\n",
              "</div>\n",
              "      <button class=\"colab-df-convert\" onclick=\"convertToInteractive('df-5906e47f-ab2d-4914-a92d-8856f495b5e4')\"\n",
              "              title=\"Convert this dataframe to an interactive table.\"\n",
              "              style=\"display:none;\">\n",
              "        \n",
              "  <svg xmlns=\"http://www.w3.org/2000/svg\" height=\"24px\"viewBox=\"0 0 24 24\"\n",
              "       width=\"24px\">\n",
              "    <path d=\"M0 0h24v24H0V0z\" fill=\"none\"/>\n",
              "    <path d=\"M18.56 5.44l.94 2.06.94-2.06 2.06-.94-2.06-.94-.94-2.06-.94 2.06-2.06.94zm-11 1L8.5 8.5l.94-2.06 2.06-.94-2.06-.94L8.5 2.5l-.94 2.06-2.06.94zm10 10l.94 2.06.94-2.06 2.06-.94-2.06-.94-.94-2.06-.94 2.06-2.06.94z\"/><path d=\"M17.41 7.96l-1.37-1.37c-.4-.4-.92-.59-1.43-.59-.52 0-1.04.2-1.43.59L10.3 9.45l-7.72 7.72c-.78.78-.78 2.05 0 2.83L4 21.41c.39.39.9.59 1.41.59.51 0 1.02-.2 1.41-.59l7.78-7.78 2.81-2.81c.8-.78.8-2.07 0-2.86zM5.41 20L4 18.59l7.72-7.72 1.47 1.35L5.41 20z\"/>\n",
              "  </svg>\n",
              "      </button>\n",
              "      \n",
              "  <style>\n",
              "    .colab-df-container {\n",
              "      display:flex;\n",
              "      flex-wrap:wrap;\n",
              "      gap: 12px;\n",
              "    }\n",
              "\n",
              "    .colab-df-convert {\n",
              "      background-color: #E8F0FE;\n",
              "      border: none;\n",
              "      border-radius: 50%;\n",
              "      cursor: pointer;\n",
              "      display: none;\n",
              "      fill: #1967D2;\n",
              "      height: 32px;\n",
              "      padding: 0 0 0 0;\n",
              "      width: 32px;\n",
              "    }\n",
              "\n",
              "    .colab-df-convert:hover {\n",
              "      background-color: #E2EBFA;\n",
              "      box-shadow: 0px 1px 2px rgba(60, 64, 67, 0.3), 0px 1px 3px 1px rgba(60, 64, 67, 0.15);\n",
              "      fill: #174EA6;\n",
              "    }\n",
              "\n",
              "    [theme=dark] .colab-df-convert {\n",
              "      background-color: #3B4455;\n",
              "      fill: #D2E3FC;\n",
              "    }\n",
              "\n",
              "    [theme=dark] .colab-df-convert:hover {\n",
              "      background-color: #434B5C;\n",
              "      box-shadow: 0px 1px 3px 1px rgba(0, 0, 0, 0.15);\n",
              "      filter: drop-shadow(0px 1px 2px rgba(0, 0, 0, 0.3));\n",
              "      fill: #FFFFFF;\n",
              "    }\n",
              "  </style>\n",
              "\n",
              "      <script>\n",
              "        const buttonEl =\n",
              "          document.querySelector('#df-5906e47f-ab2d-4914-a92d-8856f495b5e4 button.colab-df-convert');\n",
              "        buttonEl.style.display =\n",
              "          google.colab.kernel.accessAllowed ? 'block' : 'none';\n",
              "\n",
              "        async function convertToInteractive(key) {\n",
              "          const element = document.querySelector('#df-5906e47f-ab2d-4914-a92d-8856f495b5e4');\n",
              "          const dataTable =\n",
              "            await google.colab.kernel.invokeFunction('convertToInteractive',\n",
              "                                                     [key], {});\n",
              "          if (!dataTable) return;\n",
              "\n",
              "          const docLinkHtml = 'Like what you see? Visit the ' +\n",
              "            '<a target=\"_blank\" href=https://colab.research.google.com/notebooks/data_table.ipynb>data table notebook</a>'\n",
              "            + ' to learn more about interactive tables.';\n",
              "          element.innerHTML = '';\n",
              "          dataTable['output_type'] = 'display_data';\n",
              "          await google.colab.output.renderOutput(dataTable, element);\n",
              "          const docLink = document.createElement('div');\n",
              "          docLink.innerHTML = docLinkHtml;\n",
              "          element.appendChild(docLink);\n",
              "        }\n",
              "      </script>\n",
              "    </div>\n",
              "  </div>\n",
              "  "
            ]
          },
          "metadata": {},
          "execution_count": 69
        }
      ]
    },
    {
      "cell_type": "code",
      "source": [
        "depois_aporte.head()"
      ],
      "metadata": {
        "colab": {
          "base_uri": "https://localhost:8080/",
          "height": 237
        },
        "id": "622BCNm2_1GK",
        "outputId": "a7b72217-905b-4bd9-a8a5-963f8e10c252"
      },
      "execution_count": 70,
      "outputs": [
        {
          "output_type": "execute_result",
          "data": {
            "text/plain": [
              "              AAPL34.SA    IVVB11.SA     OIBR3.SA     PETR4.SA     RADL3.SA  \\\n",
              "Date                                                                          \n",
              "2021-09-14  2148.324088  1351.063854  8227.941132  4077.224912  4126.490790   \n",
              "2021-09-15  2145.022724  1359.840418  8227.941132  4148.119716  4097.923054   \n",
              "2021-09-16  2157.677847  1363.563887  7983.547072  4111.884789  4142.361889   \n",
              "2021-09-17  2119.437626  1353.829834  7820.617213  3927.558704  4175.691016   \n",
              "2021-09-20  2101.280439  1342.712751  7902.082385  3883.446501  4118.555545   \n",
              "\n",
              "               VALE3.SA     WEGE3.SA      PL Total  \n",
              "Date                                                \n",
              "2021-09-14  6469.220632  4008.407078  30408.672485  \n",
              "2021-09-15  6307.645090  4055.229400  30341.721533  \n",
              "2021-09-16  6045.686377  4061.336983  29866.058844  \n",
              "2021-09-17  5923.301036  3989.067118  29309.502545  \n",
              "2021-09-20  5689.531438  3958.530770  28996.139829  "
            ],
            "text/html": [
              "\n",
              "  <div id=\"df-6de9c19f-d42a-4dc6-b162-4c132571fe9b\">\n",
              "    <div class=\"colab-df-container\">\n",
              "      <div>\n",
              "<style scoped>\n",
              "    .dataframe tbody tr th:only-of-type {\n",
              "        vertical-align: middle;\n",
              "    }\n",
              "\n",
              "    .dataframe tbody tr th {\n",
              "        vertical-align: top;\n",
              "    }\n",
              "\n",
              "    .dataframe thead th {\n",
              "        text-align: right;\n",
              "    }\n",
              "</style>\n",
              "<table border=\"1\" class=\"dataframe\">\n",
              "  <thead>\n",
              "    <tr style=\"text-align: right;\">\n",
              "      <th></th>\n",
              "      <th>AAPL34.SA</th>\n",
              "      <th>IVVB11.SA</th>\n",
              "      <th>OIBR3.SA</th>\n",
              "      <th>PETR4.SA</th>\n",
              "      <th>RADL3.SA</th>\n",
              "      <th>VALE3.SA</th>\n",
              "      <th>WEGE3.SA</th>\n",
              "      <th>PL Total</th>\n",
              "    </tr>\n",
              "    <tr>\n",
              "      <th>Date</th>\n",
              "      <th></th>\n",
              "      <th></th>\n",
              "      <th></th>\n",
              "      <th></th>\n",
              "      <th></th>\n",
              "      <th></th>\n",
              "      <th></th>\n",
              "      <th></th>\n",
              "    </tr>\n",
              "  </thead>\n",
              "  <tbody>\n",
              "    <tr>\n",
              "      <th>2021-09-14</th>\n",
              "      <td>2148.324088</td>\n",
              "      <td>1351.063854</td>\n",
              "      <td>8227.941132</td>\n",
              "      <td>4077.224912</td>\n",
              "      <td>4126.490790</td>\n",
              "      <td>6469.220632</td>\n",
              "      <td>4008.407078</td>\n",
              "      <td>30408.672485</td>\n",
              "    </tr>\n",
              "    <tr>\n",
              "      <th>2021-09-15</th>\n",
              "      <td>2145.022724</td>\n",
              "      <td>1359.840418</td>\n",
              "      <td>8227.941132</td>\n",
              "      <td>4148.119716</td>\n",
              "      <td>4097.923054</td>\n",
              "      <td>6307.645090</td>\n",
              "      <td>4055.229400</td>\n",
              "      <td>30341.721533</td>\n",
              "    </tr>\n",
              "    <tr>\n",
              "      <th>2021-09-16</th>\n",
              "      <td>2157.677847</td>\n",
              "      <td>1363.563887</td>\n",
              "      <td>7983.547072</td>\n",
              "      <td>4111.884789</td>\n",
              "      <td>4142.361889</td>\n",
              "      <td>6045.686377</td>\n",
              "      <td>4061.336983</td>\n",
              "      <td>29866.058844</td>\n",
              "    </tr>\n",
              "    <tr>\n",
              "      <th>2021-09-17</th>\n",
              "      <td>2119.437626</td>\n",
              "      <td>1353.829834</td>\n",
              "      <td>7820.617213</td>\n",
              "      <td>3927.558704</td>\n",
              "      <td>4175.691016</td>\n",
              "      <td>5923.301036</td>\n",
              "      <td>3989.067118</td>\n",
              "      <td>29309.502545</td>\n",
              "    </tr>\n",
              "    <tr>\n",
              "      <th>2021-09-20</th>\n",
              "      <td>2101.280439</td>\n",
              "      <td>1342.712751</td>\n",
              "      <td>7902.082385</td>\n",
              "      <td>3883.446501</td>\n",
              "      <td>4118.555545</td>\n",
              "      <td>5689.531438</td>\n",
              "      <td>3958.530770</td>\n",
              "      <td>28996.139829</td>\n",
              "    </tr>\n",
              "  </tbody>\n",
              "</table>\n",
              "</div>\n",
              "      <button class=\"colab-df-convert\" onclick=\"convertToInteractive('df-6de9c19f-d42a-4dc6-b162-4c132571fe9b')\"\n",
              "              title=\"Convert this dataframe to an interactive table.\"\n",
              "              style=\"display:none;\">\n",
              "        \n",
              "  <svg xmlns=\"http://www.w3.org/2000/svg\" height=\"24px\"viewBox=\"0 0 24 24\"\n",
              "       width=\"24px\">\n",
              "    <path d=\"M0 0h24v24H0V0z\" fill=\"none\"/>\n",
              "    <path d=\"M18.56 5.44l.94 2.06.94-2.06 2.06-.94-2.06-.94-.94-2.06-.94 2.06-2.06.94zm-11 1L8.5 8.5l.94-2.06 2.06-.94-2.06-.94L8.5 2.5l-.94 2.06-2.06.94zm10 10l.94 2.06.94-2.06 2.06-.94-2.06-.94-.94-2.06-.94 2.06-2.06.94z\"/><path d=\"M17.41 7.96l-1.37-1.37c-.4-.4-.92-.59-1.43-.59-.52 0-1.04.2-1.43.59L10.3 9.45l-7.72 7.72c-.78.78-.78 2.05 0 2.83L4 21.41c.39.39.9.59 1.41.59.51 0 1.02-.2 1.41-.59l7.78-7.78 2.81-2.81c.8-.78.8-2.07 0-2.86zM5.41 20L4 18.59l7.72-7.72 1.47 1.35L5.41 20z\"/>\n",
              "  </svg>\n",
              "      </button>\n",
              "      \n",
              "  <style>\n",
              "    .colab-df-container {\n",
              "      display:flex;\n",
              "      flex-wrap:wrap;\n",
              "      gap: 12px;\n",
              "    }\n",
              "\n",
              "    .colab-df-convert {\n",
              "      background-color: #E8F0FE;\n",
              "      border: none;\n",
              "      border-radius: 50%;\n",
              "      cursor: pointer;\n",
              "      display: none;\n",
              "      fill: #1967D2;\n",
              "      height: 32px;\n",
              "      padding: 0 0 0 0;\n",
              "      width: 32px;\n",
              "    }\n",
              "\n",
              "    .colab-df-convert:hover {\n",
              "      background-color: #E2EBFA;\n",
              "      box-shadow: 0px 1px 2px rgba(60, 64, 67, 0.3), 0px 1px 3px 1px rgba(60, 64, 67, 0.15);\n",
              "      fill: #174EA6;\n",
              "    }\n",
              "\n",
              "    [theme=dark] .colab-df-convert {\n",
              "      background-color: #3B4455;\n",
              "      fill: #D2E3FC;\n",
              "    }\n",
              "\n",
              "    [theme=dark] .colab-df-convert:hover {\n",
              "      background-color: #434B5C;\n",
              "      box-shadow: 0px 1px 3px 1px rgba(0, 0, 0, 0.15);\n",
              "      filter: drop-shadow(0px 1px 2px rgba(0, 0, 0, 0.3));\n",
              "      fill: #FFFFFF;\n",
              "    }\n",
              "  </style>\n",
              "\n",
              "      <script>\n",
              "        const buttonEl =\n",
              "          document.querySelector('#df-6de9c19f-d42a-4dc6-b162-4c132571fe9b button.colab-df-convert');\n",
              "        buttonEl.style.display =\n",
              "          google.colab.kernel.accessAllowed ? 'block' : 'none';\n",
              "\n",
              "        async function convertToInteractive(key) {\n",
              "          const element = document.querySelector('#df-6de9c19f-d42a-4dc6-b162-4c132571fe9b');\n",
              "          const dataTable =\n",
              "            await google.colab.kernel.invokeFunction('convertToInteractive',\n",
              "                                                     [key], {});\n",
              "          if (!dataTable) return;\n",
              "\n",
              "          const docLinkHtml = 'Like what you see? Visit the ' +\n",
              "            '<a target=\"_blank\" href=https://colab.research.google.com/notebooks/data_table.ipynb>data table notebook</a>'\n",
              "            + ' to learn more about interactive tables.';\n",
              "          element.innerHTML = '';\n",
              "          dataTable['output_type'] = 'display_data';\n",
              "          await google.colab.output.renderOutput(dataTable, element);\n",
              "          const docLink = document.createElement('div');\n",
              "          docLink.innerHTML = docLinkHtml;\n",
              "          element.appendChild(docLink);\n",
              "        }\n",
              "      </script>\n",
              "    </div>\n",
              "  </div>\n",
              "  "
            ]
          },
          "metadata": {},
          "execution_count": 70
        }
      ]
    },
    {
      "cell_type": "markdown",
      "source": [
        "Configurando posição imediatamente antes do aporte"
      ],
      "metadata": {
        "id": "IlI9bwm5C_sy"
      }
    },
    {
      "cell_type": "code",
      "source": [
        "from datetime import datetime, timedelta"
      ],
      "metadata": {
        "id": "j5j3bRUxC_hs"
      },
      "execution_count": 71,
      "outputs": []
    },
    {
      "cell_type": "code",
      "source": [
        "dia_antes_aporte = (datetime.strptime(data_aporte, '%Y-%m-%d') - timedelta(1)).strftime('%Y-%m-%d')"
      ],
      "metadata": {
        "id": "m4rHpr3AC_Wy"
      },
      "execution_count": 78,
      "outputs": []
    },
    {
      "cell_type": "code",
      "source": [
        "dia_antes_aporte"
      ],
      "metadata": {
        "colab": {
          "base_uri": "https://localhost:8080/",
          "height": 35
        },
        "id": "mjbJUe9gC_KC",
        "outputId": "d99a7d33-3496-4730-a151-78e3c7dbf60a"
      },
      "execution_count": 79,
      "outputs": [
        {
          "output_type": "execute_result",
          "data": {
            "text/plain": [
              "'2021-09-13'"
            ],
            "application/vnd.google.colaboratory.intrinsic+json": {
              "type": "string"
            }
          },
          "metadata": {},
          "execution_count": 79
        }
      ]
    },
    {
      "cell_type": "markdown",
      "source": [
        "Qual era o tamanho da nossa posição no dia imediatamente após o aporte?"
      ],
      "metadata": {
        "id": "z5H9tg2yC-6H"
      }
    },
    {
      "cell_type": "code",
      "source": [
        "antes_aporte.loc[dia_antes_aporte]"
      ],
      "metadata": {
        "colab": {
          "base_uri": "https://localhost:8080/"
        },
        "id": "CAFMtPilEm5q",
        "outputId": "2fa8042b-9381-4b31-bbd6-99ecfaac8b2a"
      },
      "execution_count": 81,
      "outputs": [
        {
          "output_type": "execute_result",
          "data": {
            "text/plain": [
              "AAPL34.SA     2143.647208\n",
              "IVVB11.SA     1344.946865\n",
              "OIBR3.SA      2249.999934\n",
              "PETR4.SA      4132.365165\n",
              "RADL3.SA      2132.215919\n",
              "VALE3.SA      5508.166559\n",
              "WEGE3.SA      3959.549157\n",
              "PL Total     21470.890807\n",
              "Name: 2021-09-13 00:00:00, dtype: float64"
            ]
          },
          "metadata": {},
          "execution_count": 81
        }
      ]
    },
    {
      "cell_type": "markdown",
      "source": [
        "Transformando isso em um data frame transposto"
      ],
      "metadata": {
        "id": "i8leTt-ZEmn-"
      }
    },
    {
      "cell_type": "code",
      "source": [
        "posicao_original = pd.DataFrame(antes_aporte.loc[dia_antes_aporte]).T"
      ],
      "metadata": {
        "id": "hkKfHamCFAtC"
      },
      "execution_count": 83,
      "outputs": []
    },
    {
      "cell_type": "code",
      "source": [
        "segunda_compra_df"
      ],
      "metadata": {
        "colab": {
          "base_uri": "https://localhost:8080/"
        },
        "id": "MtPw6sACFAbE",
        "outputId": "6d7b2702-bb7d-4ad9-ae77-65abb4b95750"
      },
      "execution_count": 84,
      "outputs": [
        {
          "output_type": "execute_result",
          "data": {
            "text/plain": [
              "OIBR3.SA    6000\n",
              "RADL3.SA    2000\n",
              "VALE3.SA    1000\n",
              "dtype: int64"
            ]
          },
          "metadata": {},
          "execution_count": 84
        }
      ]
    },
    {
      "cell_type": "code",
      "source": [
        "aportes  = pd.DataFrame(segunda_compra_df, columns = [dia_antes_aporte]).T\n",
        "aportes.index = pd.to_datetime(aportes.index)"
      ],
      "metadata": {
        "id": "FsodGlF_FXIB"
      },
      "execution_count": 87,
      "outputs": []
    },
    {
      "cell_type": "code",
      "source": [
        "operacoes = pd.concat([posicao_original, aportes], axis = 1)"
      ],
      "metadata": {
        "id": "bUpeDBzgFvFG"
      },
      "execution_count": 90,
      "outputs": []
    },
    {
      "cell_type": "code",
      "source": [
        "operacoes = operacoes.groupby(lambda x:x, axis = 1).sum()"
      ],
      "metadata": {
        "id": "B7PLyr_eFu5M"
      },
      "execution_count": 91,
      "outputs": []
    },
    {
      "cell_type": "code",
      "source": [
        "operacoes.drop('PL Total', axis = 1, inplace = True)\n",
        "operacoes['PL Total'] = operacoes.sum(axis = 1)"
      ],
      "metadata": {
        "id": "5sRigAqfFut7"
      },
      "execution_count": 92,
      "outputs": []
    },
    {
      "cell_type": "code",
      "source": [
        "operacoes"
      ],
      "metadata": {
        "colab": {
          "base_uri": "https://localhost:8080/",
          "height": 80
        },
        "id": "BvQle2B6GSia",
        "outputId": "8c848fc8-5b54-45d7-ff77-c3c571398712"
      },
      "execution_count": 94,
      "outputs": [
        {
          "output_type": "execute_result",
          "data": {
            "text/plain": [
              "              AAPL34.SA    IVVB11.SA     OIBR3.SA     PETR4.SA     RADL3.SA  \\\n",
              "2021-09-13  2143.647208  1344.946865  8249.999934  4132.365165  4132.215919   \n",
              "\n",
              "               VALE3.SA     WEGE3.SA      PL Total  \n",
              "2021-09-13  6508.166559  3959.549157  30470.890807  "
            ],
            "text/html": [
              "\n",
              "  <div id=\"df-6aa434a5-9569-4ddf-9a90-087413287b67\">\n",
              "    <div class=\"colab-df-container\">\n",
              "      <div>\n",
              "<style scoped>\n",
              "    .dataframe tbody tr th:only-of-type {\n",
              "        vertical-align: middle;\n",
              "    }\n",
              "\n",
              "    .dataframe tbody tr th {\n",
              "        vertical-align: top;\n",
              "    }\n",
              "\n",
              "    .dataframe thead th {\n",
              "        text-align: right;\n",
              "    }\n",
              "</style>\n",
              "<table border=\"1\" class=\"dataframe\">\n",
              "  <thead>\n",
              "    <tr style=\"text-align: right;\">\n",
              "      <th></th>\n",
              "      <th>AAPL34.SA</th>\n",
              "      <th>IVVB11.SA</th>\n",
              "      <th>OIBR3.SA</th>\n",
              "      <th>PETR4.SA</th>\n",
              "      <th>RADL3.SA</th>\n",
              "      <th>VALE3.SA</th>\n",
              "      <th>WEGE3.SA</th>\n",
              "      <th>PL Total</th>\n",
              "    </tr>\n",
              "  </thead>\n",
              "  <tbody>\n",
              "    <tr>\n",
              "      <th>2021-09-13</th>\n",
              "      <td>2143.647208</td>\n",
              "      <td>1344.946865</td>\n",
              "      <td>8249.999934</td>\n",
              "      <td>4132.365165</td>\n",
              "      <td>4132.215919</td>\n",
              "      <td>6508.166559</td>\n",
              "      <td>3959.549157</td>\n",
              "      <td>30470.890807</td>\n",
              "    </tr>\n",
              "  </tbody>\n",
              "</table>\n",
              "</div>\n",
              "      <button class=\"colab-df-convert\" onclick=\"convertToInteractive('df-6aa434a5-9569-4ddf-9a90-087413287b67')\"\n",
              "              title=\"Convert this dataframe to an interactive table.\"\n",
              "              style=\"display:none;\">\n",
              "        \n",
              "  <svg xmlns=\"http://www.w3.org/2000/svg\" height=\"24px\"viewBox=\"0 0 24 24\"\n",
              "       width=\"24px\">\n",
              "    <path d=\"M0 0h24v24H0V0z\" fill=\"none\"/>\n",
              "    <path d=\"M18.56 5.44l.94 2.06.94-2.06 2.06-.94-2.06-.94-.94-2.06-.94 2.06-2.06.94zm-11 1L8.5 8.5l.94-2.06 2.06-.94-2.06-.94L8.5 2.5l-.94 2.06-2.06.94zm10 10l.94 2.06.94-2.06 2.06-.94-2.06-.94-.94-2.06-.94 2.06-2.06.94z\"/><path d=\"M17.41 7.96l-1.37-1.37c-.4-.4-.92-.59-1.43-.59-.52 0-1.04.2-1.43.59L10.3 9.45l-7.72 7.72c-.78.78-.78 2.05 0 2.83L4 21.41c.39.39.9.59 1.41.59.51 0 1.02-.2 1.41-.59l7.78-7.78 2.81-2.81c.8-.78.8-2.07 0-2.86zM5.41 20L4 18.59l7.72-7.72 1.47 1.35L5.41 20z\"/>\n",
              "  </svg>\n",
              "      </button>\n",
              "      \n",
              "  <style>\n",
              "    .colab-df-container {\n",
              "      display:flex;\n",
              "      flex-wrap:wrap;\n",
              "      gap: 12px;\n",
              "    }\n",
              "\n",
              "    .colab-df-convert {\n",
              "      background-color: #E8F0FE;\n",
              "      border: none;\n",
              "      border-radius: 50%;\n",
              "      cursor: pointer;\n",
              "      display: none;\n",
              "      fill: #1967D2;\n",
              "      height: 32px;\n",
              "      padding: 0 0 0 0;\n",
              "      width: 32px;\n",
              "    }\n",
              "\n",
              "    .colab-df-convert:hover {\n",
              "      background-color: #E2EBFA;\n",
              "      box-shadow: 0px 1px 2px rgba(60, 64, 67, 0.3), 0px 1px 3px 1px rgba(60, 64, 67, 0.15);\n",
              "      fill: #174EA6;\n",
              "    }\n",
              "\n",
              "    [theme=dark] .colab-df-convert {\n",
              "      background-color: #3B4455;\n",
              "      fill: #D2E3FC;\n",
              "    }\n",
              "\n",
              "    [theme=dark] .colab-df-convert:hover {\n",
              "      background-color: #434B5C;\n",
              "      box-shadow: 0px 1px 3px 1px rgba(0, 0, 0, 0.15);\n",
              "      filter: drop-shadow(0px 1px 2px rgba(0, 0, 0, 0.3));\n",
              "      fill: #FFFFFF;\n",
              "    }\n",
              "  </style>\n",
              "\n",
              "      <script>\n",
              "        const buttonEl =\n",
              "          document.querySelector('#df-6aa434a5-9569-4ddf-9a90-087413287b67 button.colab-df-convert');\n",
              "        buttonEl.style.display =\n",
              "          google.colab.kernel.accessAllowed ? 'block' : 'none';\n",
              "\n",
              "        async function convertToInteractive(key) {\n",
              "          const element = document.querySelector('#df-6aa434a5-9569-4ddf-9a90-087413287b67');\n",
              "          const dataTable =\n",
              "            await google.colab.kernel.invokeFunction('convertToInteractive',\n",
              "                                                     [key], {});\n",
              "          if (!dataTable) return;\n",
              "\n",
              "          const docLinkHtml = 'Like what you see? Visit the ' +\n",
              "            '<a target=\"_blank\" href=https://colab.research.google.com/notebooks/data_table.ipynb>data table notebook</a>'\n",
              "            + ' to learn more about interactive tables.';\n",
              "          element.innerHTML = '';\n",
              "          dataTable['output_type'] = 'display_data';\n",
              "          await google.colab.output.renderOutput(dataTable, element);\n",
              "          const docLink = document.createElement('div');\n",
              "          docLink.innerHTML = docLinkHtml;\n",
              "          element.appendChild(docLink);\n",
              "        }\n",
              "      </script>\n",
              "    </div>\n",
              "  </div>\n",
              "  "
            ]
          },
          "metadata": {},
          "execution_count": 94
        }
      ]
    },
    {
      "cell_type": "markdown",
      "source": [
        " Agora vamos anexar a linha acima ao data frame \"depois_aporte\""
      ],
      "metadata": {
        "id": "FZqOqQxbGiDT"
      }
    },
    {
      "cell_type": "code",
      "source": [
        "depois_aporte = pd.concat([operacoes, depois_aporte], axis = 0)"
      ],
      "metadata": {
        "id": "Vc95pUAmGgHO"
      },
      "execution_count": 96,
      "outputs": []
    },
    {
      "cell_type": "code",
      "source": [
        "rentabilidade_antes_aporte = antes_aporte.pct_change()\n",
        "rentabilidade_depois_aporte = depois_aporte.pct_change()"
      ],
      "metadata": {
        "id": "9dCgEL27Gf7s"
      },
      "execution_count": 97,
      "outputs": []
    },
    {
      "cell_type": "code",
      "source": [
        "rentabilidade_antes_aporte.tail()"
      ],
      "metadata": {
        "colab": {
          "base_uri": "https://localhost:8080/",
          "height": 237
        },
        "id": "Fh4cI7sxGfyh",
        "outputId": "5d0101de-7314-41ad-a82d-9ddfbf972e51"
      },
      "execution_count": 100,
      "outputs": [
        {
          "output_type": "execute_result",
          "data": {
            "text/plain": [
              "            AAPL34.SA  IVVB11.SA  OIBR3.SA  PETR4.SA  RADL3.SA  VALE3.SA  \\\n",
              "Date                                                                       \n",
              "2021-09-06   0.018218  -0.000975  0.009901  0.004937  0.002683 -0.015718   \n",
              "2021-09-08   0.009804   0.020488 -0.039216 -0.056311 -0.029816 -0.020812   \n",
              "2021-09-09  -0.019296  -0.021033  0.051020  0.021226  0.018125 -0.003578   \n",
              "2021-09-10  -0.030937   0.000000 -0.048544 -0.006274 -0.011223  0.001162   \n",
              "2021-09-13  -0.004980  -0.012305  0.040816  0.035122  0.020352 -0.000527   \n",
              "\n",
              "            WEGE3.SA  PL Total  \n",
              "Date                            \n",
              "2021-09-06  0.003586  0.000476  \n",
              "2021-09-08  0.003024 -0.020597  \n",
              "2021-09-09  0.064401  0.017935  \n",
              "2021-09-10 -0.004635 -0.011188  \n",
              "2021-09-13  0.006208  0.012497  "
            ],
            "text/html": [
              "\n",
              "  <div id=\"df-de070270-0eda-41b6-9bf4-611036b91078\">\n",
              "    <div class=\"colab-df-container\">\n",
              "      <div>\n",
              "<style scoped>\n",
              "    .dataframe tbody tr th:only-of-type {\n",
              "        vertical-align: middle;\n",
              "    }\n",
              "\n",
              "    .dataframe tbody tr th {\n",
              "        vertical-align: top;\n",
              "    }\n",
              "\n",
              "    .dataframe thead th {\n",
              "        text-align: right;\n",
              "    }\n",
              "</style>\n",
              "<table border=\"1\" class=\"dataframe\">\n",
              "  <thead>\n",
              "    <tr style=\"text-align: right;\">\n",
              "      <th></th>\n",
              "      <th>AAPL34.SA</th>\n",
              "      <th>IVVB11.SA</th>\n",
              "      <th>OIBR3.SA</th>\n",
              "      <th>PETR4.SA</th>\n",
              "      <th>RADL3.SA</th>\n",
              "      <th>VALE3.SA</th>\n",
              "      <th>WEGE3.SA</th>\n",
              "      <th>PL Total</th>\n",
              "    </tr>\n",
              "    <tr>\n",
              "      <th>Date</th>\n",
              "      <th></th>\n",
              "      <th></th>\n",
              "      <th></th>\n",
              "      <th></th>\n",
              "      <th></th>\n",
              "      <th></th>\n",
              "      <th></th>\n",
              "      <th></th>\n",
              "    </tr>\n",
              "  </thead>\n",
              "  <tbody>\n",
              "    <tr>\n",
              "      <th>2021-09-06</th>\n",
              "      <td>0.018218</td>\n",
              "      <td>-0.000975</td>\n",
              "      <td>0.009901</td>\n",
              "      <td>0.004937</td>\n",
              "      <td>0.002683</td>\n",
              "      <td>-0.015718</td>\n",
              "      <td>0.003586</td>\n",
              "      <td>0.000476</td>\n",
              "    </tr>\n",
              "    <tr>\n",
              "      <th>2021-09-08</th>\n",
              "      <td>0.009804</td>\n",
              "      <td>0.020488</td>\n",
              "      <td>-0.039216</td>\n",
              "      <td>-0.056311</td>\n",
              "      <td>-0.029816</td>\n",
              "      <td>-0.020812</td>\n",
              "      <td>0.003024</td>\n",
              "      <td>-0.020597</td>\n",
              "    </tr>\n",
              "    <tr>\n",
              "      <th>2021-09-09</th>\n",
              "      <td>-0.019296</td>\n",
              "      <td>-0.021033</td>\n",
              "      <td>0.051020</td>\n",
              "      <td>0.021226</td>\n",
              "      <td>0.018125</td>\n",
              "      <td>-0.003578</td>\n",
              "      <td>0.064401</td>\n",
              "      <td>0.017935</td>\n",
              "    </tr>\n",
              "    <tr>\n",
              "      <th>2021-09-10</th>\n",
              "      <td>-0.030937</td>\n",
              "      <td>0.000000</td>\n",
              "      <td>-0.048544</td>\n",
              "      <td>-0.006274</td>\n",
              "      <td>-0.011223</td>\n",
              "      <td>0.001162</td>\n",
              "      <td>-0.004635</td>\n",
              "      <td>-0.011188</td>\n",
              "    </tr>\n",
              "    <tr>\n",
              "      <th>2021-09-13</th>\n",
              "      <td>-0.004980</td>\n",
              "      <td>-0.012305</td>\n",
              "      <td>0.040816</td>\n",
              "      <td>0.035122</td>\n",
              "      <td>0.020352</td>\n",
              "      <td>-0.000527</td>\n",
              "      <td>0.006208</td>\n",
              "      <td>0.012497</td>\n",
              "    </tr>\n",
              "  </tbody>\n",
              "</table>\n",
              "</div>\n",
              "      <button class=\"colab-df-convert\" onclick=\"convertToInteractive('df-de070270-0eda-41b6-9bf4-611036b91078')\"\n",
              "              title=\"Convert this dataframe to an interactive table.\"\n",
              "              style=\"display:none;\">\n",
              "        \n",
              "  <svg xmlns=\"http://www.w3.org/2000/svg\" height=\"24px\"viewBox=\"0 0 24 24\"\n",
              "       width=\"24px\">\n",
              "    <path d=\"M0 0h24v24H0V0z\" fill=\"none\"/>\n",
              "    <path d=\"M18.56 5.44l.94 2.06.94-2.06 2.06-.94-2.06-.94-.94-2.06-.94 2.06-2.06.94zm-11 1L8.5 8.5l.94-2.06 2.06-.94-2.06-.94L8.5 2.5l-.94 2.06-2.06.94zm10 10l.94 2.06.94-2.06 2.06-.94-2.06-.94-.94-2.06-.94 2.06-2.06.94z\"/><path d=\"M17.41 7.96l-1.37-1.37c-.4-.4-.92-.59-1.43-.59-.52 0-1.04.2-1.43.59L10.3 9.45l-7.72 7.72c-.78.78-.78 2.05 0 2.83L4 21.41c.39.39.9.59 1.41.59.51 0 1.02-.2 1.41-.59l7.78-7.78 2.81-2.81c.8-.78.8-2.07 0-2.86zM5.41 20L4 18.59l7.72-7.72 1.47 1.35L5.41 20z\"/>\n",
              "  </svg>\n",
              "      </button>\n",
              "      \n",
              "  <style>\n",
              "    .colab-df-container {\n",
              "      display:flex;\n",
              "      flex-wrap:wrap;\n",
              "      gap: 12px;\n",
              "    }\n",
              "\n",
              "    .colab-df-convert {\n",
              "      background-color: #E8F0FE;\n",
              "      border: none;\n",
              "      border-radius: 50%;\n",
              "      cursor: pointer;\n",
              "      display: none;\n",
              "      fill: #1967D2;\n",
              "      height: 32px;\n",
              "      padding: 0 0 0 0;\n",
              "      width: 32px;\n",
              "    }\n",
              "\n",
              "    .colab-df-convert:hover {\n",
              "      background-color: #E2EBFA;\n",
              "      box-shadow: 0px 1px 2px rgba(60, 64, 67, 0.3), 0px 1px 3px 1px rgba(60, 64, 67, 0.15);\n",
              "      fill: #174EA6;\n",
              "    }\n",
              "\n",
              "    [theme=dark] .colab-df-convert {\n",
              "      background-color: #3B4455;\n",
              "      fill: #D2E3FC;\n",
              "    }\n",
              "\n",
              "    [theme=dark] .colab-df-convert:hover {\n",
              "      background-color: #434B5C;\n",
              "      box-shadow: 0px 1px 3px 1px rgba(0, 0, 0, 0.15);\n",
              "      filter: drop-shadow(0px 1px 2px rgba(0, 0, 0, 0.3));\n",
              "      fill: #FFFFFF;\n",
              "    }\n",
              "  </style>\n",
              "\n",
              "      <script>\n",
              "        const buttonEl =\n",
              "          document.querySelector('#df-de070270-0eda-41b6-9bf4-611036b91078 button.colab-df-convert');\n",
              "        buttonEl.style.display =\n",
              "          google.colab.kernel.accessAllowed ? 'block' : 'none';\n",
              "\n",
              "        async function convertToInteractive(key) {\n",
              "          const element = document.querySelector('#df-de070270-0eda-41b6-9bf4-611036b91078');\n",
              "          const dataTable =\n",
              "            await google.colab.kernel.invokeFunction('convertToInteractive',\n",
              "                                                     [key], {});\n",
              "          if (!dataTable) return;\n",
              "\n",
              "          const docLinkHtml = 'Like what you see? Visit the ' +\n",
              "            '<a target=\"_blank\" href=https://colab.research.google.com/notebooks/data_table.ipynb>data table notebook</a>'\n",
              "            + ' to learn more about interactive tables.';\n",
              "          element.innerHTML = '';\n",
              "          dataTable['output_type'] = 'display_data';\n",
              "          await google.colab.output.renderOutput(dataTable, element);\n",
              "          const docLink = document.createElement('div');\n",
              "          docLink.innerHTML = docLinkHtml;\n",
              "          element.appendChild(docLink);\n",
              "        }\n",
              "      </script>\n",
              "    </div>\n",
              "  </div>\n",
              "  "
            ]
          },
          "metadata": {},
          "execution_count": 100
        }
      ]
    },
    {
      "cell_type": "code",
      "source": [
        "rentabilidade_depois_aporte.head()"
      ],
      "metadata": {
        "colab": {
          "base_uri": "https://localhost:8080/",
          "height": 206
        },
        "id": "-7PqX0HhGSNz",
        "outputId": "cedd6ffe-0453-49a0-d2ed-68309dc0d41b"
      },
      "execution_count": 99,
      "outputs": [
        {
          "output_type": "execute_result",
          "data": {
            "text/plain": [
              "            AAPL34.SA  IVVB11.SA  OIBR3.SA  PETR4.SA  RADL3.SA  VALE3.SA  \\\n",
              "2021-09-13        NaN        NaN       NaN       NaN       NaN       NaN   \n",
              "2021-09-14   0.002182   0.004548 -0.002674 -0.013344 -0.001385 -0.005984   \n",
              "2021-09-15  -0.001537   0.006496  0.000000  0.017388 -0.006923 -0.024976   \n",
              "2021-09-16   0.005900   0.002738 -0.029703 -0.008735  0.010844 -0.041530   \n",
              "2021-09-17  -0.017723  -0.007139 -0.020408 -0.044828  0.008046 -0.020243   \n",
              "\n",
              "            WEGE3.SA  PL Total  \n",
              "2021-09-13       NaN       NaN  \n",
              "2021-09-14  0.012339 -0.002042  \n",
              "2021-09-15  0.011681 -0.002202  \n",
              "2021-09-16  0.001506 -0.015677  \n",
              "2021-09-17 -0.017795 -0.018635  "
            ],
            "text/html": [
              "\n",
              "  <div id=\"df-ffc104fd-7827-47ef-87c6-9b8cb6327f85\">\n",
              "    <div class=\"colab-df-container\">\n",
              "      <div>\n",
              "<style scoped>\n",
              "    .dataframe tbody tr th:only-of-type {\n",
              "        vertical-align: middle;\n",
              "    }\n",
              "\n",
              "    .dataframe tbody tr th {\n",
              "        vertical-align: top;\n",
              "    }\n",
              "\n",
              "    .dataframe thead th {\n",
              "        text-align: right;\n",
              "    }\n",
              "</style>\n",
              "<table border=\"1\" class=\"dataframe\">\n",
              "  <thead>\n",
              "    <tr style=\"text-align: right;\">\n",
              "      <th></th>\n",
              "      <th>AAPL34.SA</th>\n",
              "      <th>IVVB11.SA</th>\n",
              "      <th>OIBR3.SA</th>\n",
              "      <th>PETR4.SA</th>\n",
              "      <th>RADL3.SA</th>\n",
              "      <th>VALE3.SA</th>\n",
              "      <th>WEGE3.SA</th>\n",
              "      <th>PL Total</th>\n",
              "    </tr>\n",
              "  </thead>\n",
              "  <tbody>\n",
              "    <tr>\n",
              "      <th>2021-09-13</th>\n",
              "      <td>NaN</td>\n",
              "      <td>NaN</td>\n",
              "      <td>NaN</td>\n",
              "      <td>NaN</td>\n",
              "      <td>NaN</td>\n",
              "      <td>NaN</td>\n",
              "      <td>NaN</td>\n",
              "      <td>NaN</td>\n",
              "    </tr>\n",
              "    <tr>\n",
              "      <th>2021-09-14</th>\n",
              "      <td>0.002182</td>\n",
              "      <td>0.004548</td>\n",
              "      <td>-0.002674</td>\n",
              "      <td>-0.013344</td>\n",
              "      <td>-0.001385</td>\n",
              "      <td>-0.005984</td>\n",
              "      <td>0.012339</td>\n",
              "      <td>-0.002042</td>\n",
              "    </tr>\n",
              "    <tr>\n",
              "      <th>2021-09-15</th>\n",
              "      <td>-0.001537</td>\n",
              "      <td>0.006496</td>\n",
              "      <td>0.000000</td>\n",
              "      <td>0.017388</td>\n",
              "      <td>-0.006923</td>\n",
              "      <td>-0.024976</td>\n",
              "      <td>0.011681</td>\n",
              "      <td>-0.002202</td>\n",
              "    </tr>\n",
              "    <tr>\n",
              "      <th>2021-09-16</th>\n",
              "      <td>0.005900</td>\n",
              "      <td>0.002738</td>\n",
              "      <td>-0.029703</td>\n",
              "      <td>-0.008735</td>\n",
              "      <td>0.010844</td>\n",
              "      <td>-0.041530</td>\n",
              "      <td>0.001506</td>\n",
              "      <td>-0.015677</td>\n",
              "    </tr>\n",
              "    <tr>\n",
              "      <th>2021-09-17</th>\n",
              "      <td>-0.017723</td>\n",
              "      <td>-0.007139</td>\n",
              "      <td>-0.020408</td>\n",
              "      <td>-0.044828</td>\n",
              "      <td>0.008046</td>\n",
              "      <td>-0.020243</td>\n",
              "      <td>-0.017795</td>\n",
              "      <td>-0.018635</td>\n",
              "    </tr>\n",
              "  </tbody>\n",
              "</table>\n",
              "</div>\n",
              "      <button class=\"colab-df-convert\" onclick=\"convertToInteractive('df-ffc104fd-7827-47ef-87c6-9b8cb6327f85')\"\n",
              "              title=\"Convert this dataframe to an interactive table.\"\n",
              "              style=\"display:none;\">\n",
              "        \n",
              "  <svg xmlns=\"http://www.w3.org/2000/svg\" height=\"24px\"viewBox=\"0 0 24 24\"\n",
              "       width=\"24px\">\n",
              "    <path d=\"M0 0h24v24H0V0z\" fill=\"none\"/>\n",
              "    <path d=\"M18.56 5.44l.94 2.06.94-2.06 2.06-.94-2.06-.94-.94-2.06-.94 2.06-2.06.94zm-11 1L8.5 8.5l.94-2.06 2.06-.94-2.06-.94L8.5 2.5l-.94 2.06-2.06.94zm10 10l.94 2.06.94-2.06 2.06-.94-2.06-.94-.94-2.06-.94 2.06-2.06.94z\"/><path d=\"M17.41 7.96l-1.37-1.37c-.4-.4-.92-.59-1.43-.59-.52 0-1.04.2-1.43.59L10.3 9.45l-7.72 7.72c-.78.78-.78 2.05 0 2.83L4 21.41c.39.39.9.59 1.41.59.51 0 1.02-.2 1.41-.59l7.78-7.78 2.81-2.81c.8-.78.8-2.07 0-2.86zM5.41 20L4 18.59l7.72-7.72 1.47 1.35L5.41 20z\"/>\n",
              "  </svg>\n",
              "      </button>\n",
              "      \n",
              "  <style>\n",
              "    .colab-df-container {\n",
              "      display:flex;\n",
              "      flex-wrap:wrap;\n",
              "      gap: 12px;\n",
              "    }\n",
              "\n",
              "    .colab-df-convert {\n",
              "      background-color: #E8F0FE;\n",
              "      border: none;\n",
              "      border-radius: 50%;\n",
              "      cursor: pointer;\n",
              "      display: none;\n",
              "      fill: #1967D2;\n",
              "      height: 32px;\n",
              "      padding: 0 0 0 0;\n",
              "      width: 32px;\n",
              "    }\n",
              "\n",
              "    .colab-df-convert:hover {\n",
              "      background-color: #E2EBFA;\n",
              "      box-shadow: 0px 1px 2px rgba(60, 64, 67, 0.3), 0px 1px 3px 1px rgba(60, 64, 67, 0.15);\n",
              "      fill: #174EA6;\n",
              "    }\n",
              "\n",
              "    [theme=dark] .colab-df-convert {\n",
              "      background-color: #3B4455;\n",
              "      fill: #D2E3FC;\n",
              "    }\n",
              "\n",
              "    [theme=dark] .colab-df-convert:hover {\n",
              "      background-color: #434B5C;\n",
              "      box-shadow: 0px 1px 3px 1px rgba(0, 0, 0, 0.15);\n",
              "      filter: drop-shadow(0px 1px 2px rgba(0, 0, 0, 0.3));\n",
              "      fill: #FFFFFF;\n",
              "    }\n",
              "  </style>\n",
              "\n",
              "      <script>\n",
              "        const buttonEl =\n",
              "          document.querySelector('#df-ffc104fd-7827-47ef-87c6-9b8cb6327f85 button.colab-df-convert');\n",
              "        buttonEl.style.display =\n",
              "          google.colab.kernel.accessAllowed ? 'block' : 'none';\n",
              "\n",
              "        async function convertToInteractive(key) {\n",
              "          const element = document.querySelector('#df-ffc104fd-7827-47ef-87c6-9b8cb6327f85');\n",
              "          const dataTable =\n",
              "            await google.colab.kernel.invokeFunction('convertToInteractive',\n",
              "                                                     [key], {});\n",
              "          if (!dataTable) return;\n",
              "\n",
              "          const docLinkHtml = 'Like what you see? Visit the ' +\n",
              "            '<a target=\"_blank\" href=https://colab.research.google.com/notebooks/data_table.ipynb>data table notebook</a>'\n",
              "            + ' to learn more about interactive tables.';\n",
              "          element.innerHTML = '';\n",
              "          dataTable['output_type'] = 'display_data';\n",
              "          await google.colab.output.renderOutput(dataTable, element);\n",
              "          const docLink = document.createElement('div');\n",
              "          docLink.innerHTML = docLinkHtml;\n",
              "          element.appendChild(docLink);\n",
              "        }\n",
              "      </script>\n",
              "    </div>\n",
              "  </div>\n",
              "  "
            ]
          },
          "metadata": {},
          "execution_count": 99
        }
      ]
    },
    {
      "cell_type": "code",
      "source": [
        "rentabilidade_antes_aporte = rentabilidade_antes_aporte.dropna()\n",
        "rentabilidade_depois_aporte = rentabilidade_depois_aporte.dropna()"
      ],
      "metadata": {
        "id": "Wc9pv5PPHSxD"
      },
      "execution_count": 101,
      "outputs": []
    },
    {
      "cell_type": "code",
      "source": [
        "rentabilidade_total = pd.concat([rentabilidade_antes_aporte, rentabilidade_depois_aporte], axis = 0)"
      ],
      "metadata": {
        "id": "FBAVDdJfHSpW"
      },
      "execution_count": 102,
      "outputs": []
    },
    {
      "cell_type": "code",
      "source": [
        "rentabilidade_total.head()"
      ],
      "metadata": {
        "colab": {
          "base_uri": "https://localhost:8080/",
          "height": 206
        },
        "id": "LldVQTtpHSg6",
        "outputId": "bf2ae9f8-1d01-438e-eb56-6f4f52e0b6e1"
      },
      "execution_count": 103,
      "outputs": [
        {
          "output_type": "execute_result",
          "data": {
            "text/plain": [
              "            AAPL34.SA  IVVB11.SA  OIBR3.SA  PETR4.SA  RADL3.SA  VALE3.SA  \\\n",
              "2020-05-05   0.029685   0.017967  0.029412  0.032221 -0.004304 -0.005235   \n",
              "2020-05-06   0.037778   0.013992  0.000000 -0.036789 -0.005667  0.014416   \n",
              "2020-05-07   0.029400   0.047810 -0.042857  0.009259  0.001642  0.038800   \n",
              "2020-05-08   0.009140  -0.012295  0.029851  0.059633  0.009548  0.060803   \n",
              "2020-05-11   0.034970   0.014661 -0.057971 -0.017857  0.003057 -0.022927   \n",
              "\n",
              "            WEGE3.SA  PL Total  \n",
              "2020-05-05 -0.020833  0.009372  \n",
              "2020-05-06 -0.004614 -0.002062  \n",
              "2020-05-07  0.006696  0.011721  \n",
              "2020-05-08 -0.021744  0.025581  \n",
              "2020-05-11  0.015429 -0.008190  "
            ],
            "text/html": [
              "\n",
              "  <div id=\"df-c1c7a1b5-9f6b-4bd8-a636-2c1d7c072396\">\n",
              "    <div class=\"colab-df-container\">\n",
              "      <div>\n",
              "<style scoped>\n",
              "    .dataframe tbody tr th:only-of-type {\n",
              "        vertical-align: middle;\n",
              "    }\n",
              "\n",
              "    .dataframe tbody tr th {\n",
              "        vertical-align: top;\n",
              "    }\n",
              "\n",
              "    .dataframe thead th {\n",
              "        text-align: right;\n",
              "    }\n",
              "</style>\n",
              "<table border=\"1\" class=\"dataframe\">\n",
              "  <thead>\n",
              "    <tr style=\"text-align: right;\">\n",
              "      <th></th>\n",
              "      <th>AAPL34.SA</th>\n",
              "      <th>IVVB11.SA</th>\n",
              "      <th>OIBR3.SA</th>\n",
              "      <th>PETR4.SA</th>\n",
              "      <th>RADL3.SA</th>\n",
              "      <th>VALE3.SA</th>\n",
              "      <th>WEGE3.SA</th>\n",
              "      <th>PL Total</th>\n",
              "    </tr>\n",
              "  </thead>\n",
              "  <tbody>\n",
              "    <tr>\n",
              "      <th>2020-05-05</th>\n",
              "      <td>0.029685</td>\n",
              "      <td>0.017967</td>\n",
              "      <td>0.029412</td>\n",
              "      <td>0.032221</td>\n",
              "      <td>-0.004304</td>\n",
              "      <td>-0.005235</td>\n",
              "      <td>-0.020833</td>\n",
              "      <td>0.009372</td>\n",
              "    </tr>\n",
              "    <tr>\n",
              "      <th>2020-05-06</th>\n",
              "      <td>0.037778</td>\n",
              "      <td>0.013992</td>\n",
              "      <td>0.000000</td>\n",
              "      <td>-0.036789</td>\n",
              "      <td>-0.005667</td>\n",
              "      <td>0.014416</td>\n",
              "      <td>-0.004614</td>\n",
              "      <td>-0.002062</td>\n",
              "    </tr>\n",
              "    <tr>\n",
              "      <th>2020-05-07</th>\n",
              "      <td>0.029400</td>\n",
              "      <td>0.047810</td>\n",
              "      <td>-0.042857</td>\n",
              "      <td>0.009259</td>\n",
              "      <td>0.001642</td>\n",
              "      <td>0.038800</td>\n",
              "      <td>0.006696</td>\n",
              "      <td>0.011721</td>\n",
              "    </tr>\n",
              "    <tr>\n",
              "      <th>2020-05-08</th>\n",
              "      <td>0.009140</td>\n",
              "      <td>-0.012295</td>\n",
              "      <td>0.029851</td>\n",
              "      <td>0.059633</td>\n",
              "      <td>0.009548</td>\n",
              "      <td>0.060803</td>\n",
              "      <td>-0.021744</td>\n",
              "      <td>0.025581</td>\n",
              "    </tr>\n",
              "    <tr>\n",
              "      <th>2020-05-11</th>\n",
              "      <td>0.034970</td>\n",
              "      <td>0.014661</td>\n",
              "      <td>-0.057971</td>\n",
              "      <td>-0.017857</td>\n",
              "      <td>0.003057</td>\n",
              "      <td>-0.022927</td>\n",
              "      <td>0.015429</td>\n",
              "      <td>-0.008190</td>\n",
              "    </tr>\n",
              "  </tbody>\n",
              "</table>\n",
              "</div>\n",
              "      <button class=\"colab-df-convert\" onclick=\"convertToInteractive('df-c1c7a1b5-9f6b-4bd8-a636-2c1d7c072396')\"\n",
              "              title=\"Convert this dataframe to an interactive table.\"\n",
              "              style=\"display:none;\">\n",
              "        \n",
              "  <svg xmlns=\"http://www.w3.org/2000/svg\" height=\"24px\"viewBox=\"0 0 24 24\"\n",
              "       width=\"24px\">\n",
              "    <path d=\"M0 0h24v24H0V0z\" fill=\"none\"/>\n",
              "    <path d=\"M18.56 5.44l.94 2.06.94-2.06 2.06-.94-2.06-.94-.94-2.06-.94 2.06-2.06.94zm-11 1L8.5 8.5l.94-2.06 2.06-.94-2.06-.94L8.5 2.5l-.94 2.06-2.06.94zm10 10l.94 2.06.94-2.06 2.06-.94-2.06-.94-.94-2.06-.94 2.06-2.06.94z\"/><path d=\"M17.41 7.96l-1.37-1.37c-.4-.4-.92-.59-1.43-.59-.52 0-1.04.2-1.43.59L10.3 9.45l-7.72 7.72c-.78.78-.78 2.05 0 2.83L4 21.41c.39.39.9.59 1.41.59.51 0 1.02-.2 1.41-.59l7.78-7.78 2.81-2.81c.8-.78.8-2.07 0-2.86zM5.41 20L4 18.59l7.72-7.72 1.47 1.35L5.41 20z\"/>\n",
              "  </svg>\n",
              "      </button>\n",
              "      \n",
              "  <style>\n",
              "    .colab-df-container {\n",
              "      display:flex;\n",
              "      flex-wrap:wrap;\n",
              "      gap: 12px;\n",
              "    }\n",
              "\n",
              "    .colab-df-convert {\n",
              "      background-color: #E8F0FE;\n",
              "      border: none;\n",
              "      border-radius: 50%;\n",
              "      cursor: pointer;\n",
              "      display: none;\n",
              "      fill: #1967D2;\n",
              "      height: 32px;\n",
              "      padding: 0 0 0 0;\n",
              "      width: 32px;\n",
              "    }\n",
              "\n",
              "    .colab-df-convert:hover {\n",
              "      background-color: #E2EBFA;\n",
              "      box-shadow: 0px 1px 2px rgba(60, 64, 67, 0.3), 0px 1px 3px 1px rgba(60, 64, 67, 0.15);\n",
              "      fill: #174EA6;\n",
              "    }\n",
              "\n",
              "    [theme=dark] .colab-df-convert {\n",
              "      background-color: #3B4455;\n",
              "      fill: #D2E3FC;\n",
              "    }\n",
              "\n",
              "    [theme=dark] .colab-df-convert:hover {\n",
              "      background-color: #434B5C;\n",
              "      box-shadow: 0px 1px 3px 1px rgba(0, 0, 0, 0.15);\n",
              "      filter: drop-shadow(0px 1px 2px rgba(0, 0, 0, 0.3));\n",
              "      fill: #FFFFFF;\n",
              "    }\n",
              "  </style>\n",
              "\n",
              "      <script>\n",
              "        const buttonEl =\n",
              "          document.querySelector('#df-c1c7a1b5-9f6b-4bd8-a636-2c1d7c072396 button.colab-df-convert');\n",
              "        buttonEl.style.display =\n",
              "          google.colab.kernel.accessAllowed ? 'block' : 'none';\n",
              "\n",
              "        async function convertToInteractive(key) {\n",
              "          const element = document.querySelector('#df-c1c7a1b5-9f6b-4bd8-a636-2c1d7c072396');\n",
              "          const dataTable =\n",
              "            await google.colab.kernel.invokeFunction('convertToInteractive',\n",
              "                                                     [key], {});\n",
              "          if (!dataTable) return;\n",
              "\n",
              "          const docLinkHtml = 'Like what you see? Visit the ' +\n",
              "            '<a target=\"_blank\" href=https://colab.research.google.com/notebooks/data_table.ipynb>data table notebook</a>'\n",
              "            + ' to learn more about interactive tables.';\n",
              "          element.innerHTML = '';\n",
              "          dataTable['output_type'] = 'display_data';\n",
              "          await google.colab.output.renderOutput(dataTable, element);\n",
              "          const docLink = document.createElement('div');\n",
              "          docLink.innerHTML = docLinkHtml;\n",
              "          element.appendChild(docLink);\n",
              "        }\n",
              "      </script>\n",
              "    </div>\n",
              "  </div>\n",
              "  "
            ]
          },
          "metadata": {},
          "execution_count": 103
        }
      ]
    },
    {
      "cell_type": "code",
      "source": [
        "retorno_acumulado = (1 + rentabilidade_total).cumprod()"
      ],
      "metadata": {
        "id": "q9NZQrYhHSXR"
      },
      "execution_count": 104,
      "outputs": []
    },
    {
      "cell_type": "code",
      "source": [
        "retorno_acumulado['Date'] = pd.to_datetime(retorno_acumulado.index)\n",
        "retorno_acumulado.index = retorno_acumulado['Date']\n",
        "retorno_acumulado.drop(['Date'], axis = 1, inplace = True)"
      ],
      "metadata": {
        "id": "veBocu-PH-hG"
      },
      "execution_count": 107,
      "outputs": []
    },
    {
      "cell_type": "code",
      "source": [
        "comparaibov(inicio, fim, retorno_acumulado, 8, 6, 'Carteira Após Segundo Aporte')"
      ],
      "metadata": {
        "colab": {
          "base_uri": "https://localhost:8080/",
          "height": 375
        },
        "id": "WIca6ikyH-SM",
        "outputId": "9cbd6f73-c142-41aa-9c49-c1c1fc2c6bb0"
      },
      "execution_count": 108,
      "outputs": [
        {
          "output_type": "display_data",
          "data": {
            "text/plain": [
              "<Figure size 576x432 with 1 Axes>"
            ],
            "image/png": "[encoded data removed]"
          },
          "metadata": {
            "needs_background": "light"
          }
        }
      ]
    },
    {
      "cell_type": "code",
      "source": [
        "comparaibov(inicio, fim, PL, 8, 6, 'Carteira com apenas um aporte')"
      ],
      "metadata": {
        "colab": {
          "base_uri": "https://localhost:8080/",
          "height": 375
        },
        "id": "MQF_3COSHSFr",
        "outputId": "59477623-8f13-4c28-f50d-0a38c9adab7a"
      },
      "execution_count": 109,
      "outputs": [
        {
          "output_type": "display_data",
          "data": {
            "text/plain": [
              "<Figure size 576x432 with 1 Axes>"
            ],
            "image/png": "[encoded data removed]"
          },
          "metadata": {
            "needs_background": "light"
          }
        }
      ]
    },
    {
      "cell_type": "code",
      "source": [
        ""
      ],
      "metadata": {
        "id": "z89rLDN7HR9F"
      },
      "execution_count": null,
      "outputs": []
    },
    {
      "cell_type": "code",
      "source": [
        ""
      ],
      "metadata": {
        "id": "uA-oTur5EmUz"
      },
      "execution_count": null,
      "outputs": []
    },
    {
      "cell_type": "markdown",
      "source": [
        "# 4. Funções para análise rápida"
      ],
      "metadata": {
        "id": "o9rEtVcu0xy4"
      }
    },
    {
      "cell_type": "markdown",
      "source": [
        "Parâmetros da função\n",
        "\n",
        "* data_aporte: a data em que o novo aporte foi feito (considerando a premissa de que o aporte é feito no final do pregão)\n",
        "* dic_aportes: um dicionário contendo os aportes feitos, com o ticker e a quantidade comprada (em R$)\n",
        "* precos: um data frame contendo as cotações dos ativos no período analisado\n",
        "* carteira_anterior: um data frame contendo a variação da posição dos ativos dia após dia, sem os novos aportes"
      ],
      "metadata": {
        "id": "DeHXpmZvJinZ"
      }
    },
    {
      "cell_type": "code",
      "source": [
        "def configuraaportes(data_aporte, dic_aportes, precos, carteira_anterior):\n",
        "  \n",
        "  # Novos aportes em formato de dataframe                  \n",
        "  nova_compra_df = pd.Series(data=dic_aportes, index=list(dic_aportes.keys()))\n",
        "\n",
        "  # Preço dos ativos no dia do novo aporte\n",
        "  precos_novo_aporte = precos.loc[data_aporte]\n",
        "\n",
        "  # Quantidade de papéis comprados no novo aporte\n",
        "  qtd_acoes_nova_compra = nova_compra_df/precos_novo_aporte\n",
        "\n",
        "  # Configura novo dataframe que vai conter informações exclusivamente do novo aporte\n",
        "  novos_PL = pd.DataFrame(data= None, index = precos.index, columns= precos.columns)\n",
        "\n",
        "  # Oscilação do patrimônio dos ativos comprados no novo aporte\n",
        "  novos_PL = precos*qtd_acoes_nova_compra\n",
        "\n",
        "  novos_PL = novos_PL.fillna(0)\n",
        "\n",
        "  # Configura como zero os valores dos ativos antes do segundo aporte\n",
        "  # Ou seja: os papéis do segundo aporte na prática não existiam, portanto\n",
        "  # precisam ser configurados como zero. Lembrando que o patrimônio da carteira \n",
        "  # inicial está descrito pelo data frame \"carteira_anterior\".\n",
        "  novos_PL[novos_PL.index < data_aporte] = 0\n",
        "\n",
        "  # Carteira original + novo aporte\n",
        "  carteira_full = pd.concat([carteira_anterior, novos_PL], axis = 1)\n",
        "\n",
        "  # Somando colunas de mesmo nome, para agrupar os patrimônios antes e depois do aporte\n",
        "  carteira_full = carteira_full.groupby(lambda x:x, axis=1).sum()\n",
        "\n",
        "  # Rentabilidade antes e depois do aporte\n",
        "  antes_aporte = carteira_full[carteira_full.index<data_aporte]\n",
        "  depois_aporte = carteira_full[carteira_full.index>=data_aporte]\n",
        "\n",
        "  # Variação de patrimônio antes e depois do aporte\n",
        "  antes_aporte['PL Total'] = antes_aporte.sum(axis = 1)\n",
        "  depois_aporte['PL Total'] = depois_aporte.sum(axis = 1)\n",
        "\n",
        "  # Encontrando o dia imediatamente antes do aporte\n",
        "  dia_antes_aporte = (datetime.strptime(data_aporte, '%Y-%m-%d')- timedelta(1)).strftime('%Y-%m-%d')\n",
        "\n",
        "  # Configurando momento logo após o aporte\n",
        "  # A ideia é que a rentabilidade do dia do aporte seja calculada com relação à posição logo antes do aporte\n",
        "  # somada dos valores aportados. Perceba que isto é diferente de calcular a rentabilidade com relação à posição \n",
        "  # do dia anterior ao aporte. Isto geraria uma distorção considerável no cálculo de rentabilidade.\n",
        "  posicao_original = pd.DataFrame(antes_aporte.loc[dia_antes_aporte]).T\n",
        "\n",
        "  aportes = (pd.DataFrame(nova_compra_df,columns = [dia_antes_aporte])).T.apply(pd.to_numeric)\n",
        "  aportes.index =  pd.to_datetime(aportes.index)\n",
        "\n",
        "  # Posição logo antes do aporte\n",
        "  operations = pd.concat([posicao_original,aportes], axis = 1)\n",
        "  operations = operations.groupby(lambda x:x, axis=1).sum()\n",
        "  operations.drop(['PL Total'], axis=1, inplace=True)\n",
        "  operations['PL Total'] = operations.iloc[:].sum(axis = 1)\n",
        "\n",
        "  # Agora sim, vamos juntar a linha contendo a operação de aporte com o data frame da carteira após o aporte\n",
        "  depois_aporte = pd.concat([operations, depois_aporte], axis = 0)\n",
        "\n",
        "  # Retorno diário da carteira antes e depois do aporte\n",
        "  rentabilidade_antes_aporte = antes_aporte.pct_change()\n",
        "  rentabilidade_depois_aporte = depois_aporte.pct_change()\n",
        "\n",
        "  rentabilidade_antes_aporte = rentabilidade_antes_aporte.dropna()\n",
        "  rentabilidade_depois_aporte = rentabilidade_depois_aporte.dropna()\n",
        "\n",
        "  # Juntando tudo num data frame só\n",
        "  rentabilidade_total = pd.concat([rentabilidade_antes_aporte, rentabilidade_depois_aporte], axis = 0)\n",
        "\n",
        "  # Calculando a rentabilidade acumulada e fazendo alguns ajustes\n",
        "  cum_daily_return = (1 + rentabilidade_total).cumprod()\n",
        "  cum_daily_return['Date'] = pd.to_datetime(cum_daily_return.index)\n",
        "  cum_daily_return.index = cum_daily_return['Date']\n",
        "  cum_daily_return.drop(['Date'], axis = 1, inplace = True)\n",
        "\n",
        "  return cum_daily_return;"
      ],
      "metadata": {
        "id": "49jtxTkv0n0N"
      },
      "execution_count": 111,
      "outputs": []
    },
    {
      "cell_type": "code",
      "source": [
        "novos_aportes = {'VALE3.SA' : 1000000, 'AAPL34.SA' : 200000}"
      ],
      "metadata": {
        "id": "E_TIbHi2Jz40"
      },
      "execution_count": 114,
      "outputs": []
    },
    {
      "cell_type": "code",
      "source": [
        "PL.head()"
      ],
      "metadata": {
        "colab": {
          "base_uri": "https://localhost:8080/",
          "height": 237
        },
        "id": "6XkGiJ5LKRHy",
        "outputId": "8ee7116d-72d6-4bb6-e1d9-163f1f8a06dc"
      },
      "execution_count": 115,
      "outputs": [
        {
          "output_type": "execute_result",
          "data": {
            "text/plain": [
              "              AAPL34.SA   IVVB11.SA     OIBR3.SA     PETR4.SA     RADL3.SA  \\\n",
              "Date                                                                         \n",
              "2020-05-04  1100.000000  900.000000  1500.000000  2500.000000  1700.000000   \n",
              "2020-05-05  1132.653031  916.170259  1544.117605  2580.552703  1692.683606   \n",
              "2020-05-06  1175.442177  928.989346  1544.117605  2485.615938  1683.090923   \n",
              "2020-05-07  1210.000116  973.404273  1477.941198  2508.630876  1685.854897   \n",
              "2020-05-08  1221.059801  961.436188  1522.058802  2658.228053  1701.951059   \n",
              "\n",
              "               VALE3.SA     WEGE3.SA      PL Total  \n",
              "Date                                                \n",
              "2020-05-04  2300.000000  2000.000000  12000.000000  \n",
              "2020-05-05  2287.958586  1958.333240  12112.469028  \n",
              "2020-05-06  2320.942650  1949.297353  12087.495991  \n",
              "2020-05-07  2410.995130  1962.349037  12229.175526  \n",
              "2020-05-08  2557.591901  1919.678768  12542.004572  "
            ],
            "text/html": [
              "\n",
              "  <div id=\"df-4d3a4bcc-7531-4331-b1f4-3e0958cc21fa\">\n",
              "    <div class=\"colab-df-container\">\n",
              "      <div>\n",
              "<style scoped>\n",
              "    .dataframe tbody tr th:only-of-type {\n",
              "        vertical-align: middle;\n",
              "    }\n",
              "\n",
              "    .dataframe tbody tr th {\n",
              "        vertical-align: top;\n",
              "    }\n",
              "\n",
              "    .dataframe thead th {\n",
              "        text-align: right;\n",
              "    }\n",
              "</style>\n",
              "<table border=\"1\" class=\"dataframe\">\n",
              "  <thead>\n",
              "    <tr style=\"text-align: right;\">\n",
              "      <th></th>\n",
              "      <th>AAPL34.SA</th>\n",
              "      <th>IVVB11.SA</th>\n",
              "      <th>OIBR3.SA</th>\n",
              "      <th>PETR4.SA</th>\n",
              "      <th>RADL3.SA</th>\n",
              "      <th>VALE3.SA</th>\n",
              "      <th>WEGE3.SA</th>\n",
              "      <th>PL Total</th>\n",
              "    </tr>\n",
              "    <tr>\n",
              "      <th>Date</th>\n",
              "      <th></th>\n",
              "      <th></th>\n",
              "      <th></th>\n",
              "      <th></th>\n",
              "      <th></th>\n",
              "      <th></th>\n",
              "      <th></th>\n",
              "      <th></th>\n",
              "    </tr>\n",
              "  </thead>\n",
              "  <tbody>\n",
              "    <tr>\n",
              "      <th>2020-05-04</th>\n",
              "      <td>1100.000000</td>\n",
              "      <td>900.000000</td>\n",
              "      <td>1500.000000</td>\n",
              "      <td>2500.000000</td>\n",
              "      <td>1700.000000</td>\n",
              "      <td>2300.000000</td>\n",
              "      <td>2000.000000</td>\n",
              "      <td>12000.000000</td>\n",
              "    </tr>\n",
              "    <tr>\n",
              "      <th>2020-05-05</th>\n",
              "      <td>1132.653031</td>\n",
              "      <td>916.170259</td>\n",
              "      <td>1544.117605</td>\n",
              "      <td>2580.552703</td>\n",
              "      <td>1692.683606</td>\n",
              "      <td>2287.958586</td>\n",
              "      <td>1958.333240</td>\n",
              "      <td>12112.469028</td>\n",
              "    </tr>\n",
              "    <tr>\n",
              "      <th>2020-05-06</th>\n",
              "      <td>1175.442177</td>\n",
              "      <td>928.989346</td>\n",
              "      <td>1544.117605</td>\n",
              "      <td>2485.615938</td>\n",
              "      <td>1683.090923</td>\n",
              "      <td>2320.942650</td>\n",
              "      <td>1949.297353</td>\n",
              "      <td>12087.495991</td>\n",
              "    </tr>\n",
              "    <tr>\n",
              "      <th>2020-05-07</th>\n",
              "      <td>1210.000116</td>\n",
              "      <td>973.404273</td>\n",
              "      <td>1477.941198</td>\n",
              "      <td>2508.630876</td>\n",
              "      <td>1685.854897</td>\n",
              "      <td>2410.995130</td>\n",
              "      <td>1962.349037</td>\n",
              "      <td>12229.175526</td>\n",
              "    </tr>\n",
              "    <tr>\n",
              "      <th>2020-05-08</th>\n",
              "      <td>1221.059801</td>\n",
              "      <td>961.436188</td>\n",
              "      <td>1522.058802</td>\n",
              "      <td>2658.228053</td>\n",
              "      <td>1701.951059</td>\n",
              "      <td>2557.591901</td>\n",
              "      <td>1919.678768</td>\n",
              "      <td>12542.004572</td>\n",
              "    </tr>\n",
              "  </tbody>\n",
              "</table>\n",
              "</div>\n",
              "      <button class=\"colab-df-convert\" onclick=\"convertToInteractive('df-4d3a4bcc-7531-4331-b1f4-3e0958cc21fa')\"\n",
              "              title=\"Convert this dataframe to an interactive table.\"\n",
              "              style=\"display:none;\">\n",
              "        \n",
              "  <svg xmlns=\"http://www.w3.org/2000/svg\" height=\"24px\"viewBox=\"0 0 24 24\"\n",
              "       width=\"24px\">\n",
              "    <path d=\"M0 0h24v24H0V0z\" fill=\"none\"/>\n",
              "    <path d=\"M18.56 5.44l.94 2.06.94-2.06 2.06-.94-2.06-.94-.94-2.06-.94 2.06-2.06.94zm-11 1L8.5 8.5l.94-2.06 2.06-.94-2.06-.94L8.5 2.5l-.94 2.06-2.06.94zm10 10l.94 2.06.94-2.06 2.06-.94-2.06-.94-.94-2.06-.94 2.06-2.06.94z\"/><path d=\"M17.41 7.96l-1.37-1.37c-.4-.4-.92-.59-1.43-.59-.52 0-1.04.2-1.43.59L10.3 9.45l-7.72 7.72c-.78.78-.78 2.05 0 2.83L4 21.41c.39.39.9.59 1.41.59.51 0 1.02-.2 1.41-.59l7.78-7.78 2.81-2.81c.8-.78.8-2.07 0-2.86zM5.41 20L4 18.59l7.72-7.72 1.47 1.35L5.41 20z\"/>\n",
              "  </svg>\n",
              "      </button>\n",
              "      \n",
              "  <style>\n",
              "    .colab-df-container {\n",
              "      display:flex;\n",
              "      flex-wrap:wrap;\n",
              "      gap: 12px;\n",
              "    }\n",
              "\n",
              "    .colab-df-convert {\n",
              "      background-color: #E8F0FE;\n",
              "      border: none;\n",
              "      border-radius: 50%;\n",
              "      cursor: pointer;\n",
              "      display: none;\n",
              "      fill: #1967D2;\n",
              "      height: 32px;\n",
              "      padding: 0 0 0 0;\n",
              "      width: 32px;\n",
              "    }\n",
              "\n",
              "    .colab-df-convert:hover {\n",
              "      background-color: #E2EBFA;\n",
              "      box-shadow: 0px 1px 2px rgba(60, 64, 67, 0.3), 0px 1px 3px 1px rgba(60, 64, 67, 0.15);\n",
              "      fill: #174EA6;\n",
              "    }\n",
              "\n",
              "    [theme=dark] .colab-df-convert {\n",
              "      background-color: #3B4455;\n",
              "      fill: #D2E3FC;\n",
              "    }\n",
              "\n",
              "    [theme=dark] .colab-df-convert:hover {\n",
              "      background-color: #434B5C;\n",
              "      box-shadow: 0px 1px 3px 1px rgba(0, 0, 0, 0.15);\n",
              "      filter: drop-shadow(0px 1px 2px rgba(0, 0, 0, 0.3));\n",
              "      fill: #FFFFFF;\n",
              "    }\n",
              "  </style>\n",
              "\n",
              "      <script>\n",
              "        const buttonEl =\n",
              "          document.querySelector('#df-4d3a4bcc-7531-4331-b1f4-3e0958cc21fa button.colab-df-convert');\n",
              "        buttonEl.style.display =\n",
              "          google.colab.kernel.accessAllowed ? 'block' : 'none';\n",
              "\n",
              "        async function convertToInteractive(key) {\n",
              "          const element = document.querySelector('#df-4d3a4bcc-7531-4331-b1f4-3e0958cc21fa');\n",
              "          const dataTable =\n",
              "            await google.colab.kernel.invokeFunction('convertToInteractive',\n",
              "                                                     [key], {});\n",
              "          if (!dataTable) return;\n",
              "\n",
              "          const docLinkHtml = 'Like what you see? Visit the ' +\n",
              "            '<a target=\"_blank\" href=https://colab.research.google.com/notebooks/data_table.ipynb>data table notebook</a>'\n",
              "            + ' to learn more about interactive tables.';\n",
              "          element.innerHTML = '';\n",
              "          dataTable['output_type'] = 'display_data';\n",
              "          await google.colab.output.renderOutput(dataTable, element);\n",
              "          const docLink = document.createElement('div');\n",
              "          docLink.innerHTML = docLinkHtml;\n",
              "          element.appendChild(docLink);\n",
              "        }\n",
              "      </script>\n",
              "    </div>\n",
              "  </div>\n",
              "  "
            ]
          },
          "metadata": {},
          "execution_count": 115
        }
      ]
    },
    {
      "cell_type": "code",
      "source": [
        "PL.drop('PL Total', axis = 1, inplace = True)"
      ],
      "metadata": {
        "id": "nwDedvWvKVdL"
      },
      "execution_count": 116,
      "outputs": []
    },
    {
      "cell_type": "code",
      "source": [
        "aporte_vale_apple = configuraaportes(data_aporte, novos_aportes, precos, PL)"
      ],
      "metadata": {
        "colab": {
          "base_uri": "https://localhost:8080/"
        },
        "id": "mXYH0vodJh8k",
        "outputId": "260c4853-45fb-480c-d260-0ee96b40b5eb"
      },
      "execution_count": 117,
      "outputs": [
        {
          "output_type": "stream",
          "name": "stderr",
          "text": [
            "/usr/local/lib/python3.7/dist-packages/ipykernel_launcher.py:37: SettingWithCopyWarning: \n",
            "A value is trying to be set on a copy of a slice from a DataFrame.\n",
            "Try using .loc[row_indexer,col_indexer] = value instead\n",
            "\n",
            "See the caveats in the documentation: https://pandas.pydata.org/pandas-docs/stable/user_guide/indexing.html#returning-a-view-versus-a-copy\n",
            "/usr/local/lib/python3.7/dist-packages/ipykernel_launcher.py:38: SettingWithCopyWarning: \n",
            "A value is trying to be set on a copy of a slice from a DataFrame.\n",
            "Try using .loc[row_indexer,col_indexer] = value instead\n",
            "\n",
            "See the caveats in the documentation: https://pandas.pydata.org/pandas-docs/stable/user_guide/indexing.html#returning-a-view-versus-a-copy\n"
          ]
        }
      ]
    },
    {
      "cell_type": "code",
      "source": [
        "comparaacao('VALE3', inicio, fim, 'VALE3')"
      ],
      "metadata": {
        "colab": {
          "base_uri": "https://localhost:8080/",
          "height": 392
        },
        "id": "wFOVArnPLRU-",
        "outputId": "361f1760-4205-4b7e-c45e-7ec02e629028"
      },
      "execution_count": 122,
      "outputs": [
        {
          "output_type": "stream",
          "name": "stdout",
          "text": [
            "\r[*********************100%***********************]  1 of 1 completed\n"
          ]
        },
        {
          "output_type": "display_data",
          "data": {
            "text/plain": [
              "<Figure size 576x432 with 1 Axes>"
            ],
            "image/png": "[encoded data removed]"
          },
          "metadata": {
            "needs_background": "light"
          }
        }
      ]
    },
    {
      "cell_type": "code",
      "source": [
        "comparaibov(inicio, fim, aporte_vale_apple, 8, 6, 'Novo aporte em Vale e Apple')"
      ],
      "metadata": {
        "colab": {
          "base_uri": "https://localhost:8080/",
          "height": 375
        },
        "id": "ZBc31B8yMMKt",
        "outputId": "f32317f9-1c4c-4687-da9b-d794b8ae09d8"
      },
      "execution_count": 128,
      "outputs": [
        {
          "output_type": "display_data",
          "data": {
            "text/plain": [
              "<Figure size 576x432 with 1 Axes>"
            ],
            "image/png": "[encoded data removed]"
          },
          "metadata": {
            "needs_background": "light"
          }
        }
      ]
    },
    {
      "cell_type": "code",
      "source": [
        "PL['PL Total'] = PL.sum(axis = 1)\n",
        "comparaibov(inicio, fim, PL, 8, 6, 'Carteira com apenas um aporte')"
      ],
      "metadata": {
        "colab": {
          "base_uri": "https://localhost:8080/",
          "height": 375
        },
        "id": "dejrtIThKuU6",
        "outputId": "b90f8941-4a45-4c7b-f006-3591a7ef41c4"
      },
      "execution_count": 120,
      "outputs": [
        {
          "output_type": "display_data",
          "data": {
            "text/plain": [
              "<Figure size 576x432 with 1 Axes>"
            ],
            "image/png": "[encoded data removed]"
          },
          "metadata": {
            "needs_background": "light"
          }
        }
      ]
    },
    {
      "cell_type": "markdown",
      "source": [
        "Compara algum papel ao IBOV"
      ],
      "metadata": {
        "id": "hWlN6PYrK08T"
      }
    },
    {
      "cell_type": "code",
      "source": [
        "# Compara ação com o IBOV\n",
        "\n",
        "def comparaacao(papel, i, f, nome):\n",
        "  ativo = papel + '.SA'\n",
        "  data = yf.download(ativo, start = i, end = f)\n",
        "  data.rename(columns = {'Adj Close':'PL Total'}, inplace = True)\n",
        "  return comparaibov(inicio, fim, data,8,6,nome);"
      ],
      "metadata": {
        "id": "IRJusAbSLMvM"
      },
      "execution_count": 121,
      "outputs": []
    },
    {
      "cell_type": "code",
      "source": [
        ""
      ],
      "metadata": {
        "id": "lS0Bax_SLU0M"
      },
      "execution_count": null,
      "outputs": []
    }
  ]
}