{
 "cells": [
  {
   "cell_type": "markdown",
   "metadata": {},
   "source": [
    "### Live Trading com Dados\n",
    "\n",
    "# Obtenção de dados financeiros com o Python\n",
    "Parte 02\n",
    "\n",
    "16/12/2021\n",
    "\n",
    "Neste trecho, mostramos como trabalhar com as bibliotecas pandas_datareader e MetaTrader5 para a obtenção de dados financeiros.\n",
    "Se você está buscando o código que contém as bibliotecas Quandl, investpy e yfinance (Parte 01), clique aqui: https://github.com/Trading-com-Dados/codigos_videos/blob/main/20211216_Live_Obten%C3%A7%C3%A3o_de_dados_financeiros_Parte_01.ipynb"
   ]
  },
  {
   "cell_type": "markdown",
   "metadata": {},
   "source": [
    "## 1. pandas_datareader"
   ]
  },
  {
   "cell_type": "markdown",
   "metadata": {},
   "source": [
    "Instalação da versão mais atualizada"
   ]
  },
  {
   "cell_type": "code",
   "execution_count": 8,
   "metadata": {},
   "outputs": [
    {
     "name": "stdout",
     "output_type": "stream",
     "text": [
      "Requirement already up-to-date: pandas_datareader in c:\\programdata\\anaconda3\\lib\\site-packages (0.10.0)\n",
      "Requirement already satisfied, skipping upgrade: pandas>=0.23 in c:\\programdata\\anaconda3\\lib\\site-packages (from pandas_datareader) (1.1.3)\n",
      "Requirement already satisfied, skipping upgrade: requests>=2.19.0 in c:\\programdata\\anaconda3\\lib\\site-packages (from pandas_datareader) (2.24.0)\n",
      "Requirement already satisfied, skipping upgrade: lxml in c:\\programdata\\anaconda3\\lib\\site-packages (from pandas_datareader) (4.6.1)\n",
      "Requirement already satisfied, skipping upgrade: python-dateutil>=2.7.3 in c:\\programdata\\anaconda3\\lib\\site-packages (from pandas>=0.23->pandas_datareader) (2.8.1)\n",
      "Requirement already satisfied, skipping upgrade: pytz>=2017.2 in c:\\programdata\\anaconda3\\lib\\site-packages (from pandas>=0.23->pandas_datareader) (2020.1)\n",
      "Requirement already satisfied, skipping upgrade: numpy>=1.15.4 in c:\\programdata\\anaconda3\\lib\\site-packages (from pandas>=0.23->pandas_datareader) (1.19.2)\n",
      "Requirement already satisfied, skipping upgrade: urllib3!=1.25.0,!=1.25.1,<1.26,>=1.21.1 in c:\\programdata\\anaconda3\\lib\\site-packages (from requests>=2.19.0->pandas_datareader) (1.25.11)\n",
      "Requirement already satisfied, skipping upgrade: certifi>=2017.4.17 in c:\\programdata\\anaconda3\\lib\\site-packages (from requests>=2.19.0->pandas_datareader) (2020.6.20)\n",
      "Requirement already satisfied, skipping upgrade: chardet<4,>=3.0.2 in c:\\programdata\\anaconda3\\lib\\site-packages (from requests>=2.19.0->pandas_datareader) (3.0.4)\n",
      "Requirement already satisfied, skipping upgrade: idna<3,>=2.5 in c:\\programdata\\anaconda3\\lib\\site-packages (from requests>=2.19.0->pandas_datareader) (2.10)\n",
      "Requirement already satisfied, skipping upgrade: six>=1.5 in c:\\programdata\\anaconda3\\lib\\site-packages (from python-dateutil>=2.7.3->pandas>=0.23->pandas_datareader) (1.15.0)\n"
     ]
    }
   ],
   "source": [
    "!pip install -U pandas_datareader"
   ]
  },
  {
   "cell_type": "code",
   "execution_count": 9,
   "metadata": {},
   "outputs": [],
   "source": [
    "import pandas_datareader as pdr"
   ]
  },
  {
   "cell_type": "code",
   "execution_count": 14,
   "metadata": {},
   "outputs": [],
   "source": [
    "mglu = pdr.data.DataReader('MGLU3.SA', 'yahoo', start = '2020-01-01')"
   ]
  },
  {
   "cell_type": "code",
   "execution_count": 15,
   "metadata": {},
   "outputs": [
    {
     "data": {
      "text/html": [
       "<div>\n",
       "<style scoped>\n",
       "    .dataframe tbody tr th:only-of-type {\n",
       "        vertical-align: middle;\n",
       "    }\n",
       "\n",
       "    .dataframe tbody tr th {\n",
       "        vertical-align: top;\n",
       "    }\n",
       "\n",
       "    .dataframe thead th {\n",
       "        text-align: right;\n",
       "    }\n",
       "</style>\n",
       "<table border=\"1\" class=\"dataframe\">\n",
       "  <thead>\n",
       "    <tr style=\"text-align: right;\">\n",
       "      <th></th>\n",
       "      <th>High</th>\n",
       "      <th>Low</th>\n",
       "      <th>Open</th>\n",
       "      <th>Close</th>\n",
       "      <th>Volume</th>\n",
       "      <th>Adj Close</th>\n",
       "    </tr>\n",
       "    <tr>\n",
       "      <th>Date</th>\n",
       "      <th></th>\n",
       "      <th></th>\n",
       "      <th></th>\n",
       "      <th></th>\n",
       "      <th></th>\n",
       "      <th></th>\n",
       "    </tr>\n",
       "  </thead>\n",
       "  <tbody>\n",
       "    <tr>\n",
       "      <th>2020-01-02</th>\n",
       "      <td>12.3325</td>\n",
       "      <td>11.9275</td>\n",
       "      <td>12.075</td>\n",
       "      <td>12.3325</td>\n",
       "      <td>29600800.0</td>\n",
       "      <td>12.029736</td>\n",
       "    </tr>\n",
       "    <tr>\n",
       "      <th>2020-01-03</th>\n",
       "      <td>12.3325</td>\n",
       "      <td>12.0750</td>\n",
       "      <td>12.125</td>\n",
       "      <td>12.2225</td>\n",
       "      <td>26737600.0</td>\n",
       "      <td>11.922436</td>\n",
       "    </tr>\n",
       "    <tr>\n",
       "      <th>2020-01-06</th>\n",
       "      <td>12.3275</td>\n",
       "      <td>11.9500</td>\n",
       "      <td>12.100</td>\n",
       "      <td>12.2325</td>\n",
       "      <td>27359200.0</td>\n",
       "      <td>11.932189</td>\n",
       "    </tr>\n",
       "    <tr>\n",
       "      <th>2020-01-07</th>\n",
       "      <td>12.3000</td>\n",
       "      <td>12.1250</td>\n",
       "      <td>12.235</td>\n",
       "      <td>12.1975</td>\n",
       "      <td>26818800.0</td>\n",
       "      <td>11.898048</td>\n",
       "    </tr>\n",
       "    <tr>\n",
       "      <th>2020-01-08</th>\n",
       "      <td>12.5875</td>\n",
       "      <td>12.1250</td>\n",
       "      <td>12.155</td>\n",
       "      <td>12.5725</td>\n",
       "      <td>40007200.0</td>\n",
       "      <td>12.263844</td>\n",
       "    </tr>\n",
       "  </tbody>\n",
       "</table>\n",
       "</div>"
      ],
      "text/plain": [
       "               High      Low    Open    Close      Volume  Adj Close\n",
       "Date                                                                \n",
       "2020-01-02  12.3325  11.9275  12.075  12.3325  29600800.0  12.029736\n",
       "2020-01-03  12.3325  12.0750  12.125  12.2225  26737600.0  11.922436\n",
       "2020-01-06  12.3275  11.9500  12.100  12.2325  27359200.0  11.932189\n",
       "2020-01-07  12.3000  12.1250  12.235  12.1975  26818800.0  11.898048\n",
       "2020-01-08  12.5875  12.1250  12.155  12.5725  40007200.0  12.263844"
      ]
     },
     "execution_count": 15,
     "metadata": {},
     "output_type": "execute_result"
    }
   ],
   "source": [
    "mglu.head()"
   ]
  },
  {
   "cell_type": "code",
   "execution_count": 16,
   "metadata": {},
   "outputs": [
    {
     "data": {
      "text/plain": [
       "<AxesSubplot:xlabel='Date'>"
      ]
     },
     "execution_count": 16,
     "metadata": {},
     "output_type": "execute_result"
    },
    {
     "data": {
      "image/png": "[encoded data removed]",
      "text/plain": [
       "<Figure size 432x288 with 1 Axes>"
      ]
     },
     "metadata": {
      "needs_background": "light"
     },
     "output_type": "display_data"
    }
   ],
   "source": [
    "mglu.Close.plot()"
   ]
  },
  {
   "cell_type": "code",
   "execution_count": 18,
   "metadata": {},
   "outputs": [],
   "source": [
    "mglu_actions = pdr.data.DataReader('MGLU3.SA', 'yahoo-actions', start = '2020-01-01')"
   ]
  },
  {
   "cell_type": "code",
   "execution_count": 19,
   "metadata": {},
   "outputs": [
    {
     "data": {
      "text/html": [
       "<div>\n",
       "<style scoped>\n",
       "    .dataframe tbody tr th:only-of-type {\n",
       "        vertical-align: middle;\n",
       "    }\n",
       "\n",
       "    .dataframe tbody tr th {\n",
       "        vertical-align: top;\n",
       "    }\n",
       "\n",
       "    .dataframe thead th {\n",
       "        text-align: right;\n",
       "    }\n",
       "</style>\n",
       "<table border=\"1\" class=\"dataframe\">\n",
       "  <thead>\n",
       "    <tr style=\"text-align: right;\">\n",
       "      <th></th>\n",
       "      <th>action</th>\n",
       "      <th>value</th>\n",
       "    </tr>\n",
       "  </thead>\n",
       "  <tbody>\n",
       "    <tr>\n",
       "      <th>2021-07-06</th>\n",
       "      <td>DIVIDEND</td>\n",
       "      <td>0.015494</td>\n",
       "    </tr>\n",
       "    <tr>\n",
       "      <th>2020-12-30</th>\n",
       "      <td>DIVIDEND</td>\n",
       "      <td>0.026301</td>\n",
       "    </tr>\n",
       "    <tr>\n",
       "      <th>2020-10-14</th>\n",
       "      <td>SPLIT</td>\n",
       "      <td>0.250000</td>\n",
       "    </tr>\n",
       "    <tr>\n",
       "      <th>2020-08-03</th>\n",
       "      <td>DIVIDEND</td>\n",
       "      <td>0.094176</td>\n",
       "    </tr>\n",
       "    <tr>\n",
       "      <th>2020-07-31</th>\n",
       "      <td>DIVIDEND</td>\n",
       "      <td>0.023541</td>\n",
       "    </tr>\n",
       "    <tr>\n",
       "      <th>2020-04-14</th>\n",
       "      <td>DIVIDEND</td>\n",
       "      <td>0.179508</td>\n",
       "    </tr>\n",
       "    <tr>\n",
       "      <th>2020-01-02</th>\n",
       "      <td>DIVIDEND</td>\n",
       "      <td>0.008947</td>\n",
       "    </tr>\n",
       "  </tbody>\n",
       "</table>\n",
       "</div>"
      ],
      "text/plain": [
       "              action     value\n",
       "2021-07-06  DIVIDEND  0.015494\n",
       "2020-12-30  DIVIDEND  0.026301\n",
       "2020-10-14     SPLIT  0.250000\n",
       "2020-08-03  DIVIDEND  0.094176\n",
       "2020-07-31  DIVIDEND  0.023541\n",
       "2020-04-14  DIVIDEND  0.179508\n",
       "2020-01-02  DIVIDEND  0.008947"
      ]
     },
     "execution_count": 19,
     "metadata": {},
     "output_type": "execute_result"
    }
   ],
   "source": [
    "mglu_actions"
   ]
  },
  {
   "cell_type": "markdown",
   "metadata": {},
   "source": [
    "## 2. MetaTrader5"
   ]
  },
  {
   "cell_type": "code",
   "execution_count": 1,
   "metadata": {},
   "outputs": [
    {
     "name": "stdout",
     "output_type": "stream",
     "text": [
      "Requirement already satisfied: MetaTrader5 in c:\\programdata\\anaconda3\\lib\\site-packages (5.0.34)\n",
      "Requirement already satisfied: numpy>=1.7 in c:\\programdata\\anaconda3\\lib\\site-packages (from MetaTrader5) (1.19.2)\n"
     ]
    }
   ],
   "source": [
    "!pip install MetaTrader5"
   ]
  },
  {
   "cell_type": "code",
   "execution_count": 1,
   "metadata": {},
   "outputs": [],
   "source": [
    "import numpy as np\n",
    "import pandas as pd\n",
    "from datetime import datetime\n",
    "import pytz\n",
    "import MetaTrader5 as mt5"
   ]
  },
  {
   "cell_type": "code",
   "execution_count": 20,
   "metadata": {},
   "outputs": [
    {
     "data": {
      "text/plain": [
       "True"
      ]
     },
     "execution_count": 20,
     "metadata": {},
     "output_type": "execute_result"
    }
   ],
   "source": [
    "mt5.initialize()"
   ]
  },
  {
   "cell_type": "markdown",
   "metadata": {},
   "source": [
    "### 2.1. Explorando dados de mercado financeiro"
   ]
  },
  {
   "cell_type": "markdown",
   "metadata": {},
   "source": [
    "Quantos ativos financeiros existem"
   ]
  },
  {
   "cell_type": "code",
   "execution_count": 21,
   "metadata": {},
   "outputs": [
    {
     "data": {
      "text/plain": [
       "24500"
      ]
     },
     "execution_count": 21,
     "metadata": {},
     "output_type": "execute_result"
    }
   ],
   "source": [
    "mt5.symbols_total()"
   ]
  },
  {
   "cell_type": "markdown",
   "metadata": {},
   "source": [
    "Que ativos são esses?"
   ]
  },
  {
   "cell_type": "code",
   "execution_count": null,
   "metadata": {},
   "outputs": [],
   "source": [
    "mt5.symbols_get()"
   ]
  },
  {
   "cell_type": "code",
   "execution_count": null,
   "metadata": {},
   "outputs": [],
   "source": [
    "mt5.symbols_get('WEGE')"
   ]
  },
  {
   "cell_type": "code",
   "execution_count": 7,
   "metadata": {},
   "outputs": [],
   "source": [
    "opcao_weg = mt5.symbols_get('WEGE')[0]._asdict()"
   ]
  },
  {
   "cell_type": "code",
   "execution_count": 8,
   "metadata": {},
   "outputs": [
    {
     "data": {
      "text/plain": [
       "9621"
      ]
     },
     "execution_count": 8,
     "metadata": {},
     "output_type": "execute_result"
    }
   ],
   "source": [
    "opcao_weg['session_deals']"
   ]
  },
  {
   "cell_type": "code",
   "execution_count": 9,
   "metadata": {},
   "outputs": [
    {
     "data": {
      "text/plain": [
       "SymbolInfo(custom=False, chart_mode=1, select=True, visible=True, session_deals=9630, session_buy_orders=0, session_sell_orders=0, volume=1600, volumehigh=18000, volumelow=100, time=1639662714, digits=2, spread=1, spread_float=True, ticks_bookdepth=32, trade_calc_mode=32, trade_mode=4, start_time=0, expiration_time=0, trade_stops_level=0, trade_freeze_level=0, trade_exemode=3, swap_mode=0, swap_rollover3days=3, margin_hedged_use_leg=False, expiration_mode=2, filling_mode=3, order_mode=127, order_gtc_mode=0, option_mode=0, option_right=0, bid=35.63, bidhigh=36.27, bidlow=35.43, ask=35.64, askhigh=36.3, asklow=35.45, last=35.63, lasthigh=36.29, lastlow=35.43, volume_real=1600.0, volumehigh_real=18000.0, volumelow_real=100.0, option_strike=0.0, point=0.01, trade_tick_value=0.01, trade_tick_value_profit=0.01, trade_tick_value_loss=0.01, trade_tick_size=0.01, trade_contract_size=1.0, trade_accrued_interest=0.0, trade_face_value=0.0, trade_liquidity_rate=0.0, volume_min=100.0, volume_max=41973180.0, volume_step=100.0, volume_limit=0.0, swap_long=0.0, swap_short=0.0, margin_initial=0.0, margin_maintenance=0.0, session_volume=2568800.0, session_turnover=0.0, session_interest=0.0, session_buy_orders_volume=0.0, session_sell_orders_volume=0.0, session_open=35.92, session_close=35.61, session_aw=35.84, session_price_settlement=0.0, session_price_limit_min=0.0, session_price_limit_max=0.0, margin_hedged=0.0, price_change=0.0562, price_volatility=0.0, price_theoretical=0.0, price_greeks_delta=0.0, price_greeks_theta=0.0, price_greeks_gamma=0.0, price_greeks_vega=0.0, price_greeks_rho=0.0, price_greeks_omega=0.0, price_sensitivity=0.0, basis='', category='', currency_base='BRL', currency_profit='BRL', currency_margin='BRL', bank='', description='WEG         ON      NM', exchange='', formula='', isin='BRWEGEACNOR0', name='WEGE3', page='', path='BOVESPA\\\\A VISTA\\\\WEGE3')"
      ]
     },
     "execution_count": 9,
     "metadata": {},
     "output_type": "execute_result"
    }
   ],
   "source": [
    "mt5.symbol_info('WEGE3')"
   ]
  },
  {
   "cell_type": "code",
   "execution_count": 10,
   "metadata": {},
   "outputs": [
    {
     "data": {
      "text/plain": [
       "Tick(time=1639662720, bid=35.63, ask=35.64, last=35.63, volume=1600, time_msc=1639662720064, flags=2, volume_real=1600.0)"
      ]
     },
     "execution_count": 10,
     "metadata": {},
     "output_type": "execute_result"
    }
   ],
   "source": [
    "mt5.symbol_info_tick('WEGE3')"
   ]
  },
  {
   "cell_type": "code",
   "execution_count": 12,
   "metadata": {},
   "outputs": [
    {
     "data": {
      "text/plain": [
       "Tick(time=1639662729, bid=35.63, ask=35.64, last=35.63, volume=100, time_msc=1639662729932, flags=0, volume_real=100.0)"
      ]
     },
     "execution_count": 12,
     "metadata": {},
     "output_type": "execute_result"
    }
   ],
   "source": [
    "mt5.symbol_info_tick('WEGE3')"
   ]
  },
  {
   "cell_type": "markdown",
   "metadata": {},
   "source": [
    "#### Código para exibição das negociações do mini-índice em tempo real (delay de 0,5 segundos)"
   ]
  },
  {
   "cell_type": "code",
   "execution_count": 13,
   "metadata": {},
   "outputs": [
    {
     "name": "stdout",
     "output_type": "stream",
     "text": [
      "Tick(time=1639662772, bid=109775.0, ask=109780.0, last=109780.0, volume=3, time_msc=1639662772863, flags=0, volume_real=3.0)\n",
      "Tick(time=1639662773, bid=109775.0, ask=109780.0, last=109775.0, volume=6, time_msc=1639662773329, flags=0, volume_real=6.0)\n",
      "Tick(time=1639662773, bid=109770.0, ask=109780.0, last=109770.0, volume=2, time_msc=1639662773905, flags=0, volume_real=2.0)\n",
      "Tick(time=1639662774, bid=109770.0, ask=109775.0, last=109770.0, volume=20, time_msc=1639662774415, flags=0, volume_real=20.0)\n",
      "Tick(time=1639662774, bid=109775.0, ask=109780.0, last=109775.0, volume=2, time_msc=1639662774887, flags=0, volume_real=2.0)\n",
      "Tick(time=1639662775, bid=109770.0, ask=109775.0, last=109775.0, volume=1, time_msc=1639662775422, flags=0, volume_real=1.0)\n",
      "Tick(time=1639662775, bid=109770.0, ask=109775.0, last=109780.0, volume=1, time_msc=1639662775903, flags=0, volume_real=1.0)\n",
      "Tick(time=1639662776, bid=109775.0, ask=109780.0, last=109775.0, volume=10, time_msc=1639662776400, flags=0, volume_real=10.0)\n",
      "Tick(time=1639662776, bid=109775.0, ask=109780.0, last=109775.0, volume=3, time_msc=1639662776943, flags=0, volume_real=3.0)\n",
      "Tick(time=1639662777, bid=109775.0, ask=109780.0, last=109775.0, volume=5, time_msc=1639662777441, flags=0, volume_real=5.0)\n",
      "Tick(time=1639662777, bid=109770.0, ask=109775.0, last=109775.0, volume=1, time_msc=1639662777972, flags=0, volume_real=1.0)\n",
      "Tick(time=1639662778, bid=109775.0, ask=109780.0, last=109775.0, volume=1, time_msc=1639662778430, flags=0, volume_real=1.0)\n",
      "Tick(time=1639662778, bid=109785.0, ask=109790.0, last=109780.0, volume=1, time_msc=1639662778991, flags=0, volume_real=1.0)\n",
      "Tick(time=1639662779, bid=109775.0, ask=109780.0, last=109770.0, volume=1, time_msc=1639662779507, flags=0, volume_real=1.0)\n",
      "Tick(time=1639662780, bid=109775.0, ask=109780.0, last=109780.0, volume=2, time_msc=1639662780015, flags=0, volume_real=2.0)\n",
      "Tick(time=1639662780, bid=109780.0, ask=109785.0, last=109785.0, volume=5, time_msc=1639662780525, flags=0, volume_real=5.0)\n",
      "Tick(time=1639662781, bid=109785.0, ask=109790.0, last=109790.0, volume=1, time_msc=1639662781053, flags=0, volume_real=1.0)\n",
      "Tick(time=1639662781, bid=109790.0, ask=109795.0, last=109795.0, volume=10, time_msc=1639662781544, flags=0, volume_real=10.0)\n",
      "Tick(time=1639662782, bid=109790.0, ask=109800.0, last=109795.0, volume=1, time_msc=1639662782045, flags=0, volume_real=1.0)\n",
      "Tick(time=1639662782, bid=109800.0, ask=109805.0, last=109800.0, volume=20, time_msc=1639662782562, flags=0, volume_real=20.0)\n",
      "Tick(time=1639662783, bid=109790.0, ask=109795.0, last=109800.0, volume=2, time_msc=1639662783065, flags=0, volume_real=2.0)\n",
      "Tick(time=1639662783, bid=109795.0, ask=109800.0, last=109795.0, volume=1, time_msc=1639662783571, flags=0, volume_real=1.0)\n",
      "Tick(time=1639662784, bid=109795.0, ask=109800.0, last=109795.0, volume=1, time_msc=1639662784041, flags=0, volume_real=1.0)\n",
      "Tick(time=1639662784, bid=109795.0, ask=109800.0, last=109810.0, volume=3, time_msc=1639662784591, flags=0, volume_real=3.0)\n",
      "Tick(time=1639662785, bid=109800.0, ask=109805.0, last=109800.0, volume=1, time_msc=1639662785062, flags=0, volume_real=1.0)\n",
      "Tick(time=1639662785, bid=109795.0, ask=109800.0, last=109800.0, volume=1, time_msc=1639662785492, flags=0, volume_real=1.0)\n",
      "Tick(time=1639662786, bid=109790.0, ask=109795.0, last=109795.0, volume=1, time_msc=1639662786094, flags=0, volume_real=1.0)\n",
      "Tick(time=1639662786, bid=109795.0, ask=109800.0, last=109795.0, volume=5, time_msc=1639662786588, flags=0, volume_real=5.0)\n",
      "Tick(time=1639662787, bid=109790.0, ask=109795.0, last=109795.0, volume=11, time_msc=1639662787109, flags=0, volume_real=11.0)\n",
      "Tick(time=1639662787, bid=109795.0, ask=109800.0, last=109795.0, volume=1, time_msc=1639662787591, flags=0, volume_real=1.0)\n"
     ]
    }
   ],
   "source": [
    "import time\n",
    "\n",
    "t_end = time.time() + 15*1\n",
    "\n",
    "while time.time() < t_end:\n",
    "    \n",
    "    x = mt5.symbol_info_tick('WING22')\n",
    "    \n",
    "    print (x)\n",
    "    \n",
    "    time.sleep(0.5)"
   ]
  },
  {
   "cell_type": "markdown",
   "metadata": {},
   "source": [
    "### 2.2. Dados de mini-índice e mini-dólar"
   ]
  },
  {
   "cell_type": "code",
   "execution_count": 14,
   "metadata": {},
   "outputs": [
    {
     "data": {
      "text/plain": [
       "(SymbolInfo(custom=False, chart_mode=1, select=True, visible=True, session_deals=3721527, session_buy_orders=0, session_sell_orders=0, volume=4, volumehigh=7600, volumelow=1, time=1639662805, digits=0, spread=5, spread_float=True, ticks_bookdepth=32, trade_calc_mode=33, trade_mode=4, start_time=0, expiration_time=1645038900, trade_stops_level=0, trade_freeze_level=0, trade_exemode=3, swap_mode=0, swap_rollover3days=3, margin_hedged_use_leg=False, expiration_mode=2, filling_mode=3, order_mode=127, order_gtc_mode=2, option_mode=0, option_right=0, bid=109775.0, bidhigh=110530.0, bidlow=109205.0, ask=109780.0, askhigh=110535.0, asklow=109210.0, last=109780.0, lasthigh=110535.0, lastlow=109200.0, volume_real=4.0, volumehigh_real=7600.0, volumelow_real=1.0, option_strike=0.0, point=1.0, trade_tick_value=1.0, trade_tick_value_profit=1.0, trade_tick_value_loss=1.0, trade_tick_size=5.0, trade_contract_size=1.0, trade_accrued_interest=0.0, trade_face_value=0.0, trade_liquidity_rate=0.0, volume_min=1.0, volume_max=10000.0, volume_step=1.0, volume_limit=0.0, swap_long=0.0, swap_short=0.0, margin_initial=0.0, margin_maintenance=0.0, session_volume=12347159.0, session_turnover=0.0, session_interest=0.0, session_buy_orders_volume=0.0, session_sell_orders_volume=0.0, session_open=109830.0, session_close=109075.0, session_aw=109902.0, session_price_settlement=0.0, session_price_limit_min=0.0, session_price_limit_max=0.0, margin_hedged=0.0, price_change=0.6463, price_volatility=0.0, price_theoretical=0.0, price_greeks_delta=0.0, price_greeks_theta=0.0, price_greeks_gamma=0.0, price_greeks_vega=0.0, price_greeks_rho=0.0, price_greeks_omega=0.0, price_sensitivity=0.0, basis='', category='', currency_base='BRL', currency_profit='BRL', currency_margin='BRL', bank='', description='IBOVESPA MINI', exchange='', formula='', isin='BRBMEFWIN2W8', name='WING22', page='', path='BMF\\\\WING22'),)"
      ]
     },
     "execution_count": 14,
     "metadata": {},
     "output_type": "execute_result"
    }
   ],
   "source": [
    "mt5.symbols_get('WING22')"
   ]
  },
  {
   "cell_type": "code",
   "execution_count": 15,
   "metadata": {},
   "outputs": [
    {
     "data": {
      "text/plain": [
       "(SymbolInfo(custom=False, chart_mode=1, select=False, visible=False, session_deals=0, session_buy_orders=0, session_sell_orders=0, volume=0, volumehigh=0, volumelow=0, time=0, digits=3, spread=0, spread_float=True, ticks_bookdepth=32, trade_calc_mode=33, trade_mode=4, start_time=0, expiration_time=1643656500, trade_stops_level=0, trade_freeze_level=0, trade_exemode=3, swap_mode=0, swap_rollover3days=3, margin_hedged_use_leg=False, expiration_mode=2, filling_mode=3, order_mode=127, order_gtc_mode=2, option_mode=0, option_right=0, bid=0.0, bidhigh=0.0, bidlow=0.0, ask=0.0, askhigh=0.0, asklow=0.0, last=0.0, lasthigh=0.0, lastlow=0.0, volume_real=0.0, volumehigh_real=0.0, volumelow_real=0.0, option_strike=0.0, point=0.001, trade_tick_value=5.0, trade_tick_value_profit=5.0, trade_tick_value_loss=5.0, trade_tick_size=0.5, trade_contract_size=1.0, trade_accrued_interest=0.0, trade_face_value=0.0, trade_liquidity_rate=0.0, volume_min=1.0, volume_max=1500.0, volume_step=1.0, volume_limit=0.0, swap_long=0.0, swap_short=0.0, margin_initial=0.0, margin_maintenance=0.0, session_volume=0.0, session_turnover=0.0, session_interest=0.0, session_buy_orders_volume=0.0, session_sell_orders_volume=0.0, session_open=0.0, session_close=0.0, session_aw=0.0, session_price_settlement=0.0, session_price_limit_min=0.0, session_price_limit_max=0.0, margin_hedged=0.0, price_change=0.0, price_volatility=0.0, price_theoretical=0.0, price_greeks_delta=0.0, price_greeks_theta=0.0, price_greeks_gamma=0.0, price_greeks_vega=0.0, price_greeks_rho=0.0, price_greeks_omega=0.0, price_sensitivity=0.0, basis='', category='', currency_base='BRL', currency_profit='BRL', currency_margin='BRL', bank='', description='DOLAR MINI', exchange='', formula='', isin='BRBMEFWDO3P4', name='WDOG22', page='', path='BMF\\\\WDOG22'),)"
      ]
     },
     "execution_count": 15,
     "metadata": {},
     "output_type": "execute_result"
    }
   ],
   "source": [
    "mt5.symbols_get('WDOG22')"
   ]
  },
  {
   "cell_type": "markdown",
   "metadata": {},
   "source": [
    "## 2.3. Obtendo dados de cotação de ativos"
   ]
  },
  {
   "cell_type": "markdown",
   "metadata": {},
   "source": [
    "https://www.mql5.com/pt/docs/integration/python_metatrader5"
   ]
  },
  {
   "cell_type": "markdown",
   "metadata": {},
   "source": [
    "#### 2.3.1. Função copy_rates_from"
   ]
  },
  {
   "cell_type": "code",
   "execution_count": 24,
   "metadata": {},
   "outputs": [],
   "source": [
    "hoje = datetime.today()"
   ]
  },
  {
   "cell_type": "code",
   "execution_count": 25,
   "metadata": {},
   "outputs": [],
   "source": [
    "acao = mt5.copy_rates_from(\"WING22\", mt5.TIMEFRAME_M1, hoje, 100)"
   ]
  },
  {
   "cell_type": "code",
   "execution_count": 26,
   "metadata": {},
   "outputs": [
    {
     "data": {
      "text/plain": [
       "array([(1639673160, 109440., 109445., 109340., 109345., 2646,  5, 34429),\n",
       "       (1639673220, 109345., 109385., 109320., 109365., 2474,  5, 33540),\n",
       "       (1639673280, 109365., 109395., 109350., 109380., 1410,  5, 19891),\n",
       "       (1639673340, 109380., 109380., 109265., 109330., 3360,  5, 50132),\n",
       "       (1639673400, 109330., 109395., 109270., 109335., 2985,  5, 42855),\n",
       "       (1639673460, 109330., 109335., 109240., 109305., 2979,  5, 41785),\n",
       "       (1639673520, 109305., 109315., 109245., 109300., 1891,  5, 28353),\n",
       "       (1639673580, 109295., 109385., 109265., 109375., 2276,  5, 35772),\n",
       "       (1639673640, 109380., 109380., 109210., 109220., 2855,  5, 45584),\n",
       "       (1639673700, 109220., 109300., 109180., 109260., 3218,  5, 52656),\n",
       "       (1639673760, 109265., 109345., 109255., 109320., 1773,  5, 22231),\n",
       "       (1639673820, 109320., 109350., 109275., 109320., 1520,  5, 18488),\n",
       "       (1639673880, 109320., 109415., 109300., 109375., 1965,  5, 25986),\n",
       "       (1639673940, 109380., 109450., 109350., 109440., 1767,  5, 25372),\n",
       "       (1639674000, 109445., 109455., 109330., 109365., 2480,  5, 30149),\n",
       "       (1639674060, 109365., 109370., 109310., 109330., 1480,  5, 21845),\n",
       "       (1639674120, 109330., 109335., 109255., 109270., 2188,  5, 34312),\n",
       "       (1639674180, 109270., 109290., 109140., 109180., 2229,  5, 39277),\n",
       "       (1639674240, 109180., 109325., 109165., 109320., 2881,  5, 37747),\n",
       "       (1639674300, 109325., 109485., 109295., 109405., 3429,  5, 53371),\n",
       "       (1639674360, 109410., 109420., 109280., 109310., 2505,  5, 33680),\n",
       "       (1639674420, 109310., 109355., 109230., 109235., 2065,  5, 29665),\n",
       "       (1639674480, 109235., 109305., 109230., 109295., 1343,  5, 18692),\n",
       "       (1639674540, 109295., 109365., 109270., 109295., 1525,  5, 22218),\n",
       "       (1639674600, 109295., 109380., 109240., 109340., 2167,  5, 29636),\n",
       "       (1639674660, 109340., 109350., 109250., 109300., 1388,  5, 19198),\n",
       "       (1639674720, 109300., 109310., 109230., 109235., 1124,  5, 16229),\n",
       "       (1639674780, 109235., 109290., 109215., 109260., 1332,  5, 19469),\n",
       "       (1639674840, 109260., 109330., 109255., 109310., 1076,  5, 14722),\n",
       "       (1639674900, 109310., 109315., 109250., 109275., 1195,  5, 14131),\n",
       "       (1639674960, 109280., 109385., 109275., 109355., 1653,  5, 23930),\n",
       "       (1639675020, 109355., 109375., 109290., 109360., 1239,  5, 19399),\n",
       "       (1639675080, 109360., 109370., 109305., 109315.,  895,  5, 10249),\n",
       "       (1639675140, 109320., 109400., 109315., 109400., 1181,  5, 15386),\n",
       "       (1639675200, 109400., 109480., 109375., 109475., 2062,  5, 28463),\n",
       "       (1639675260, 109480., 109495., 109420., 109470., 1647,  5, 24549),\n",
       "       (1639675320, 109465., 109470., 109420., 109425., 1009,  5, 16029),\n",
       "       (1639675380, 109425., 109550., 109395., 109530., 2394,  5, 38042),\n",
       "       (1639675440, 109530., 109545., 109495., 109505., 1231,  5, 17389),\n",
       "       (1639675500, 109505., 109555., 109480., 109500., 1506,  5, 21866),\n",
       "       (1639675560, 109505., 109620., 109500., 109585., 2438,  5, 35590),\n",
       "       (1639675620, 109585., 109615., 109550., 109595., 1612,  5, 23459),\n",
       "       (1639675680, 109600., 109620., 109555., 109615.,  947,  5, 12273),\n",
       "       (1639675740, 109615., 109685., 109590., 109675., 1690,  5, 24865),\n",
       "       (1639675800, 109680., 109745., 109655., 109680., 2763,  5, 35254),\n",
       "       (1639675860, 109680., 109695., 109525., 109535., 2960,  5, 43803),\n",
       "       (1639675920, 109535., 109600., 109490., 109570., 2436,  5, 32474),\n",
       "       (1639675980, 109570., 109610., 109505., 109605., 1704,  5, 22241),\n",
       "       (1639676040, 109605., 109760., 109605., 109720., 2863,  5, 41004),\n",
       "       (1639676100, 109715., 109745., 109660., 109725., 1922,  5, 25667),\n",
       "       (1639676160, 109725., 109745., 109645., 109675., 1632,  5, 21505),\n",
       "       (1639676220, 109670., 109710., 109640., 109685., 1609,  5, 21076),\n",
       "       (1639676280, 109680., 109795., 109675., 109770., 1810,  5, 25464),\n",
       "       (1639676340, 109770., 109795., 109700., 109730., 1571,  5, 20882),\n",
       "       (1639676400, 109725., 109790., 109695., 109715., 1639,  5, 22002),\n",
       "       (1639676460, 109715., 109775., 109685., 109745., 1571,  5, 19933),\n",
       "       (1639676520, 109740., 109750., 109685., 109710., 1212,  5, 16365),\n",
       "       (1639676580, 109710., 109720., 109610., 109630., 1821,  5, 29422),\n",
       "       (1639676640, 109630., 109675., 109610., 109675., 1548,  5, 19286),\n",
       "       (1639676700, 109670., 109715., 109575., 109645., 2475,  5, 35021),\n",
       "       (1639676760, 109645., 109690., 109605., 109675., 1480,  5, 17468),\n",
       "       (1639676820, 109680., 109730., 109660., 109695., 1323,  5, 16427),\n",
       "       (1639676880, 109700., 109705., 109625., 109665., 1264,  5, 19499),\n",
       "       (1639676940, 109660., 109695., 109630., 109665.,  844,  5, 13139),\n",
       "       (1639677000, 109655., 109780., 109645., 109765., 2360,  5, 40890),\n",
       "       (1639677060, 109760., 109895., 109750., 109870., 2719,  5, 37042),\n",
       "       (1639677120, 109875., 109880., 109810., 109845., 1497,  5, 19467),\n",
       "       (1639677180, 109850., 109935., 109830., 109930., 1633,  5, 23483),\n",
       "       (1639677240, 109925., 109940., 109840., 109845., 1872,  5, 25193),\n",
       "       (1639677300, 109845., 109935., 109785., 109925., 2274,  5, 38150),\n",
       "       (1639677360, 109925., 109995., 109885., 109995., 1893,  5, 26677),\n",
       "       (1639677420, 109995., 110120., 109955., 110050., 2317,  5, 35539),\n",
       "       (1639677480, 110055., 110060., 109910., 109950., 2410,  5, 35882),\n",
       "       (1639677540, 109945., 109985., 109840., 109840., 1627,  5, 20643),\n",
       "       (1639677600, 109840., 109875., 109820., 109875., 1424,  5, 17342),\n",
       "       (1639677660, 109875., 109905., 109840., 109860.,  943,  5, 12769),\n",
       "       (1639677720, 109855., 109890., 109845., 109855.,  621,  5,  7382),\n",
       "       (1639677780, 109855., 109925., 109850., 109895.,  800,  5,  9142),\n",
       "       (1639677840, 109890., 109900., 109860., 109875.,  589,  5,  7210),\n",
       "       (1639677900, 109870., 109885., 109800., 109840.,  969,  5, 13597),\n",
       "       (1639677960, 109840., 109850., 109785., 109810.,  737,  5,  9228),\n",
       "       (1639678020, 109810., 109895., 109790., 109840., 1021,  5, 14605),\n",
       "       (1639678080, 109835., 109870., 109830., 109845.,  473,  5,  5152),\n",
       "       (1639678140, 109845., 109895., 109840., 109850.,  724,  5,  8428),\n",
       "       (1639678200, 109850., 109855., 109810., 109835.,  658,  5,  8971),\n",
       "       (1639678260, 109830., 109850., 109800., 109820.,  567,  5,  6646),\n",
       "       (1639678320, 109820., 109830., 109770., 109795.,  735,  5,  8457),\n",
       "       (1639678380, 109795., 109805., 109760., 109765.,  593,  5,  6206),\n",
       "       (1639678440, 109760., 109790., 109755., 109785.,  596,  5,  7308),\n",
       "       (1639678500, 109780., 109835., 109765., 109780., 1000,  5, 13608),\n",
       "       (1639678560, 109785., 109840., 109780., 109835.,  488,  5,  5015),\n",
       "       (1639678620, 109830., 109875., 109825., 109860.,  562,  5,  5183),\n",
       "       (1639678680, 109865., 109875., 109825., 109840.,  416,  5,  4092),\n",
       "       (1639678740, 109840., 109870., 109810., 109870.,  465,  5,  6630),\n",
       "       (1639678800, 109870., 109965., 109870., 109935.,  915,  5, 12820),\n",
       "       (1639678860, 109935., 109950., 109875., 109900.,  474,  5,  6250),\n",
       "       (1639678920, 109900., 109910., 109865., 109880.,  323,  5,  2868),\n",
       "       (1639678980, 109880., 109915., 109850., 109915.,  403,  5,  3411),\n",
       "       (1639679040, 109910., 109980., 109880., 109915.,  417,  5,  4372),\n",
       "       (1639679460, 109965., 109965., 109965., 109965.,    2, 15,  8068)],\n",
       "      dtype=[('time', '<i8'), ('open', '<f8'), ('high', '<f8'), ('low', '<f8'), ('close', '<f8'), ('tick_volume', '<u8'), ('spread', '<i4'), ('real_volume', '<u8')])"
      ]
     },
     "execution_count": 26,
     "metadata": {},
     "output_type": "execute_result"
    }
   ],
   "source": [
    "acao"
   ]
  },
  {
   "cell_type": "code",
   "execution_count": 27,
   "metadata": {},
   "outputs": [],
   "source": [
    "acao_df = pd.DataFrame(acao)"
   ]
  },
  {
   "cell_type": "code",
   "execution_count": 28,
   "metadata": {},
   "outputs": [
    {
     "data": {
      "text/html": [
       "<div>\n",
       "<style scoped>\n",
       "    .dataframe tbody tr th:only-of-type {\n",
       "        vertical-align: middle;\n",
       "    }\n",
       "\n",
       "    .dataframe tbody tr th {\n",
       "        vertical-align: top;\n",
       "    }\n",
       "\n",
       "    .dataframe thead th {\n",
       "        text-align: right;\n",
       "    }\n",
       "</style>\n",
       "<table border=\"1\" class=\"dataframe\">\n",
       "  <thead>\n",
       "    <tr style=\"text-align: right;\">\n",
       "      <th></th>\n",
       "      <th>time</th>\n",
       "      <th>open</th>\n",
       "      <th>high</th>\n",
       "      <th>low</th>\n",
       "      <th>close</th>\n",
       "      <th>tick_volume</th>\n",
       "      <th>spread</th>\n",
       "      <th>real_volume</th>\n",
       "    </tr>\n",
       "  </thead>\n",
       "  <tbody>\n",
       "    <tr>\n",
       "      <th>0</th>\n",
       "      <td>1639673160</td>\n",
       "      <td>109440.0</td>\n",
       "      <td>109445.0</td>\n",
       "      <td>109340.0</td>\n",
       "      <td>109345.0</td>\n",
       "      <td>2646</td>\n",
       "      <td>5</td>\n",
       "      <td>34429</td>\n",
       "    </tr>\n",
       "    <tr>\n",
       "      <th>1</th>\n",
       "      <td>1639673220</td>\n",
       "      <td>109345.0</td>\n",
       "      <td>109385.0</td>\n",
       "      <td>109320.0</td>\n",
       "      <td>109365.0</td>\n",
       "      <td>2474</td>\n",
       "      <td>5</td>\n",
       "      <td>33540</td>\n",
       "    </tr>\n",
       "    <tr>\n",
       "      <th>2</th>\n",
       "      <td>1639673280</td>\n",
       "      <td>109365.0</td>\n",
       "      <td>109395.0</td>\n",
       "      <td>109350.0</td>\n",
       "      <td>109380.0</td>\n",
       "      <td>1410</td>\n",
       "      <td>5</td>\n",
       "      <td>19891</td>\n",
       "    </tr>\n",
       "    <tr>\n",
       "      <th>3</th>\n",
       "      <td>1639673340</td>\n",
       "      <td>109380.0</td>\n",
       "      <td>109380.0</td>\n",
       "      <td>109265.0</td>\n",
       "      <td>109330.0</td>\n",
       "      <td>3360</td>\n",
       "      <td>5</td>\n",
       "      <td>50132</td>\n",
       "    </tr>\n",
       "    <tr>\n",
       "      <th>4</th>\n",
       "      <td>1639673400</td>\n",
       "      <td>109330.0</td>\n",
       "      <td>109395.0</td>\n",
       "      <td>109270.0</td>\n",
       "      <td>109335.0</td>\n",
       "      <td>2985</td>\n",
       "      <td>5</td>\n",
       "      <td>42855</td>\n",
       "    </tr>\n",
       "    <tr>\n",
       "      <th>...</th>\n",
       "      <td>...</td>\n",
       "      <td>...</td>\n",
       "      <td>...</td>\n",
       "      <td>...</td>\n",
       "      <td>...</td>\n",
       "      <td>...</td>\n",
       "      <td>...</td>\n",
       "      <td>...</td>\n",
       "    </tr>\n",
       "    <tr>\n",
       "      <th>95</th>\n",
       "      <td>1639678860</td>\n",
       "      <td>109935.0</td>\n",
       "      <td>109950.0</td>\n",
       "      <td>109875.0</td>\n",
       "      <td>109900.0</td>\n",
       "      <td>474</td>\n",
       "      <td>5</td>\n",
       "      <td>6250</td>\n",
       "    </tr>\n",
       "    <tr>\n",
       "      <th>96</th>\n",
       "      <td>1639678920</td>\n",
       "      <td>109900.0</td>\n",
       "      <td>109910.0</td>\n",
       "      <td>109865.0</td>\n",
       "      <td>109880.0</td>\n",
       "      <td>323</td>\n",
       "      <td>5</td>\n",
       "      <td>2868</td>\n",
       "    </tr>\n",
       "    <tr>\n",
       "      <th>97</th>\n",
       "      <td>1639678980</td>\n",
       "      <td>109880.0</td>\n",
       "      <td>109915.0</td>\n",
       "      <td>109850.0</td>\n",
       "      <td>109915.0</td>\n",
       "      <td>403</td>\n",
       "      <td>5</td>\n",
       "      <td>3411</td>\n",
       "    </tr>\n",
       "    <tr>\n",
       "      <th>98</th>\n",
       "      <td>1639679040</td>\n",
       "      <td>109910.0</td>\n",
       "      <td>109980.0</td>\n",
       "      <td>109880.0</td>\n",
       "      <td>109915.0</td>\n",
       "      <td>417</td>\n",
       "      <td>5</td>\n",
       "      <td>4372</td>\n",
       "    </tr>\n",
       "    <tr>\n",
       "      <th>99</th>\n",
       "      <td>1639679460</td>\n",
       "      <td>109965.0</td>\n",
       "      <td>109965.0</td>\n",
       "      <td>109965.0</td>\n",
       "      <td>109965.0</td>\n",
       "      <td>2</td>\n",
       "      <td>15</td>\n",
       "      <td>8068</td>\n",
       "    </tr>\n",
       "  </tbody>\n",
       "</table>\n",
       "<p>100 rows × 8 columns</p>\n",
       "</div>"
      ],
      "text/plain": [
       "          time      open      high       low     close  tick_volume  spread  \\\n",
       "0   1639673160  109440.0  109445.0  109340.0  109345.0         2646       5   \n",
       "1   1639673220  109345.0  109385.0  109320.0  109365.0         2474       5   \n",
       "2   1639673280  109365.0  109395.0  109350.0  109380.0         1410       5   \n",
       "3   1639673340  109380.0  109380.0  109265.0  109330.0         3360       5   \n",
       "4   1639673400  109330.0  109395.0  109270.0  109335.0         2985       5   \n",
       "..         ...       ...       ...       ...       ...          ...     ...   \n",
       "95  1639678860  109935.0  109950.0  109875.0  109900.0          474       5   \n",
       "96  1639678920  109900.0  109910.0  109865.0  109880.0          323       5   \n",
       "97  1639678980  109880.0  109915.0  109850.0  109915.0          403       5   \n",
       "98  1639679040  109910.0  109980.0  109880.0  109915.0          417       5   \n",
       "99  1639679460  109965.0  109965.0  109965.0  109965.0            2      15   \n",
       "\n",
       "    real_volume  \n",
       "0         34429  \n",
       "1         33540  \n",
       "2         19891  \n",
       "3         50132  \n",
       "4         42855  \n",
       "..          ...  \n",
       "95         6250  \n",
       "96         2868  \n",
       "97         3411  \n",
       "98         4372  \n",
       "99         8068  \n",
       "\n",
       "[100 rows x 8 columns]"
      ]
     },
     "execution_count": 28,
     "metadata": {},
     "output_type": "execute_result"
    }
   ],
   "source": [
    "acao_df"
   ]
  },
  {
   "cell_type": "code",
   "execution_count": 29,
   "metadata": {},
   "outputs": [],
   "source": [
    "acao_df['time'] = pd.to_datetime(acao_df['time'], unit = 's')"
   ]
  },
  {
   "cell_type": "code",
   "execution_count": 30,
   "metadata": {},
   "outputs": [
    {
     "data": {
      "text/html": [
       "<div>\n",
       "<style scoped>\n",
       "    .dataframe tbody tr th:only-of-type {\n",
       "        vertical-align: middle;\n",
       "    }\n",
       "\n",
       "    .dataframe tbody tr th {\n",
       "        vertical-align: top;\n",
       "    }\n",
       "\n",
       "    .dataframe thead th {\n",
       "        text-align: right;\n",
       "    }\n",
       "</style>\n",
       "<table border=\"1\" class=\"dataframe\">\n",
       "  <thead>\n",
       "    <tr style=\"text-align: right;\">\n",
       "      <th></th>\n",
       "      <th>time</th>\n",
       "      <th>open</th>\n",
       "      <th>high</th>\n",
       "      <th>low</th>\n",
       "      <th>close</th>\n",
       "      <th>tick_volume</th>\n",
       "      <th>spread</th>\n",
       "      <th>real_volume</th>\n",
       "    </tr>\n",
       "  </thead>\n",
       "  <tbody>\n",
       "    <tr>\n",
       "      <th>0</th>\n",
       "      <td>2021-12-16 16:46:00</td>\n",
       "      <td>109440.0</td>\n",
       "      <td>109445.0</td>\n",
       "      <td>109340.0</td>\n",
       "      <td>109345.0</td>\n",
       "      <td>2646</td>\n",
       "      <td>5</td>\n",
       "      <td>34429</td>\n",
       "    </tr>\n",
       "    <tr>\n",
       "      <th>1</th>\n",
       "      <td>2021-12-16 16:47:00</td>\n",
       "      <td>109345.0</td>\n",
       "      <td>109385.0</td>\n",
       "      <td>109320.0</td>\n",
       "      <td>109365.0</td>\n",
       "      <td>2474</td>\n",
       "      <td>5</td>\n",
       "      <td>33540</td>\n",
       "    </tr>\n",
       "    <tr>\n",
       "      <th>2</th>\n",
       "      <td>2021-12-16 16:48:00</td>\n",
       "      <td>109365.0</td>\n",
       "      <td>109395.0</td>\n",
       "      <td>109350.0</td>\n",
       "      <td>109380.0</td>\n",
       "      <td>1410</td>\n",
       "      <td>5</td>\n",
       "      <td>19891</td>\n",
       "    </tr>\n",
       "    <tr>\n",
       "      <th>3</th>\n",
       "      <td>2021-12-16 16:49:00</td>\n",
       "      <td>109380.0</td>\n",
       "      <td>109380.0</td>\n",
       "      <td>109265.0</td>\n",
       "      <td>109330.0</td>\n",
       "      <td>3360</td>\n",
       "      <td>5</td>\n",
       "      <td>50132</td>\n",
       "    </tr>\n",
       "    <tr>\n",
       "      <th>4</th>\n",
       "      <td>2021-12-16 16:50:00</td>\n",
       "      <td>109330.0</td>\n",
       "      <td>109395.0</td>\n",
       "      <td>109270.0</td>\n",
       "      <td>109335.0</td>\n",
       "      <td>2985</td>\n",
       "      <td>5</td>\n",
       "      <td>42855</td>\n",
       "    </tr>\n",
       "  </tbody>\n",
       "</table>\n",
       "</div>"
      ],
      "text/plain": [
       "                 time      open      high       low     close  tick_volume  \\\n",
       "0 2021-12-16 16:46:00  109440.0  109445.0  109340.0  109345.0         2646   \n",
       "1 2021-12-16 16:47:00  109345.0  109385.0  109320.0  109365.0         2474   \n",
       "2 2021-12-16 16:48:00  109365.0  109395.0  109350.0  109380.0         1410   \n",
       "3 2021-12-16 16:49:00  109380.0  109380.0  109265.0  109330.0         3360   \n",
       "4 2021-12-16 16:50:00  109330.0  109395.0  109270.0  109335.0         2985   \n",
       "\n",
       "   spread  real_volume  \n",
       "0       5        34429  \n",
       "1       5        33540  \n",
       "2       5        19891  \n",
       "3       5        50132  \n",
       "4       5        42855  "
      ]
     },
     "execution_count": 30,
     "metadata": {},
     "output_type": "execute_result"
    }
   ],
   "source": [
    "acao_df.head()"
   ]
  },
  {
   "cell_type": "code",
   "execution_count": 31,
   "metadata": {},
   "outputs": [
    {
     "data": {
      "text/plain": [
       "(100, 8)"
      ]
     },
     "execution_count": 31,
     "metadata": {},
     "output_type": "execute_result"
    }
   ],
   "source": [
    "acao_df.shape"
   ]
  },
  {
   "cell_type": "code",
   "execution_count": 35,
   "metadata": {},
   "outputs": [
    {
     "data": {
      "text/html": [
       "<div>\n",
       "<style scoped>\n",
       "    .dataframe tbody tr th:only-of-type {\n",
       "        vertical-align: middle;\n",
       "    }\n",
       "\n",
       "    .dataframe tbody tr th {\n",
       "        vertical-align: top;\n",
       "    }\n",
       "\n",
       "    .dataframe thead th {\n",
       "        text-align: right;\n",
       "    }\n",
       "</style>\n",
       "<table border=\"1\" class=\"dataframe\">\n",
       "  <thead>\n",
       "    <tr style=\"text-align: right;\">\n",
       "      <th></th>\n",
       "      <th>time</th>\n",
       "      <th>open</th>\n",
       "      <th>high</th>\n",
       "      <th>low</th>\n",
       "      <th>close</th>\n",
       "      <th>tick_volume</th>\n",
       "      <th>spread</th>\n",
       "      <th>real_volume</th>\n",
       "    </tr>\n",
       "    <tr>\n",
       "      <th>time</th>\n",
       "      <th></th>\n",
       "      <th></th>\n",
       "      <th></th>\n",
       "      <th></th>\n",
       "      <th></th>\n",
       "      <th></th>\n",
       "      <th></th>\n",
       "      <th></th>\n",
       "    </tr>\n",
       "  </thead>\n",
       "  <tbody>\n",
       "    <tr>\n",
       "      <th>2021-12-16 18:21:00</th>\n",
       "      <td>2021-12-16 18:21:00</td>\n",
       "      <td>109935.0</td>\n",
       "      <td>109950.0</td>\n",
       "      <td>109875.0</td>\n",
       "      <td>109900.0</td>\n",
       "      <td>474</td>\n",
       "      <td>5</td>\n",
       "      <td>6250</td>\n",
       "    </tr>\n",
       "    <tr>\n",
       "      <th>2021-12-16 18:22:00</th>\n",
       "      <td>2021-12-16 18:22:00</td>\n",
       "      <td>109900.0</td>\n",
       "      <td>109910.0</td>\n",
       "      <td>109865.0</td>\n",
       "      <td>109880.0</td>\n",
       "      <td>323</td>\n",
       "      <td>5</td>\n",
       "      <td>2868</td>\n",
       "    </tr>\n",
       "    <tr>\n",
       "      <th>2021-12-16 18:23:00</th>\n",
       "      <td>2021-12-16 18:23:00</td>\n",
       "      <td>109880.0</td>\n",
       "      <td>109915.0</td>\n",
       "      <td>109850.0</td>\n",
       "      <td>109915.0</td>\n",
       "      <td>403</td>\n",
       "      <td>5</td>\n",
       "      <td>3411</td>\n",
       "    </tr>\n",
       "    <tr>\n",
       "      <th>2021-12-16 18:24:00</th>\n",
       "      <td>2021-12-16 18:24:00</td>\n",
       "      <td>109910.0</td>\n",
       "      <td>109980.0</td>\n",
       "      <td>109880.0</td>\n",
       "      <td>109915.0</td>\n",
       "      <td>417</td>\n",
       "      <td>5</td>\n",
       "      <td>4372</td>\n",
       "    </tr>\n",
       "    <tr>\n",
       "      <th>2021-12-16 18:31:00</th>\n",
       "      <td>2021-12-16 18:31:00</td>\n",
       "      <td>109965.0</td>\n",
       "      <td>109965.0</td>\n",
       "      <td>109965.0</td>\n",
       "      <td>109965.0</td>\n",
       "      <td>2</td>\n",
       "      <td>15</td>\n",
       "      <td>8068</td>\n",
       "    </tr>\n",
       "  </tbody>\n",
       "</table>\n",
       "</div>"
      ],
      "text/plain": [
       "                                   time      open      high       low  \\\n",
       "time                                                                    \n",
       "2021-12-16 18:21:00 2021-12-16 18:21:00  109935.0  109950.0  109875.0   \n",
       "2021-12-16 18:22:00 2021-12-16 18:22:00  109900.0  109910.0  109865.0   \n",
       "2021-12-16 18:23:00 2021-12-16 18:23:00  109880.0  109915.0  109850.0   \n",
       "2021-12-16 18:24:00 2021-12-16 18:24:00  109910.0  109980.0  109880.0   \n",
       "2021-12-16 18:31:00 2021-12-16 18:31:00  109965.0  109965.0  109965.0   \n",
       "\n",
       "                        close  tick_volume  spread  real_volume  \n",
       "time                                                             \n",
       "2021-12-16 18:21:00  109900.0          474       5         6250  \n",
       "2021-12-16 18:22:00  109880.0          323       5         2868  \n",
       "2021-12-16 18:23:00  109915.0          403       5         3411  \n",
       "2021-12-16 18:24:00  109915.0          417       5         4372  \n",
       "2021-12-16 18:31:00  109965.0            2      15         8068  "
      ]
     },
     "execution_count": 35,
     "metadata": {},
     "output_type": "execute_result"
    }
   ],
   "source": [
    "acao_df.tail()"
   ]
  },
  {
   "cell_type": "code",
   "execution_count": 34,
   "metadata": {},
   "outputs": [],
   "source": [
    "acao_df.index = acao_df['time']"
   ]
  },
  {
   "cell_type": "code",
   "execution_count": 36,
   "metadata": {},
   "outputs": [
    {
     "data": {
      "text/plain": [
       "<AxesSubplot:xlabel='time'>"
      ]
     },
     "execution_count": 36,
     "metadata": {},
     "output_type": "execute_result"
    },
    {
     "data": {
      "image/png": "[encoded data removed]",
      "text/plain": [
       "<Figure size 432x288 with 1 Axes>"
      ]
     },
     "metadata": {
      "needs_background": "light"
     },
     "output_type": "display_data"
    }
   ],
   "source": [
    "acao_df.close.plot()"
   ]
  },
  {
   "cell_type": "code",
   "execution_count": 27,
   "metadata": {},
   "outputs": [
    {
     "data": {
      "text/plain": [
       "<AxesSubplot:xlabel='time'>"
      ]
     },
     "execution_count": 27,
     "metadata": {},
     "output_type": "execute_result"
    },
    {
     "data": {
      "image/png": "[encoded data removed]",
      "text/plain": [
       "<Figure size 432x288 with 1 Axes>"
      ]
     },
     "metadata": {
      "needs_background": "light"
     },
     "output_type": "display_data"
    }
   ],
   "source": [
    "hoje = datetime.today()\n",
    "acao = mt5.copy_rates_from(\"PETR4\", mt5.TIMEFRAME_M1, hoje, 240)\n",
    "acao_df = pd.DataFrame(acao)\n",
    "acao_df['time'] = pd.to_datetime(acao_df['time'], unit = 's')\n",
    "acao_df.index = acao_df['time']\n",
    "\n",
    "acao_df.close.plot()"
   ]
  },
  {
   "cell_type": "code",
   "execution_count": 26,
   "metadata": {},
   "outputs": [
    {
     "data": {
      "text/plain": [
       "<AxesSubplot:xlabel='time'>"
      ]
     },
     "execution_count": 26,
     "metadata": {},
     "output_type": "execute_result"
    },
    {
     "data": {
      "image/png": "[encoded data removed]",
      "text/plain": [
       "<Figure size 432x288 with 1 Axes>"
      ]
     },
     "metadata": {
      "needs_background": "light"
     },
     "output_type": "display_data"
    }
   ],
   "source": [
    "hoje = datetime.today()\n",
    "acao = mt5.copy_rates_from(\"PETR4\", mt5.TIMEFRAME_M1, hoje, 120)\n",
    "acao_df = pd.DataFrame(acao)\n",
    "acao_df['time'] = pd.to_datetime(acao_df['time'], unit = 's')\n",
    "acao_df.index = acao_df['time']\n",
    "\n",
    "acao_df.close.plot()"
   ]
  },
  {
   "cell_type": "markdown",
   "metadata": {},
   "source": [
    "#### 2.3.2. Função copy_rates_from_pos"
   ]
  },
  {
   "cell_type": "code",
   "execution_count": 37,
   "metadata": {},
   "outputs": [
    {
     "data": {
      "text/plain": [
       "<AxesSubplot:xlabel='time'>"
      ]
     },
     "execution_count": 37,
     "metadata": {},
     "output_type": "execute_result"
    },
    {
     "data": {
      "image/png": "[encoded data removed]",
      "text/plain": [
       "<Figure size 432x288 with 1 Axes>"
      ]
     },
     "metadata": {
      "needs_background": "light"
     },
     "output_type": "display_data"
    }
   ],
   "source": [
    "acao = mt5.copy_rates_from_pos(\"AAPL34\", mt5.TIMEFRAME_M1, 10, 350)\n",
    "acao_df = pd.DataFrame(acao)\n",
    "acao_df['time'] = pd.to_datetime(acao_df['time'], unit = 's')\n",
    "acao_df.index = acao_df['time']\n",
    "\n",
    "acao_df.close.plot()"
   ]
  },
  {
   "cell_type": "code",
   "execution_count": 38,
   "metadata": {},
   "outputs": [
    {
     "data": {
      "text/html": [
       "<div>\n",
       "<style scoped>\n",
       "    .dataframe tbody tr th:only-of-type {\n",
       "        vertical-align: middle;\n",
       "    }\n",
       "\n",
       "    .dataframe tbody tr th {\n",
       "        vertical-align: top;\n",
       "    }\n",
       "\n",
       "    .dataframe thead th {\n",
       "        text-align: right;\n",
       "    }\n",
       "</style>\n",
       "<table border=\"1\" class=\"dataframe\">\n",
       "  <thead>\n",
       "    <tr style=\"text-align: right;\">\n",
       "      <th></th>\n",
       "      <th>time</th>\n",
       "      <th>open</th>\n",
       "      <th>high</th>\n",
       "      <th>low</th>\n",
       "      <th>close</th>\n",
       "      <th>tick_volume</th>\n",
       "      <th>spread</th>\n",
       "      <th>real_volume</th>\n",
       "    </tr>\n",
       "    <tr>\n",
       "      <th>time</th>\n",
       "      <th></th>\n",
       "      <th></th>\n",
       "      <th></th>\n",
       "      <th></th>\n",
       "      <th></th>\n",
       "      <th></th>\n",
       "      <th></th>\n",
       "      <th></th>\n",
       "    </tr>\n",
       "  </thead>\n",
       "  <tbody>\n",
       "    <tr>\n",
       "      <th>2021-12-15 16:04:00</th>\n",
       "      <td>2021-12-15 16:04:00</td>\n",
       "      <td>99.87</td>\n",
       "      <td>99.91</td>\n",
       "      <td>99.80</td>\n",
       "      <td>99.90</td>\n",
       "      <td>18</td>\n",
       "      <td>1</td>\n",
       "      <td>8602</td>\n",
       "    </tr>\n",
       "    <tr>\n",
       "      <th>2021-12-15 16:05:00</th>\n",
       "      <td>2021-12-15 16:05:00</td>\n",
       "      <td>100.00</td>\n",
       "      <td>100.21</td>\n",
       "      <td>99.94</td>\n",
       "      <td>100.21</td>\n",
       "      <td>33</td>\n",
       "      <td>1</td>\n",
       "      <td>2610</td>\n",
       "    </tr>\n",
       "    <tr>\n",
       "      <th>2021-12-15 16:06:00</th>\n",
       "      <td>2021-12-15 16:06:00</td>\n",
       "      <td>100.25</td>\n",
       "      <td>100.30</td>\n",
       "      <td>100.14</td>\n",
       "      <td>100.14</td>\n",
       "      <td>14</td>\n",
       "      <td>1</td>\n",
       "      <td>381</td>\n",
       "    </tr>\n",
       "    <tr>\n",
       "      <th>2021-12-15 16:07:00</th>\n",
       "      <td>2021-12-15 16:07:00</td>\n",
       "      <td>100.12</td>\n",
       "      <td>100.12</td>\n",
       "      <td>99.92</td>\n",
       "      <td>99.98</td>\n",
       "      <td>6</td>\n",
       "      <td>1</td>\n",
       "      <td>84</td>\n",
       "    </tr>\n",
       "    <tr>\n",
       "      <th>2021-12-15 16:08:00</th>\n",
       "      <td>2021-12-15 16:08:00</td>\n",
       "      <td>100.07</td>\n",
       "      <td>100.07</td>\n",
       "      <td>99.88</td>\n",
       "      <td>99.88</td>\n",
       "      <td>5</td>\n",
       "      <td>1</td>\n",
       "      <td>9</td>\n",
       "    </tr>\n",
       "  </tbody>\n",
       "</table>\n",
       "</div>"
      ],
      "text/plain": [
       "                                   time    open    high     low   close  \\\n",
       "time                                                                      \n",
       "2021-12-15 16:04:00 2021-12-15 16:04:00   99.87   99.91   99.80   99.90   \n",
       "2021-12-15 16:05:00 2021-12-15 16:05:00  100.00  100.21   99.94  100.21   \n",
       "2021-12-15 16:06:00 2021-12-15 16:06:00  100.25  100.30  100.14  100.14   \n",
       "2021-12-15 16:07:00 2021-12-15 16:07:00  100.12  100.12   99.92   99.98   \n",
       "2021-12-15 16:08:00 2021-12-15 16:08:00  100.07  100.07   99.88   99.88   \n",
       "\n",
       "                     tick_volume  spread  real_volume  \n",
       "time                                                   \n",
       "2021-12-15 16:04:00           18       1         8602  \n",
       "2021-12-15 16:05:00           33       1         2610  \n",
       "2021-12-15 16:06:00           14       1          381  \n",
       "2021-12-15 16:07:00            6       1           84  \n",
       "2021-12-15 16:08:00            5       1            9  "
      ]
     },
     "execution_count": 38,
     "metadata": {},
     "output_type": "execute_result"
    }
   ],
   "source": [
    "acao_df.head()"
   ]
  },
  {
   "cell_type": "code",
   "execution_count": 39,
   "metadata": {},
   "outputs": [
    {
     "data": {
      "text/html": [
       "<div>\n",
       "<style scoped>\n",
       "    .dataframe tbody tr th:only-of-type {\n",
       "        vertical-align: middle;\n",
       "    }\n",
       "\n",
       "    .dataframe tbody tr th {\n",
       "        vertical-align: top;\n",
       "    }\n",
       "\n",
       "    .dataframe thead th {\n",
       "        text-align: right;\n",
       "    }\n",
       "</style>\n",
       "<table border=\"1\" class=\"dataframe\">\n",
       "  <thead>\n",
       "    <tr style=\"text-align: right;\">\n",
       "      <th></th>\n",
       "      <th>time</th>\n",
       "      <th>open</th>\n",
       "      <th>high</th>\n",
       "      <th>low</th>\n",
       "      <th>close</th>\n",
       "      <th>tick_volume</th>\n",
       "      <th>spread</th>\n",
       "      <th>real_volume</th>\n",
       "    </tr>\n",
       "    <tr>\n",
       "      <th>time</th>\n",
       "      <th></th>\n",
       "      <th></th>\n",
       "      <th></th>\n",
       "      <th></th>\n",
       "      <th></th>\n",
       "      <th></th>\n",
       "      <th></th>\n",
       "      <th></th>\n",
       "    </tr>\n",
       "  </thead>\n",
       "  <tbody>\n",
       "    <tr>\n",
       "      <th>2021-12-16 13:57:00</th>\n",
       "      <td>2021-12-16 13:57:00</td>\n",
       "      <td>98.98</td>\n",
       "      <td>99.00</td>\n",
       "      <td>98.91</td>\n",
       "      <td>99.00</td>\n",
       "      <td>6</td>\n",
       "      <td>4</td>\n",
       "      <td>7</td>\n",
       "    </tr>\n",
       "    <tr>\n",
       "      <th>2021-12-16 13:58:00</th>\n",
       "      <td>2021-12-16 13:58:00</td>\n",
       "      <td>98.98</td>\n",
       "      <td>98.98</td>\n",
       "      <td>98.87</td>\n",
       "      <td>98.91</td>\n",
       "      <td>10</td>\n",
       "      <td>1</td>\n",
       "      <td>229</td>\n",
       "    </tr>\n",
       "    <tr>\n",
       "      <th>2021-12-16 13:59:00</th>\n",
       "      <td>2021-12-16 13:59:00</td>\n",
       "      <td>98.94</td>\n",
       "      <td>98.97</td>\n",
       "      <td>98.93</td>\n",
       "      <td>98.94</td>\n",
       "      <td>4</td>\n",
       "      <td>4</td>\n",
       "      <td>4</td>\n",
       "    </tr>\n",
       "    <tr>\n",
       "      <th>2021-12-16 14:00:00</th>\n",
       "      <td>2021-12-16 14:00:00</td>\n",
       "      <td>99.00</td>\n",
       "      <td>99.07</td>\n",
       "      <td>98.96</td>\n",
       "      <td>99.07</td>\n",
       "      <td>3</td>\n",
       "      <td>5</td>\n",
       "      <td>14</td>\n",
       "    </tr>\n",
       "    <tr>\n",
       "      <th>2021-12-16 14:01:00</th>\n",
       "      <td>2021-12-16 14:01:00</td>\n",
       "      <td>99.08</td>\n",
       "      <td>99.11</td>\n",
       "      <td>99.01</td>\n",
       "      <td>99.11</td>\n",
       "      <td>4</td>\n",
       "      <td>5</td>\n",
       "      <td>10</td>\n",
       "    </tr>\n",
       "  </tbody>\n",
       "</table>\n",
       "</div>"
      ],
      "text/plain": [
       "                                   time   open   high    low  close  \\\n",
       "time                                                                  \n",
       "2021-12-16 13:57:00 2021-12-16 13:57:00  98.98  99.00  98.91  99.00   \n",
       "2021-12-16 13:58:00 2021-12-16 13:58:00  98.98  98.98  98.87  98.91   \n",
       "2021-12-16 13:59:00 2021-12-16 13:59:00  98.94  98.97  98.93  98.94   \n",
       "2021-12-16 14:00:00 2021-12-16 14:00:00  99.00  99.07  98.96  99.07   \n",
       "2021-12-16 14:01:00 2021-12-16 14:01:00  99.08  99.11  99.01  99.11   \n",
       "\n",
       "                     tick_volume  spread  real_volume  \n",
       "time                                                   \n",
       "2021-12-16 13:57:00            6       4            7  \n",
       "2021-12-16 13:58:00           10       1          229  \n",
       "2021-12-16 13:59:00            4       4            4  \n",
       "2021-12-16 14:00:00            3       5           14  \n",
       "2021-12-16 14:01:00            4       5           10  "
      ]
     },
     "execution_count": 39,
     "metadata": {},
     "output_type": "execute_result"
    }
   ],
   "source": [
    "acao_df.tail()"
   ]
  },
  {
   "cell_type": "code",
   "execution_count": 32,
   "metadata": {},
   "outputs": [
    {
     "data": {
      "text/plain": [
       "<AxesSubplot:xlabel='time'>"
      ]
     },
     "execution_count": 32,
     "metadata": {},
     "output_type": "execute_result"
    },
    {
     "data": {
      "image/png": "[encoded data removed]",
      "text/plain": [
       "<Figure size 432x288 with 1 Axes>"
      ]
     },
     "metadata": {
      "needs_background": "light"
     },
     "output_type": "display_data"
    }
   ],
   "source": [
    "acao = mt5.copy_rates_from_pos(\"AAPL34\", mt5.TIMEFRAME_M1, 10, 180)\n",
    "acao_df = pd.DataFrame(acao)\n",
    "acao_df['time'] = pd.to_datetime(acao_df['time'], unit = 's')\n",
    "acao_df.index = acao_df['time']\n",
    "\n",
    "acao_df.close.plot()"
   ]
  },
  {
   "cell_type": "markdown",
   "metadata": {},
   "source": [
    "#### 2.3.3. Função copy_rates_range"
   ]
  },
  {
   "cell_type": "code",
   "execution_count": 33,
   "metadata": {},
   "outputs": [],
   "source": [
    "fuso = pytz.timezone(\"Etc/GMT-3\")"
   ]
  },
  {
   "cell_type": "code",
   "execution_count": 45,
   "metadata": {},
   "outputs": [],
   "source": [
    "inicio = datetime(2021, 1, 1, hour = 10, tzinfo = fuso)\n",
    "fim = datetime(2021, 12, 30, hour = 17, tzinfo = fuso)"
   ]
  },
  {
   "cell_type": "code",
   "execution_count": 46,
   "metadata": {},
   "outputs": [],
   "source": [
    "acao = mt5.copy_rates_range(\"WEGE3\", mt5.TIMEFRAME_D1, inicio, fim)"
   ]
  },
  {
   "cell_type": "code",
   "execution_count": 48,
   "metadata": {},
   "outputs": [
    {
     "data": {
      "text/plain": [
       "<AxesSubplot:xlabel='time'>"
      ]
     },
     "execution_count": 48,
     "metadata": {},
     "output_type": "execute_result"
    },
    {
     "data": {
      "image/png": "[encoded data removed]",
      "text/plain": [
       "<Figure size 432x288 with 1 Axes>"
      ]
     },
     "metadata": {
      "needs_background": "light"
     },
     "output_type": "display_data"
    }
   ],
   "source": [
    "acao_df = pd.DataFrame(acao)\n",
    "acao_df['time'] = pd.to_datetime(acao_df['time'], unit = 's')\n",
    "acao_df.index = acao_df['time']\n",
    "\n",
    "acao_df.close.plot()"
   ]
  },
  {
   "cell_type": "markdown",
   "metadata": {},
   "source": [
    "#### Exemplo Petrobras intraday"
   ]
  },
  {
   "cell_type": "code",
   "execution_count": 40,
   "metadata": {},
   "outputs": [
    {
     "ename": "NameError",
     "evalue": "name 'fuso' is not defined",
     "output_type": "error",
     "traceback": [
      "\u001b[1;31m---------------------------------------------------------------------------\u001b[0m",
      "\u001b[1;31mNameError\u001b[0m                                 Traceback (most recent call last)",
      "\u001b[1;32m<ipython-input-40-f9b761d28a23>\u001b[0m in \u001b[0;36m<module>\u001b[1;34m\u001b[0m\n\u001b[1;32m----> 1\u001b[1;33m \u001b[0minicio\u001b[0m \u001b[1;33m=\u001b[0m \u001b[0mdatetime\u001b[0m\u001b[1;33m(\u001b[0m\u001b[1;36m2021\u001b[0m\u001b[1;33m,\u001b[0m \u001b[1;36m12\u001b[0m\u001b[1;33m,\u001b[0m \u001b[1;36m16\u001b[0m\u001b[1;33m,\u001b[0m \u001b[0mhour\u001b[0m \u001b[1;33m=\u001b[0m \u001b[1;36m9\u001b[0m\u001b[1;33m,\u001b[0m \u001b[0mtzinfo\u001b[0m \u001b[1;33m=\u001b[0m \u001b[0mfuso\u001b[0m\u001b[1;33m)\u001b[0m\u001b[1;33m\u001b[0m\u001b[1;33m\u001b[0m\u001b[0m\n\u001b[0m\u001b[0;32m      2\u001b[0m \u001b[0mfim\u001b[0m \u001b[1;33m=\u001b[0m \u001b[0mdatetime\u001b[0m\u001b[1;33m(\u001b[0m\u001b[1;36m2021\u001b[0m\u001b[1;33m,\u001b[0m \u001b[1;36m12\u001b[0m\u001b[1;33m,\u001b[0m \u001b[1;36m16\u001b[0m\u001b[1;33m,\u001b[0m \u001b[0mhour\u001b[0m \u001b[1;33m=\u001b[0m \u001b[1;36m18\u001b[0m\u001b[1;33m,\u001b[0m \u001b[0mtzinfo\u001b[0m \u001b[1;33m=\u001b[0m \u001b[0mfuso\u001b[0m\u001b[1;33m)\u001b[0m\u001b[1;33m\u001b[0m\u001b[1;33m\u001b[0m\u001b[0m\n",
      "\u001b[1;31mNameError\u001b[0m: name 'fuso' is not defined"
     ]
    }
   ],
   "source": [
    "inicio = datetime(2021, 12, 16, hour = 9, tzinfo = fuso)\n",
    "fim = datetime(2021, 12, 16, hour = 18, tzinfo = fuso)"
   ]
  },
  {
   "cell_type": "code",
   "execution_count": 50,
   "metadata": {},
   "outputs": [],
   "source": [
    "acao = mt5.copy_rates_range(\"WEGE3\", mt5.TIMEFRAME_M1, inicio, fim)"
   ]
  },
  {
   "cell_type": "code",
   "execution_count": 51,
   "metadata": {},
   "outputs": [
    {
     "data": {
      "text/plain": [
       "<AxesSubplot:xlabel='time'>"
      ]
     },
     "execution_count": 51,
     "metadata": {},
     "output_type": "execute_result"
    },
    {
     "data": {
      "image/png": "[encoded data removed]",
      "text/plain": [
       "<Figure size 432x288 with 1 Axes>"
      ]
     },
     "metadata": {
      "needs_background": "light"
     },
     "output_type": "display_data"
    }
   ],
   "source": [
    "acao_df = pd.DataFrame(acao)\n",
    "acao_df['time'] = pd.to_datetime(acao_df['time'], unit = 's')\n",
    "acao_df.index = acao_df['time']\n",
    "\n",
    "acao_df.close.plot()"
   ]
  },
  {
   "cell_type": "markdown",
   "metadata": {},
   "source": [
    "### Estrutura para exibir o preço atualizado em tempo real"
   ]
  },
  {
   "cell_type": "code",
   "execution_count": 53,
   "metadata": {},
   "outputs": [],
   "source": [
    "import sys"
   ]
  },
  {
   "cell_type": "code",
   "execution_count": 54,
   "metadata": {},
   "outputs": [
    {
     "name": "stdout",
     "output_type": "stream",
     "text": [
      "109875.0\n",
      "109875.0\n",
      "109880.0\n",
      "109875.0\n",
      "109875.0\n",
      "109870.0\n",
      "109870.0\n",
      "109875.0\n",
      "109875.0\n",
      "109875.0\n",
      "109870.0\n",
      "109870.0\n",
      "109860.0\n",
      "109865.0\n",
      "109870.0\n",
      "109870.0\n",
      "109875.0\n",
      "109870.0\n",
      "109870.0\n",
      "109865.0\n",
      "109865.0\n",
      "109865.0\n"
     ]
    },
    {
     "ename": "KeyboardInterrupt",
     "evalue": "",
     "output_type": "error",
     "traceback": [
      "\u001b[1;31m---------------------------------------------------------------------------\u001b[0m",
      "\u001b[1;31mKeyboardInterrupt\u001b[0m                         Traceback (most recent call last)",
      "\u001b[1;32m<ipython-input-54-409e2fff6b84>\u001b[0m in \u001b[0;36m<module>\u001b[1;34m\u001b[0m\n\u001b[0;32m      4\u001b[0m     \u001b[0msys\u001b[0m\u001b[1;33m.\u001b[0m\u001b[0mstdout\u001b[0m\u001b[1;33m.\u001b[0m\u001b[0mflush\u001b[0m\u001b[1;33m(\u001b[0m\u001b[1;33m)\u001b[0m\u001b[1;33m\u001b[0m\u001b[1;33m\u001b[0m\u001b[0m\n\u001b[0;32m      5\u001b[0m \u001b[1;33m\u001b[0m\u001b[0m\n\u001b[1;32m----> 6\u001b[1;33m     \u001b[0mtime\u001b[0m\u001b[1;33m.\u001b[0m\u001b[0msleep\u001b[0m\u001b[1;33m(\u001b[0m\u001b[1;36m0.5\u001b[0m\u001b[1;33m)\u001b[0m\u001b[1;33m\u001b[0m\u001b[1;33m\u001b[0m\u001b[0m\n\u001b[0m",
      "\u001b[1;31mKeyboardInterrupt\u001b[0m: "
     ]
    }
   ],
   "source": [
    "while(True):\n",
    "    ativo = mt5.symbol_info_tick(\"WING22\")\n",
    "    print(\"\\r\" + str(ativo.last))\n",
    "    sys.stdout.flush()\n",
    "    \n",
    "    time.sleep(0.5)"
   ]
  },
  {
   "cell_type": "code",
   "execution_count": 55,
   "metadata": {},
   "outputs": [
    {
     "data": {
      "text/plain": [
       "109865.0"
      ]
     },
     "execution_count": 55,
     "metadata": {},
     "output_type": "execute_result"
    }
   ],
   "source": [
    "ativo.last"
   ]
  },
  {
   "cell_type": "markdown",
   "metadata": {},
   "source": [
    "#### Ticks de mini-índice"
   ]
  },
  {
   "cell_type": "code",
   "execution_count": 77,
   "metadata": {},
   "outputs": [],
   "source": [
    "inicio = datetime(2021, 12, 16, hour = 7)"
   ]
  },
  {
   "cell_type": "code",
   "execution_count": 48,
   "metadata": {},
   "outputs": [],
   "source": [
    "dados = mt5.copy_ticks_from(\"WING22\",inicio,50000000, mt5.COPY_TICKS_ALL)"
   ]
  },
  {
   "cell_type": "code",
   "execution_count": 49,
   "metadata": {},
   "outputs": [
    {
     "data": {
      "text/plain": [
       "array([(1639648800, 109980., 109985., 109980.,   98, 1639648800001, 344, 9.800e+01),\n",
       "       (1639648800, 109980., 109985., 109980.,    3, 1639648800008, 344, 3.000e+00),\n",
       "       (1639648800, 109980., 109985., 109985.,    1, 1639648800010, 312, 1.000e+00),\n",
       "       ...,\n",
       "       (1639679479, 109950., 109965., 109965., 7942, 1639679479511,  56, 7.942e+03),\n",
       "       (1639683000,      0.,      0., 109965., 7942, 1639683000021,   6, 7.942e+03),\n",
       "       (1639688414,      0.,      0., 109965., 7942, 1639688414000,   6, 7.942e+03)],\n",
       "      dtype=[('time', '<i8'), ('bid', '<f8'), ('ask', '<f8'), ('last', '<f8'), ('volume', '<u8'), ('time_msc', '<i8'), ('flags', '<u4'), ('volume_real', '<f8')])"
      ]
     },
     "execution_count": 49,
     "metadata": {},
     "output_type": "execute_result"
    }
   ],
   "source": [
    "dados"
   ]
  },
  {
   "cell_type": "code",
   "execution_count": 50,
   "metadata": {},
   "outputs": [],
   "source": [
    "# a partir dos dados recebidos criamos o DataFrame\n",
    "dados_frame = pd.DataFrame(dados)"
   ]
  },
  {
   "cell_type": "code",
   "execution_count": 51,
   "metadata": {},
   "outputs": [
    {
     "data": {
      "text/html": [
       "<div>\n",
       "<style scoped>\n",
       "    .dataframe tbody tr th:only-of-type {\n",
       "        vertical-align: middle;\n",
       "    }\n",
       "\n",
       "    .dataframe tbody tr th {\n",
       "        vertical-align: top;\n",
       "    }\n",
       "\n",
       "    .dataframe thead th {\n",
       "        text-align: right;\n",
       "    }\n",
       "</style>\n",
       "<table border=\"1\" class=\"dataframe\">\n",
       "  <thead>\n",
       "    <tr style=\"text-align: right;\">\n",
       "      <th></th>\n",
       "      <th>time</th>\n",
       "      <th>bid</th>\n",
       "      <th>ask</th>\n",
       "      <th>last</th>\n",
       "      <th>volume</th>\n",
       "      <th>time_msc</th>\n",
       "      <th>flags</th>\n",
       "      <th>volume_real</th>\n",
       "    </tr>\n",
       "  </thead>\n",
       "  <tbody>\n",
       "    <tr>\n",
       "      <th>0</th>\n",
       "      <td>1639648800</td>\n",
       "      <td>109980.0</td>\n",
       "      <td>109985.0</td>\n",
       "      <td>109980.0</td>\n",
       "      <td>98</td>\n",
       "      <td>1639648800001</td>\n",
       "      <td>344</td>\n",
       "      <td>98.0</td>\n",
       "    </tr>\n",
       "    <tr>\n",
       "      <th>1</th>\n",
       "      <td>1639648800</td>\n",
       "      <td>109980.0</td>\n",
       "      <td>109985.0</td>\n",
       "      <td>109980.0</td>\n",
       "      <td>3</td>\n",
       "      <td>1639648800008</td>\n",
       "      <td>344</td>\n",
       "      <td>3.0</td>\n",
       "    </tr>\n",
       "    <tr>\n",
       "      <th>2</th>\n",
       "      <td>1639648800</td>\n",
       "      <td>109980.0</td>\n",
       "      <td>109985.0</td>\n",
       "      <td>109985.0</td>\n",
       "      <td>1</td>\n",
       "      <td>1639648800010</td>\n",
       "      <td>312</td>\n",
       "      <td>1.0</td>\n",
       "    </tr>\n",
       "    <tr>\n",
       "      <th>3</th>\n",
       "      <td>1639648800</td>\n",
       "      <td>109980.0</td>\n",
       "      <td>109985.0</td>\n",
       "      <td>109985.0</td>\n",
       "      <td>4</td>\n",
       "      <td>1639648800011</td>\n",
       "      <td>312</td>\n",
       "      <td>4.0</td>\n",
       "    </tr>\n",
       "    <tr>\n",
       "      <th>4</th>\n",
       "      <td>1639648800</td>\n",
       "      <td>109980.0</td>\n",
       "      <td>109985.0</td>\n",
       "      <td>109980.0</td>\n",
       "      <td>2</td>\n",
       "      <td>1639648800022</td>\n",
       "      <td>344</td>\n",
       "      <td>2.0</td>\n",
       "    </tr>\n",
       "  </tbody>\n",
       "</table>\n",
       "</div>"
      ],
      "text/plain": [
       "         time       bid       ask      last  volume       time_msc  flags  \\\n",
       "0  1639648800  109980.0  109985.0  109980.0      98  1639648800001    344   \n",
       "1  1639648800  109980.0  109985.0  109980.0       3  1639648800008    344   \n",
       "2  1639648800  109980.0  109985.0  109985.0       1  1639648800010    312   \n",
       "3  1639648800  109980.0  109985.0  109985.0       4  1639648800011    312   \n",
       "4  1639648800  109980.0  109985.0  109980.0       2  1639648800022    344   \n",
       "\n",
       "   volume_real  \n",
       "0         98.0  \n",
       "1          3.0  \n",
       "2          1.0  \n",
       "3          4.0  \n",
       "4          2.0  "
      ]
     },
     "execution_count": 51,
     "metadata": {},
     "output_type": "execute_result"
    }
   ],
   "source": [
    "dados_frame.head()"
   ]
  },
  {
   "cell_type": "code",
   "execution_count": 52,
   "metadata": {},
   "outputs": [],
   "source": [
    "# convertemos o tempo em segundos no formato datetime\n",
    "dados_frame['time']=pd.to_datetime(dados_frame['time'], unit='s')"
   ]
  },
  {
   "cell_type": "code",
   "execution_count": 53,
   "metadata": {},
   "outputs": [
    {
     "data": {
      "text/plain": [
       "<AxesSubplot:xlabel='time'>"
      ]
     },
     "execution_count": 53,
     "metadata": {},
     "output_type": "execute_result"
    },
    {
     "data": {
      "image/png": "[encoded data removed]",
      "text/plain": [
       "<Figure size 432x288 with 1 Axes>"
      ]
     },
     "metadata": {
      "needs_background": "light"
     },
     "output_type": "display_data"
    }
   ],
   "source": [
    "dados_frame.index = dados_frame['time']\n",
    "dados_frame['last'].plot()"
   ]
  },
  {
   "cell_type": "code",
   "execution_count": 54,
   "metadata": {},
   "outputs": [
    {
     "data": {
      "text/plain": [
       "(1248320, 8)"
      ]
     },
     "execution_count": 54,
     "metadata": {},
     "output_type": "execute_result"
    }
   ],
   "source": [
    "dados_frame.shape"
   ]
  },
  {
   "cell_type": "code",
   "execution_count": null,
   "metadata": {},
   "outputs": [],
   "source": []
  }
 ],
 "metadata": {
  "kernelspec": {
   "display_name": "Python 3",
   "language": "python",
   "name": "python3"
  },
  "language_info": {
   "codemirror_mode": {
    "name": "ipython",
    "version": 3
   },
   "file_extension": ".py",
   "mimetype": "text/x-python",
   "name": "python",
   "nbconvert_exporter": "python",
   "pygments_lexer": "ipython3",
   "version": "3.8.5"
  }
 },
 "nbformat": 4,
 "nbformat_minor": 4
}
