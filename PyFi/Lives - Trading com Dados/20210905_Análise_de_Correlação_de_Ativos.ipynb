{
 "cells": [
  {
   "cell_type": "markdown",
   "metadata": {},
   "source": [
    "# 1. Instalando e importando bibliotecas "
   ]
  },
    {
   "cell_type": "markdown",
   "metadata": {},
   "source": [
    "Esse código é correspondente ao vídeo https://youtu.be/GakKb-ju36U"
   ]
  },
  {
   "cell_type": "code",
   "execution_count": 1,
   "metadata": {},
   "outputs": [
    {
     "name": "stdout",
     "output_type": "stream",
     "text": [
      "Requirement already up-to-date: pandas_datareader in c:\\programdata\\anaconda3\\lib\\site-packages (0.10.0)\n",
      "Requirement already satisfied, skipping upgrade: lxml in c:\\programdata\\anaconda3\\lib\\site-packages (from pandas_datareader) (4.6.1)\n",
      "Requirement already satisfied, skipping upgrade: pandas>=0.23 in c:\\programdata\\anaconda3\\lib\\site-packages (from pandas_datareader) (1.1.3)\n",
      "Requirement already satisfied, skipping upgrade: requests>=2.19.0 in c:\\programdata\\anaconda3\\lib\\site-packages (from pandas_datareader) (2.24.0)\n",
      "Requirement already satisfied, skipping upgrade: numpy>=1.15.4 in c:\\programdata\\anaconda3\\lib\\site-packages (from pandas>=0.23->pandas_datareader) (1.19.2)\n",
      "Requirement already satisfied, skipping upgrade: pytz>=2017.2 in c:\\programdata\\anaconda3\\lib\\site-packages (from pandas>=0.23->pandas_datareader) (2020.1)\n",
      "Requirement already satisfied, skipping upgrade: python-dateutil>=2.7.3 in c:\\programdata\\anaconda3\\lib\\site-packages (from pandas>=0.23->pandas_datareader) (2.8.1)\n",
      "Requirement already satisfied, skipping upgrade: certifi>=2017.4.17 in c:\\programdata\\anaconda3\\lib\\site-packages (from requests>=2.19.0->pandas_datareader) (2020.6.20)\n",
      "Requirement already satisfied, skipping upgrade: urllib3!=1.25.0,!=1.25.1,<1.26,>=1.21.1 in c:\\programdata\\anaconda3\\lib\\site-packages (from requests>=2.19.0->pandas_datareader) (1.25.11)\n",
      "Requirement already satisfied, skipping upgrade: idna<3,>=2.5 in c:\\programdata\\anaconda3\\lib\\site-packages (from requests>=2.19.0->pandas_datareader) (2.10)\n",
      "Requirement already satisfied, skipping upgrade: chardet<4,>=3.0.2 in c:\\programdata\\anaconda3\\lib\\site-packages (from requests>=2.19.0->pandas_datareader) (3.0.4)\n",
      "Requirement already satisfied, skipping upgrade: six>=1.5 in c:\\programdata\\anaconda3\\lib\\site-packages (from python-dateutil>=2.7.3->pandas>=0.23->pandas_datareader) (1.15.0)\n"
     ]
    }
   ],
   "source": [
    "!pip install -U pandas_datareader"
   ]
  },
  {
   "cell_type": "code",
   "execution_count": 7,
   "metadata": {},
   "outputs": [],
   "source": [
    "import pandas as pd"
   ]
  },
  {
   "cell_type": "code",
   "execution_count": 12,
   "metadata": {},
   "outputs": [],
   "source": [
    "import pandas_datareader as pdr\n",
    "import yfinance as yf\n",
    "import investpy"
   ]
  },
  {
   "cell_type": "markdown",
   "metadata": {},
   "source": [
    "# 2. Importando dados de ações"
   ]
  },
  {
   "cell_type": "code",
   "execution_count": 3,
   "metadata": {},
   "outputs": [],
   "source": [
    "dados = pdr.data.get_data_yahoo('WEGE3.SA',start='2019-01-01')"
   ]
  },
  {
   "cell_type": "code",
   "execution_count": 4,
   "metadata": {},
   "outputs": [
    {
     "data": {
      "text/html": [
       "<div>\n",
       "<style scoped>\n",
       "    .dataframe tbody tr th:only-of-type {\n",
       "        vertical-align: middle;\n",
       "    }\n",
       "\n",
       "    .dataframe tbody tr th {\n",
       "        vertical-align: top;\n",
       "    }\n",
       "\n",
       "    .dataframe thead th {\n",
       "        text-align: right;\n",
       "    }\n",
       "</style>\n",
       "<table border=\"1\" class=\"dataframe\">\n",
       "  <thead>\n",
       "    <tr style=\"text-align: right;\">\n",
       "      <th></th>\n",
       "      <th>High</th>\n",
       "      <th>Low</th>\n",
       "      <th>Open</th>\n",
       "      <th>Close</th>\n",
       "      <th>Volume</th>\n",
       "      <th>Adj Close</th>\n",
       "    </tr>\n",
       "    <tr>\n",
       "      <th>Date</th>\n",
       "      <th></th>\n",
       "      <th></th>\n",
       "      <th></th>\n",
       "      <th></th>\n",
       "      <th></th>\n",
       "      <th></th>\n",
       "    </tr>\n",
       "  </thead>\n",
       "  <tbody>\n",
       "    <tr>\n",
       "      <th>2019-01-02</th>\n",
       "      <td>9.090</td>\n",
       "      <td>8.75</td>\n",
       "      <td>8.810</td>\n",
       "      <td>8.990</td>\n",
       "      <td>4751200.0</td>\n",
       "      <td>8.693207</td>\n",
       "    </tr>\n",
       "    <tr>\n",
       "      <th>2019-01-03</th>\n",
       "      <td>9.195</td>\n",
       "      <td>8.85</td>\n",
       "      <td>9.000</td>\n",
       "      <td>9.195</td>\n",
       "      <td>8316400.0</td>\n",
       "      <td>8.891438</td>\n",
       "    </tr>\n",
       "    <tr>\n",
       "      <th>2019-01-04</th>\n",
       "      <td>9.340</td>\n",
       "      <td>9.00</td>\n",
       "      <td>9.200</td>\n",
       "      <td>9.300</td>\n",
       "      <td>8340200.0</td>\n",
       "      <td>8.992972</td>\n",
       "    </tr>\n",
       "    <tr>\n",
       "      <th>2019-01-07</th>\n",
       "      <td>9.380</td>\n",
       "      <td>9.10</td>\n",
       "      <td>9.375</td>\n",
       "      <td>9.155</td>\n",
       "      <td>5860200.0</td>\n",
       "      <td>8.852759</td>\n",
       "    </tr>\n",
       "    <tr>\n",
       "      <th>2019-01-08</th>\n",
       "      <td>9.215</td>\n",
       "      <td>9.02</td>\n",
       "      <td>9.185</td>\n",
       "      <td>9.080</td>\n",
       "      <td>6306800.0</td>\n",
       "      <td>8.780235</td>\n",
       "    </tr>\n",
       "  </tbody>\n",
       "</table>\n",
       "</div>"
      ],
      "text/plain": [
       "             High   Low   Open  Close     Volume  Adj Close\n",
       "Date                                                       \n",
       "2019-01-02  9.090  8.75  8.810  8.990  4751200.0   8.693207\n",
       "2019-01-03  9.195  8.85  9.000  9.195  8316400.0   8.891438\n",
       "2019-01-04  9.340  9.00  9.200  9.300  8340200.0   8.992972\n",
       "2019-01-07  9.380  9.10  9.375  9.155  5860200.0   8.852759\n",
       "2019-01-08  9.215  9.02  9.185  9.080  6306800.0   8.780235"
      ]
     },
     "execution_count": 4,
     "metadata": {},
     "output_type": "execute_result"
    }
   ],
   "source": [
    "dados.head()"
   ]
  },
  {
   "cell_type": "code",
   "execution_count": 65,
   "metadata": {},
   "outputs": [],
   "source": [
    "inicio = '2020-09-01'"
   ]
  },
  {
   "cell_type": "code",
   "execution_count": 66,
   "metadata": {},
   "outputs": [],
   "source": [
    "acoes = ['PETR4.SA', 'WEGE3.SA', 'MGLU3.SA', 'LREN3.SA', 'VALE3.SA', 'BPAC11.SA']"
   ]
  },
  {
   "cell_type": "code",
   "execution_count": 67,
   "metadata": {},
   "outputs": [],
   "source": [
    "precos_acoes = pd.DataFrame()\n",
    "\n",
    "for i in acoes:\n",
    "    precos_acoes[i] = pdr.data.get_data_yahoo(i,start=inicio)['Adj Close']"
   ]
  },
  {
   "cell_type": "code",
   "execution_count": 68,
   "metadata": {},
   "outputs": [
    {
     "data": {
      "text/html": [
       "<div>\n",
       "<style scoped>\n",
       "    .dataframe tbody tr th:only-of-type {\n",
       "        vertical-align: middle;\n",
       "    }\n",
       "\n",
       "    .dataframe tbody tr th {\n",
       "        vertical-align: top;\n",
       "    }\n",
       "\n",
       "    .dataframe thead th {\n",
       "        text-align: right;\n",
       "    }\n",
       "</style>\n",
       "<table border=\"1\" class=\"dataframe\">\n",
       "  <thead>\n",
       "    <tr style=\"text-align: right;\">\n",
       "      <th></th>\n",
       "      <th>PETR4.SA</th>\n",
       "      <th>WEGE3.SA</th>\n",
       "      <th>MGLU3.SA</th>\n",
       "      <th>LREN3.SA</th>\n",
       "      <th>VALE3.SA</th>\n",
       "      <th>BPAC11.SA</th>\n",
       "    </tr>\n",
       "    <tr>\n",
       "      <th>Date</th>\n",
       "      <th></th>\n",
       "      <th></th>\n",
       "      <th></th>\n",
       "      <th></th>\n",
       "      <th></th>\n",
       "      <th></th>\n",
       "    </tr>\n",
       "  </thead>\n",
       "  <tbody>\n",
       "    <tr>\n",
       "      <th>2020-09-01</th>\n",
       "      <td>20.881645</td>\n",
       "      <td>33.097397</td>\n",
       "      <td>23.790453</td>\n",
       "      <td>45.038513</td>\n",
       "      <td>55.627811</td>\n",
       "      <td>20.699972</td>\n",
       "    </tr>\n",
       "    <tr>\n",
       "      <th>2020-09-02</th>\n",
       "      <td>20.817730</td>\n",
       "      <td>33.038055</td>\n",
       "      <td>23.336256</td>\n",
       "      <td>45.147465</td>\n",
       "      <td>55.231503</td>\n",
       "      <td>20.512371</td>\n",
       "    </tr>\n",
       "    <tr>\n",
       "      <th>2020-09-03</th>\n",
       "      <td>20.890776</td>\n",
       "      <td>31.861135</td>\n",
       "      <td>22.085964</td>\n",
       "      <td>45.256416</td>\n",
       "      <td>53.430080</td>\n",
       "      <td>20.110025</td>\n",
       "    </tr>\n",
       "    <tr>\n",
       "      <th>2020-09-04</th>\n",
       "      <td>20.927299</td>\n",
       "      <td>31.890806</td>\n",
       "      <td>22.153343</td>\n",
       "      <td>45.860634</td>\n",
       "      <td>54.483913</td>\n",
       "      <td>19.784197</td>\n",
       "    </tr>\n",
       "    <tr>\n",
       "      <th>2020-09-08</th>\n",
       "      <td>20.324678</td>\n",
       "      <td>31.153984</td>\n",
       "      <td>21.883823</td>\n",
       "      <td>45.731865</td>\n",
       "      <td>53.385048</td>\n",
       "      <td>19.260897</td>\n",
       "    </tr>\n",
       "  </tbody>\n",
       "</table>\n",
       "</div>"
      ],
      "text/plain": [
       "             PETR4.SA   WEGE3.SA   MGLU3.SA   LREN3.SA   VALE3.SA  BPAC11.SA\n",
       "Date                                                                        \n",
       "2020-09-01  20.881645  33.097397  23.790453  45.038513  55.627811  20.699972\n",
       "2020-09-02  20.817730  33.038055  23.336256  45.147465  55.231503  20.512371\n",
       "2020-09-03  20.890776  31.861135  22.085964  45.256416  53.430080  20.110025\n",
       "2020-09-04  20.927299  31.890806  22.153343  45.860634  54.483913  19.784197\n",
       "2020-09-08  20.324678  31.153984  21.883823  45.731865  53.385048  19.260897"
      ]
     },
     "execution_count": 68,
     "metadata": {},
     "output_type": "execute_result"
    }
   ],
   "source": [
    "precos_acoes.head()"
   ]
  },
  {
   "cell_type": "markdown",
   "metadata": {},
   "source": [
    "# 3. Importando dados de FIIs, ETFs e BDRs"
   ]
  },
  {
   "cell_type": "code",
   "execution_count": 69,
   "metadata": {},
   "outputs": [
    {
     "name": "stdout",
     "output_type": "stream",
     "text": [
      "[*********************100%***********************]  1 of 1 completed\n"
     ]
    }
   ],
   "source": [
    "petr = yf.download('PETR4.SA', start = inicio)"
   ]
  },
  {
   "cell_type": "code",
   "execution_count": 70,
   "metadata": {},
   "outputs": [
    {
     "data": {
      "text/html": [
       "<div>\n",
       "<style scoped>\n",
       "    .dataframe tbody tr th:only-of-type {\n",
       "        vertical-align: middle;\n",
       "    }\n",
       "\n",
       "    .dataframe tbody tr th {\n",
       "        vertical-align: top;\n",
       "    }\n",
       "\n",
       "    .dataframe thead th {\n",
       "        text-align: right;\n",
       "    }\n",
       "</style>\n",
       "<table border=\"1\" class=\"dataframe\">\n",
       "  <thead>\n",
       "    <tr style=\"text-align: right;\">\n",
       "      <th></th>\n",
       "      <th>Open</th>\n",
       "      <th>High</th>\n",
       "      <th>Low</th>\n",
       "      <th>Close</th>\n",
       "      <th>Adj Close</th>\n",
       "      <th>Volume</th>\n",
       "    </tr>\n",
       "    <tr>\n",
       "      <th>Date</th>\n",
       "      <th></th>\n",
       "      <th></th>\n",
       "      <th></th>\n",
       "      <th></th>\n",
       "      <th></th>\n",
       "      <th></th>\n",
       "    </tr>\n",
       "  </thead>\n",
       "  <tbody>\n",
       "    <tr>\n",
       "      <th>2020-09-01</th>\n",
       "      <td>22.200001</td>\n",
       "      <td>22.889999</td>\n",
       "      <td>22.120001</td>\n",
       "      <td>22.870001</td>\n",
       "      <td>20.881645</td>\n",
       "      <td>66299700</td>\n",
       "    </tr>\n",
       "    <tr>\n",
       "      <th>2020-09-02</th>\n",
       "      <td>22.930000</td>\n",
       "      <td>23.100000</td>\n",
       "      <td>22.520000</td>\n",
       "      <td>22.799999</td>\n",
       "      <td>20.817730</td>\n",
       "      <td>53618000</td>\n",
       "    </tr>\n",
       "    <tr>\n",
       "      <th>2020-09-03</th>\n",
       "      <td>22.610001</td>\n",
       "      <td>23.120001</td>\n",
       "      <td>22.570000</td>\n",
       "      <td>22.879999</td>\n",
       "      <td>20.890776</td>\n",
       "      <td>87642400</td>\n",
       "    </tr>\n",
       "    <tr>\n",
       "      <th>2020-09-04</th>\n",
       "      <td>23.000000</td>\n",
       "      <td>23.030001</td>\n",
       "      <td>22.580000</td>\n",
       "      <td>22.920000</td>\n",
       "      <td>20.927299</td>\n",
       "      <td>52351100</td>\n",
       "    </tr>\n",
       "    <tr>\n",
       "      <th>2020-09-08</th>\n",
       "      <td>22.500000</td>\n",
       "      <td>22.500000</td>\n",
       "      <td>21.910000</td>\n",
       "      <td>22.260000</td>\n",
       "      <td>20.324678</td>\n",
       "      <td>74490200</td>\n",
       "    </tr>\n",
       "  </tbody>\n",
       "</table>\n",
       "</div>"
      ],
      "text/plain": [
       "                 Open       High        Low      Close  Adj Close    Volume\n",
       "Date                                                                       \n",
       "2020-09-01  22.200001  22.889999  22.120001  22.870001  20.881645  66299700\n",
       "2020-09-02  22.930000  23.100000  22.520000  22.799999  20.817730  53618000\n",
       "2020-09-03  22.610001  23.120001  22.570000  22.879999  20.890776  87642400\n",
       "2020-09-04  23.000000  23.030001  22.580000  22.920000  20.927299  52351100\n",
       "2020-09-08  22.500000  22.500000  21.910000  22.260000  20.324678  74490200"
      ]
     },
     "execution_count": 70,
     "metadata": {},
     "output_type": "execute_result"
    }
   ],
   "source": [
    "petr.head()"
   ]
  },
  {
   "cell_type": "code",
   "execution_count": 71,
   "metadata": {},
   "outputs": [],
   "source": [
    "ativos = ['KNRI11.SA', 'ONEF11.SA', 'HCTR11.SA', 'HGLG11.SA', 'HGBS11.SA', 'SMAL11.SA', 'IVVB11.SA', 'AAPL34.SA']"
   ]
  },
  {
   "cell_type": "code",
   "execution_count": 72,
   "metadata": {},
   "outputs": [
    {
     "name": "stdout",
     "output_type": "stream",
     "text": [
      "[*********************100%***********************]  1 of 1 completed\n",
      "[*********************100%***********************]  1 of 1 completed\n",
      "[*********************100%***********************]  1 of 1 completed\n",
      "[*********************100%***********************]  1 of 1 completed\n",
      "[*********************100%***********************]  1 of 1 completed\n",
      "[*********************100%***********************]  1 of 1 completed\n",
      "[*********************100%***********************]  1 of 1 completed\n",
      "[*********************100%***********************]  1 of 1 completed\n"
     ]
    }
   ],
   "source": [
    "precos_ativos = pd.DataFrame()\n",
    "\n",
    "for i in ativos:\n",
    "    precos_ativos[i] = yf.download(i, start = inicio)['Adj Close']"
   ]
  },
  {
   "cell_type": "markdown",
   "metadata": {},
   "source": [
    "# 4. Importando dados de índices, commodities e criptomoedas"
   ]
  },
  {
   "cell_type": "markdown",
   "metadata": {},
   "source": [
    "### Índices"
   ]
  },
  {
   "cell_type": "code",
   "execution_count": 73,
   "metadata": {},
   "outputs": [],
   "source": [
    "search_results = investpy.search_quotes(text = 'bvsp', products = ['indices'], countries = ['brazil'], n_results = 10)"
   ]
  },
  {
   "cell_type": "code",
   "execution_count": 74,
   "metadata": {},
   "outputs": [
    {
     "name": "stdout",
     "output_type": "stream",
     "text": [
      "{\"id_\": 17920, \"name\": \"Bovespa\", \"symbol\": \"BVSP\", \"country\": \"brazil\", \"tag\": \"/indices/bovespa\", \"pair_type\": \"indices\", \"exchange\": \"BM&FBovespa\"}\n"
     ]
    }
   ],
   "source": [
    "for search_result in search_results[:1]:\n",
    "    print(search_result)"
   ]
  },
  {
   "cell_type": "code",
   "execution_count": 75,
   "metadata": {},
   "outputs": [],
   "source": [
    "ibov = search_result.retrieve_historical_data(from_date = '01/09/2020', to_date = '04/09/2021')"
   ]
  },
  {
   "cell_type": "code",
   "execution_count": 76,
   "metadata": {},
   "outputs": [
    {
     "data": {
      "text/html": [
       "<div>\n",
       "<style scoped>\n",
       "    .dataframe tbody tr th:only-of-type {\n",
       "        vertical-align: middle;\n",
       "    }\n",
       "\n",
       "    .dataframe tbody tr th {\n",
       "        vertical-align: top;\n",
       "    }\n",
       "\n",
       "    .dataframe thead th {\n",
       "        text-align: right;\n",
       "    }\n",
       "</style>\n",
       "<table border=\"1\" class=\"dataframe\">\n",
       "  <thead>\n",
       "    <tr style=\"text-align: right;\">\n",
       "      <th></th>\n",
       "      <th>Open</th>\n",
       "      <th>High</th>\n",
       "      <th>Low</th>\n",
       "      <th>Close</th>\n",
       "      <th>Volume</th>\n",
       "    </tr>\n",
       "    <tr>\n",
       "      <th>Date</th>\n",
       "      <th></th>\n",
       "      <th></th>\n",
       "      <th></th>\n",
       "      <th></th>\n",
       "      <th></th>\n",
       "    </tr>\n",
       "  </thead>\n",
       "  <tbody>\n",
       "    <tr>\n",
       "      <th>2020-09-01</th>\n",
       "      <td>99382.0</td>\n",
       "      <td>102238.0</td>\n",
       "      <td>99382.0</td>\n",
       "      <td>102168.0</td>\n",
       "      <td>9384718</td>\n",
       "    </tr>\n",
       "    <tr>\n",
       "      <th>2020-09-02</th>\n",
       "      <td>102168.0</td>\n",
       "      <td>102824.0</td>\n",
       "      <td>100872.0</td>\n",
       "      <td>101911.0</td>\n",
       "      <td>7557936</td>\n",
       "    </tr>\n",
       "    <tr>\n",
       "      <th>2020-09-03</th>\n",
       "      <td>101911.0</td>\n",
       "      <td>103226.0</td>\n",
       "      <td>99751.0</td>\n",
       "      <td>100721.0</td>\n",
       "      <td>12610951</td>\n",
       "    </tr>\n",
       "    <tr>\n",
       "      <th>2020-09-04</th>\n",
       "      <td>100733.0</td>\n",
       "      <td>101582.0</td>\n",
       "      <td>98961.0</td>\n",
       "      <td>101242.0</td>\n",
       "      <td>11327366</td>\n",
       "    </tr>\n",
       "    <tr>\n",
       "      <th>2020-09-08</th>\n",
       "      <td>101239.0</td>\n",
       "      <td>101239.0</td>\n",
       "      <td>99373.0</td>\n",
       "      <td>100050.0</td>\n",
       "      <td>8478956</td>\n",
       "    </tr>\n",
       "  </tbody>\n",
       "</table>\n",
       "</div>"
      ],
      "text/plain": [
       "                Open      High       Low     Close    Volume\n",
       "Date                                                        \n",
       "2020-09-01   99382.0  102238.0   99382.0  102168.0   9384718\n",
       "2020-09-02  102168.0  102824.0  100872.0  101911.0   7557936\n",
       "2020-09-03  101911.0  103226.0   99751.0  100721.0  12610951\n",
       "2020-09-04  100733.0  101582.0   98961.0  101242.0  11327366\n",
       "2020-09-08  101239.0  101239.0   99373.0  100050.0   8478956"
      ]
     },
     "execution_count": 76,
     "metadata": {},
     "output_type": "execute_result"
    }
   ],
   "source": [
    "ibov.head()"
   ]
  },
  {
   "cell_type": "code",
   "execution_count": 77,
   "metadata": {},
   "outputs": [],
   "source": [
    "ibov = pd.DataFrame(ibov.Close).rename(columns = {'Close': 'IBOV'})"
   ]
  },
  {
   "cell_type": "code",
   "execution_count": 78,
   "metadata": {},
   "outputs": [
    {
     "data": {
      "text/html": [
       "<div>\n",
       "<style scoped>\n",
       "    .dataframe tbody tr th:only-of-type {\n",
       "        vertical-align: middle;\n",
       "    }\n",
       "\n",
       "    .dataframe tbody tr th {\n",
       "        vertical-align: top;\n",
       "    }\n",
       "\n",
       "    .dataframe thead th {\n",
       "        text-align: right;\n",
       "    }\n",
       "</style>\n",
       "<table border=\"1\" class=\"dataframe\">\n",
       "  <thead>\n",
       "    <tr style=\"text-align: right;\">\n",
       "      <th></th>\n",
       "      <th>IBOV</th>\n",
       "    </tr>\n",
       "    <tr>\n",
       "      <th>Date</th>\n",
       "      <th></th>\n",
       "    </tr>\n",
       "  </thead>\n",
       "  <tbody>\n",
       "    <tr>\n",
       "      <th>2020-09-01</th>\n",
       "      <td>102168.0</td>\n",
       "    </tr>\n",
       "    <tr>\n",
       "      <th>2020-09-02</th>\n",
       "      <td>101911.0</td>\n",
       "    </tr>\n",
       "    <tr>\n",
       "      <th>2020-09-03</th>\n",
       "      <td>100721.0</td>\n",
       "    </tr>\n",
       "    <tr>\n",
       "      <th>2020-09-04</th>\n",
       "      <td>101242.0</td>\n",
       "    </tr>\n",
       "    <tr>\n",
       "      <th>2020-09-08</th>\n",
       "      <td>100050.0</td>\n",
       "    </tr>\n",
       "  </tbody>\n",
       "</table>\n",
       "</div>"
      ],
      "text/plain": [
       "                IBOV\n",
       "Date                \n",
       "2020-09-01  102168.0\n",
       "2020-09-02  101911.0\n",
       "2020-09-03  100721.0\n",
       "2020-09-04  101242.0\n",
       "2020-09-08  100050.0"
      ]
     },
     "execution_count": 78,
     "metadata": {},
     "output_type": "execute_result"
    }
   ],
   "source": [
    "ibov.head()"
   ]
  },
  {
   "cell_type": "markdown",
   "metadata": {},
   "source": [
    "### Commodities"
   ]
  },
  {
   "cell_type": "code",
   "execution_count": 43,
   "metadata": {},
   "outputs": [
    {
     "name": "stdout",
     "output_type": "stream",
     "text": [
      "{\"id_\": 964526, \"name\": \"Arabica Coffee 4/5 Futures\", \"symbol\": \"ICFc1\", \"country\": \"brazil\", \"tag\": \"/commodities/arabica-coffee-4-5\", \"pair_type\": \"commodities\", \"exchange\": \"BM&FBovespa\"}\n"
     ]
    }
   ],
   "source": [
    "search_results = investpy.search_quotes(text = 'coffee', products = ['commodities'], countries = ['brazil'], n_results = 10)\n",
    "\n",
    "for search_result in search_results[:5]:\n",
    "    print(search_result)"
   ]
  },
  {
   "cell_type": "code",
   "execution_count": 79,
   "metadata": {},
   "outputs": [],
   "source": [
    "cafe = search_result.retrieve_historical_data(from_date = '01/09/2020', to_date = '04/09/2021')"
   ]
  },
  {
   "cell_type": "code",
   "execution_count": 80,
   "metadata": {},
   "outputs": [
    {
     "data": {
      "text/html": [
       "<div>\n",
       "<style scoped>\n",
       "    .dataframe tbody tr th:only-of-type {\n",
       "        vertical-align: middle;\n",
       "    }\n",
       "\n",
       "    .dataframe tbody tr th {\n",
       "        vertical-align: top;\n",
       "    }\n",
       "\n",
       "    .dataframe thead th {\n",
       "        text-align: right;\n",
       "    }\n",
       "</style>\n",
       "<table border=\"1\" class=\"dataframe\">\n",
       "  <thead>\n",
       "    <tr style=\"text-align: right;\">\n",
       "      <th></th>\n",
       "      <th>Open</th>\n",
       "      <th>High</th>\n",
       "      <th>Low</th>\n",
       "      <th>Close</th>\n",
       "      <th>Volume</th>\n",
       "    </tr>\n",
       "    <tr>\n",
       "      <th>Date</th>\n",
       "      <th></th>\n",
       "      <th></th>\n",
       "      <th></th>\n",
       "      <th></th>\n",
       "      <th></th>\n",
       "    </tr>\n",
       "  </thead>\n",
       "  <tbody>\n",
       "    <tr>\n",
       "      <th>2020-09-01</th>\n",
       "      <td>99382.0</td>\n",
       "      <td>102238.0</td>\n",
       "      <td>99382.0</td>\n",
       "      <td>102168.0</td>\n",
       "      <td>9384718</td>\n",
       "    </tr>\n",
       "    <tr>\n",
       "      <th>2020-09-02</th>\n",
       "      <td>102168.0</td>\n",
       "      <td>102824.0</td>\n",
       "      <td>100872.0</td>\n",
       "      <td>101911.0</td>\n",
       "      <td>7557936</td>\n",
       "    </tr>\n",
       "    <tr>\n",
       "      <th>2020-09-03</th>\n",
       "      <td>101911.0</td>\n",
       "      <td>103226.0</td>\n",
       "      <td>99751.0</td>\n",
       "      <td>100721.0</td>\n",
       "      <td>12610951</td>\n",
       "    </tr>\n",
       "    <tr>\n",
       "      <th>2020-09-04</th>\n",
       "      <td>100733.0</td>\n",
       "      <td>101582.0</td>\n",
       "      <td>98961.0</td>\n",
       "      <td>101242.0</td>\n",
       "      <td>11327366</td>\n",
       "    </tr>\n",
       "    <tr>\n",
       "      <th>2020-09-08</th>\n",
       "      <td>101239.0</td>\n",
       "      <td>101239.0</td>\n",
       "      <td>99373.0</td>\n",
       "      <td>100050.0</td>\n",
       "      <td>8478956</td>\n",
       "    </tr>\n",
       "  </tbody>\n",
       "</table>\n",
       "</div>"
      ],
      "text/plain": [
       "                Open      High       Low     Close    Volume\n",
       "Date                                                        \n",
       "2020-09-01   99382.0  102238.0   99382.0  102168.0   9384718\n",
       "2020-09-02  102168.0  102824.0  100872.0  101911.0   7557936\n",
       "2020-09-03  101911.0  103226.0   99751.0  100721.0  12610951\n",
       "2020-09-04  100733.0  101582.0   98961.0  101242.0  11327366\n",
       "2020-09-08  101239.0  101239.0   99373.0  100050.0   8478956"
      ]
     },
     "execution_count": 80,
     "metadata": {},
     "output_type": "execute_result"
    }
   ],
   "source": [
    "cafe.head()"
   ]
  },
  {
   "cell_type": "code",
   "execution_count": 81,
   "metadata": {},
   "outputs": [],
   "source": [
    "cafe = pd.DataFrame(cafe.Close).rename(columns = {'Close': 'Cafe'})"
   ]
  },
  {
   "cell_type": "markdown",
   "metadata": {},
   "source": [
    "### Criptomoedas"
   ]
  },
  {
   "cell_type": "code",
   "execution_count": 84,
   "metadata": {},
   "outputs": [],
   "source": [
    "bitcoin = investpy.get_crypto_historical_data(crypto = 'bitcoin',from_date = '01/09/2020', to_date = '04/09/2021')\n",
    "\n",
    "bitcoin = pd.DataFrame(bitcoin.Close).rename(columns = {'Close': 'Bitcoin'})"
   ]
  },
  {
   "cell_type": "code",
   "execution_count": 85,
   "metadata": {},
   "outputs": [
    {
     "data": {
      "text/html": [
       "<div>\n",
       "<style scoped>\n",
       "    .dataframe tbody tr th:only-of-type {\n",
       "        vertical-align: middle;\n",
       "    }\n",
       "\n",
       "    .dataframe tbody tr th {\n",
       "        vertical-align: top;\n",
       "    }\n",
       "\n",
       "    .dataframe thead th {\n",
       "        text-align: right;\n",
       "    }\n",
       "</style>\n",
       "<table border=\"1\" class=\"dataframe\">\n",
       "  <thead>\n",
       "    <tr style=\"text-align: right;\">\n",
       "      <th></th>\n",
       "      <th>Bitcoin</th>\n",
       "    </tr>\n",
       "    <tr>\n",
       "      <th>Date</th>\n",
       "      <th></th>\n",
       "    </tr>\n",
       "  </thead>\n",
       "  <tbody>\n",
       "    <tr>\n",
       "      <th>2020-09-01</th>\n",
       "      <td>11914.9</td>\n",
       "    </tr>\n",
       "    <tr>\n",
       "      <th>2020-09-02</th>\n",
       "      <td>11413.3</td>\n",
       "    </tr>\n",
       "    <tr>\n",
       "      <th>2020-09-03</th>\n",
       "      <td>10168.8</td>\n",
       "    </tr>\n",
       "    <tr>\n",
       "      <th>2020-09-04</th>\n",
       "      <td>10472.5</td>\n",
       "    </tr>\n",
       "    <tr>\n",
       "      <th>2020-09-05</th>\n",
       "      <td>10092.2</td>\n",
       "    </tr>\n",
       "  </tbody>\n",
       "</table>\n",
       "</div>"
      ],
      "text/plain": [
       "            Bitcoin\n",
       "Date               \n",
       "2020-09-01  11914.9\n",
       "2020-09-02  11413.3\n",
       "2020-09-03  10168.8\n",
       "2020-09-04  10472.5\n",
       "2020-09-05  10092.2"
      ]
     },
     "execution_count": 85,
     "metadata": {},
     "output_type": "execute_result"
    }
   ],
   "source": [
    "bitcoin.head()"
   ]
  },
  {
   "cell_type": "code",
   "execution_count": 87,
   "metadata": {},
   "outputs": [],
   "source": [
    "ethereum = investpy.get_crypto_historical_data(crypto = 'ethereum',from_date = '01/09/2020', to_date = '04/09/2021')\n",
    "\n",
    "ethereum = pd.DataFrame(ethereum.Close).rename(columns = {'Close': 'Ethereum'})"
   ]
  },
  {
   "cell_type": "code",
   "execution_count": 88,
   "metadata": {},
   "outputs": [
    {
     "data": {
      "text/html": [
       "<div>\n",
       "<style scoped>\n",
       "    .dataframe tbody tr th:only-of-type {\n",
       "        vertical-align: middle;\n",
       "    }\n",
       "\n",
       "    .dataframe tbody tr th {\n",
       "        vertical-align: top;\n",
       "    }\n",
       "\n",
       "    .dataframe thead th {\n",
       "        text-align: right;\n",
       "    }\n",
       "</style>\n",
       "<table border=\"1\" class=\"dataframe\">\n",
       "  <thead>\n",
       "    <tr style=\"text-align: right;\">\n",
       "      <th></th>\n",
       "      <th>Ethereum</th>\n",
       "    </tr>\n",
       "    <tr>\n",
       "      <th>Date</th>\n",
       "      <th></th>\n",
       "    </tr>\n",
       "  </thead>\n",
       "  <tbody>\n",
       "    <tr>\n",
       "      <th>2020-09-01</th>\n",
       "      <td>475.80</td>\n",
       "    </tr>\n",
       "    <tr>\n",
       "      <th>2020-09-02</th>\n",
       "      <td>439.08</td>\n",
       "    </tr>\n",
       "    <tr>\n",
       "      <th>2020-09-03</th>\n",
       "      <td>381.97</td>\n",
       "    </tr>\n",
       "    <tr>\n",
       "      <th>2020-09-04</th>\n",
       "      <td>385.94</td>\n",
       "    </tr>\n",
       "    <tr>\n",
       "      <th>2020-09-05</th>\n",
       "      <td>334.91</td>\n",
       "    </tr>\n",
       "  </tbody>\n",
       "</table>\n",
       "</div>"
      ],
      "text/plain": [
       "            Ethereum\n",
       "Date                \n",
       "2020-09-01    475.80\n",
       "2020-09-02    439.08\n",
       "2020-09-03    381.97\n",
       "2020-09-04    385.94\n",
       "2020-09-05    334.91"
      ]
     },
     "execution_count": 88,
     "metadata": {},
     "output_type": "execute_result"
    }
   ],
   "source": [
    "ethereum.head()"
   ]
  },
  {
   "cell_type": "markdown",
   "metadata": {},
   "source": [
    "# 5. Dados do dólar"
   ]
  },
  {
   "cell_type": "code",
   "execution_count": 89,
   "metadata": {},
   "outputs": [
    {
     "name": "stdout",
     "output_type": "stream",
     "text": [
      "[*********************100%***********************]  1 of 1 completed\n"
     ]
    }
   ],
   "source": [
    "dolar = yf.download('USDBRL=X', start = inicio)"
   ]
  },
  {
   "cell_type": "code",
   "execution_count": 90,
   "metadata": {},
   "outputs": [
    {
     "data": {
      "text/html": [
       "<div>\n",
       "<style scoped>\n",
       "    .dataframe tbody tr th:only-of-type {\n",
       "        vertical-align: middle;\n",
       "    }\n",
       "\n",
       "    .dataframe tbody tr th {\n",
       "        vertical-align: top;\n",
       "    }\n",
       "\n",
       "    .dataframe thead th {\n",
       "        text-align: right;\n",
       "    }\n",
       "</style>\n",
       "<table border=\"1\" class=\"dataframe\">\n",
       "  <thead>\n",
       "    <tr style=\"text-align: right;\">\n",
       "      <th></th>\n",
       "      <th>Open</th>\n",
       "      <th>High</th>\n",
       "      <th>Low</th>\n",
       "      <th>Close</th>\n",
       "      <th>Adj Close</th>\n",
       "      <th>Volume</th>\n",
       "    </tr>\n",
       "    <tr>\n",
       "      <th>Date</th>\n",
       "      <th></th>\n",
       "      <th></th>\n",
       "      <th></th>\n",
       "      <th></th>\n",
       "      <th></th>\n",
       "      <th></th>\n",
       "    </tr>\n",
       "  </thead>\n",
       "  <tbody>\n",
       "    <tr>\n",
       "      <th>2020-09-01</th>\n",
       "      <td>5.4914</td>\n",
       "      <td>5.492500</td>\n",
       "      <td>5.355700</td>\n",
       "      <td>5.4909</td>\n",
       "      <td>5.4909</td>\n",
       "      <td>0</td>\n",
       "    </tr>\n",
       "    <tr>\n",
       "      <th>2020-09-02</th>\n",
       "      <td>5.3967</td>\n",
       "      <td>5.422366</td>\n",
       "      <td>5.343658</td>\n",
       "      <td>5.3973</td>\n",
       "      <td>5.3973</td>\n",
       "      <td>0</td>\n",
       "    </tr>\n",
       "    <tr>\n",
       "      <th>2020-09-03</th>\n",
       "      <td>5.3384</td>\n",
       "      <td>5.371400</td>\n",
       "      <td>5.287600</td>\n",
       "      <td>5.3387</td>\n",
       "      <td>5.3387</td>\n",
       "      <td>0</td>\n",
       "    </tr>\n",
       "    <tr>\n",
       "      <th>2020-09-04</th>\n",
       "      <td>5.2901</td>\n",
       "      <td>5.324300</td>\n",
       "      <td>5.248000</td>\n",
       "      <td>5.2899</td>\n",
       "      <td>5.2899</td>\n",
       "      <td>0</td>\n",
       "    </tr>\n",
       "    <tr>\n",
       "      <th>2020-09-07</th>\n",
       "      <td>5.3030</td>\n",
       "      <td>5.303300</td>\n",
       "      <td>5.295871</td>\n",
       "      <td>5.3010</td>\n",
       "      <td>5.3010</td>\n",
       "      <td>0</td>\n",
       "    </tr>\n",
       "  </tbody>\n",
       "</table>\n",
       "</div>"
      ],
      "text/plain": [
       "              Open      High       Low   Close  Adj Close  Volume\n",
       "Date                                                             \n",
       "2020-09-01  5.4914  5.492500  5.355700  5.4909     5.4909       0\n",
       "2020-09-02  5.3967  5.422366  5.343658  5.3973     5.3973       0\n",
       "2020-09-03  5.3384  5.371400  5.287600  5.3387     5.3387       0\n",
       "2020-09-04  5.2901  5.324300  5.248000  5.2899     5.2899       0\n",
       "2020-09-07  5.3030  5.303300  5.295871  5.3010     5.3010       0"
      ]
     },
     "execution_count": 90,
     "metadata": {},
     "output_type": "execute_result"
    }
   ],
   "source": [
    "dolar.head()"
   ]
  },
  {
   "cell_type": "code",
   "execution_count": 91,
   "metadata": {},
   "outputs": [],
   "source": [
    "dolar = pd.DataFrame(dolar.Close).rename(columns = {'Close': 'dolar'})"
   ]
  },
  {
   "cell_type": "code",
   "execution_count": 92,
   "metadata": {},
   "outputs": [
    {
     "data": {
      "text/html": [
       "<div>\n",
       "<style scoped>\n",
       "    .dataframe tbody tr th:only-of-type {\n",
       "        vertical-align: middle;\n",
       "    }\n",
       "\n",
       "    .dataframe tbody tr th {\n",
       "        vertical-align: top;\n",
       "    }\n",
       "\n",
       "    .dataframe thead th {\n",
       "        text-align: right;\n",
       "    }\n",
       "</style>\n",
       "<table border=\"1\" class=\"dataframe\">\n",
       "  <thead>\n",
       "    <tr style=\"text-align: right;\">\n",
       "      <th></th>\n",
       "      <th>dolar</th>\n",
       "    </tr>\n",
       "    <tr>\n",
       "      <th>Date</th>\n",
       "      <th></th>\n",
       "    </tr>\n",
       "  </thead>\n",
       "  <tbody>\n",
       "    <tr>\n",
       "      <th>2020-09-01</th>\n",
       "      <td>5.4909</td>\n",
       "    </tr>\n",
       "    <tr>\n",
       "      <th>2020-09-02</th>\n",
       "      <td>5.3973</td>\n",
       "    </tr>\n",
       "    <tr>\n",
       "      <th>2020-09-03</th>\n",
       "      <td>5.3387</td>\n",
       "    </tr>\n",
       "    <tr>\n",
       "      <th>2020-09-04</th>\n",
       "      <td>5.2899</td>\n",
       "    </tr>\n",
       "    <tr>\n",
       "      <th>2020-09-07</th>\n",
       "      <td>5.3010</td>\n",
       "    </tr>\n",
       "  </tbody>\n",
       "</table>\n",
       "</div>"
      ],
      "text/plain": [
       "             dolar\n",
       "Date              \n",
       "2020-09-01  5.4909\n",
       "2020-09-02  5.3973\n",
       "2020-09-03  5.3387\n",
       "2020-09-04  5.2899\n",
       "2020-09-07  5.3010"
      ]
     },
     "execution_count": 92,
     "metadata": {},
     "output_type": "execute_result"
    }
   ],
   "source": [
    "dolar.head()"
   ]
  },
  {
   "cell_type": "markdown",
   "metadata": {},
   "source": [
    "# 6. Juntando tudo num dataframe só"
   ]
  },
  {
   "cell_type": "code",
   "execution_count": 93,
   "metadata": {},
   "outputs": [],
   "source": [
    "from functools import reduce"
   ]
  },
  {
   "cell_type": "code",
   "execution_count": 94,
   "metadata": {},
   "outputs": [],
   "source": [
    "dfs = [precos_acoes, precos_ativos, ibov, cafe, bitcoin, ethereum, dolar]"
   ]
  },
  {
   "cell_type": "code",
   "execution_count": 95,
   "metadata": {},
   "outputs": [],
   "source": [
    "df_final = reduce(lambda left,right: pd.merge(left, right, on = 'Date', how = 'inner'), dfs)"
   ]
  },
  {
   "cell_type": "code",
   "execution_count": 96,
   "metadata": {},
   "outputs": [
    {
     "data": {
      "text/html": [
       "<div>\n",
       "<style scoped>\n",
       "    .dataframe tbody tr th:only-of-type {\n",
       "        vertical-align: middle;\n",
       "    }\n",
       "\n",
       "    .dataframe tbody tr th {\n",
       "        vertical-align: top;\n",
       "    }\n",
       "\n",
       "    .dataframe thead th {\n",
       "        text-align: right;\n",
       "    }\n",
       "</style>\n",
       "<table border=\"1\" class=\"dataframe\">\n",
       "  <thead>\n",
       "    <tr style=\"text-align: right;\">\n",
       "      <th></th>\n",
       "      <th>PETR4.SA</th>\n",
       "      <th>WEGE3.SA</th>\n",
       "      <th>MGLU3.SA</th>\n",
       "      <th>LREN3.SA</th>\n",
       "      <th>VALE3.SA</th>\n",
       "      <th>BPAC11.SA</th>\n",
       "      <th>KNRI11.SA</th>\n",
       "      <th>ONEF11.SA</th>\n",
       "      <th>HCTR11.SA</th>\n",
       "      <th>HGLG11.SA</th>\n",
       "      <th>HGBS11.SA</th>\n",
       "      <th>SMAL11.SA</th>\n",
       "      <th>IVVB11.SA</th>\n",
       "      <th>AAPL34.SA</th>\n",
       "      <th>IBOV</th>\n",
       "      <th>Cafe</th>\n",
       "      <th>Bitcoin</th>\n",
       "      <th>Ethereum</th>\n",
       "      <th>dolar</th>\n",
       "    </tr>\n",
       "    <tr>\n",
       "      <th>Date</th>\n",
       "      <th></th>\n",
       "      <th></th>\n",
       "      <th></th>\n",
       "      <th></th>\n",
       "      <th></th>\n",
       "      <th></th>\n",
       "      <th></th>\n",
       "      <th></th>\n",
       "      <th></th>\n",
       "      <th></th>\n",
       "      <th></th>\n",
       "      <th></th>\n",
       "      <th></th>\n",
       "      <th></th>\n",
       "      <th></th>\n",
       "      <th></th>\n",
       "      <th></th>\n",
       "      <th></th>\n",
       "      <th></th>\n",
       "    </tr>\n",
       "  </thead>\n",
       "  <tbody>\n",
       "    <tr>\n",
       "      <th>2020-09-01</th>\n",
       "      <td>20.881645</td>\n",
       "      <td>33.097397</td>\n",
       "      <td>23.790453</td>\n",
       "      <td>45.038513</td>\n",
       "      <td>55.627811</td>\n",
       "      <td>20.699972</td>\n",
       "      <td>164.970001</td>\n",
       "      <td>149.699997</td>\n",
       "      <td>129.960007</td>\n",
       "      <td>171.860001</td>\n",
       "      <td>212.500000</td>\n",
       "      <td>118.989998</td>\n",
       "      <td>205.000000</td>\n",
       "      <td>71.886711</td>\n",
       "      <td>102168.0</td>\n",
       "      <td>102168.0</td>\n",
       "      <td>11914.9</td>\n",
       "      <td>475.80</td>\n",
       "      <td>5.4909</td>\n",
       "    </tr>\n",
       "    <tr>\n",
       "      <th>2020-09-02</th>\n",
       "      <td>20.817730</td>\n",
       "      <td>33.038055</td>\n",
       "      <td>23.336256</td>\n",
       "      <td>45.147465</td>\n",
       "      <td>55.231503</td>\n",
       "      <td>20.512371</td>\n",
       "      <td>165.970001</td>\n",
       "      <td>147.570007</td>\n",
       "      <td>130.479996</td>\n",
       "      <td>173.399994</td>\n",
       "      <td>212.820007</td>\n",
       "      <td>120.250000</td>\n",
       "      <td>206.610001</td>\n",
       "      <td>70.197609</td>\n",
       "      <td>101911.0</td>\n",
       "      <td>101911.0</td>\n",
       "      <td>11413.3</td>\n",
       "      <td>439.08</td>\n",
       "      <td>5.3973</td>\n",
       "    </tr>\n",
       "    <tr>\n",
       "      <th>2020-09-03</th>\n",
       "      <td>20.890776</td>\n",
       "      <td>31.861135</td>\n",
       "      <td>22.085964</td>\n",
       "      <td>45.256416</td>\n",
       "      <td>53.430080</td>\n",
       "      <td>20.110025</td>\n",
       "      <td>165.970001</td>\n",
       "      <td>147.630005</td>\n",
       "      <td>129.100006</td>\n",
       "      <td>174.000000</td>\n",
       "      <td>210.250000</td>\n",
       "      <td>117.860001</td>\n",
       "      <td>198.009995</td>\n",
       "      <td>63.580257</td>\n",
       "      <td>100721.0</td>\n",
       "      <td>100721.0</td>\n",
       "      <td>10168.8</td>\n",
       "      <td>381.97</td>\n",
       "      <td>5.3387</td>\n",
       "    </tr>\n",
       "    <tr>\n",
       "      <th>2020-09-04</th>\n",
       "      <td>20.927299</td>\n",
       "      <td>31.890806</td>\n",
       "      <td>22.153343</td>\n",
       "      <td>45.860634</td>\n",
       "      <td>54.483913</td>\n",
       "      <td>19.784197</td>\n",
       "      <td>167.610001</td>\n",
       "      <td>148.369995</td>\n",
       "      <td>129.220001</td>\n",
       "      <td>173.979996</td>\n",
       "      <td>211.699997</td>\n",
       "      <td>118.300003</td>\n",
       "      <td>195.600006</td>\n",
       "      <td>64.086990</td>\n",
       "      <td>101242.0</td>\n",
       "      <td>101242.0</td>\n",
       "      <td>10472.5</td>\n",
       "      <td>385.94</td>\n",
       "      <td>5.2899</td>\n",
       "    </tr>\n",
       "    <tr>\n",
       "      <th>2020-09-08</th>\n",
       "      <td>20.324678</td>\n",
       "      <td>31.153984</td>\n",
       "      <td>21.883823</td>\n",
       "      <td>45.731865</td>\n",
       "      <td>53.385048</td>\n",
       "      <td>19.260897</td>\n",
       "      <td>166.130005</td>\n",
       "      <td>151.940002</td>\n",
       "      <td>129.639999</td>\n",
       "      <td>173.000000</td>\n",
       "      <td>210.990005</td>\n",
       "      <td>118.690002</td>\n",
       "      <td>192.460007</td>\n",
       "      <td>60.609402</td>\n",
       "      <td>100050.0</td>\n",
       "      <td>100050.0</td>\n",
       "      <td>10126.6</td>\n",
       "      <td>337.46</td>\n",
       "      <td>5.2983</td>\n",
       "    </tr>\n",
       "  </tbody>\n",
       "</table>\n",
       "</div>"
      ],
      "text/plain": [
       "             PETR4.SA   WEGE3.SA   MGLU3.SA   LREN3.SA   VALE3.SA  BPAC11.SA  \\\n",
       "Date                                                                           \n",
       "2020-09-01  20.881645  33.097397  23.790453  45.038513  55.627811  20.699972   \n",
       "2020-09-02  20.817730  33.038055  23.336256  45.147465  55.231503  20.512371   \n",
       "2020-09-03  20.890776  31.861135  22.085964  45.256416  53.430080  20.110025   \n",
       "2020-09-04  20.927299  31.890806  22.153343  45.860634  54.483913  19.784197   \n",
       "2020-09-08  20.324678  31.153984  21.883823  45.731865  53.385048  19.260897   \n",
       "\n",
       "             KNRI11.SA   ONEF11.SA   HCTR11.SA   HGLG11.SA   HGBS11.SA  \\\n",
       "Date                                                                     \n",
       "2020-09-01  164.970001  149.699997  129.960007  171.860001  212.500000   \n",
       "2020-09-02  165.970001  147.570007  130.479996  173.399994  212.820007   \n",
       "2020-09-03  165.970001  147.630005  129.100006  174.000000  210.250000   \n",
       "2020-09-04  167.610001  148.369995  129.220001  173.979996  211.699997   \n",
       "2020-09-08  166.130005  151.940002  129.639999  173.000000  210.990005   \n",
       "\n",
       "             SMAL11.SA   IVVB11.SA  AAPL34.SA      IBOV      Cafe  Bitcoin  \\\n",
       "Date                                                                         \n",
       "2020-09-01  118.989998  205.000000  71.886711  102168.0  102168.0  11914.9   \n",
       "2020-09-02  120.250000  206.610001  70.197609  101911.0  101911.0  11413.3   \n",
       "2020-09-03  117.860001  198.009995  63.580257  100721.0  100721.0  10168.8   \n",
       "2020-09-04  118.300003  195.600006  64.086990  101242.0  101242.0  10472.5   \n",
       "2020-09-08  118.690002  192.460007  60.609402  100050.0  100050.0  10126.6   \n",
       "\n",
       "            Ethereum   dolar  \n",
       "Date                          \n",
       "2020-09-01    475.80  5.4909  \n",
       "2020-09-02    439.08  5.3973  \n",
       "2020-09-03    381.97  5.3387  \n",
       "2020-09-04    385.94  5.2899  \n",
       "2020-09-08    337.46  5.2983  "
      ]
     },
     "execution_count": 96,
     "metadata": {},
     "output_type": "execute_result"
    }
   ],
   "source": [
    "df_final.head()"
   ]
  },
  {
   "cell_type": "markdown",
   "metadata": {},
   "source": [
    "# 7. Matriz de correlação"
   ]
  },
  {
   "cell_type": "code",
   "execution_count": 97,
   "metadata": {},
   "outputs": [],
   "source": [
    "import seaborn as sns"
   ]
  },
  {
   "cell_type": "code",
   "execution_count": 100,
   "metadata": {},
   "outputs": [],
   "source": [
    "import matplotlib.pyplot as plt"
   ]
  },
  {
   "cell_type": "code",
   "execution_count": 98,
   "metadata": {},
   "outputs": [
    {
     "data": {
      "text/plain": [
       "<AxesSubplot:>"
      ]
     },
     "execution_count": 98,
     "metadata": {},
     "output_type": "execute_result"
    },
    {
     "data": {
      "image/png": "[encoded data removed]",
      "text/plain": [
       "<Figure size 432x288 with 2 Axes>"
      ]
     },
     "metadata": {
      "needs_background": "light"
     },
     "output_type": "display_data"
    }
   ],
   "source": [
    "sns.heatmap(df_final.corr())"
   ]
  },
  {
   "cell_type": "code",
   "execution_count": 103,
   "metadata": {},
   "outputs": [
    {
     "data": {
      "text/plain": [
       "<AxesSubplot:>"
      ]
     },
     "execution_count": 103,
     "metadata": {},
     "output_type": "execute_result"
    },
    {
     "data": {
      "image/png": "[encoded data removed]",
      "text/plain": [
       "<Figure size 1152x576 with 2 Axes>"
      ]
     },
     "metadata": {
      "needs_background": "light"
     },
     "output_type": "display_data"
    }
   ],
   "source": [
    "plt.figure(figsize = (16, 8))\n",
    "\n",
    "sns.heatmap(df_final.corr(),\n",
    "           vmin = -1, vmax = 1, annot = True, cmap = 'BrBG')"
   ]
  },
  {
   "cell_type": "code",
   "execution_count": null,
   "metadata": {},
   "outputs": [],
   "source": []
  }
 ],
 "metadata": {
  "kernelspec": {
   "display_name": "Python 3",
   "language": "python",
   "name": "python3"
  },
  "language_info": {
   "codemirror_mode": {
    "name": "ipython",
    "version": 3
   },
   "file_extension": ".py",
   "mimetype": "text/x-python",
   "name": "python",
   "nbconvert_exporter": "python",
   "pygments_lexer": "ipython3",
   "version": "3.8.5"
  }
 },
 "nbformat": 4,
 "nbformat_minor": 4
}
