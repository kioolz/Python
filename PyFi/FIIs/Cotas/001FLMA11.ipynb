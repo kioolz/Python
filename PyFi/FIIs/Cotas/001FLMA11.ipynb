{
 "metadata": {
  "language_info": {
   "codemirror_mode": {
    "name": "ipython",
    "version": 3
   },
   "file_extension": ".py",
   "mimetype": "text/x-python",
   "name": "python",
   "nbconvert_exporter": "python",
   "pygments_lexer": "ipython3",
   "version": "3.7.4-final"
  },
  "orig_nbformat": 2,
  "kernelspec": {
   "name": "python3",
   "display_name": "Python 3",
   "language": "python"
  }
 },
 "nbformat": 4,
 "nbformat_minor": 2,
 "cells": [
  {
   "cell_type": "code",
   "execution_count": 21,
   "metadata": {},
   "outputs": [],
   "source": [
    "import requests\n",
    "from bs4 import BeautifulSoup\n",
    "import pandas as pd\n",
    "\n",
    "# Coletar dados dos FIIs site Funds Explorer\n",
    "\n",
    "page = requests.get('https://www.fundsexplorer.com.br/ranking')\n",
    "soup = BeautifulSoup(page.text, 'html.parser')\n",
    "table = soup.find(\"table\", attrs={\"id\":\"table-ranking\"})\n",
    "\n",
    "# titulo das variaveis\n",
    "title_data = table.thead.find_all(\"th\")\n",
    "\n",
    "# dados dos fundos\n",
    "table_data = table.tbody.find_all(\"td\")\n",
    "\n",
    "# separando apenas dados, retira as tags\n",
    "number_rows = int(len(table_data)/len(title_data))\n",
    "\n",
    "elements_data = [[0]*len(title_data) for i in range(number_rows)]\n",
    "\n",
    "i = 0\n",
    " \n",
    "for x in range(number_rows):\n",
    "    for y in range(len(title_data)):\n",
    "        elements_data[x][y] = table_data[i].getText()\n",
    "        i +=1\n",
    "\n",
    "#criando dataframe\n",
    "\n",
    "title = ['codigo', 'setor', 'preco_atual', 'liquidez_diaria', 'dividendo',\n",
    "           'dividendyield', 'DY(3M)_acumulado', 'DY(6M)_acumulado', \n",
    "           'DY(12M)_acumulado', 'DY(3M)_media', 'DY(6M)_media', \n",
    "           'DY(12M)_media', 'DY_ano', 'variacao_preco', 'rent_periodo', \n",
    "           'rent_acumulada', 'patri_liq', 'VPA', 'P/VPA', 'DY_patri', \n",
    "           'var_patri', 'rent_patri_periodo', 'rent_patri_acumu',\n",
    "           'vacancia_fisica', 'vancancia_financeira', 'quantidade_ativos']\n",
    "\n",
    "data = elements_data\n",
    "df = pd.DataFrame(data)\n",
    "df.columns = title\n",
    "\n",
    "for names in title:\n",
    "    for i in range(len(df['codigo'])):\n",
    "        if (type(df[names][i]) == str):\n",
    "            df[names][i] =df[names][i].replace('.','').replace('R$ ','').replace('%','').replace(',','.')\n",
    "\n",
    "#salvando dataframe\n",
    "df.to_csv('dados_FIIs_FundsExplorer.csv', index=False, encoding='utf-32')"
   ]
  },
  {
   "cell_type": "code",
   "execution_count": 22,
   "metadata": {},
   "outputs": [
    {
     "output_type": "execute_result",
     "data": {
      "text/plain": [
       "     codigo    setor preco_atual liquidez_diaria dividendo dividendyield  \\\n",
       "171  FLMA11  Híbrido        2.99          308430      0.01          0.34   \n",
       "\n",
       "    DY(3M)_acumulado DY(6M)_acumulado DY(12M)_acumulado DY(3M)_media  ...  \\\n",
       "171             0.90             1.55              3.07         0.30  ...   \n",
       "\n",
       "        patri_liq   VPA P/VPA DY_patri var_patri rent_patri_periodo  \\\n",
       "171  215156119.34  3.12  0.96      N/A       N/A                N/A   \n",
       "\n",
       "    rent_patri_acumu vacancia_fisica vancancia_financeira quantidade_ativos  \n",
       "171              N/A            6.00                  N/A                 2  \n",
       "\n",
       "[1 rows x 26 columns]"
      ],
      "text/html": "<div>\n<style scoped>\n    .dataframe tbody tr th:only-of-type {\n        vertical-align: middle;\n    }\n\n    .dataframe tbody tr th {\n        vertical-align: top;\n    }\n\n    .dataframe thead th {\n        text-align: right;\n    }\n</style>\n<table border=\"1\" class=\"dataframe\">\n  <thead>\n    <tr style=\"text-align: right;\">\n      <th></th>\n      <th>codigo</th>\n      <th>setor</th>\n      <th>preco_atual</th>\n      <th>liquidez_diaria</th>\n      <th>dividendo</th>\n      <th>dividendyield</th>\n      <th>DY(3M)_acumulado</th>\n      <th>DY(6M)_acumulado</th>\n      <th>DY(12M)_acumulado</th>\n      <th>DY(3M)_media</th>\n      <th>...</th>\n      <th>patri_liq</th>\n      <th>VPA</th>\n      <th>P/VPA</th>\n      <th>DY_patri</th>\n      <th>var_patri</th>\n      <th>rent_patri_periodo</th>\n      <th>rent_patri_acumu</th>\n      <th>vacancia_fisica</th>\n      <th>vancancia_financeira</th>\n      <th>quantidade_ativos</th>\n    </tr>\n  </thead>\n  <tbody>\n    <tr>\n      <td>171</td>\n      <td>FLMA11</td>\n      <td>Híbrido</td>\n      <td>2.99</td>\n      <td>308430</td>\n      <td>0.01</td>\n      <td>0.34</td>\n      <td>0.90</td>\n      <td>1.55</td>\n      <td>3.07</td>\n      <td>0.30</td>\n      <td>...</td>\n      <td>215156119.34</td>\n      <td>3.12</td>\n      <td>0.96</td>\n      <td>N/A</td>\n      <td>N/A</td>\n      <td>N/A</td>\n      <td>N/A</td>\n      <td>6.00</td>\n      <td>N/A</td>\n      <td>2</td>\n    </tr>\n  </tbody>\n</table>\n<p>1 rows × 26 columns</p>\n</div>"
     },
     "metadata": {},
     "execution_count": 22
    }
   ],
   "source": [
    "df[df[\"codigo\"] == \"FLMA11\"]\n",
    "#O valor da tabela sai no formato string então fiz uma variável auxiliar para converter o valor em float"
   ]
  },
  {
   "cell_type": "code",
   "execution_count": 23,
   "metadata": {},
   "outputs": [
    {
     "output_type": "stream",
     "name": "stdout",
     "text": [
      "0.26\n"
     ]
    }
   ],
   "source": [
    "x12m = df[df[\"codigo\"] == \"FLMA11\"].iloc[0].values[11] #Dy médio 12 meses\n",
    "print(x12m)"
   ]
  },
  {
   "cell_type": "code",
   "execution_count": 24,
   "metadata": {},
   "outputs": [
    {
     "output_type": "stream",
     "name": "stdout",
     "text": [
      "0.30\n0.26\nEste é o valor do provento do último mês:  0.01R$\nEste é o valor do Dividend Yield do último mês:  0.334%\nAtualmente eu tenho 1.00 cotas, que na cotação atual estão avaliadas em  2.99 R$, essas cotas me geram  0.01 R$ por mês, então é esperado que eu receba  0.12 R$ este ano\nSão necessários um total de  312455.00R$ investidos para se alcançar o salário mínimo de acordo com a última cotação e o ultimo provento\nSão necessários um total de  10415.17R$ investidos para se alcançar o salário mínimo de acordo com a última cotação e o provento médio de 3 meses\nSão necessários um total de  12017.50R$ investidos para se alcançar o salário mínimo de acordo com a última cotação e o provento médio de 6 meses\nSão necessários um total de  12017.50R$ investidos para se alcançar o salário mínimo de acordo com a última cotação e o provento médio de 12 meses\n Isso me geraria um total de  104500.00 cotas\n Isso me geraria um total de  3483.33 cotas\n Isso me geraria um total de  4019.23 cotas\n Isso me geraria um total de  4019.23 cotas\n Você precisa ter 334448.2 cotas pra ter 1 milhão de reais nesse ativo\n 334448.2 cotas vão te  gerar o total de  3344.48 reais mensais\n"
     ]
    }
   ],
   "source": [
    "df[df[\"codigo\"] == \"FLMA11\"]\n",
    "#O valor da tabela sai no formato string então fiz uma variável auxiliar para converter o valor em float\n",
    "\n",
    "xd = df[df[\"codigo\"] == \"FLMA11\"].iloc[-1].values[4] #Aqui saí o valor do último provento\n",
    "xp = df[df[\"codigo\"] == \"FLMA11\"].iloc[-1].values[2] #Aqui saí o valor da última cotação\n",
    "x3m = df[df[\"codigo\"] == \"FLMA11\"].iloc[0].values[9] #DY Médio 3 meses\n",
    "print(x3m)\n",
    "x6m = df[df[\"codigo\"] == \"FLMA11\"].iloc[0].values[10] #Dy Médio 6 meses\n",
    "print(x6m)\n",
    "x12m = df[df[\"codigo\"] == \"FLMA11\"].iloc[0].values[11] #Dy médio 12 meses\n",
    "\n",
    "\n",
    "#Com isso já dá pra calcular o DY, porém, antes é necessário converter os valores de String para Float\n",
    "xa = float(xd) #Aqui converte a variável xd de string para float\n",
    "xb = float(xp) # Última cotação (Str -> Float)\n",
    "xc = float(x3m) # DY Médio 3m (Str -> Float)\n",
    "xd = float(x6m)\n",
    "xe = float(x12m)\n",
    "#E com isso definir uma variável auxiliar que me diz o número atual de cotas que eu tenho\n",
    "Cotas = 1\n",
    "print(f'Este é o valor do provento do último mês: {xa: .2f}R$')\n",
    "print(f'Este é o valor do Dividend Yield do último mês: {(xa*100)/xb: .3f}%')\n",
    "print(f'Atualmente eu tenho {Cotas:.2f} cotas, que na cotação atual estão avaliadas em {Cotas*xb: .2f} R$, essas cotas me geram {Cotas*xa: .2f} R$ por mês, então é esperado que eu receba {Cotas*xa*12: .2f} R$ este ano')\n",
    "# 2.0.1 - Salário Mínimo em Proventos com base na cotação dada\n",
    "SalarioMinimo = 1045\n",
    "# X é o Valor gasto em (R$) para se obter 1 Salário Mínimo em Cotas com o Preço de HOJE\n",
    "X = (SalarioMinimo*xb)/(xa)\n",
    "#Y é o valor gasto em (R$) para se obter 1 salário mínimo de acordo com os proventos dos últimos 3 meses e com o preço do último fechamento\n",
    "Y = (SalarioMinimo*xb)/(xc) \n",
    "#Z é o valor gasto em (R$) para se obter 1 salário mínimo de acordo com os proventos dos últimos 6 meses e com o preço do último fechamento\n",
    "Z = (SalarioMinimo*xb)/(xd) \n",
    "#W é o valor gasto em (R$) para se obter 1 salário mínimo de acordo com os proventos dos últimos 12 meses e com o preço do último fechamento\n",
    "W = (SalarioMinimo*xb)/(xe) \n",
    "print(f'São necessários um total de {X: .2f}R$ investidos para se alcançar o salário mínimo de acordo com a última cotação e o ultimo provento')\n",
    "print(f'São necessários um total de {Y: .2f}R$ investidos para se alcançar o salário mínimo de acordo com a última cotação e o provento médio de 3 meses')\n",
    "print(f'São necessários um total de {Z: .2f}R$ investidos para se alcançar o salário mínimo de acordo com a última cotação e o provento médio de 6 meses')\n",
    "print(f'São necessários um total de {W: .2f}R$ investidos para se alcançar o salário mínimo de acordo com a última cotação e o provento médio de 12 meses')\n",
    "print(f' Isso me geraria um total de {X/xb: .2f} cotas')\n",
    "print(f' Isso me geraria um total de {Y/xb: .2f} cotas')\n",
    "print(f' Isso me geraria um total de {Z/xb: .2f} cotas')\n",
    "print(f' Isso me geraria um total de {W/xb: .2f} cotas')\n",
    "# Quantas cotas é possível comprar com 1 milhão de reias?\n",
    "milhao = 1000000\n",
    "print(f' Você precisa ter {milhao/xb:.1f} cotas pra ter 1 milhão de reais nesse ativo')\n",
    "print(f' {(milhao/xb):.1f} cotas vão te  gerar o total de {(milhao/xb) *(xa): .2f} reais mensais')"
   ]
  },
  {
   "cell_type": "code",
   "execution_count": null,
   "metadata": {},
   "outputs": [],
   "source": []
  }
 ]
}