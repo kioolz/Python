{
 "metadata": {
  "language_info": {
   "codemirror_mode": {
    "name": "ipython",
    "version": 3
   },
   "file_extension": ".py",
   "mimetype": "text/x-python",
   "name": "python",
   "nbconvert_exporter": "python",
   "pygments_lexer": "ipython3",
   "version": "3.7.4-final"
  },
  "orig_nbformat": 2,
  "kernelspec": {
   "name": "python3",
   "display_name": "Python 3",
   "language": "python"
  }
 },
 "nbformat": 4,
 "nbformat_minor": 2,
 "cells": [
  {
   "cell_type": "code",
   "execution_count": 1,
   "metadata": {},
   "outputs": [],
   "source": [
    "import requests\n",
    "from bs4 import BeautifulSoup\n",
    "import pandas as pd\n",
    "\n",
    "# Coletar dados dos FIIs site Funds Explorer\n",
    "\n",
    "page = requests.get('https://www.fundsexplorer.com.br/ranking')\n",
    "soup = BeautifulSoup(page.text, 'html.parser')\n",
    "table = soup.find(\"table\", attrs={\"id\":\"table-ranking\"})\n",
    "\n",
    "# titulo das variaveis\n",
    "title_data = table.thead.find_all(\"th\")\n",
    "\n",
    "# dados dos fundos\n",
    "table_data = table.tbody.find_all(\"td\")\n",
    "\n",
    "# separando apenas dados, retira as tags\n",
    "number_rows = int(len(table_data)/len(title_data))\n",
    "\n",
    "elements_data = [[0]*len(title_data) for i in range(number_rows)]\n",
    "\n",
    "i = 0\n",
    " \n",
    "for x in range(number_rows):\n",
    "    for y in range(len(title_data)):\n",
    "        elements_data[x][y] = table_data[i].getText()\n",
    "        i +=1\n",
    "\n",
    "#criando dataframe\n",
    "\n",
    "title = ['codigo', 'setor', 'preco_atual', 'liquidez_diaria', 'dividendo',\n",
    "           'dividendyield', 'DY(3M)_acumulado', 'DY(6M)_acumulado', \n",
    "           'DY(12M)_acumulado', 'DY(3M)_media', 'DY(6M)_media', \n",
    "           'DY(12M)_media', 'DY_ano', 'variacao_preco', 'rent_periodo', \n",
    "           'rent_acumulada', 'patri_liq', 'VPA', 'P/VPA', 'DY_patri', \n",
    "           'var_patri', 'rent_patri_periodo', 'rent_patri_acumu',\n",
    "           'vacancia_fisica', 'vancancia_financeira', 'quantidade_ativos']\n",
    "\n",
    "data = elements_data\n",
    "df = pd.DataFrame(data)\n",
    "df.columns = title\n",
    "\n",
    "for names in title:\n",
    "    for i in range(len(df['codigo'])):\n",
    "        if (type(df[names][i]) == str):\n",
    "            df[names][i] =df[names][i].replace('.','').replace('R$ ','').replace('%','').replace(',','.')\n",
    "\n",
    "#salvando dataframe\n",
    "df.to_csv('dados_FIIs_FundsExplorer.csv', index=False, encoding='utf-32')\n",
    "\n"
   ]
  }
 ]
}