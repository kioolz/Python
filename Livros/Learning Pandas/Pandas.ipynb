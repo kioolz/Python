{
 "cells": [
  {
   "cell_type": "code",
   "execution_count": null,
   "metadata": {},
   "outputs": [],
   "source": [
    "# Usando dicionários como DataFrames\n",
    "\n",
    "#Bibliotecas úteis dentro do PANDAS\n",
    "import pandas as pd\n",
    "from datetime import date\n",
    "from pandas import DataFrame, Series\n",
    "import matplotlib.pyplot as plt\n",
    "#Escrita manual do dicionário\n",
    "#Exibição do dataframe\n",
    "d = [{'cidade': 'Mesquita', \"População\":1000}, {'cidade':'NovaIguaçu',\"População\":2000},{'cidade':'Seropedica',\"População\":3000}]\n",
    "pd.DataFrame(d)\n"
   ]
  },
  {
   "cell_type": "code",
   "execution_count": null,
   "metadata": {},
   "outputs": [],
   "source": [
    "#Importando a biblioteca Pandas e o registro do tempo para o Python\n",
    "# Criando uma série no pandas que represente a indexação das linhas como valores temporais\n",
    "# Por exemplo, datas do calendário do ano.\n",
    "dates = pd.date_range(start='01-12-2022', end='05-12-2022') #Intervalo de tempo do DateTime\n",
    "dates\n",
    "#O que faço com esse index Dates?\n",
    "x = list(dates)\n",
    "print(type(x))\n",
    "print(x)\n",
    "\n"
   ]
  },
  {
   "cell_type": "code",
   "execution_count": null,
   "metadata": {},
   "outputs": [],
   "source": [
    "#Criando um dataframe de uma linha e uma coluna, ou uma série. \n",
    "#renomeando as linhas ou índices i da série ou matriz ou dataframe (df) através do comando 'index'\n",
    "# Acrescentando a série de datas a Série numérica criada. \n",
    "#E Agora vamos inserir variáveis reais ao problema\n",
    "#inserindo a variável Montante inicial como uma série numérica\n",
    "MontanteInicial=pd.Series([6986.16, 6986.16, 6986.16, 6986.16, 6986.16], index = dates)\n",
    "MontanteInicial\n",
    "\n",
    "#Repetindo o processo para os valores ganhos diariamente em relação ao dia anterior.\n",
    "#Podemos construir uma tabela de valores que apresente o lucro diário em relação ao dia anterior\n",
    "MontanteFinal =pd.Series([6990, 6991, 6994, 6998, 7000], index = dates)\n",
    "MontanteFinal\n",
    "\n",
    "#Operação de subtração entre as componentes da lista - Criando através da operação, uma lista\n",
    "#que me diz quanto lucrei no total. \n",
    "#Calculando a diferença entre os índices da matriz/Dataframe e plotando a resposta no próprio DF.\n",
    "LucroTotal = MontanteFinal-MontanteInicial\n",
    "LucroTotal\n",
    "\n",
    "# E com a operação feita, posso associar a tabela o valor da Taxa Selic em cada dia e alterar como conforme a necessidade.\n",
    "TaxaSelic = pd.Series(['5.5%', '5.5%', '5.5%', '5.5%', '5.5%'], index = dates)\n",
    "\n",
    "#Criando um DataFrame que usa como colunas, duas séries que representam numeros aleatórios associado a duas possiveis variáveis.\n",
    "df_temp =pd.DataFrame({'Montante Final': MontanteFinal, 'Montante Inicial': MontanteInicial, 'Taxa Selic': TaxaSelic, 'Lucro Total' : LucroTotal})\n",
    "df_temp"
   ]
  },
  {
   "cell_type": "code",
   "execution_count": 24,
   "metadata": {},
   "outputs": [
    {
     "name": "stderr",
     "output_type": "stream",
     "text": [
      "C:\\Users\\kiool\\AppData\\Local\\Temp\\ipykernel_11292\\1118509946.py:6: UserWarning: Parsing dates in DD/MM/YYYY format when dayfirst=False (the default) was specified. This may lead to inconsistently parsed dates! Specify a format to ensure consistent parsing.\n",
      "  date_range = pd.date_range(start='11-10-2019', end='31-12-2019',freq='D') #Estabelecendo a frequência com que a série temporal vai percorrer, a frequência em Dias.\n"
     ]
    }
   ],
   "source": [
    "import pandas as pd\n",
    "import datetime\n",
    "import numpy as np\n",
    "\n",
    "\n",
    "date_range = pd.date_range(start='11-10-2019', end='31-12-2019',freq='D') \n",
    "\n",
    "df = pd.DataFrame(date_range, columns=['date']) #Criando um dataframe onde as colunas são o intervalo do Date\n",
    "\n"
   ]
  }
 ],
 "metadata": {
  "kernelspec": {
   "display_name": "Python 3",
   "language": "python",
   "name": "python3"
  },
  "language_info": {
   "codemirror_mode": {
    "name": "ipython",
    "version": 3
   },
   "file_extension": ".py",
   "mimetype": "text/x-python",
   "name": "python",
   "nbconvert_exporter": "python",
   "pygments_lexer": "ipython3",
   "version": "3.10.9"
  },
  "orig_nbformat": 4,
  "vscode": {
   "interpreter": {
    "hash": "ce3fb133cab6a936c551081ee0d77ef4a6d11af85bd10385e088b263514ab4bf"
   }
  }
 },
 "nbformat": 4,
 "nbformat_minor": 2
}
