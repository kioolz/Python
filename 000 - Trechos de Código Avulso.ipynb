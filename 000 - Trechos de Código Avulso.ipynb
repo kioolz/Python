{
 "cells": [
  {
   "cell_type": "code",
   "execution_count": null,
   "metadata": {},
   "outputs": [],
   "source": [
    "#Programa que você insere um contador reverso.\n",
    "#Também representa a sequência decrescente de numeros inteiros maiores que 0\n",
    "numero = int(input(\"Insira o número que deseja exibir sua regressão:\"))\n",
    "\n",
    "while numero>0:\n",
    "    print (numero)\n",
    "    numero=numero-1\n",
    "print(0)"
   ]
  },
  {
   "cell_type": "code",
   "execution_count": 14,
   "metadata": {},
   "outputs": [
    {
     "data": {
      "text/plain": [
       "datetime.datetime(2023, 1, 4, 8, 17, 36, 4289)"
      ]
     },
     "execution_count": 14,
     "metadata": {},
     "output_type": "execute_result"
    }
   ],
   "source": [
    "#Biblioteca DateTime - DateTimeHoje!\n",
    "import datetime \n",
    "datetime.datetime.now()\n"
   ]
  },
  {
   "cell_type": "code",
   "execution_count": 15,
   "metadata": {},
   "outputs": [
    {
     "ename": "ValueError",
     "evalue": "invalid literal for int() with base 10: ''",
     "output_type": "error",
     "traceback": [
      "\u001b[1;31m---------------------------------------------------------------------------\u001b[0m",
      "\u001b[1;31mValueError\u001b[0m                                Traceback (most recent call last)",
      "Cell \u001b[1;32mIn [15], line 2\u001b[0m\n\u001b[0;32m      1\u001b[0m \u001b[39m#Este trecho serve para plotar todas as listas que os elementos x y z não somem n!\u001b[39;00m\n\u001b[1;32m----> 2\u001b[0m x \u001b[39m=\u001b[39m \u001b[39mint\u001b[39m(\u001b[39minput\u001b[39m())\n\u001b[0;32m      3\u001b[0m y \u001b[39m=\u001b[39m \u001b[39mint\u001b[39m(\u001b[39minput\u001b[39m())\n\u001b[0;32m      4\u001b[0m z \u001b[39m=\u001b[39m \u001b[39mint\u001b[39m(\u001b[39minput\u001b[39m())\n",
      "\u001b[1;31mValueError\u001b[0m: invalid literal for int() with base 10: ''"
     ]
    }
   ],
   "source": [
    "#Este trecho serve para plotar todas as listas que os elementos x y z não somem n!\n",
    "x = int(input())\n",
    "y = int(input())\n",
    "z = int(input())\n",
    "n = int(input())\n",
    "\n",
    "print ([[a,b,c] for (a) in range(0, x+1) for (b) in range(0,y+1) for (c) in range(0, z+1) if (a+b+c)!=n])"
   ]
  },
  {
   "cell_type": "code",
   "execution_count": null,
   "metadata": {},
   "outputs": [],
   "source": [
    "#-----------------------------------------------------------------------------\n",
    "# Teste, exibir o Salário de um trabalhador em uma empresa\n",
    "\n",
    "def main():\n",
    "    Dias = int(input('Numero de Dias Trabalhados :'))\n",
    "    Horas = int(input('Numero de Horas trabalhadas:'))\n",
    "    ValorPorHora = int(input('Digite o quanto você ganha por hora:'))\n",
    "    SalarioMensal = Dias*Horas*ValorPorHora\n",
    "    print (\"O empregado trabalhou\",Dias,\"dias\", \"Totalizando\", Horas,\"Horas mensais\", \"e recebeu\",\n",
    "           ValorPorHora,\"por cada hora de trabalho\")\n",
    "    print(\"Seu salario neste mês foi\", SalarioMensal)\n",
    "#----------------------------------------------------------------------------\n",
    "# Agora vamos comparar o salário dos trabalhadores \n",
    "    if (SalarioMensal > 5000) and (SalarioMensal <= 10000):\n",
    "        print ('Este funcionario ganha entre 5 a 10 salarios minimos')\n",
    "    elif:\n",
    "        print('Este funcionario ganha abaixo de 5 salario minimos ou acima de 10 salarios minimos')\n",
    "#-----------------------------------------------------------------------------\n",
    "\n",
    "# Próximas modificações : Adicionar um While para contar a quantidade de trabalhadores na empresa\n",
    "# Atribuir a cada trabalhador seu respectivo salário\n",
    "#Comparar o salário dos trabalhadores\n",
    "#Tentar agrupar a quantidade de trabalhadores de acordo com suas faixas salariais\n",
    "main()\n",
    "\n",
    "def informacoes():\n",
    "    \n",
    "    nome = input('Qual o seu nome?')\n",
    "    idade = int(input('Quantos anos você tem?'))\n",
    "    peso = float(input ('Quantos quilos você tem?'))\n",
    "    print (\"Seu nome e\", nome,\"Sua idade e \", idade,\"Seu peso e\", peso)\n",
    "    \n",
    "informacoes()"
   ]
  },
  {
   "cell_type": "code",
   "execution_count": null,
   "metadata": {},
   "outputs": [],
   "source": [
    "\n",
    "\n",
    "#EXEMPLO - ESTOQUE DE MERCADO\n",
    "\n",
    "estoque={'Banana': [45,2.20],\n",
    "        'Laranja': [48,3],\n",
    "        'Limão': [28,1.80],\n",
    "        'Maçã': [29, 3.65],\n",
    "        'Uva': [112,6.50]}\n",
    "\n",
    "\n",
    "##################\n",
    "\n",
    "opcao=0\n",
    "while opcao != 7:\n",
    "    print('''           1 - Vender\n",
    "           2 - Adicionar fruta ao estoque\n",
    "           3 - Remover Fruta do estoque\n",
    "           4 - Listar estoque\n",
    "           5 - Listar estoque completo\n",
    "           6 - Alterar estoque\n",
    "           7 - Sair do programa''')\n",
    "    opcao = int(input('Qual é sua opção'))\n",
    "    if opcao == 1:\n",
    "        for nome, qt_valor in estoque.items():\n",
    "            print('Nome: ', nome)\n",
    "            print('Quantidade: ', qt_valor[0], 'kg disponíveis')\n",
    "            print('Preco: R$', qt_valor[1], '/kg')\n",
    "        escolha = (int(input('Digite o nome da fruta que deseja: ' )))\n",
    "    elif opcao == 2:\n",
    "        estoque[key] = (input('Digite o nome da fruta que quer adicionar: '))\n",
    "        print('Digite quantos KG da fruta irá inserir: ', qt_valor[0])\n",
    "        qt_valor.append[0]\n",
    "        print('Qual o valor por KG da fruta ', qt_valor[1])\n",
    "        qt_valor.append[1]\n",
    "    elif opcao == 3:\n",
    "        del (estoque[input('Digite o nome da fruta que quer remover: ')])\n",
    "        print('Fruta removida')\n",
    "    elif opcao == 4:\n",
    "        for k in estoque.keys():\n",
    "            print(k)\n",
    "    elif opcao == 5:\n",
    "        for nome, qt_valor in estoque.items():\n",
    "            print('Nome: ', nome)\n",
    "            print('Quantidade: ', qt_valor[0], 'kg disponíveis')\n",
    "            print('Preco: R$', qt_valor[1], '/kg')\n",
    "    elif opcao == 6:\n",
    "        \n",
    "    else:\n",
    "        print('Opção inválida. Tente novamente')"
   ]
  },
  {
   "cell_type": "code",
   "execution_count": null,
   "metadata": {},
   "outputs": [],
   "source": [
    "\n",
    "# Calendário - Deve seguir os seguintes critérios\n",
    "\n",
    "# 1 -- O Ano sempre pode ser dividido por 4 é um ano Leap. \n",
    "# 1.1 -- A menos que : O ano sempre possa ser dividido por 100\n",
    "# - Então ele não é um ano leap\n",
    "\n",
    "\n",
    "# 1.2 -- Ele também pode ser dividido por 400, se for, é um ano leap. \n",
    "\n",
    "\n",
    "\n",
    "def is_leap(year):\n",
    "    leap=False  \n",
    "    # Escreva a lógica para criar o ano bissexto\n",
    "    if (year) % 4 == 0:\n",
    "        leap=True\n",
    "    else:\n",
    "        leap=False\n",
    "    if (year) % 100 ==0:\n",
    "        leap=False\n",
    "    if (year) % 400 ==0:\n",
    "        leap=True\n",
    "    return leap\n",
    "\n",
    "\n",
    "year = int(input())\n"
   ]
  }
 ],
 "metadata": {
  "kernelspec": {
   "display_name": "Python 3",
   "language": "python",
   "name": "python3"
  },
  "language_info": {
   "codemirror_mode": {
    "name": "ipython",
    "version": 3
   },
   "file_extension": ".py",
   "mimetype": "text/x-python",
   "name": "python",
   "nbconvert_exporter": "python",
   "pygments_lexer": "ipython3",
   "version": "3.10.9 (tags/v3.10.9:1dd9be6, Dec  6 2022, 20:01:21) [MSC v.1934 64 bit (AMD64)]"
  },
  "orig_nbformat": 4,
  "vscode": {
   "interpreter": {
    "hash": "ce3fb133cab6a936c551081ee0d77ef4a6d11af85bd10385e088b263514ab4bf"
   }
  }
 },
 "nbformat": 4,
 "nbformat_minor": 2
}
