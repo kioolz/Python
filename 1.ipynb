{
 "cells": [
  {
   "cell_type": "code",
   "execution_count": 1,
   "metadata": {},
   "outputs": [
    {
     "name": "stdout",
     "output_type": "stream",
     "text": [
      "Esta é a quantidade de mols de hcl: 0.0312 mols gastos para reagir 5.00 ml de amônia\n"
     ]
    }
   ],
   "source": [
    "#(Vunesp) alguns produtos de limpeza doméstica consistem basicamente de solução aquosa de amônia. Para reagir completamente com amônia presente\n",
    "#em 5,00 ml de amostra de determinado produto de limpeza. Foram necessários 31,20 ml de ácido clorídrico 1,00 M. A reação que ocorre é : \n",
    "\n",
    "#Dadas as massas atômicas\n",
    "N = 14\n",
    "H = 1\n",
    "NH3 = N + 3 * H\n",
    "Cl = 35.5\n",
    "HCl = H + Cl\n",
    "\n",
    "VHCl = 31.2 #Litros ( / por 1000)\n",
    "# A) Calcule a concentração molar de amônia na amostra :\n",
    "\n",
    "# R: Como a solução de HCl possui concentração molar de 1,00 mol/L, devemos começar calculando a quantidade de mols de HCl que reagiram com o NH3.\n",
    "\n",
    "def molhcl(): #Define a função sem parâmetr\n",
    "    x = (VHCl * (10**(-3)))  # Define a variável que recebe o valor da função\n",
    "    return x  #retorna a variável\n",
    "\n",
    "print(\"Esta é a quantidade de mols de hcl:\", molhcl(), \"mols gastos para reagir 5.00 ml de amônia\")\n"
   ]
  },
  {
   "cell_type": "markdown",
   "metadata": {},
   "source": []
  }
 ],
 "metadata": {
  "kernelspec": {
   "display_name": "Python 3.10.5 64-bit",
   "language": "python",
   "name": "python3"
  },
  "language_info": {
   "codemirror_mode": {
    "name": "ipython",
    "version": 3
   },
   "file_extension": ".py",
   "mimetype": "text/x-python",
   "name": "python",
   "nbconvert_exporter": "python",
   "pygments_lexer": "ipython3",
   "version": "3.10.5"
  },
  "orig_nbformat": 4,
  "vscode": {
   "interpreter": {
    "hash": "b6cf718e9f2d479c472d3d5e3525d4367a3e46ecbff22209a30948d781ec1271"
   }
  }
 },
 "nbformat": 4,
 "nbformat_minor": 2
}
