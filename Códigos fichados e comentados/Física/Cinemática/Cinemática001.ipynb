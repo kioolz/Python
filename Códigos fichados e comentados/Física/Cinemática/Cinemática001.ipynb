{
 "cells": [
  {
   "cell_type": "code",
   "execution_count": 1,
   "metadata": {},
   "outputs": [
    {
     "name": "stdout",
     "output_type": "stream",
     "text": [
      "1.0\n",
      "<class 'float'>\n"
     ]
    }
   ],
   "source": [
    "# Aqui os valores das posições e tempos, final e inicial estão definidos pelo usuário do programa.\n",
    "x = 4.0\n",
    "xo = 2.0\n",
    "t = 3.0\n",
    "to = 1.0\n",
    "#Aqui podemos usar a fórmula para calcular o valor da velocidade.\n",
    "v = (x - xo)/(t - to)\n",
    "print(v)\n",
    "print(type(v))"
   ]
  },
  {
   "cell_type": "code",
   "execution_count": 2,
   "metadata": {},
   "outputs": [
    {
     "name": "stdout",
     "output_type": "stream",
     "text": [
      "[2.0]\n",
      "[4.0]\n"
     ]
    }
   ],
   "source": [
    "#Aqui temos o valor para o tempo inicial e a posição inicial\n",
    "posicaoinicial = float(input(\"Insira o valor da posição inicial\"))\n",
    "tempoinicial = float(input(\"Insira o valor para o tempo inicial\"))\n",
    "#Aqui temos duas listas vazias que vão servir para guardar cada valor de posição final.\n",
    "posicoesfinais = []\n",
    "temposfinais = []\n",
    "#Aqui inserimos manualmente o valor dessa posição final que vai ser anexada na lista acima\n",
    "posicaofinal = float(input(\"Insira um valor para a posição final\"))\n",
    "tempofinal = float(input(\"Em que instante de tempo ele chegou a posição final?\"))\n",
    "posicoesfinais.append(posicaofinal)\n",
    "temposfinais.append(tempofinal)\n",
    "#E por fim exibimos a lista com esses valores\n",
    "print(posicoesfinais)\n",
    "print(temposfinais)"
   ]
  },
  {
   "cell_type": "code",
   "execution_count": 4,
   "metadata": {},
   "outputs": [
    {
     "name": "stdout",
     "output_type": "stream",
     "text": [
      "0.3333333333333333\n",
      "[0.3333333333333333]\n"
     ]
    }
   ],
   "source": [
    "#E aqui, posso usar os valores obtidos na lista para conseguir retirar o valor da velocidade naquele deslocamento.\n",
    "velocidade = (posicoesfinais[0] - posicaoinicial) / (temposfinais[0] - tempoinicial)\n",
    "print(velocidade)\n",
    "velocidades = []\n",
    "velocidades.append(velocidade)\n",
    "print(velocidades)"
   ]
  },
  {
   "cell_type": "code",
   "execution_count": null,
   "metadata": {},
   "outputs": [],
   "source": [
    "#---------------------------------------\n",
    "#Definindo as variáveis dos eixos X e Y\n",
    "#---------------------------------------------\n",
    "X = [1.0,2.0,3.0,4.0]\n",
    "len(X)\n",
    "T = [2.0,4.0,6.0,8.0]\n",
    "\n",
    "V = []\n",
    "i=0\n",
    "for i in range (len(X)):\n",
    "    V.append(X[i]/T[i])\n",
    "print(V)\n",
    "#Definindo a equação da velocidade média \n",
    " # Agora para atualizar este código.\n",
    " # Eu quero trocar a lista de valores das variáveis por um Input onde eu possa inserir os valores\n",
    " # E eu quero fazer isso quantas vezes eu quiser, porém o gráfico do MU compreende todos os valores dentre os reais.\n",
    "#Definindo as propriedades do gráfico\n",
    "plt.plot (X, T, color='blue', marker = 'o', linestyle = 'solid')\n",
    "#Adiciona um Títutlo\n",
    "plt.title = (\"Movimento Uniforme\")\n",
    "plt.ylabel = (\"Posição\")\n",
    "plt.xlabel = (\"Tempo\")\n",
    "plt.show()"
   ]
  }
 ],
 "metadata": {
  "kernelspec": {
   "display_name": "Python 3.10.8 64-bit (microsoft store)",
   "language": "python",
   "name": "python3"
  },
  "language_info": {
   "codemirror_mode": {
    "name": "ipython",
    "version": 3
   },
   "file_extension": ".py",
   "mimetype": "text/x-python",
   "name": "python",
   "nbconvert_exporter": "python",
   "pygments_lexer": "ipython3",
   "version": "3.10.8"
  },
  "orig_nbformat": 2,
  "vscode": {
   "interpreter": {
    "hash": "ce3fb133cab6a936c551081ee0d77ef4a6d11af85bd10385e088b263514ab4bf"
   }
  }
 },
 "nbformat": 4,
 "nbformat_minor": 2
}
