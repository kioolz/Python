{
 "cells": [
  {
   "cell_type": "markdown",
   "metadata": {},
   "source": [
    "<h1><center> Tutorial - Python </h1></center>"
   ]
  },
  {
   "cell_type": "markdown",
   "metadata": {},
   "source": [
    "<h2><center> Matrizes </h2></center>"
   ]
  },
  {
   "cell_type": "markdown",
   "metadata": {},
   "source": [
    "<h3><center> Criando uma matriz 3x3 de forma simples</h3></center>"
   ]
  },
  {
   "cell_type": "code",
   "execution_count": 2,
   "metadata": {},
   "outputs": [
    {
     "name": "stdout",
     "output_type": "stream",
     "text": [
      "1 2 3 \n",
      "4 5 6 \n",
      "7 8 9 \n"
     ]
    }
   ],
   "source": [
    "matriz = [[1,2,3], [4,5,6], [7,8,9]]\n",
    "\n",
    "#Exibindo a matriz linha por linha\n",
    "for linha in matriz:\n",
    "    for coluna in linha:\n",
    "        print(coluna, end=' ')\n",
    "    print()"
   ]
  },
  {
   "cell_type": "markdown",
   "metadata": {},
   "source": [
    "<h3> <center> Programa que preenche uma matriz 3x3 com valores informados pelo usuario e exibe a soma dos valores da diagonal principal </h3></center>"
   ]
  },
  {
   "cell_type": "code",
   "execution_count": 2,
   "metadata": {},
   "outputs": [
    {
     "name": "stdout",
     "output_type": "stream",
     "text": [
      "Matriz:\n",
      "1 2 3 \n",
      "4 5 6 \n",
      "7 8 9 \n"
     ]
    }
   ],
   "source": [
    "#Criando uma matriz 3x3\n",
    "matriz = [[0, 0, 0], [0,0,0], [0,0,0]]\n",
    "\n",
    "#preenchendo a matriz com valores informados pelo usuário\n",
    "for i in range(3):\n",
    "    for j in range(3):\n",
    "        matriz[i][j] = int(input(\"Digite o valor para a posição [{i}][{j}]: \"))\n",
    "\n",
    "#Exibe a matriz \n",
    "print(\"Matriz:\")\n",
    "for linha in matriz:\n",
    "    for elemento in linha:\n",
    "        print(elemento, end = ' ')\n",
    "    print()\n",
    "\n"
   ]
  },
  {
   "cell_type": "markdown",
   "metadata": {},
   "source": [
    "<h3><center> Progrma que preenche uma matriz vazia 9x9 com Submatrizes 3x3 em python </h3></center>"
   ]
  }
 ],
 "metadata": {
  "kernelspec": {
   "display_name": "Python 3",
   "language": "python",
   "name": "python3"
  },
  "language_info": {
   "codemirror_mode": {
    "name": "ipython",
    "version": 3
   },
   "file_extension": ".py",
   "mimetype": "text/x-python",
   "name": "python",
   "nbconvert_exporter": "python",
   "pygments_lexer": "ipython3",
   "version": "3.11.8"
  }
 },
 "nbformat": 4,
 "nbformat_minor": 2
}
