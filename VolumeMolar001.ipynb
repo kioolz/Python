{
 "metadata": {
  "language_info": {
   "codemirror_mode": {
    "name": "ipython",
    "version": 3
   },
   "file_extension": ".py",
   "mimetype": "text/x-python",
   "name": "python",
   "nbconvert_exporter": "python",
   "pygments_lexer": "ipython3",
   "version": "3.7.4-final"
  },
  "orig_nbformat": 2,
  "kernelspec": {
   "name": "python3",
   "display_name": "Python 3",
   "language": "python"
  }
 },
 "nbformat": 4,
 "nbformat_minor": 2,
 "cells": [
  {
   "cell_type": "code",
   "execution_count": 5,
   "metadata": {},
   "outputs": [
    {
     "output_type": "execute_result",
     "data": {
      "text/plain": [
       "'\\nCreated on Mon Jul 29 14:28:50 2019\\n\\n@author: Caio\\n'"
      ]
     },
     "metadata": {},
     "execution_count": 5
    }
   ],
   "source": [
    "# -*- coding: utf-8 -*-\n",
    "\"\"\"\n",
    "Created on Mon Jul 29 14:28:50 2019\n",
    "\n",
    "@author: Caio\n",
    "\"\"\"\n",
    "\n",
    "# Volume Molar (Vm)\n",
    "       \n",
    "        #1 mol sempre tem 6.02 * 10^23 moléculas\n",
    "        \n",
    "        # O mesmo número de moléculas, independentemente da natureza do gás,\n",
    "        #ocupa sempre o mesmo volume em determinada pressão e temperatura, segundo o que diz a Lei de Avogrado\n",
    "        # Volumes iguais de gases quaisquer, quando medidos à mesma pressão e temperatura, encerram o mesmo número de moléculas\n",
    "        \n",
    "        # O Volume molar (Vm) de um gás, em determinada pressão e temperatura, é o volume que\n",
    "        #1 mol desse gás ocupa na pressão e temperatura consideradas.\n",
    "        #P = Pressão do gás\n",
    "        #V = volume do gás\n",
    "        #n = quantidade do gás em mols\n",
    "        #m = massa do gás em gramas\n",
    "        #M = massa molar do gás\n",
    "        #R = constante universal dos gases perfeitos\n",
    "        #T = temperatura do gás, em kelvins"
   ]
  },
  {
   "cell_type": "code",
   "execution_count": 6,
   "metadata": {},
   "outputs": [
    {
     "output_type": "stream",
     "name": "stdout",
     "text": [
      "1\n",
      "2\n",
      "3\n",
      "4\n",
      "5\n",
      "6\n"
     ]
    }
   ],
   "source": [
    "    Vm = 22.4\n",
    "    P=input(float())\n",
    "    print(P)\n",
    "    V=input(float())\n",
    "    print(V)\n",
    "    T=input(float())\n",
    "    print(T)\n",
    "    Po=input(float())\n",
    "    print(Po)\n",
    "    Vo=input(float())\n",
    "    print(Vo)\n",
    "    To=input(float())\n",
    "    print(To)\n",
    "    R = 0.082"
   ]
  },
  {
   "cell_type": "code",
   "execution_count": 4,
   "metadata": {},
   "outputs": [
    {
     "output_type": "error",
     "ename": "IndentationError",
     "evalue": "unexpected indent (<ipython-input-4-29481c1a2887>, line 17)",
     "traceback": [
      "\u001b[1;36m  File \u001b[1;32m\"<ipython-input-4-29481c1a2887>\"\u001b[1;36m, line \u001b[1;32m17\u001b[0m\n\u001b[1;33m    R = 0.082\u001b[0m\n\u001b[1;37m    ^\u001b[0m\n\u001b[1;31mIndentationError\u001b[0m\u001b[1;31m:\u001b[0m unexpected indent\n"
     ]
    }
   ],
   "source": [
    "#Nas condições normais de pressão e temperatura, o volume molar é 22.4 litros\n",
    "def VolumeMolar():\n",
    "     P * V = (m/M) * R * T\n",
    "            # É necessário criar uma estrutura condicional que permita ao usuário escolher em quais unidades trabalhar\"\n",
    "            print (R,\"atm * litro / kelvin * mol)\n",
    "            print ()\n",
    "            #Equação de Clapeyron - Equação geral dos gases ideais\"\n",
    "            P*V*T=Po*Vo*To\n",
    "            VolumeMolar():     \n"
   ]
  }
 ]
}