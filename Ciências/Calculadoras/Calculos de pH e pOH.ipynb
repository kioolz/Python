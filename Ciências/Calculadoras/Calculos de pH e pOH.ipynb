{
 "cells": [
  {
   "cell_type": "code",
   "execution_count": 3,
   "metadata": {},
   "outputs": [],
   "source": [
    "#bibliotecas para os cálculos\n",
    "import math\n",
    "from math import sqrt"
   ]
  },
  {
   "cell_type": "code",
   "execution_count": 5,
   "metadata": {},
   "outputs": [
    {
     "name": "stdout",
     "output_type": "stream",
     "text": [
      "O log de 10^6 na base 10 é:5.999999999999999\n",
      "O log de x na base 10 é:5.0\n"
     ]
    }
   ],
   "source": [
    "#Teste da função logaritmo\n",
    "print (\"O log de 10^6 na base 10 é:\", end=\"\")\n",
    "print (math.log(10**6,10))\n",
    "\n",
    "#Dado a variável\n",
    "x = 10**5\n",
    "print(\"O log de x na base 10 é:\", end=\"\")\n",
    "print(math.log(x,10))"
   ]
  },
  {
   "cell_type": "code",
   "execution_count": 94,
   "metadata": {},
   "outputs": [
    {
     "name": "stdout",
     "output_type": "stream",
     "text": [
      "o pH da solução é:0.9999999999999998\n",
      "o pOH da solução do NaOH: 0.6989700043360187\n",
      "o ph é: 13.301029995663981\n"
     ]
    }
   ],
   "source": [
    "#1) Calculo do pH da solução\n",
    "#a)  Solução de HCl 0,100mol/L\n",
    "concentraçãodoácido = 0.100 #mol/L - Concentração do ácido\n",
    "C1 = concentraçãodoácido\n",
    "print(\"o pH da solução é:\", end=\"\")\n",
    "ph = print((-1)*math.log(concentraçãodoácido,10))\n",
    "#b) Solução de NaOH 0,200mol/L\n",
    "concentraçãodabase = 0.200 #mol/L\n",
    "C2 = concentraçãodabase\n",
    "poh = (-1)*math.log(concentraçãodabase,10)\n",
    "print(\"o pOH da solução do NaOH:\", poh)\n",
    "ph = 14 - poh\n",
    "print(\"o ph é:\", ph)"
   ]
  },
  {
   "cell_type": "code",
   "execution_count": 98,
   "metadata": {},
   "outputs": [
    {
     "name": "stdout",
     "output_type": "stream",
     "text": [
      "o pH da solução é:7.698970004336018\n"
     ]
    }
   ],
   "source": [
    "#2)\n",
    "# a)Solução de HNO3 2x10^-8 mol/L\n",
    "concentraçãodoácido = 2 * 10**(-8)#mol/L\n",
    "print(\"o pH da solução é:\", end=\"\")\n",
    "ph = print((-1)*math.log(concentraçãodoácido,10))"
   ]
  },
  {
   "cell_type": "code",
   "execution_count": 169,
   "metadata": {},
   "outputs": [
    {
     "name": "stdout",
     "output_type": "stream",
     "text": [
      "o pH da solução é: 0.8239087409443187\n",
      "este é o poH: 13.176091259055681\n"
     ]
    }
   ],
   "source": [
    "#b) Solução de CH3CO2H 0.15mol/L\n",
    "concentraçãodoácido = 0.15 #mol/L\n",
    "\n",
    "#o pH é o logaritmo na base da concentração molar do ácido.\n",
    "ph = ((-1)*math.log(concentraçãodoácido,10))\n",
    "print(\"o pH da solução é:\", ph)\n",
    "poh = 14 - ph\n",
    "print(\"este é o poH:\", poh)"
   ]
  },
  {
   "cell_type": "code",
   "execution_count": 209,
   "metadata": {},
   "outputs": [
    {
     "name": "stdout",
     "output_type": "stream",
     "text": [
      "Esta é a concentração do ácido 0.125\n",
      "este é o pH 2.43\n",
      "este é o pOH 11.57\n",
      "Este é o Ka 11.26115075103196\n",
      "Calculando kB e kA como produtos para confirmar o resultado\n",
      "kB: 8.880087143033415e-16\n",
      "Ka: 11.26115075103196\n",
      "Se o produto da operação for 10 elevado a menos 14 então o resultado da operação está correto.\n",
      "1e-14\n"
     ]
    }
   ],
   "source": [
    "#3)  Hlat é um ácido monoprótico. Sendo o pH de uma solução deste ácido com concentração de 0,100 mol/L igual a 2,43 calcule o kA do ácido.\n",
    "concentraçãodoácido = 0.100 #mol/L\n",
    "print(\"Esta é a concentração do ácido\", concentraçãodabase) \n",
    " \n",
    "ph = 2.43\n",
    "print(\"este é o pH\", ph)\n",
    "\n",
    "poh = 14 - ph\n",
    "print (\"este é o pOH\", poh)\n",
    "\n",
    "kW = 10**(-14)\n",
    "\n",
    "H3Omais=x\n",
    "pH = math.log(H3Omais)\n",
    "\n",
    "Ka=(-math.log(pH,10))**(2)/concentraçãodoácido\n",
    "\n",
    "print(\"Este é o Ka\", Ka)\n",
    "\n",
    "#Prova real\n",
    "print (\"Calculando kB e kA como produtos para confirmar o resultado\")\n",
    "kB = kW/Ka\n",
    "print(\"kB:\",kB)\n",
    "Ka = kW/kB\n",
    "print(\"Ka:\", Ka)\n",
    "print(\"Se o produto da operação for 10 elevado a menos 14 então o resultado da operação está correto.\")\n",
    "kW = kB*Ka \n",
    "print(kW)"
   ]
  },
  {
   "cell_type": "code",
   "execution_count": 163,
   "metadata": {},
   "outputs": [
    {
     "name": "stdout",
     "output_type": "stream",
     "text": [
      "Este é o pOH 2\n",
      "Este é o pH 12\n",
      "Este é o kA 1.2499999999999999e-11\n",
      "Esta é a concentração da base: 0.125\n"
     ]
    }
   ],
   "source": [
    "#4) Calcule a concentração dados o PH e o Kb\n",
    "ph = 12\n",
    "poh = 14 - ph\n",
    "print (\"Este é o pOH\", poh)\n",
    "print (\"Este é o pH\", ph)\n",
    "\n",
    "#O valor de hidroxilas é a operação inversa ao logaritmo aplicada ao ph. \n",
    "\n",
    "ohmenos = 10**(-2)\n",
    "\n",
    "kW = 10**(-14)\n",
    "\n",
    "\n",
    "kB = 8*(10**(-4))\n",
    "\n",
    "kA = kW/kB\n",
    "print(\"Este é o kA\",kA)\n",
    "concentraçãodabase = (ohmenos)**2/kB\n",
    "print(\"Esta é a concentração da base:\", concentraçãodabase)"
   ]
  },
  {
   "cell_type": "code",
   "execution_count": 228,
   "metadata": {},
   "outputs": [
    {
     "name": "stdout",
     "output_type": "stream",
     "text": [
      "Este é o valor de kB: 5.555555555555555e-10\n",
      "Se você achou o valor correto, esse teste vai aparecer o valor de kW corretamente 1e-14\n",
      "Esta é a concentração de hidroxilas 7.453559924999299e-06\n",
      "Este é o valor do pOH 11.806818797421288\n",
      "Este é o valor do pH 2.193181202578712\n"
     ]
    }
   ],
   "source": [
    "concentraçãodabase = 0.1 #mol/L \n",
    "kA = 1.8 * 10**(-5)\n",
    "kw = 10**(-14)\n",
    "kB = kw/kA\n",
    "print(\"Este é o valor de kB:\", kB)\n",
    "\n",
    "kWteste = kA*kB\n",
    "print(\"Se você achou o valor correto, esse teste vai aparecer o valor de kW corretamente\",kWteste)\n",
    "\n",
    "\n",
    "#Calculando o poH pela concentração da base\n",
    "ohmenos = sqrt(concentraçãodabase*kB)\n",
    "print(\"Esta é a concentração de hidroxilas\", ohmenos)\n",
    "pOH = -math.log(ohmenos)\n",
    "\n",
    "print(\"Este é o valor do pOH\", pOH)\n",
    "\n",
    "pH = 14 - pOH\n",
    "print(\"Este é o valor do pH\", pH)"
   ]
  },
  {
   "cell_type": "code",
   "execution_count": 298,
   "metadata": {},
   "outputs": [
    {
     "name": "stdout",
     "output_type": "stream",
     "text": [
      "MM_HCl: 36.5 MM_NaOH: 40.0\n",
      "Este é o volume do ácido inserido: 0.05\n",
      "0.005000000000000001\n",
      "0.005000000000000001\n",
      "0.0\n"
     ]
    }
   ],
   "source": [
    "import pandas as pd\n",
    "\n",
    "#Problemas que envolvem misturas\n",
    "\n",
    "H=1.0\n",
    "C=14\n",
    "Cl=35.5\n",
    "Na=23.0\n",
    "O=16.0\n",
    "\n",
    "\n",
    "MM_HCl = H+Cl\n",
    "MMNaOH = Na+O+H\n",
    "\n",
    "print(\"MM_HCl:\",HCl,\"MM_NaOH:\", NaOH)\n",
    "\n",
    "\n",
    "VolumeÁcido=float(input(\"Insira o volume do ácido\"))\n",
    "print(\"Este é o volume do ácido inserido:\", VolumeÁcido)\n",
    "\n",
    "VolumedoÁcido = 50 * 10**(-3)\n",
    "VolumedeBase = 50 * 10**(-3)\n",
    "Concentraçãodoácido = 0.100#mol/L\n",
    "Concentraçãodabase = 0.100#mol/L\n",
    "\n",
    "nMolsÁcido = Concentraçãodoácido*VolumeÁcido\n",
    "nMolsBase = Concentraçãodabase*VolumedeBase\n",
    "\n",
    "print(nMolsBase)\n",
    "print(nMolsÁcido)\n",
    "\n",
    "Volumetotal = VolumedoÁcido+VolumedeBase\n",
    "\n",
    "H3Omais = (nMolsÁcido-nMolsBase)/Volumetotal\n",
    "\n",
    "print(H3Omais)"
   ]
  },
  {
   "cell_type": "code",
   "execution_count": 8,
   "metadata": {},
   "outputs": [
    {
     "name": "stdout",
     "output_type": "stream",
     "text": [
      "Este é o volume do ácido inserido: 0.03\n",
      "Este é o volume da base inserida: 0.03\n",
      "Esta é a concentração inserida em mols/L 0.1\n",
      "Esta é a concentração inserida em mols/L 0.1\n",
      "Estes foram os números de Mol Calculados para o Ácido 0.003 Estes foram os da base 0.003\n",
      "Este foi o volume total da mistura 0.06\n",
      "Este é o valor de kA 5.714285714285715e-10\n",
      "Este é o valor do pOH 6.6279473850144255\n",
      "Este é o valor do pH 7.3720526149855745\n"
     ]
    }
   ],
   "source": [
    "import pandas as pd\n",
    "\n",
    "# Inserir os valores de ácido e base e as concentrações. \n",
    "VolumeÁcido=float(input(\"Insira o volume do ácido\"))\n",
    "print(\"Este é o volume do ácido inserido:\", VolumeÁcido)\n",
    "\n",
    "VolumeBase=float(input(\"Insira o volume da base\"))\n",
    "print(\"Este é o volume da base inserida:\", VolumeBase)\n",
    "\n",
    "ConcentraçãoÁcido=float(input(\"Insira a concentração do ácido\"))\n",
    "print(\"Esta é a concentração inserida em mols/L\", ConcentraçãoÁcido)\n",
    "\n",
    "ConcentraçãoBase=float(input(\"Insira a concentração da base\"))\n",
    "print(\"Esta é a concentração inserida em mols/L\", ConcentraçãoBase)\n",
    "\n",
    "nMolsÁcido = ConcentraçãoÁcido*VolumeÁcido\n",
    "nMolsBase = ConcentraçãoBase*VolumeBase\n",
    "print(\"Estes foram os números de Mol Calculados para o Ácido\", nMolsÁcido, \"Estes foram os da base\", nMolsBase)\n",
    "\n",
    "\n",
    "Volumetotal = VolumeÁcido+VolumeBase\n",
    "\n",
    "\n",
    "print(\"Este foi o volume total da mistura\", Volumetotal)\n",
    "\n",
    "\n",
    "\n",
    "#Nem todo ácido reage\n",
    "if (nMolsÁcido > nMolsBase):\n",
    "    nMolsTotal = nMolsÁcido-nMolsBase\n",
    "    H3Omais = nMolsTotal/Volumetotal\n",
    "    print(\"Este é o valor do H3OMais\",H3Omais)\n",
    "    kW = 10**(-14)\n",
    "    OHMenos = kW/H3Omais\n",
    "    pH = -math.log(H3Omais,10)\n",
    "    pOH = -math.log(OHMenos,10)\n",
    "    print(\"Este é o valor do pH\", pH)\n",
    "    print(\"pOH:\",pOH)\n",
    "\n",
    "\n",
    "if (nMolsBase > nMolsÁcido):\n",
    "    nMolsTotal = nMolsBase-nMolsÁcido\n",
    "    print(\"N de Mols Total da mistura\", nMolsTotal)\n",
    "    H3Omais = nMolsTotal/Volumetotal\n",
    "    OHmenos = H3Omais\n",
    "    print(\"Concentração de OHMenos\", OHmenos)\n",
    "    pOH = -math.log(OHmenos,10)\n",
    "    print(\"pOH:\",pOH)\n",
    "\n",
    "    \n",
    "if (nMolsÁcido == nMolsBase):\n",
    "    nMolsTotal=nMolsBase-nMolsÁcido\n",
    "    z=int(input(\"Insira 1 para kA e 2 para kB\"))\n",
    "    if (z==1):\n",
    "        kW = 10**(-14)\n",
    "        kA_str = input(\"Insira o valor de kA\")\n",
    "        kA = float(kA_str)\n",
    "        kb = kW/kA\n",
    "        print(\"Este é o valor de kB\")\n",
    "        H3Omais = (kA*Concentraçãodoácido)**(1/2)\n",
    "        pH = -math.log(H3Omais)\n",
    "        print(\"Este é o valor do pH\")\n",
    "        poh = 14 - pH\n",
    "        print (\"Este é o valor do pOH\")\n",
    "    if (z==2):\n",
    "        kW = 10**(-14)\n",
    "        kB_str = float(input(\"Insira o valor de kB\"))\n",
    "        kB = float(kB_str)\n",
    "        kA = kW/kB\n",
    "        print(\"Este é o valor de kA\", kA)\n",
    "        OHmenos = (kB*ConcentraçãoBase)**(1/2)\n",
    "        pOH = -math.log(OHmenos)\n",
    "        print (\"Este é o valor do pOH\", pOH)\n",
    "        pH = 14 - pOH \n",
    "        print(\"Este é o valor do pH\", pH)       \n"
   ]
  }
 ],
 "metadata": {
  "kernelspec": {
   "display_name": "Python 3.10.8 64-bit (microsoft store)",
   "language": "python",
   "name": "python3"
  },
  "language_info": {
   "codemirror_mode": {
    "name": "ipython",
    "version": 3
   },
   "file_extension": ".py",
   "mimetype": "text/x-python",
   "name": "python",
   "nbconvert_exporter": "python",
   "pygments_lexer": "ipython3",
   "version": "3.10.9 (tags/v3.10.9:1dd9be6, Dec  6 2022, 20:01:21) [MSC v.1934 64 bit (AMD64)]"
  },
  "orig_nbformat": 2,
  "vscode": {
   "interpreter": {
    "hash": "ce3fb133cab6a936c551081ee0d77ef4a6d11af85bd10385e088b263514ab4bf"
   }
  }
 },
 "nbformat": 4,
 "nbformat_minor": 2
}
