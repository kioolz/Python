{
 "cells": [
  {
   "cell_type": "code",
   "execution_count": 1,
   "metadata": {},
   "outputs": [
    {
     "name": "stdout",
     "output_type": "stream",
     "text": [
      "O número de ciclos de clock em 1 segundo(s) é: 6000000000\n"
     ]
    }
   ],
   "source": [
    "def calcular_ciclos_de_clock(frequencia_relogio, tempo_em_segundos):\n",
    "    ciclos_de_clock = frequencia_relogio * tempo_em_segundos\n",
    "    return ciclos_de_clock\n",
    "\n",
    "frequencia_relogio = 6e9  # Frequência de 6 GHz em Hz\n",
    "tempo_em_segundos = 1     # Tempo em segundos\n",
    "\n",
    "ciclos_de_clock = calcular_ciclos_de_clock(frequencia_relogio, tempo_em_segundos)\n",
    "print(f\"O número de ciclos de clock em {tempo_em_segundos} segundo(s) é: {ciclos_de_clock:.0f}\")\n",
    "\n"
   ]
  },
  {
   "cell_type": "code",
   "execution_count": 3,
   "metadata": {},
   "outputs": [
    {
     "name": "stdout",
     "output_type": "stream",
     "text": [
      "O tempo necessário para executar o programa é de 0.0000000167 segundos.\n"
     ]
    }
   ],
   "source": [
    "def calcular_tempo_execucao(numero_instrucoes, ciclos_por_instrucao, frequencia_relogio):\n",
    "    tempo_total = (numero_instrucoes * ciclos_por_instrucao) / frequencia_relogio\n",
    "    return tempo_total\n",
    "\n",
    "numero_instrucoes = int(input(\"Digite o número de instruções: \"))\n",
    "ciclos_por_instrucao = int(input(\"Digite o número de ciclos por instrução: \"))\n",
    "frequencia_relogio = 6e9  # Frequência de 6 GHz em Hz\n",
    "\n",
    "tempo_total = calcular_tempo_execucao(numero_instrucoes, ciclos_por_instrucao, frequencia_relogio)\n",
    "\n",
    "print(f\"O tempo necessário para executar o programa é de {tempo_total:.10f} segundos.\")\n"
   ]
  },
  {
   "cell_type": "code",
   "execution_count": 6,
   "metadata": {},
   "outputs": [
    {
     "name": "stdout",
     "output_type": "stream",
     "text": [
      "O tempo necessário para executar o programa com pipeline é de 0.0000000160 segundos.\n"
     ]
    }
   ],
   "source": [
    "def calcular_tempo_execucao_pipeline_com_inicializacao(numero_instrucoes, ciclos_por_instrucao, frequencia_relogio, estagios_pipeline):\n",
    "    ciclos_inicializacao = 6  # 2 instruções de inicialização * 3 ciclos cada\n",
    "    ciclos_instrucoes_restantes = (numero_instrucoes - 2) * ciclos_por_instrucao\n",
    "\n",
    "    tempo_total = (ciclos_inicializacao + ciclos_instrucoes_restantes) / frequencia_relogio\n",
    "    return tempo_total\n",
    "\n",
    "numero_instrucoes = int(input(\"Digite o número de instruções: \"))\n",
    "ciclos_por_instrucao = 5\n",
    "frequencia_relogio = 6e9  # Frequência de 6 GHz em Hz\n",
    "estagios_pipeline = 4\n",
    "\n",
    "tempo_total = calcular_tempo_execucao_pipeline_com_inicializacao(numero_instrucoes, ciclos_por_instrucao, frequencia_relogio, estagios_pipeline)\n",
    "\n",
    "print(f\"O tempo necessário para executar o programa com pipeline é de {tempo_total:.10f} segundos.\")\n"
   ]
  }
 ],
 "metadata": {
  "kernelspec": {
   "display_name": "Python 3",
   "language": "python",
   "name": "python3"
  },
  "language_info": {
   "codemirror_mode": {
    "name": "ipython",
    "version": 3
   },
   "file_extension": ".py",
   "mimetype": "text/x-python",
   "name": "python",
   "nbconvert_exporter": "python",
   "pygments_lexer": "ipython3",
   "version": "3.10.11"
  },
  "orig_nbformat": 4
 },
 "nbformat": 4,
 "nbformat_minor": 2
}
