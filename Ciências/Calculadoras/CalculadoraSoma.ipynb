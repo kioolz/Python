
def Somar(numero,outronumero,operacao):
    numero=int(input("Insira o primeiro número da soma"))
    outronumero=int(input("Insira outro número para a soma"))
    print("Soma:", numero+outronumero)

def subtrair(numero,outronumero,operacao):
    numero=int(input("Insira o primeiro número da subtração"))
    outronumero=int(input("Insira o segundo número da subtração"))
    print("Subtração:",numero-outronumero)
    
    
operacao = 1

if (operacao==1):
    print("0. OperaçãoInválida")
    print("1. Somar")
    print("2. Subtrair")
    operacao = int(input("Opção: "))
    if (operacao==1):
    soma()
    if (operacao==2):
    subtrair()
    else:
    print("Operação inválida")

