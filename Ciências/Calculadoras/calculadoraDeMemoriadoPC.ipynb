{
 "cells": [
  {
   "cell_type": "markdown",
   "metadata": {},
   "source": [
    "<h1 align=\"center\"> Cálculos com a capacidade da memória principal </h1>"
   ]
  },
  {
   "cell_type": "markdown",
   "metadata": {},
   "source": [
    "<h3>A memória principal (RAM) é um conjunto de N células, cada uma armazenando um valor com M bits.\n",
    "Então, a quantidade de endereços contida no espaço endereçável da referida RAM é também igual a N, visto\n",
    "que a cada conteúdo de célula está associado um número, que é o seu endereço.</h3>"
   ]
  },
  {
   "cell_type": "markdown",
   "metadata": {},
   "source": [
    "<h3>O valor de N representa a capacidade da memória, através da quantidade de células ou de endereços, O\n",
    "valor de M indica a quantidade de bits que podem ser armazenados em uma célula individual (que é a informação propriamente dita)</h3>"
   ]
  },
  {
   "cell_type": "code",
   "execution_count": 79,
   "metadata": {},
   "outputs": [
    {
     "name": "stdout",
     "output_type": "stream",
     "text": [
      "Como um bit representa apenas um entre dois valores na base binária, então podemos concluir que:\n",
      "pode-se armazenar em cada célula um valor entre 0 e 2^W — 1, porém um de cada vez. São 2^W combinações possíveis.\n",
      "Por exemplo se M = 9 bits, temos 2^9 = 511\n",
      "então temos a MP tendo N endereços e sendo E = Quantidade de bits dos números que representam cada um dos N endereços, então \n",
      "N = 2^E\n",
      "Por exemplo, se N = 512 porque a memoria principal ou N tem 512 células, então 512 = 2^E\n",
      "e E = 9, pois 2^9 = 512\n",
      "Com isso, o total de bits que podem ser armazenados na referida MP é denominado T, sendo: \n",
      "Total de bits armazenáveis na memória principal: 9216 bits\n",
      "Valor 510 escrito na célula 128.\n",
      "Valor lido da célula 128: 510\n"
     ]
    }
   ],
   "source": [
    "class CelulaMemoria:\n",
    "    def __init__(self, valor_maximo):\n",
    "        self.valor = 0\n",
    "        self.valor_maximo = valor_maximo\n",
    "\n",
    "    def escrever(self, valor):\n",
    "        if 0 <= valor < self.valor_maximo:\n",
    "            self.valor = valor\n",
    "            return True\n",
    "        else:\n",
    "            print(\"Valor fora do intervalo permitido.\")\n",
    "            return False\n",
    "\n",
    "    def ler(self):\n",
    "        return self.valor\n",
    "\n",
    "class MemoriaPrincipal:\n",
    "    def __init__(self, bits_endereco, valor_maximo_celula):\n",
    "        self.bits_endereco = bits_endereco\n",
    "        self.bits_celula = int(self.bits_endereco + valor_maximo_celula.bit_length())\n",
    "        self.tamanho = 2 ** bits_endereco\n",
    "        self.celulas = [CelulaMemoria(valor_maximo_celula) for _ in range(self.tamanho)]\n",
    "\n",
    "    def escrever_em_celula(self, endereco, valor):\n",
    "        if 0 <= endereco < self.tamanho:\n",
    "            return self.celulas[endereco].escrever(valor)\n",
    "        else:\n",
    "            print(\"Endereço inválido.\")\n",
    "            return False\n",
    "\n",
    "    def ler_de_celula(self, endereco):\n",
    "        if 0 <= endereco < self.tamanho:\n",
    "            return self.celulas[endereco].ler()\n",
    "        else:\n",
    "            print(\"Endereço inválido.\")\n",
    "            return None\n",
    "\n",
    "# Parâmetros\n",
    "print(f\"Como um bit representa apenas um entre dois valores na base binária, então podemos concluir que:\")\n",
    "print(f\"pode-se armazenar em cada célula um valor entre 0 e 2^W — 1, porém um de cada vez. São 2^W combinações possíveis.\")\n",
    "\n",
    "bits_endereco = 9\n",
    "valor_maximo_celula = (2 ** bits_endereco)-1\n",
    "print(f\"Por exemplo se M = {bits_endereco} bits, temos 2^{bits_endereco} = {valor_maximo_celula}\")\n",
    "print(f\"então temos a MP tendo N endereços e sendo E = Quantidade de bits dos números que representam cada um dos N endereços, então \") \n",
    "print(f\"N = 2^E\")\n",
    "\n",
    "print(f\"Por exemplo, se N = 512 porque a memoria principal ou N tem 512 células, então 512 = 2^E\")\n",
    "print(f\"e E = 9, pois 2^9 = 512\")\n",
    "\n",
    "\n",
    "# Criar memória principal\n",
    "memoria = MemoriaPrincipal(bits_endereco, valor_maximo_celula)\n",
    "\n",
    "# Exemplo de escrita e leitura\n",
    "endereco = 128\n",
    "valor_para_escrever = 510\n",
    "\n",
    "\n",
    "# Imprimir o total de bits armazenáveis na memória principal\n",
    "\n",
    "total_bits = memoria.bits_celula * memoria.tamanho\n",
    "print(f\"Com isso, o total de bits que podem ser armazenados na referida MP é denominado T, sendo: \")\n",
    "\n",
    "print(f\"Total de bits armazenáveis na memória principal: {total_bits} bits\" )\n",
    "\n",
    "\n",
    "if memoria.escrever_em_celula(endereco, valor_para_escrever):\n",
    "    print(f\"Valor {valor_para_escrever} escrito na célula {endereco}.\")\n",
    "    valor_lido = memoria.ler_de_celula(endereco)\n",
    "    print(f\"Valor lido da célula {endereco}: {valor_lido}\")\n",
    "\n"
   ]
  }
 ],
 "metadata": {
  "kernelspec": {
   "display_name": "Python 3",
   "language": "python",
   "name": "python3"
  },
  "language_info": {
   "codemirror_mode": {
    "name": "ipython",
    "version": 3
   },
   "file_extension": ".py",
   "mimetype": "text/x-python",
   "name": "python",
   "nbconvert_exporter": "python",
   "pygments_lexer": "ipython3",
   "version": "3.10.11"
  },
  "orig_nbformat": 4
 },
 "nbformat": 4,
 "nbformat_minor": 2
}
