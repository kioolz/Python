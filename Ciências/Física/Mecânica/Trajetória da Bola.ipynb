{
 "cells": [
  {
   "cell_type": "code",
   "execution_count": 8,
   "metadata": {},
   "outputs": [
    {
     "name": "stdout",
     "output_type": "stream",
     "text": [
      "v0 = 15.0 km/h, theta = 60 degrees, y0 = 1.0 m, x = 0.5 m\n",
      "y = 1.6 m\n"
     ]
    }
   ],
   "source": [
    "# Código que descreve a trajetória da bola\n",
    "\n",
    "#bibliotecas\n",
    "from math import pi, tan, cos\n",
    "\n",
    "g = 9.81\n",
    "v0 = 15\n",
    "theta = 60\n",
    "x = 0.5\n",
    "y0 = 1\n",
    "\n",
    "print(\"v0 = %.1f km/h, theta = %d degrees, y0 = %.1f m, x = %.1f m\" %(v0, theta, y0, x))\n",
    "\n",
    "v0 = v0/3.6\n",
    "theta = theta*pi/180\n",
    "\n",
    "y = x*tan(theta) - 1/(2*v0**2) * g * (x**2) / ((cos(theta))**2) + y0\n",
    "\n",
    "print ('y = %.1f m' % y)"
   ]
  },
  {
   "cell_type": "code",
   "execution_count": 12,
   "metadata": {},
   "outputs": [
    {
     "name": "stdout",
     "output_type": "stream",
     "text": [
      "10.0\n",
      "No instante t=15.000000 s, uma bola com velocidade inicial de v0 = 1.000E+01 m/s está localizada na altura -1149.35 m\n"
     ]
    }
   ],
   "source": [
    "# Versão dois, onde as variáveis são definidas como variáveis de entrada dos usuários.\n",
    "# Buscar erros de consistência numérica nos valores\n",
    "from math import pi, cos, sin\n",
    "def ball_patch():\n",
    "    v0 = float(input())\n",
    "    print(v0)\n",
    "    g = 9.81\n",
    "    theta = 60\n",
    "    t = float(input())\n",
    "    y = ((v0* sin(theta) * t)) - ((g*(t**2)/2))\n",
    "\n",
    "    return print((\"No instante t=%f s, uma bola com velocidade inicial de v0 = %.3E m/s está localizada na altura %.2f m\") % (t,v0, y))\n",
    "\n",
    "ball_patch()"
   ]
  }
 ],
 "metadata": {
  "kernelspec": {
   "display_name": "Python 3",
   "language": "python",
   "name": "python3"
  },
  "language_info": {
   "codemirror_mode": {
    "name": "ipython",
    "version": 3
   },
   "file_extension": ".py",
   "mimetype": "text/x-python",
   "name": "python",
   "nbconvert_exporter": "python",
   "pygments_lexer": "ipython3",
   "version": "3.10.9 (tags/v3.10.9:1dd9be6, Dec  6 2022, 20:01:21) [MSC v.1934 64 bit (AMD64)]"
  },
  "orig_nbformat": 4,
  "vscode": {
   "interpreter": {
    "hash": "ce3fb133cab6a936c551081ee0d77ef4a6d11af85bd10385e088b263514ab4bf"
   }
  }
 },
 "nbformat": 4,
 "nbformat_minor": 2
}
