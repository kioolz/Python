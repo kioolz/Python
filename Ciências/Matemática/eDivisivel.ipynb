{
 "cells": [
  {
   "cell_type": "code",
   "execution_count": 12,
   "metadata": {},
   "outputs": [
    {
     "name": "stdout",
     "output_type": "stream",
     "text": [
      "10 é divisível por 2.\n"
     ]
    }
   ],
   "source": [
    "def verifica_divisibilidade(numero, divisor):\n",
    "    if divisor == 0:\n",
    "        return False  # Evitando divisão por zero\n",
    "    \n",
    "    resto = numero % divisor  # Calcula o resto da divisão\n",
    "    \n",
    "    if resto == 0:\n",
    "        return True  # O número é divisível pelo divisor\n",
    "    else:\n",
    "        return False  # O número não é divisível pelo divisor\n",
    "\n",
    "# Testando a função\n",
    "numero = int(input(\"Digite o número: \"))\n",
    "divisor = int(input(\"Digite o divisor: \"))\n",
    "\n",
    "if verifica_divisibilidade(numero, divisor):\n",
    "    print(f\"{numero} é divisível por {divisor}.\")\n",
    "else:\n",
    "    print(f\"{numero} não é divisível por {divisor}.\")"
   ]
  },
  {
   "cell_type": "code",
   "execution_count": 13,
   "metadata": {},
   "outputs": [
    {
     "name": "stdout",
     "output_type": "stream",
     "text": [
      "Números no intervalo [10, 100] divisíveis por 2:\n",
      "10\n",
      "12\n",
      "14\n",
      "16\n",
      "18\n",
      "20\n",
      "22\n",
      "24\n",
      "26\n",
      "28\n",
      "30\n",
      "32\n",
      "34\n",
      "36\n",
      "38\n",
      "40\n",
      "42\n",
      "44\n",
      "46\n",
      "48\n",
      "50\n",
      "52\n",
      "54\n",
      "56\n",
      "58\n",
      "60\n",
      "62\n",
      "64\n",
      "66\n",
      "68\n",
      "70\n",
      "72\n",
      "74\n",
      "76\n",
      "78\n",
      "80\n",
      "82\n",
      "84\n",
      "86\n",
      "88\n",
      "90\n",
      "92\n",
      "94\n",
      "96\n",
      "98\n",
      "100\n"
     ]
    }
   ],
   "source": [
    "def verifica_intervalo_divisibilidade(inicio, fim, divisor):\n",
    "    listaNumerosDivisiveis = []\n",
    "    if divisor == 0:\n",
    "        print(\"Divisão por zero não é permitida.\")\n",
    "        return\n",
    "    \n",
    "    print(f\"Números no intervalo [{inicio}, {fim}] divisíveis por {divisor}:\")\n",
    "    for numero in range(inicio, fim + 1):\n",
    "        if numero % divisor == 0:\n",
    "            listaNumerosDivisiveis.append(numero)\n",
    "            print(numero)\n",
    "\n",
    "# Testando o intervalo [10, 100] com divisor 2\n",
    "verifica_intervalo_divisibilidade(10, 100, 2)\n",
    "\n"
   ]
  },
  {
   "cell_type": "code",
   "execution_count": 4,
   "metadata": {},
   "outputs": [
    {
     "name": "stdout",
     "output_type": "stream",
     "text": [
      "[11, 13, 15, 17, 19, 21, 23, 25, 27, 29, 31, 33, 35, 37, 39, 41, 43, 45, 47, 49, 51, 53, 55, 57, 59, 61, 63, 65, 67, 69, 71, 73, 75, 77, 79, 81, 83, 85, 87, 89, 91, 93, 95, 97, 99]\n",
      "Total de números não divisíveis por 2: 45\n"
     ]
    }
   ],
   "source": [
    "numeros = []\n",
    "for i in range(10, 101):\n",
    "    if i % 2 != 0:\n",
    "        numeros.append(i)\n",
    "print(numeros)\n",
    "print(\"Total de números não divisíveis por 2:\", len(numeros))\n"
   ]
  },
  {
   "cell_type": "code",
   "execution_count": 9,
   "metadata": {},
   "outputs": [
    {
     "name": "stdout",
     "output_type": "stream",
     "text": [
      "[11, 13, 17, 19, 23, 25, 29, 31, 35, 37, 41, 43, 47, 49, 53, 55, 59, 61, 65, 67, 71, 73, 77, 79, 83, 85, 89, 91, 95, 97]\n",
      "Total de números não divisíveis por 2, 3: 30\n"
     ]
    }
   ],
   "source": [
    "numeros = []\n",
    "for i in range(10, 101):\n",
    "    if i % 2 != 0 and i % 3 != 0 :\n",
    "        numeros.append(i)\n",
    "print(numeros)\n",
    "print(\"Total de números não divisíveis por 2, 3:\", len(numeros))\n"
   ]
  },
  {
   "cell_type": "code",
   "execution_count": 6,
   "metadata": {},
   "outputs": [
    {
     "name": "stdout",
     "output_type": "stream",
     "text": [
      "[11, 13, 17, 19, 23, 25, 29, 31, 35, 37, 41, 43, 47, 49, 53, 55, 59, 61, 65, 67, 71, 73, 77, 79, 83, 85, 89, 91, 95, 97]\n",
      "Total de números não divisíveis por 2, 3, 10: 30\n"
     ]
    }
   ],
   "source": [
    "numeros = []\n",
    "for i in range(10, 101):\n",
    "    if i % 2 != 0 and i % 3 != 0 and i % 10 != 0 :\n",
    "        numeros.append(i)\n",
    "print(numeros)\n",
    "print(\"Total de números não divisíveis por 2, 3, 10:\", len(numeros))\n"
   ]
  },
  {
   "cell_type": "code",
   "execution_count": 44,
   "metadata": {},
   "outputs": [
    {
     "name": "stdout",
     "output_type": "stream",
     "text": [
      "[11, 13, 17, 19, 23, 25, 29, 31, 35, 37, 41, 43, 47, 49, 53, 55, 59, 61, 65, 67, 71, 73, 77, 79, 83, 85, 89, 91, 95, 97]\n",
      "Total de números não divisíveis por 2, 3, 10 e 12: 30\n"
     ]
    }
   ],
   "source": [
    "numeros = []\n",
    "for i in range(10, 101):\n",
    "    if (i % 2 != 0) and (i % 3 != 0) and (i % 10 != 0) and (i % 12 != 0):\n",
    "        numeros.append(i)\n",
    "print(numeros)\n",
    "print(\"Total de números não divisíveis por 2, 3, 10 e 12:\", len(numeros))\n"
   ]
  },
  {
   "cell_type": "code",
   "execution_count": 43,
   "metadata": {},
   "outputs": [
    {
     "name": "stdout",
     "output_type": "stream",
     "text": [
      "[11, 13, 17, 19, 23, 25, 29, 31, 35, 37, 41, 43, 47, 49, 53, 55, 59, 61, 65, 67, 71, 73, 77, 79, 83, 85, 89, 91, 95, 97]\n",
      "Total de números não divisíveis por 2, 3, 10 e 12: 30\n"
     ]
    }
   ],
   "source": [
    "numeros = []\n",
    "for i in range(10, 101):\n",
    "    if i % 2 != 0 and i % 3 != 0 and i % 10 != 0 and i % 12 != 0:\n",
    "        numeros.append(i)\n",
    "print(numeros)\n",
    "print(\"Total de números não divisíveis por 2, 3, 10 e 12:\", len(numeros))\n"
   ]
  },
  {
   "cell_type": "code",
   "execution_count": 34,
   "metadata": {},
   "outputs": [
    {
     "name": "stdout",
     "output_type": "stream",
     "text": [
      "Números no intervalo [10, 100] divisíveis por 2:\n",
      "[10, 12, 14, 16, 18, 20, 22, 24, 26, 28, 30, 32, 34, 36, 38, 40, 42, 44, 46, 48, 50, 52, 54, 56, 58, 60, 62, 64, 66, 68, 70, 72, 74, 76, 78, 80, 82, 84, 86, 88, 90, 92, 94, 96, 98, 100]\n",
      "[12, 15, 18, 21, 24, 27, 30, 33, 36, 39, 42, 45, 48, 51, 54, 57, 60, 63, 66, 69, 72, 75, 78, 81, 84, 87, 90, 93, 96, 99]\n",
      "[10, 20, 30, 40, 50, 60, 70, 80, 90, 100]\n",
      "[12, 24, 36, 48, 60, 72, 84, 96]\n",
      "46\n",
      "30\n",
      "10\n",
      "8\n"
     ]
    }
   ],
   "source": [
    "def verifica_intervalo_divisibilidade(inicio, fim, divisor):\n",
    "    if divisor == 0:\n",
    "        print(\"Divisão por zero não é permitida.\")\n",
    "        return []\n",
    "    \n",
    "    numeros_divisiveis = []\n",
    "    for numero in range(inicio, fim + 1):\n",
    "        if numero % divisor == 0:\n",
    "            numeros_divisiveis.append(numero)\n",
    "    \n",
    "    return numeros_divisiveis\n",
    "\n",
    "# Testando a função e armazenando o resultado em uma lista\n",
    "inicio = 10\n",
    "fim = 100\n",
    "divisor1 = 2\n",
    "divisor2 = 3 \n",
    "divisor3 = 10\n",
    "divisor4 = 12\n",
    "\n",
    "numerosDivisiveis2 = verifica_intervalo_divisibilidade(inicio, fim, divisor1)\n",
    "numerosDivisiveis3 = verifica_intervalo_divisibilidade(inicio, fim, divisor2)\n",
    "numerosDivisiveis10 = verifica_intervalo_divisibilidade(inicio, fim, divisor3)\n",
    "numerosDivisiveis12 = verifica_intervalo_divisibilidade(inicio, fim, divisor4)\n",
    "\n",
    "print(f\"Números no intervalo [{inicio}, {fim}] divisíveis por {divisor}:\")\n",
    "print(numerosDivisiveis2)\n",
    "print(numerosDivisiveis3)\n",
    "print(numerosDivisiveis10)\n",
    "print(numerosDivisiveis12)\n",
    "\n",
    "print(len(numerosDivisiveis2))\n",
    "print(len(numerosDivisiveis3))\n",
    "print(len(numerosDivisiveis10))\n",
    "print(len(numerosDivisiveis12))\n",
    "\n"
   ]
  },
  {
   "cell_type": "code",
   "execution_count": 46,
   "metadata": {},
   "outputs": [
    {
     "name": "stdout",
     "output_type": "stream",
     "text": [
      "61\n"
     ]
    }
   ],
   "source": [
    "n1 = 10\n",
    "n2 = 100\n",
    "divisivel_por_2 = set(range(n1, n2+1, 2))\n",
    "divisivel_por_3 = set(range(n1, n2+1, 3))\n",
    "divisivel_por_2_ou_3 = len(divisivel_por_2 | divisivel_por_3)\n",
    "print(divisivel_por_2_ou_3)"
   ]
  },
  {
   "cell_type": "code",
   "execution_count": 47,
   "metadata": {},
   "outputs": [
    {
     "name": "stdout",
     "output_type": "stream",
     "text": [
      "30\n"
     ]
    }
   ],
   "source": [
    "n1 = 10\n",
    "n2 = 100\n",
    "divisivel_por_2 = set(range(n1, n2+1, 2))\n",
    "divisivel_por_3 = set(range(n1, n2+1, 3))\n",
    "divisivel_por_10 = set(range(n1, n2+1, 10))\n",
    "divisivel_por_12 = set(range(n1, n2+1, 12))\n",
    "divisivel_por_2_ou_3_ou_10_ou_12 = len(divisivel_por_2 | divisivel_por_3 | divisivel_por_10 | divisivel_por_12)\n",
    "nao_divisivel_por_2_ou_3_ou_10_ou_12 = (n2 - n1 + 1) - divisivel_por_2_ou_3_ou_10_ou_12\n",
    "print(nao_divisivel_por_2_ou_3_ou_10_ou_12)\n"
   ]
  },
  {
   "cell_type": "code",
   "execution_count": 35,
   "metadata": {},
   "outputs": [],
   "source": [
    "conjunto1 = set(numerosDivisiveis2)\n",
    "conjunto2 = set(numerosDivisiveis3)\n",
    "conjunto3 = set(numerosDivisiveis10)\n",
    "conjunto4 = set(numerosDivisiveis12)"
   ]
  },
  {
   "cell_type": "code",
   "execution_count": 38,
   "metadata": {},
   "outputs": [],
   "source": [
    "resultadoA = list(conjunto1.union(conjunto2))\n",
    "resultadoB = list(conjunto3.union(conjunto4))\n",
    "conjuntoA = set(resultadoA)\n",
    "conjuntoB = set(resultadoB)"
   ]
  },
  {
   "cell_type": "code",
   "execution_count": 41,
   "metadata": {},
   "outputs": [
    {
     "name": "stdout",
     "output_type": "stream",
     "text": [
      "[10, 12, 14, 15, 16, 18, 20, 21, 22, 24, 26, 27, 28, 30, 32, 33, 34, 36, 38, 39, 40, 42, 44, 45, 46, 48, 50, 51, 52, 54, 56, 57, 58, 60, 62, 63, 64, 66, 68, 69, 70, 72, 74, 75, 76, 78, 80, 81, 82, 84, 86, 87, 88, 90, 92, 93, 94, 96, 98, 99, 100]\n",
      "61\n"
     ]
    }
   ],
   "source": [
    "conjuntoF = list(conjuntoA.union(conjuntoB))\n",
    "print(conjuntoF)\n",
    "print(len(conjuntoF))"
   ]
  }
 ],
 "metadata": {
  "kernelspec": {
   "display_name": "Python 3",
   "language": "python",
   "name": "python3"
  },
  "language_info": {
   "codemirror_mode": {
    "name": "ipython",
    "version": 3
   },
   "file_extension": ".py",
   "mimetype": "text/x-python",
   "name": "python",
   "nbconvert_exporter": "python",
   "pygments_lexer": "ipython3",
   "version": "3.10.11"
  },
  "orig_nbformat": 4
 },
 "nbformat": 4,
 "nbformat_minor": 2
}
