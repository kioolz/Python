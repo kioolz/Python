{
 "cells": [
  {
   "cell_type": "code",
   "execution_count": 2,
   "metadata": {},
   "outputs": [
    {
     "name": "stdout",
     "output_type": "stream",
     "text": [
      "6120.0\n",
      "31620.0\n"
     ]
    }
   ],
   "source": [
    "# Função Juros\n",
    "def juros():\n",
    "    J = C * i\n",
    "    return J\n",
    "def Montante():\n",
    "    return C + x\n",
    "\n",
    "def jurosimples():\n",
    "    Js = C * i * n\n",
    "    return Js\n",
    "\n",
    "def montantesimples():\n",
    "    Ms = C + JrSimples\n",
    "    return Ms\n",
    "\n",
    "C = float(input(\"Insira o capital inicial\"))\n",
    "i = float(input(\"Insira a taxa de juros\"))\n",
    "x = juros()\n",
    "y = Montante()\n",
    "\n",
    "n = int(input())\n",
    "JrSimples = jurosimples()\n",
    "print(JrSimples)\n",
    "print(montantesimples())\n",
    "\n"
   ]
  },
  {
   "cell_type": "code",
   "execution_count": 5,
   "metadata": {},
   "outputs": [
    {
     "name": "stdout",
     "output_type": "stream",
     "text": [
      "Este foi o valor do juros totalmente aplicado:  510.0\n",
      "Este é o valor do montante após a aplicação dos juros 26010.0\n"
     ]
    }
   ],
   "source": [
    "print(\"Este foi o valor do juros totalmente aplicado: \", x)\n",
    "print(\"Este é o valor do montante após a aplicação dos juros\", y)"
   ]
  },
  {
   "cell_type": "code",
   "execution_count": 6,
   "metadata": {},
   "outputs": [
    {
     "name": "stdout",
     "output_type": "stream",
     "text": [
      "[1020.0, 1040.0, 1060.0, 1080.0, 1100.0, 1120.0, 1140.0, 1160.0, 1180.0, 1200.0, 1220.0, 1240.0]\n"
     ]
    }
   ],
   "source": [
    "c = input(float())\n",
    "i = input(float())\n",
    "n = input(float())\n",
    "valores = []\n",
    "for n in range(1,13):\n",
    "    m = c + (c * i * n)\n",
    "    valores.append(m)\n",
    "print(valores)"
   ]
  }
 ],
 "metadata": {
  "kernelspec": {
   "display_name": "Python 3",
   "language": "python",
   "name": "python3"
  },
  "language_info": {
   "codemirror_mode": {
    "name": "ipython",
    "version": 3
   },
   "file_extension": ".py",
   "mimetype": "text/x-python",
   "name": "python",
   "nbconvert_exporter": "python",
   "pygments_lexer": "ipython3",
   "version": "3.10.9 (tags/v3.10.9:1dd9be6, Dec  6 2022, 20:01:21) [MSC v.1934 64 bit (AMD64)]"
  },
  "orig_nbformat": 4,
  "vscode": {
   "interpreter": {
    "hash": "ce3fb133cab6a936c551081ee0d77ef4a6d11af85bd10385e088b263514ab4bf"
   }
  }
 },
 "nbformat": 4,
 "nbformat_minor": 2
}
