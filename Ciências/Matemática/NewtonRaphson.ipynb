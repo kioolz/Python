{
 "cells": [
  {
   "cell_type": "code",
   "execution_count": 2,
   "metadata": {},
   "outputs": [
    {
     "name": "stdout",
     "output_type": "stream",
     "text": [
      "3.162277660168379\n",
      "3.3166247903554\n",
      "3.4641016151377544\n",
      "3.6055512754639896\n",
      "3.7416573867739413\n",
      "3.872983346207417\n",
      "4.0\n",
      "4.123105625617661\n",
      "4.242640687119286\n",
      "4.358898943540673\n",
      "4.47213595499958\n"
     ]
    }
   ],
   "source": [
    "# -*- coding: utf-8 -*-\n",
    "\"\"\"\n",
    "Created on Tue Jun 25 12:17:15 2019\n",
    "\n",
    "@author: Caio\n",
    "\"\"\"\n",
    "\n",
    "#Algoritmo simples para o método de Newton-Raphson.\n",
    "\n",
    "def Newtonraphson(n, ni = 500):\n",
    "    a = float(n) # n é o valor principal\n",
    "    for i in range (ni): #ni é o contador de interações\n",
    "        n = 0.5 * (n + a / n)\n",
    "    return n\n",
    "\n",
    "print (Newtonraphson(10))\n",
    "print (Newtonraphson(11))\n",
    "print (Newtonraphson(12))\n",
    "print (Newtonraphson(13))\n",
    "print (Newtonraphson(14))\n",
    "print (Newtonraphson(15))\n",
    "print (Newtonraphson(16))\n",
    "print (Newtonraphson(17))\n",
    "print (Newtonraphson(18))\n",
    "print (Newtonraphson(19))\n",
    "print (Newtonraphson(20))\n",
    "\n",
    "\n"
   ]
  },
  {
   "cell_type": "code",
   "execution_count": null,
   "metadata": {},
   "outputs": [],
   "source": [
    "# -*- coding: utf-8 -*-\n",
    "\"\"\"\n",
    "Created on Tue Jun 25 12:26:35 2019\n",
    "\n",
    "@author: Caio\n",
    "\"\"\"\n",
    "\n",
    "def newton_method(number, number_iters = 500):\n",
    "    a = float(number) # number to get square root of\n",
    "    for i in range(number_iters): # iteration number\n",
    "        number = 0.5 * (number + a / number) # update\n",
    "\t  # x_(n+1) = 0.5 * (x_n +a / x_n)\n",
    "    return number\n",
    "\n",
    "print (newton_method(9))\n",
    "print (newton_method(2))\n"
   ]
  }
 ],
 "metadata": {
  "kernelspec": {
   "display_name": "Python 3",
   "language": "python",
   "name": "python3"
  },
  "language_info": {
   "codemirror_mode": {
    "name": "ipython",
    "version": 3
   },
   "file_extension": ".py",
   "mimetype": "text/x-python",
   "name": "python",
   "nbconvert_exporter": "python",
   "pygments_lexer": "ipython3",
   "version": "3.10.9"
  },
  "orig_nbformat": 4,
  "vscode": {
   "interpreter": {
    "hash": "ce3fb133cab6a936c551081ee0d77ef4a6d11af85bd10385e088b263514ab4bf"
   }
  }
 },
 "nbformat": 4,
 "nbformat_minor": 2
}
