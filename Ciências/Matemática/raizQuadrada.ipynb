{
 "cells": [
  {
   "cell_type": "code",
   "execution_count": null,
   "metadata": {},
   "outputs": [],
   "source": [
    "def __init__(self, a, b, c):\n",
    "        self.a = a\n",
    "        self.b = b\n",
    "        self.c = c\n",
    "        \n",
    "    def calculate_roots(self):\n",
    "        discriminant = self.b ** 2 - 4 * self.a * self.c\n",
    "        if discriminant < 0:\n",
    "            return None  # Complex roots\n",
    "        \n",
    "        root1 = (-self.b + math.sqrt(discriminant)) / (2 * self.a)\n",
    "        root2 = (-self.b - math.sqrt(discriminant)) / (2 * self.a)\n",
    "        return root1, root2\n",
    "\n",
    "\n",
    "a = float(input(\"Insira o valor de a\"))\n",
    "b = float(input(\"Insira o valor de b\"))"
   ]
  }
 ],
 "metadata": {
  "language_info": {
   "name": "python"
  },
  "orig_nbformat": 4
 },
 "nbformat": 4,
 "nbformat_minor": 2
}
