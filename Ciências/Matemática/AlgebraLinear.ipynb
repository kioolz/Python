{
 "cells": [
  {
   "attachments": {},
   "cell_type": "markdown",
   "metadata": {},
   "source": [
    "<h1><p align=\"center\"> Algebra Linear e Python</h1></p>"
   ]
  },
  {
   "cell_type": "code",
   "execution_count": 1,
   "metadata": {},
   "outputs": [],
   "source": [
    "#Bibliotecas importantes para o funcionamento do código\n",
    "\n",
    "from math import sqrt, degrees, acos\n",
    "\n",
    "#Classe vetor que contém todas as operações que podem ser feitas a partir de um ou mais vetores. \n",
    "\n",
    "#os exemplos estão sendo feitos em R3;\n",
    "class vetor:\n",
    "    def __init__(self,x,y,z):\n",
    "        self.x = x\n",
    "        self.y = y\n",
    "        self.z = z\n",
    "\n",
    "    def simetrico(self):\n",
    "        return vetor(-self.x, -self.y, -self.z)\n",
    "    \n",
    "    def soma(self, other):\n",
    "        return vetor(self.x + other.x, self.y + other.y, self.z + other.z)\n",
    "  \n",
    "    def sub(self, other):\n",
    "        return vetor(self.x - other.x, self.y - other.y, self.z - other.z)\n",
    "    \n",
    "    def produtoEscalar(self, other):\n",
    "        return self.x * other.x + self.y * other.y + self.z * other.z\n",
    "    \n",
    "    def modulo(self):\n",
    "        return sqrt(self.modulo_quadrado())\n",
    "\n",
    "    def modulo_quadrado(self):\n",
    "        return self.x**2 + self.y ** 2 + self.z ** 2\n",
    "    \n",
    "    def anguloVetores(self, other):\n",
    "        cos_theta = self.produtoEscalar(other) / (self.modulo() * other.modulo())\n",
    "        theta = acos(cos_theta)\n",
    "        return theta \n",
    "    \n",
    "    def sao_paralelos(self, other):\n",
    "        produtoVetorial = vetor(self.y * other.z - self.z * other.y,\n",
    "                              self.z * other.x - self.x * other.z,\n",
    "                              self.x * other.y - self.y * other.x)\n",
    "        return produtoVetorial.modulo() == 0\n",
    "\n",
    "    def saoLI(self, other):\n",
    "        if (self.x == 0 and other.x == 0) or (self.y == 0 and other.y == 0) or (self.z == 0 and other.z == 0):\n",
    "            return False\n",
    "        elif (self.x / other.x) == (self.y / other.y) == (self.z / other.z):\n",
    "            return False\n",
    "        else:\n",
    "            return True\n",
    "\n",
    "    def gerarEspacoR3(self, other):\n",
    "        if not self.saoLI(other):\n",
    "            return None\n",
    "        else:\n",
    "            x = 1\n",
    "            y = 1\n",
    "            z = (-self.x - other.x - self.y - other.y) / (self.z + other.z)\n",
    "            return vetor(x, y, z)\n",
    "\n",
    "    def gerarVetoresEspacoR3(self, other, n):\n",
    "        if not self.saoLI(other):\n",
    "            return None\n",
    "        else:\n",
    "            vetores_w = []\n",
    "            for i in range(n):\n",
    "                x = i\n",
    "                y = i\n",
    "                z = (-self.x - other.x - self.y - other.y) / (self.z + other.z)\n",
    "                vetores_w.append(vetor(x, y, z))\n",
    "            return vetores_w\n",
    "        \n",
    "    \n"
   ]
  },
  {
   "cell_type": "markdown",
   "metadata": {},
   "source": [
    "<h2 align=\"center\"> Exibindo as coordenadas de um vetor criado pela classe </h2>"
   ]
  },
  {
   "cell_type": "code",
   "execution_count": 2,
   "metadata": {},
   "outputs": [
    {
     "name": "stdout",
     "output_type": "stream",
     "text": [
      "Esta é a coordenada X de U1:  1\n",
      "Esta é a coordenada Y de U1:  2\n",
      "Esta é a coordenada Z de U1:  3\n"
     ]
    }
   ],
   "source": [
    "u1 = vetor(1,2,3)\n",
    "\n",
    "print(\"Esta é a coordenada X de U1: \", u1.x)\n",
    "print(\"Esta é a coordenada Y de U1: \", u1.y)\n",
    "print(\"Esta é a coordenada Z de U1: \", u1.z)"
   ]
  },
  {
   "cell_type": "code",
   "execution_count": 3,
   "metadata": {},
   "outputs": [
    {
     "name": "stdout",
     "output_type": "stream",
     "text": [
      "Este é o vetor criado pelo metodo vetor.criarVetor\n",
      "1.0\n",
      "2.0\n",
      "3.0\n",
      "Este é o vetor simétrico\n",
      "-1.0\n",
      "-2.0\n",
      "-3.0\n",
      "Este é o módulo do vetor\n",
      "14.0\n"
     ]
    }
   ],
   "source": [
    "#Criando vetor a partir do método criarVetor\n",
    "print(\"Este é o vetor criado pelo metodo vetor.criarVetor\")\n",
    "u1 = vetor(float(input(\"Insira a coordenada X\")),float(input(\"Insira a coordenada Y\")),float(input(\"Insira a coordenada Z\")))\n",
    "print(u1.x)\n",
    "print(u1.y)\n",
    "print(u1.z)\n",
    "\n",
    "print(\"Este é o vetor simétrico\")\n",
    "u2 = u1.simetrico()\n",
    "\n",
    "print(u2.x)\n",
    "print(u2.y)\n",
    "print(u2.z)\n",
    "\n",
    "print(\"Este é o módulo do vetor\")\n",
    "u3 = u1.modulo_quadrado()\n",
    "print(u3)\n"
   ]
  },
  {
   "cell_type": "code",
   "execution_count": 4,
   "metadata": {},
   "outputs": [
    {
     "name": "stdout",
     "output_type": "stream",
     "text": [
      "5\n",
      "7\n",
      "9\n"
     ]
    }
   ],
   "source": [
    "# Criando dois novos vetores\n",
    "v1 = vetor(1, 2, 3)\n",
    "v2 = vetor(4, 5, 6)\n",
    "\n",
    "# Calculando a soma dos dois vetores\n",
    "v3 = v1.soma(v2)\n",
    "\n",
    "# Exibindo o resultado\n",
    "print(v3.x) # 5\n",
    "print(v3.y) # 7\n",
    "print(v3.z) # 9"
   ]
  },
  {
   "cell_type": "code",
   "execution_count": 5,
   "metadata": {},
   "outputs": [
    {
     "name": "stdout",
     "output_type": "stream",
     "text": [
      "O angulo entre v1 e v2 é 45.51 graus\n"
     ]
    }
   ],
   "source": [
    "#Cria dois vetores para verificar o ângulo entre eles\n",
    "v1 = vetor(1, 2, 4)\n",
    "v2 = vetor(5, 1, 3)\n",
    "\n",
    "#Cálculo do ângulo através do método\n",
    "anguloRadianos = v1.anguloVetores(v2)\n",
    "anguloGraus = degrees(anguloRadianos)\n",
    "\n",
    "#Resultado\n",
    "print(f\"O angulo entre v1 e v2 é {anguloGraus:.2f} graus\")"
   ]
  },
  {
   "cell_type": "code",
   "execution_count": 6,
   "metadata": {},
   "outputs": [
    {
     "name": "stdout",
     "output_type": "stream",
     "text": [
      "True\n",
      "False\n"
     ]
    }
   ],
   "source": [
    "v1 = vetor(1, 2, 3)\n",
    "v2 = vetor(2, 4, 6)\n",
    "print(v1.sao_paralelos(v2)) # True\n",
    "\n",
    "v3 = vetor(1, 0, 0)\n",
    "v4 = vetor(0, 1, 0)\n",
    "print(v3.sao_paralelos(v4)) # False"
   ]
  },
  {
   "cell_type": "code",
   "execution_count": 7,
   "metadata": {},
   "outputs": [
    {
     "name": "stdout",
     "output_type": "stream",
     "text": [
      "Os vetores são linearmente independentes\n",
      "As componentes do vetor w são: x = 1, y=1, z=3.0\n",
      "Vetor w1: x = 0, y=0, z=3.0\n",
      "Vetor w2: x = 1, y=1, z=3.0\n",
      "Vetor w3: x = 2, y=2, z=3.0\n",
      "Vetor w4: x = 3, y=3, z=3.0\n",
      "Vetor w5: x = 4, y=4, z=3.0\n",
      "Vetor w6: x = 5, y=5, z=3.0\n",
      "Vetor w7: x = 6, y=6, z=3.0\n",
      "Vetor w8: x = 7, y=7, z=3.0\n",
      "Vetor w9: x = 8, y=8, z=3.0\n",
      "Vetor w10: x = 9, y=9, z=3.0\n"
     ]
    }
   ],
   "source": [
    "# Criando dois vetores\n",
    "u = vetor(1, -1, 0)\n",
    "v = vetor(2, 1, -1)\n",
    "\n",
    "# Verificando se os vetores são LI\n",
    "if u.saoLI(v):\n",
    "    print(\"Os vetores são linearmente independentes\")\n",
    "else:\n",
    "    print(\"Os vetores são linearmente dependentes\")\n",
    "\n",
    "w = u.gerarEspacoR3(v)\n",
    "# Verificando se o vetor w foi encontrado\n",
    "if w is None:\n",
    "    print(\"Não é possível gerar o espaço R^3 com os vetores u e v\")\n",
    "else:\n",
    "    print(f\"As componentes do vetor w são: x = {w.x}, y={w.y}, z={w.z}\")\n",
    "\n",
    "# Gerando 3 soluções para o vetor w\n",
    "vetores_w = u.gerarVetoresEspacoR3(v, 10)\n",
    "\n",
    "# Verificando se os vetores w foram encontrados\n",
    "if vetores_w is None:\n",
    "    print(\"Não é possível gerar o espaço R^3 com os vetores u e v\")\n",
    "else:\n",
    "    for i, w in enumerate(vetores_w):\n",
    "        print(f\"Vetor w{i + 1}: x = {w.x}, y={w.y}, z={w.z}\")\n",
    "\n",
    "        \n",
    "\n"
   ]
  },
  {
   "cell_type": "code",
   "execution_count": 8,
   "metadata": {},
   "outputs": [],
   "source": [
    "anguloRadianos = u.anguloVetores(vetores_w[0])\n",
    "anguloGraus = degrees(anguloRadianos)\n"
   ]
  },
  {
   "cell_type": "code",
   "execution_count": 9,
   "metadata": {},
   "outputs": [
    {
     "ename": "SyntaxError",
     "evalue": "invalid syntax (1996665639.py, line 71)",
     "output_type": "error",
     "traceback": [
      "\u001b[1;36m  Cell \u001b[1;32mIn [9], line 71\u001b[1;36m\u001b[0m\n\u001b[1;33m    U, S, VT = np.linalg.svd(M)d\u001b[0m\n\u001b[1;37m                               ^\u001b[0m\n\u001b[1;31mSyntaxError\u001b[0m\u001b[1;31m:\u001b[0m invalid syntax\n"
     ]
    }
   ],
   "source": [
    "import numpy as np\n",
    "\n",
    "# Redefinindo o Vetor como uma matriz, a matriz Z\n",
    "\n",
    "z = np.array([1,2,3,4,5])\n",
    "\n",
    "print (z)\n",
    "print (type(z)) # Type (numpy.ndarray)\n",
    "print (type(x)) # Type list\n",
    "print (type(y)) # Type list\n",
    "\n",
    "# É mais vantajoso definir todas as matrizes numéricas pela biblioteca numpy\n",
    "\n",
    "\n",
    "#Operações básicas com a matriz\n",
    "print (z + z)\n",
    "print ( z - z)\n",
    "print ( z * z)\n",
    "\n",
    "# Definindo uma matriz  através da biblioteca Numpy\n",
    "\n",
    "M = np.array ([[1, 2, 3], [3, 2, 1], [ 5, 7, 18]])\n",
    "\n",
    "# Exibindo a matriz M na tela\n",
    "import numpy as np\n",
    "M = np.array ([[1, 2, 3], [3, 2, 1], [ 5, 7, 18]])\n",
    "print (M)\n",
    "\n",
    "#Exibindo as dimensões da matriz M na tela.\n",
    "import numpy as np\n",
    "M = np.array ([[1, 2, 3], [3, 2, 1], [ 5, 7, 18]])\n",
    "print (M.shape)\n",
    "\n",
    "# Transposta da Matriz\n",
    "import numpy as np\n",
    "M = np.array ([[1, 2, 3], [3, 2, 1], [ 5, 7, 18]])\n",
    "print ('Matriz transposta:\\n', M.transpose(), '\\n')\n",
    "\n",
    "# Determinante da matriz\n",
    "import numpy as np\n",
    "M = np.array ([[1, 2, 3], [3, 2, 1], [ 5, 7, 18]])\n",
    "print ('Determinante da matriz:', np.linalg.det(M), '\\n')\n",
    "\n",
    "#Inversa da matriz\n",
    "import numpy as np\n",
    "M = np.array ([[1, 2, 3], [3, 2, 1], [ 5, 7, 18]])\n",
    "m_inv = np.linalg.inv(M)\n",
    "print ('Matriz inversa: \\n', m_inv, '\\n')\n",
    "\n",
    "#Matriz identidade (Resultado da matriz * Matriz inversa)\n",
    "import numpy as np\n",
    "M = np.array ([[1, 2, 3], [3, 2, 1], [ 5, 7, 18]])\n",
    "iden_m = np.dot(M, m_inv)\n",
    "iden_m = np.round(np.abs(iden_m), 0)\n",
    "print ('Produto da matriz e sua inversa:\\n', iden_m)\n",
    "\n",
    "#Decomposição da Matriz em AutoValores e Auto Vetores\n",
    "\n",
    "import numpy as np\n",
    "M = np.array([[1,2,3],[4,5,4],[2,6,1]])\n",
    "\n",
    "auto_val, auto_vet = np.linalg.eig(M)\n",
    "\n",
    "print ('Auto Valores:', auto_val, '\\n')\n",
    "print ('Auto Vetores:\\n', auto_vet)\n",
    "\n",
    "#Decomposição de Valor Singular - Decomposição SVD \n",
    "import numpy as np\n",
    "M = np.array([[1, 2, 3], [4, 7, 9], [ 5, 4, 2]])\n",
    "\n",
    "U, S, VT = np.linalg.svd(M)d\n",
    "\n",
    "print('Conseguindo uma saida para o SVD:-\\n')\n",
    "print('U:\\n', U, '\\n')\n",
    "print('S:\\n', S, '\\n')\n",
    "print('VT:\\n', VT, '\\n')"
   ]
  },
  {
   "cell_type": "code",
   "execution_count": null,
   "metadata": {},
   "outputs": [
    {
     "name": "stdout",
     "output_type": "stream",
     "text": [
      "[3, 6]\n"
     ]
    }
   ],
   "source": [
    "\n",
    "u = [1, 2]\n",
    "v = [2, 4]\n",
    "x = []\n",
    "for i in range(len(u)):\n",
    "    x.append(u[i]+v[i])\n",
    "\n",
    "print(x)"
   ]
  },
  {
   "attachments": {},
   "cell_type": "markdown",
   "metadata": {},
   "source": [
    "<h3><p align=\"center\"> Multiplicação por Escalar </h3></p>\n"
   ]
  },
  {
   "cell_type": "code",
   "execution_count": null,
   "metadata": {},
   "outputs": [
    {
     "name": "stdout",
     "output_type": "stream",
     "text": [
      "[4, 8, 12]\n"
     ]
    }
   ],
   "source": [
    "k = 2\n",
    "a = [2,4,6]\n",
    "for i in range(len(a)):\n",
    "    a[i] = k*a[i]\n",
    "print(a)"
   ]
  },
  {
   "attachments": {},
   "cell_type": "markdown",
   "metadata": {},
   "source": [
    "<h3><p align=\"center\"> Multiplicação por Escalar & Soma vetorial </h3> </p>"
   ]
  },
  {
   "cell_type": "code",
   "execution_count": null,
   "metadata": {},
   "outputs": [
    {
     "name": "stdout",
     "output_type": "stream",
     "text": [
      "[7, 9, 11]\n"
     ]
    }
   ],
   "source": [
    "#Executando a operação f * (u + v + w)\n",
    "f = 2\n",
    "u = [1,2,3]\n",
    "v = [2,3,4]\n",
    "w = [3,2,1]\n",
    "x = []\n",
    "for i in range(len(a)):\n",
    "    x.append(f*(u[i])+v[i]+w[i])\n",
    "print(x)"
   ]
  },
  {
   "attachments": {},
   "cell_type": "markdown",
   "metadata": {},
   "source": [
    "<h3><p align=\"center\"> Norma de um vetor </h3> </p>"
   ]
  },
  {
   "cell_type": "code",
   "execution_count": null,
   "metadata": {},
   "outputs": [
    {
     "name": "stdout",
     "output_type": "stream",
     "text": [
      "5.0\n"
     ]
    }
   ],
   "source": [
    "from math import sqrt\n",
    "u = [0,3,4]\n",
    "aux_sum = 0\n",
    "\n",
    "for i in range(len(u)):\n",
    "    aux_sum = aux_sum + u[i]*u[i]\n",
    "\n",
    "norm_u = sqrt(aux_sum)\n",
    "print(norm_u)"
   ]
  },
  {
   "cell_type": "code",
   "execution_count": null,
   "metadata": {},
   "outputs": [
    {
     "name": "stdout",
     "output_type": "stream",
     "text": [
      "5.0 5.385164807134504\n"
     ]
    }
   ],
   "source": [
    "def norm(l):\n",
    "    aux_sum = 0\n",
    "    for i in range(len(l)):\n",
    "        aux_sum = aux_sum + l[i]*l[i]\n",
    "\n",
    "    norm = sqrt(aux_sum)\n",
    "    return norm\n",
    "\n",
    "x = norm(u)\n",
    "y = norm(v)\n",
    "print(x, y)"
   ]
  },
  {
   "attachments": {},
   "cell_type": "markdown",
   "metadata": {},
   "source": [
    "<h3><p align=\"center\"> ângulo entre dois vetores </h3></p>"
   ]
  },
  {
   "cell_type": "code",
   "execution_count": null,
   "metadata": {},
   "outputs": [
    {
     "name": "stdout",
     "output_type": "stream",
     "text": [
      "0\n",
      "0.0\n",
      "1.5707963267948966\n"
     ]
    }
   ],
   "source": [
    "import numpy \n",
    "from math import acos\n",
    "a = [1,0]\n",
    "b = [0,1]\n",
    "\n",
    "sum = 0\n",
    "\n",
    "for i in range(len(a)):\n",
    "    aux_product = (a[i]*b[i])\n",
    "    sum = sum + aux_product\n",
    "    \n",
    "norm_a = norm(a)\n",
    "norm_b = norm(b)\n",
    "\n",
    "print(sum)\n",
    "\n",
    "\n",
    "angle = sum / (norm_a) * (norm_b)\n",
    "\n",
    "print(angle)\n",
    "x = acos(angle)\n",
    "print(x)"
   ]
  },
  {
   "attachments": {},
   "cell_type": "markdown",
   "metadata": {},
   "source": [
    "<h3><p align=\"center\"> Distância entre dois vetores </h3></p>"
   ]
  },
  {
   "cell_type": "code",
   "execution_count": null,
   "metadata": {},
   "outputs": [
    {
     "name": "stdout",
     "output_type": "stream",
     "text": [
      "[1, 4, 9]\n",
      "14\n",
      "3.7416573867739413\n"
     ]
    }
   ],
   "source": [
    "aux_sum = 0\n",
    "u = [1,2,3]\n",
    "v = [2,4,6]\n",
    "aux_vector = []\n",
    "\n",
    "for i in range(len(u)):\n",
    "    aux_vector.append((u[i]-v[i])**2)\n",
    "print(aux_vector)\n",
    "\n",
    "for i in range(len(aux_vector)):\n",
    "    aux_sum = aux_sum + aux_vector[i]\n",
    "print(aux_sum)\n",
    "\n",
    "dist_uv = sqrt(aux_sum)\n",
    "print(dist_uv)"
   ]
  }
 ],
 "metadata": {
  "kernelspec": {
   "display_name": "Python 3",
   "language": "python",
   "name": "python3"
  },
  "language_info": {
   "codemirror_mode": {
    "name": "ipython",
    "version": 3
   },
   "file_extension": ".py",
   "mimetype": "text/x-python",
   "name": "python",
   "nbconvert_exporter": "python",
   "pygments_lexer": "ipython3",
   "version": "3.10.11"
  },
  "orig_nbformat": 4,
  "vscode": {
   "interpreter": {
    "hash": "ce3fb133cab6a936c551081ee0d77ef4a6d11af85bd10385e088b263514ab4bf"
   }
  }
 },
 "nbformat": 4,
 "nbformat_minor": 2
}
