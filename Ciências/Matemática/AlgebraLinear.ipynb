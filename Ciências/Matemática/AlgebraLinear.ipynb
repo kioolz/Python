{
 "cells": [
  {
   "attachments": {},
   "cell_type": "markdown",
   "metadata": {},
   "source": [
    "<h1><p align=\"center\"> Algebra Linear e suas aplicações</h1></p>"
   ]
  },
  {
   "attachments": {},
   "cell_type": "markdown",
   "metadata": {},
   "source": [
    "<h3> <p align=\"center\"> Soma entre vetores </h3> </p>"
   ]
  },
  {
   "cell_type": "code",
   "execution_count": 74,
   "metadata": {},
   "outputs": [
    {
     "name": "stdout",
     "output_type": "stream",
     "text": [
      "[3, 6]\n"
     ]
    }
   ],
   "source": [
    "u = [1, 2]\n",
    "v = [2, 4]\n",
    "x = []\n",
    "for i in range(len(u)):\n",
    "    x.append(u[i]+v[i])\n",
    "\n",
    "print(x)"
   ]
  },
  {
   "attachments": {},
   "cell_type": "markdown",
   "metadata": {},
   "source": [
    "<h3><p align=\"center\"> Multiplicação por Escalar </h3></p>\n"
   ]
  },
  {
   "cell_type": "code",
   "execution_count": 75,
   "metadata": {},
   "outputs": [
    {
     "name": "stdout",
     "output_type": "stream",
     "text": [
      "[4, 8, 12]\n"
     ]
    }
   ],
   "source": [
    "k = 2\n",
    "a = [2,4,6]\n",
    "for i in range(len(a)):\n",
    "    a[i] = k*a[i]\n",
    "print(a)"
   ]
  },
  {
   "attachments": {},
   "cell_type": "markdown",
   "metadata": {},
   "source": [
    "<h3><p align=\"center\"> Multiplicação por Escalar & Soma vetorial </h3> </p>"
   ]
  },
  {
   "cell_type": "code",
   "execution_count": 76,
   "metadata": {},
   "outputs": [
    {
     "name": "stdout",
     "output_type": "stream",
     "text": [
      "[7, 9, 11]\n"
     ]
    }
   ],
   "source": [
    "#Executando a operação f * (u + v + w)\n",
    "f = 2\n",
    "u = [1,2,3]\n",
    "v = [2,3,4]\n",
    "w = [3,2,1]\n",
    "x = []\n",
    "for i in range(len(a)):\n",
    "    x.append(f*(u[i])+v[i]+w[i])\n",
    "print(x)"
   ]
  },
  {
   "attachments": {},
   "cell_type": "markdown",
   "metadata": {},
   "source": [
    "<h3><p align=\"center\"> Norma de um vetor </h3> </p>"
   ]
  },
  {
   "cell_type": "code",
   "execution_count": 77,
   "metadata": {},
   "outputs": [
    {
     "name": "stdout",
     "output_type": "stream",
     "text": [
      "5.0\n"
     ]
    }
   ],
   "source": [
    "from math import sqrt\n",
    "u = [0,3,4]\n",
    "aux_sum = 0\n",
    "\n",
    "for i in range(len(u)):\n",
    "    aux_sum = aux_sum + u[i]*u[i]\n",
    "\n",
    "norm_u = sqrt(aux_sum)\n",
    "print(norm_u)"
   ]
  },
  {
   "cell_type": "code",
   "execution_count": 78,
   "metadata": {},
   "outputs": [
    {
     "name": "stdout",
     "output_type": "stream",
     "text": [
      "5.0 5.385164807134504\n"
     ]
    }
   ],
   "source": [
    "def norm(l):\n",
    "    aux_sum = 0\n",
    "    for i in range(len(l)):\n",
    "        aux_sum = aux_sum + l[i]*l[i]\n",
    "\n",
    "    norm = sqrt(aux_sum)\n",
    "    return norm\n",
    "\n",
    "x = norm(u)\n",
    "y = norm(v)\n",
    "print(x, y)"
   ]
  },
  {
   "attachments": {},
   "cell_type": "markdown",
   "metadata": {},
   "source": [
    "<h3><p align=\"center\"> ângulo entre dois vetores </h3></p>"
   ]
  },
  {
   "cell_type": "code",
   "execution_count": 79,
   "metadata": {},
   "outputs": [
    {
     "name": "stdout",
     "output_type": "stream",
     "text": [
      "0\n",
      "0.0\n",
      "1.5707963267948966\n"
     ]
    }
   ],
   "source": [
    "import numpy \n",
    "from math import acos\n",
    "a = [1,0]\n",
    "b = [0,1]\n",
    "\n",
    "sum = 0\n",
    "\n",
    "for i in range(len(a)):\n",
    "    aux_product = (a[i]*b[i])\n",
    "    sum = sum + aux_product\n",
    "    \n",
    "norm_a = norm(a)\n",
    "norm_b = norm(b)\n",
    "\n",
    "print(sum)\n",
    "\n",
    "\n",
    "angle = sum / (norm_a) * (norm_b)\n",
    "\n",
    "print(angle)\n",
    "x = acos(angle)\n",
    "print(x)"
   ]
  },
  {
   "attachments": {},
   "cell_type": "markdown",
   "metadata": {},
   "source": [
    "<h3><p align=\"center\"> Distância entre dois vetores </h3></p>"
   ]
  },
  {
   "cell_type": "code",
   "execution_count": 80,
   "metadata": {},
   "outputs": [
    {
     "name": "stdout",
     "output_type": "stream",
     "text": [
      "[1, 4, 9]\n",
      "14\n",
      "3.7416573867739413\n"
     ]
    }
   ],
   "source": [
    "aux_sum = 0\n",
    "u = [1,2,3]\n",
    "v = [2,4,6]\n",
    "aux_vector = []\n",
    "\n",
    "for i in range(len(u)):\n",
    "    aux_vector.append((u[i]-v[i])**2)\n",
    "print(aux_vector)\n",
    "\n",
    "for i in range(len(aux_vector)):\n",
    "    aux_sum = aux_sum + aux_vector[i]\n",
    "print(aux_sum)\n",
    "\n",
    "dist_uv = sqrt(aux_sum)\n",
    "print(dist_uv)"
   ]
  }
 ],
 "metadata": {
  "kernelspec": {
   "display_name": "Python 3",
   "language": "python",
   "name": "python3"
  },
  "language_info": {
   "codemirror_mode": {
    "name": "ipython",
    "version": 3
   },
   "file_extension": ".py",
   "mimetype": "text/x-python",
   "name": "python",
   "nbconvert_exporter": "python",
   "pygments_lexer": "ipython3",
   "version": "3.10.9"
  },
  "orig_nbformat": 4,
  "vscode": {
   "interpreter": {
    "hash": "ce3fb133cab6a936c551081ee0d77ef4a6d11af85bd10385e088b263514ab4bf"
   }
  }
 },
 "nbformat": 4,
 "nbformat_minor": 2
}
