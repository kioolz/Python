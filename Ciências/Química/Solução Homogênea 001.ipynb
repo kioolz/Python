{
 "metadata": {
  "language_info": {
   "codemirror_mode": {
    "name": "ipython",
    "version": 3
   },
   "file_extension": ".py",
   "mimetype": "text/x-python",
   "name": "python",
   "nbconvert_exporter": "python",
   "pygments_lexer": "ipython3",
   "version": 3
  },
  "orig_nbformat": 2
 },
 "nbformat": 4,
 "nbformat_minor": 2,
 "cells": [
  {
   "cell_type": "code",
   "execution_count": null,
   "metadata": {},
   "outputs": [],
   "source": [
    "# -*- coding: utf-8 -*-\n",
    "\"\"\"\n",
    "Created on Mon Jul 29 15:25:18 2019\n",
    "\n",
    "@author: Caio\n",
    "\"\"\"\n",
    "\n",
    "#Código da mistura homogênea    \n",
    "    \n",
    "Massaparcial=float\n",
    "Massatotal=float\n",
    "Volumeparcial=float\n",
    "Volumetotal=float\n",
    "Volume=float\n",
    "m=float\n",
    "v=float\n",
    "DensidadedaSoluçao=float\n",
    "v = []\n",
    "m = []\n",
    "    \n",
    "def SoluçãoHomog ():\n",
    "    \n",
    "    Massaparcial = float(input(\"Digite as massas [0 para terminar]\"))\n",
    "    Massatotal = 0\n",
    "    \n",
    "    while Massaparcial!=0:\n",
    "        Massatotal = Massaparcial + Massatotal\n",
    "        Massaparcial = float(input((\"Digite o valor da proxima massa ou aperte 0 para terminar\")))\n",
    "        m.append(Massaparcial)\n",
    "    Volumeparcial = float(input(\"Digite os volumes [0 para terminar]\"))\n",
    "    Volumetotal = 0\n",
    "    while Volumeparcial !=0:\n",
    "        Volumetotal = Volumeparcial + Volumetotal\n",
    "        Volumeparcial = float(input(\"Digite o volume parcial da próxima substancia ou aperte 0 para terminar\"))\n",
    "        v.append(Volumeparcial)\n",
    "    \n",
    "    if len(m) == len(v):\n",
    "        DensidadedaSoluçao=Massatotal/Volumetotal\n",
    "        print (\"A massa total é \", Massatotal)\n",
    "        print (\"O volume total é\", Volumetotal) \n",
    "        print (\"A densidade da solução é \", DensidadedaSoluçao)\n",
    "    else:\n",
    "        print(\"Você não inseriu a mesma quantidade de massas e volumes, erro\")\n",
    "   \n",
    "   \n",
    "#-----se colocar 0 nos 2 é pra parar a soma.----------\n",
    "SoluçãoHomog()"
   ]
  }
 ]
}