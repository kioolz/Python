{
 "cells": [
  {
   "cell_type": "code",
   "execution_count": 5,
   "metadata": {},
   "outputs": [
    {
     "data": {
      "text/plain": [
       "'\\nCreated on Mon Jul 29 14:28:50 2019\\n\\n@author: Caio\\n'"
      ]
     },
     "execution_count": 5,
     "metadata": {},
     "output_type": "execute_result"
    }
   ],
   "source": [
    "# -*- coding: utf-8 -*-\n",
    "\"\"\"\n",
    "Created on Mon Jul 29 14:28:50 2019\n",
    "\n",
    "@author: Caio\n",
    "\"\"\"\n",
    "\n",
    "# Volume Molar (Vm)\n",
    "       \n",
    "        #1 mol sempre tem 6.02 * 10^23 moléculas\n",
    "        \n",
    "        # O mesmo número de moléculas, independentemente da natureza do gás,\n",
    "        #ocupa sempre o mesmo volume em determinada pressão e temperatura, segundo o que diz a Lei de Avogrado\n",
    "        # Volumes iguais de gases quaisquer, quando medidos à mesma pressão e temperatura, encerram o mesmo número de moléculas\n",
    "        \n",
    "        # O Volume molar (Vm) de um gás, em determinada pressão e temperatura, é o volume que\n",
    "        #1 mol desse gás ocupa na pressão e temperatura consideradas.\n",
    "        #P = Pressão do gás\n",
    "        #V = volume do gás\n",
    "        #n = quantidade do gás em mols\n",
    "        #m = massa do gás em gramas\n",
    "        #M = massa molar do gás\n",
    "        #R = constante universal dos gases perfeitos\n",
    "        #T = temperatura do gás, em kelvins\n",
    "\n",
    "Vm = 22.4\n",
    "    P=input(float())\n",
    "    print(P)\n",
    "    V=input(float())\n",
    "    print(V)\n",
    "    T=input(float())\n",
    "    print(T)\n",
    "    Po=input(float())\n",
    "    print(Po)\n",
    "    Vo=input(float())\n",
    "    print(Vo)\n",
    "    To=input(float())\n",
    "    print(To)\n",
    "    R = 0.082"
   ]
  },
  {
   "cell_type": "code",
   "execution_count": 4,
   "metadata": {},
   "outputs": [
    {
     "name": "stdout",
     "output_type": "stream",
     "text": [
      "1 atm * litro / kelvin * mol\n"
     ]
    },
    {
     "data": {
      "text/plain": [
       "1.0"
      ]
     },
     "execution_count": 4,
     "metadata": {},
     "output_type": "execute_result"
    }
   ],
   "source": [
    "#Nas condições normais de pressão e temperatura, o volume molar é 22.4 litros\n",
    "def VolumeMolar():\n",
    "     m = float(input())\n",
    "     M = float(input())\n",
    "     R = 0.082\n",
    "     T = 1\n",
    "     V = ((m/M) * R * T)\n",
    "     # É necessário criar uma estrutura condicional que permita ao usuário escolher em quais unidades trabalhar\"\n",
    "     print (R, \"atm * litro / kelvin * mol\")\n",
    "     #Equação de Clapeyron - Equação geral dos gases ideais\n",
    "\n",
    "     return V\n",
    "\n",
    "VolumeMolar()\n"
   ]
  },
  {
   "cell_type": "code",
   "execution_count": 6,
   "metadata": {},
   "outputs": [
    {
     "name": "stdout",
     "output_type": "stream",
     "text": [
      "1\n",
      "2\n",
      "3\n",
      "4\n",
      "5\n",
      "6\n",
      "0.082 atm * litro / kelvin * mol\n"
     ]
    },
    {
     "ename": "TypeError",
     "evalue": "can't multiply sequence by non-int of type 'float'",
     "output_type": "error",
     "traceback": [
      "\u001b[1;31m---------------------------------------------------------------------------\u001b[0m",
      "\u001b[1;31mTypeError\u001b[0m                                 Traceback (most recent call last)",
      "Cell \u001b[1;32mIn [6], line 58\u001b[0m\n\u001b[0;32m     49\u001b[0m     \u001b[39m# P = Pressão do gás\u001b[39;00m\n\u001b[0;32m     50\u001b[0m     \u001b[39m# V = volume do gás\u001b[39;00m\n\u001b[0;32m     51\u001b[0m     \u001b[39m# n = quantidade do gás em mols\u001b[39;00m\n\u001b[1;32m   (...)\u001b[0m\n\u001b[0;32m     54\u001b[0m     \u001b[39m# R = constante universal dos gases perfeitos\u001b[39;00m\n\u001b[0;32m     55\u001b[0m     \u001b[39m# T = temperatura do gás, em kelvins\u001b[39;00m\n\u001b[0;32m     56\u001b[0m     \u001b[39mreturn\u001b[39;00m V\n\u001b[1;32m---> 58\u001b[0m VolumeMolar()\n",
      "Cell \u001b[1;32mIn [6], line 46\u001b[0m, in \u001b[0;36mVolumeMolar\u001b[1;34m()\u001b[0m\n\u001b[0;32m     40\u001b[0m \u001b[39mprint\u001b[39m(R, \u001b[39m\"\u001b[39m\u001b[39matm * litro / kelvin * mol\u001b[39m\u001b[39m\"\u001b[39m)\n\u001b[0;32m     43\u001b[0m \u001b[39m# Equação de Clapeyron - Equação geral dos gases ideais\"\u001b[39;00m\n\u001b[1;32m---> 46\u001b[0m V \u001b[39m=\u001b[39m ((m\u001b[39m/\u001b[39;49mM) \u001b[39m*\u001b[39;49m R \u001b[39m*\u001b[39;49m T) \u001b[39m/\u001b[39m (P)\n\u001b[0;32m     49\u001b[0m \u001b[39m# P = Pressão do gás\u001b[39;00m\n\u001b[0;32m     50\u001b[0m \u001b[39m# V = volume do gás\u001b[39;00m\n\u001b[0;32m     51\u001b[0m \u001b[39m# n = quantidade do gás em mols\u001b[39;00m\n\u001b[1;32m   (...)\u001b[0m\n\u001b[0;32m     54\u001b[0m \u001b[39m# R = constante universal dos gases perfeitos\u001b[39;00m\n\u001b[0;32m     55\u001b[0m \u001b[39m# T = temperatura do gás, em kelvins\u001b[39;00m\n\u001b[0;32m     56\u001b[0m \u001b[39mreturn\u001b[39;00m V\n",
      "\u001b[1;31mTypeError\u001b[0m: can't multiply sequence by non-int of type 'float'"
     ]
    }
   ],
   "source": [
    "# -*- coding: utf-8 -*-\n",
    "\"\"\"\n",
    "Created on Mon Jul 29 14:28:50 2019\n",
    "\n",
    "@author: Caio\n",
    "\"\"\"\n",
    "\n",
    "# Volume Molar (Vm)\n",
    "\n",
    "# 1 mol sempre tem 6.02 * 10^23 moléculas\n",
    "\n",
    "# O mesmo número de moléculas, independentemente da natureza do gás,\n",
    "# ocupa sempre o mesmo volume em determinada pressão e temperatura, segundo o que diz a Lei de Avogrado\n",
    "# Volumes iguais de gases quaisquer, quando medidos à mesma pressão e temperatura, encerram o mesmo número de moléculas\n",
    "\n",
    "# O Volume molar (Vm) de um gás, em determinada pressão e temperatura, é o volume que\n",
    "# 1 mol desse gás ocupa na pressão e temperatura consideradas.\n",
    "\n",
    "def VolumeMolar():\n",
    "    \"Nas condições normais de pressão e temperatura, o volume molar é 22.4 litros\"\n",
    "\n",
    "    Vm = 22.4\n",
    "    P = input(float())\n",
    "    print(P)\n",
    "    V = input(float())\n",
    "    print(V)\n",
    "    T = input(float())\n",
    "    print(T)\n",
    "    Po = input(float())\n",
    "    print(Po)\n",
    "    Vo = input(float())\n",
    "    print(Vo)\n",
    "    To = input(float())\n",
    "    print(To)\n",
    "    R = 0.082\n",
    "    m = 1\n",
    "    M = 1\n",
    "    # É necessário criar uma estrutura condicional que permita ao usuário escolher em quais unidades trabalhar\"\n",
    "\n",
    "    print(R, \"atm * litro / kelvin * mol\")\n",
    "    \n",
    "\n",
    "    # Equação de Clapeyron - Equação geral dos gases ideais\"\n",
    "    \n",
    "\n",
    "    V = ((m/M) * R * T) / (P)\n",
    "\n",
    "\n",
    "    # P = Pressão do gás\n",
    "    # V = volume do gás\n",
    "    # n = quantidade do gás em mols\n",
    "    # m = massa do gás em gramas\n",
    "    # M = massa molar do gás\n",
    "    # R = constante universal dos gases perfeitos\n",
    "    # T = temperatura do gás, em kelvins\n",
    "    return V\n",
    "\n",
    "VolumeMolar()"
   ]
  }
 ],
 "metadata": {
  "kernelspec": {
   "display_name": "Python 3",
   "language": "python",
   "name": "python3"
  },
  "language_info": {
   "codemirror_mode": {
    "name": "ipython",
    "version": 3
   },
   "file_extension": ".py",
   "mimetype": "text/x-python",
   "name": "python",
   "nbconvert_exporter": "python",
   "pygments_lexer": "ipython3",
   "version": "3.10.9 (tags/v3.10.9:1dd9be6, Dec  6 2022, 20:01:21) [MSC v.1934 64 bit (AMD64)]"
  },
  "orig_nbformat": 2,
  "vscode": {
   "interpreter": {
    "hash": "ce3fb133cab6a936c551081ee0d77ef4a6d11af85bd10385e088b263514ab4bf"
   }
  }
 },
 "nbformat": 4,
 "nbformat_minor": 2
}
