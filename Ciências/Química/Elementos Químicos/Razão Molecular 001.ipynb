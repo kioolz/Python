{
 "metadata": {
  "language_info": {
   "codemirror_mode": {
    "name": "ipython",
    "version": 3
   },
   "file_extension": ".py",
   "mimetype": "text/x-python",
   "name": "python",
   "nbconvert_exporter": "python",
   "pygments_lexer": "ipython3",
   "version": 3
  },
  "orig_nbformat": 2
 },
 "nbformat": 4,
 "nbformat_minor": 2,
 "cells": [
  {
   "cell_type": "code",
   "execution_count": null,
   "metadata": {},
   "outputs": [],
   "source": [
    "# -*- coding: utf-8 -*-\n",
    "\"\"\"\n",
    "Created on Sun Jul 28 21:25:01 2019\n",
    "\n",
    "@author: Caio\n",
    "\"\"\"\n",
    "\n",
    "#Razão molecular\n",
    " #Se dois elementos A e B formarem mais de um composto, \n",
    "#as massas de A que se combinam com a mesma massa de B, nos diferentes compostos, devem ter\n",
    "# como razões, números inteiros.\n",
    "\n",
    "\n",
    "class RazãoMolecular:\n",
    "    \n",
    "\n",
    "    def rm():\n",
    "    \n",
    "        Massas1=[]\n",
    "        Massas2=[]\n",
    "        Razoes=[]\n",
    "        while len(Massas1)==len(Massas2):\n",
    "            \n",
    "            print (\"Insira a massa do primeiro elemento\")\n",
    "            m1=float(input())\n",
    "            Massas1.append(m1)\n",
    "            print (\"Insira a massa do segundo elemento\")\n",
    "            m2=float(input())\n",
    "            Massas2.append(m2)\n",
    "            r=m1/m2\n",
    "            Razoes.append(r)\n",
    "            print(\"O valor da massa do numerador é:\",m1,\"gramas\")\n",
    "            print(\"O valor da massa do denominador é:\",m2,\"gramas\")\n",
    "            print (\"O valor da razão molecular as duas últimas massas foi \", r, \"gramas\")\n",
    "            print(\"A lista de massas inseridas no numerador\", Massas1)\n",
    "            print(\"A lista de massas inseridas no denominador\", Massas2)\n",
    "            print(\"A lista de razoes calculadas é\", Razoes)\n",
    "    \n",
    "   \n",
    "\n",
    "    rm()\n",
    "    \n",
    "    "
   ]
  }
 ]
}