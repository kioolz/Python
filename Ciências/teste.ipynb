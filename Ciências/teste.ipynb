{
 "cells": [
  {
   "cell_type": "code",
   "execution_count": null,
   "metadata": {},
   "outputs": [],
   "source": [
    "#D - POSSIVEL CERTA\n",
    "bola = [1,2,3]\n",
    "soma = 0 \n",
    "for x in bola:\n",
    "    soma = soma + x \n",
    "\n",
    "print(soma)\n"
   ]
  },
  {
   "cell_type": "code",
   "execution_count": 21,
   "metadata": {},
   "outputs": [
    {
     "name": "stdout",
     "output_type": "stream",
     "text": [
      "2\n",
      "5\n",
      "9\n",
      "14\n",
      "20\n",
      "27\n",
      "35\n",
      "44\n",
      "54\n"
     ]
    },
    {
     "ename": "IndexError",
     "evalue": "list index out of range",
     "output_type": "error",
     "traceback": [
      "\u001b[1;31m---------------------------------------------------------------------------\u001b[0m",
      "\u001b[1;31mIndexError\u001b[0m                                Traceback (most recent call last)",
      "Cell \u001b[1;32mIn [21], line 6\u001b[0m\n\u001b[0;32m      3\u001b[0m soma \u001b[39m=\u001b[39m \u001b[39m0\u001b[39m \u001b[39m#Declarei variável\u001b[39;00m\n\u001b[0;32m      5\u001b[0m \u001b[39mfor\u001b[39;00m x \u001b[39min\u001b[39;00m bola:  \u001b[39m# Estrutura de repetição - dentro da lista. \u001b[39;00m\n\u001b[1;32m----> 6\u001b[0m     soma \u001b[39m=\u001b[39m soma \u001b[39m+\u001b[39m bola[x] \u001b[39m# Declarar variavel\u001b[39;00m\n\u001b[0;32m      7\u001b[0m     \u001b[39mprint\u001b[39m(soma)\n",
      "\u001b[1;31mIndexError\u001b[0m: list index out of range"
     ]
    }
   ],
   "source": [
    "# B - INCORRETA \n",
    "bola = [1,2,3,4,5,6,7,8,9,10] #Declarei lista\n",
    "soma = 0 #Declarei variável\n",
    "\n",
    "for x in bola:  # Estrutura de repetição - dentro da lista. \n",
    "    soma = soma + bola[x] # Declarar variavel\n",
    "    print(soma) # Print\n"
   ]
  },
  {
   "cell_type": "code",
   "execution_count": 23,
   "metadata": {},
   "outputs": [
    {
     "ename": "SyntaxError",
     "evalue": "expected ':' (2577001343.py, line 2)",
     "output_type": "error",
     "traceback": [
      "\u001b[1;36m  Cell \u001b[1;32mIn [23], line 2\u001b[1;36m\u001b[0m\n\u001b[1;33m    for indice, valor in enumerate(matriz)\u001b[0m\n\u001b[1;37m                                          ^\u001b[0m\n\u001b[1;31mSyntaxError\u001b[0m\u001b[1;31m:\u001b[0m expected ':'\n"
     ]
    }
   ],
   "source": [
    "matriz = [[1, 0 ,0 ],[0, 1, 0],[0, 0, 1]]\n",
    "for indice, valor in enumerate(matriz):\n",
    "    print(matriz[indice][indice])   "
   ]
  },
  {
   "cell_type": "code",
   "execution_count": null,
   "metadata": {},
   "outputs": [],
   "source": [
    "#E - INCORRETA\n",
    "bola = [1,2,3]\n",
    "soma = bola[3]\n"
   ]
  }
 ],
 "metadata": {
  "kernelspec": {
   "display_name": "Python 3",
   "language": "python",
   "name": "python3"
  },
  "language_info": {
   "codemirror_mode": {
    "name": "ipython",
    "version": 3
   },
   "file_extension": ".py",
   "mimetype": "text/x-python",
   "name": "python",
   "nbconvert_exporter": "python",
   "pygments_lexer": "ipython3",
   "version": "3.10.10"
  },
  "orig_nbformat": 4,
  "vscode": {
   "interpreter": {
    "hash": "ce3fb133cab6a936c551081ee0d77ef4a6d11af85bd10385e088b263514ab4bf"
   }
  }
 },
 "nbformat": 4,
 "nbformat_minor": 2
}
