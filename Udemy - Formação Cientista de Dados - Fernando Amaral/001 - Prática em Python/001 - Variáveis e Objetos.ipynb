{
 "cells": [
  {
   "cell_type": "code",
   "execution_count": null,
   "metadata": {},
   "outputs": [],
   "source": [
    "#Cria variável do tipo inteiro\n",
    "x = 1\n",
    "print(x)\n",
    "type(x)"
   ]
  },
  {
   "cell_type": "code",
   "execution_count": null,
   "metadata": {},
   "outputs": [],
   "source": [
    "#Cria variável do tipo float\n",
    "y = 3.13\n",
    "print(y)\n",
    "type(y)"
   ]
  },
  {
   "cell_type": "code",
   "execution_count": null,
   "metadata": {},
   "outputs": [],
   "source": [
    "# Verificar tipo da variável\n",
    "x = 10\n",
    "type(x) "
   ]
  },
  {
   "cell_type": "code",
   "execution_count": null,
   "metadata": {},
   "outputs": [],
   "source": [
    "#Variável - String\n",
    "m = \"python\"\n",
    "n = 'python'\n",
    "print(m)\n",
    "type(m)\n",
    "print(n)\n",
    "type(n)"
   ]
  },
  {
   "cell_type": "code",
   "execution_count": null,
   "metadata": {},
   "outputs": [],
   "source": [
    "#Exibir texto no console\n",
    "print(\"Este é um texto impresso no console\")\n",
    "print(x)\n",
    "print(\"Texto e variáveis: \", x, \", \", z)\n",
    "print(\"Atenção com as vírgulas\")"
   ]
  },
  {
   "cell_type": "code",
   "execution_count": null,
   "metadata": {},
   "outputs": [],
   "source": [
    "#Verificar tipo pelo print\n",
    "print(type(x))\n",
    "print(type(m))\n",
    "print(type(y))\n",
    "print(type(n))"
   ]
  },
  {
   "cell_type": "code",
   "execution_count": null,
   "metadata": {},
   "outputs": [],
   "source": [
    "#Entrada de dados\n",
    "print(\"informe o valor:\")\n",
    "i = input()\n",
    "#Mostra o tipo string\n",
    "print(type(i))"
   ]
  },
  {
   "cell_type": "code",
   "execution_count": null,
   "metadata": {},
   "outputs": [],
   "source": [
    "#Conversão de valores para inteiro\n",
    "var = input(\"Informe o valor:\")\n",
    "print(type(var))\n",
    "var = int(var)\n",
    "print(type(var))"
   ]
  },
  {
   "cell_type": "code",
   "execution_count": null,
   "metadata": {},
   "outputs": [],
   "source": [
    "#Conversão para float\n",
    "var = input(\"Informe o valor:\")\n",
    "print(type(var)) #Exibe o tipo de variável pelo comando print\n",
    "var = float(var)\n",
    "print(type(var))"
   ]
  },
  {
   "cell_type": "code",
   "execution_count": null,
   "metadata": {},
   "outputs": [],
   "source": [
    "#Entrada de valores\n",
    "#Aguarda o usuário entrar o dado\n",
    "#Cria a variável x como string e armazena o valor\n",
    "# Independente do tipo de dado informado, a variável será sempre string\n",
    "x = input(\"Informe o valor\")"
   ]
  },
  {
   "cell_type": "code",
   "execution_count": 1,
   "metadata": {},
   "outputs": [
    {
     "ename": "NameError",
     "evalue": "name 'z' is not defined",
     "output_type": "error",
     "traceback": [
      "\u001b[1;31m---------------------------------------------------------------------------\u001b[0m",
      "\u001b[1;31mNameError\u001b[0m                                 Traceback (most recent call last)",
      "\u001b[1;32mc:\\Users\\kio\\Desktop\\GitHub\\Udemy - Python - Formação Cientista de Dados - Fernando Amaral\\001 - Variáveis e Objetos.ipynb Cell 11'\u001b[0m in \u001b[0;36m<cell line: 2>\u001b[1;34m()\u001b[0m\n\u001b[0;32m      <a href='vscode-notebook-cell:/c%3A/Users/kio/Desktop/GitHub/Udemy%20-%20Python%20-%20Forma%C3%A7%C3%A3o%20Cientista%20de%20Dados%20-%20Fernando%20Amaral/001%20-%20Vari%C3%A1veis%20e%20Objetos.ipynb#ch0000010?line=0'>1</a>\u001b[0m \u001b[39m#Conversão de valores\u001b[39;00m\n\u001b[1;32m----> <a href='vscode-notebook-cell:/c%3A/Users/kio/Desktop/GitHub/Udemy%20-%20Python%20-%20Forma%C3%A7%C3%A3o%20Cientista%20de%20Dados%20-%20Fernando%20Amaral/001%20-%20Vari%C3%A1veis%20e%20Objetos.ipynb#ch0000010?line=1'>2</a>\u001b[0m x \u001b[39m=\u001b[39m \u001b[39mint\u001b[39m(z)\n\u001b[0;32m      <a href='vscode-notebook-cell:/c%3A/Users/kio/Desktop/GitHub/Udemy%20-%20Python%20-%20Forma%C3%A7%C3%A3o%20Cientista%20de%20Dados%20-%20Fernando%20Amaral/001%20-%20Vari%C3%A1veis%20e%20Objetos.ipynb#ch0000010?line=2'>3</a>\u001b[0m w \u001b[39m=\u001b[39m \u001b[39mstr\u001b[39m(m)\n\u001b[0;32m      <a href='vscode-notebook-cell:/c%3A/Users/kio/Desktop/GitHub/Udemy%20-%20Python%20-%20Forma%C3%A7%C3%A3o%20Cientista%20de%20Dados%20-%20Fernando%20Amaral/001%20-%20Vari%C3%A1veis%20e%20Objetos.ipynb#ch0000010?line=3'>4</a>\u001b[0m t \u001b[39m=\u001b[39m \u001b[39mfloat\u001b[39m(l)\n",
      "\u001b[1;31mNameError\u001b[0m: name 'z' is not defined"
     ]
    }
   ],
   "source": [
    "#Conversão de valores\n",
    "x = int(z)\n",
    "w = str(m)\n",
    "t = float(l)"
   ]
  },
  {
   "cell_type": "code",
   "execution_count": null,
   "metadata": {},
   "outputs": [],
   "source": [
    "''' comentário\n",
    "de várias \n",
    "linhas '''"
   ]
  }
 ],
 "metadata": {
  "kernelspec": {
   "display_name": "Python 3.10.5 64-bit",
   "language": "python",
   "name": "python3"
  },
  "language_info": {
   "codemirror_mode": {
    "name": "ipython",
    "version": 3
   },
   "file_extension": ".py",
   "mimetype": "text/x-python",
   "name": "python",
   "nbconvert_exporter": "python",
   "pygments_lexer": "ipython3",
   "version": "3.10.5"
  },
  "orig_nbformat": 4,
  "vscode": {
   "interpreter": {
    "hash": "b6cf718e9f2d479c472d3d5e3525d4367a3e46ecbff22209a30948d781ec1271"
   }
  }
 },
 "nbformat": 4,
 "nbformat_minor": 2
}
