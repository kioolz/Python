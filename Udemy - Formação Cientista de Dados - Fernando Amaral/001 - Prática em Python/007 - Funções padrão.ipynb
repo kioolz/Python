{
 "cells": [
  {
   "cell_type": "code",
   "execution_count": 1,
   "metadata": {},
   "outputs": [
    {
     "name": "stdout",
     "output_type": "stream",
     "text": [
      "200\n",
      "Maior valor: 45\n",
      "Menor valor: 1\n",
      "Soma:  108\n",
      "Arredondamento: 2.35\n"
     ]
    }
   ],
   "source": [
    "#funções internas\n",
    "\n",
    "print(abs(-200))\n",
    "lista = [1,2,30,30,45]\n",
    "print(\"Maior valor:\", max(lista))\n",
    "print(\"Menor valor:\", min(lista))\n",
    "print(\"Soma: \", sum(lista))\n",
    "print(\"Arredondamento:\", round(2.3465234,2))\n"
   ]
  },
  {
   "cell_type": "code",
   "execution_count": 3,
   "metadata": {},
   "outputs": [
    {
     "name": "stdout",
     "output_type": "stream",
     "text": [
      "Média:  21.6\n",
      "Mediana 30\n",
      "Moda 30\n"
     ]
    }
   ],
   "source": [
    "#Estatística\n",
    "\n",
    "from statistics import *\n",
    "print(\"Média: \", mean(lista))\n",
    "print(\"Mediana\", median(lista))\n",
    "print(\"Moda\", mode(lista))\n"
   ]
  },
  {
   "cell_type": "code",
   "execution_count": 4,
   "metadata": {},
   "outputs": [
    {
     "name": "stdout",
     "output_type": "stream",
     "text": [
      "Desvio padrão: 19.346834366376324\n"
     ]
    }
   ],
   "source": [
    "#desvio padrão da amostra\n",
    "print(\"Desvio padrão:\", stdev(lista))"
   ]
  },
  {
   "cell_type": "code",
   "execution_count": 5,
   "metadata": {},
   "outputs": [
    {
     "name": "stdout",
     "output_type": "stream",
     "text": [
      "Variância 374.3\n"
     ]
    }
   ],
   "source": [
    "#variancia da amostra\n",
    "print(\"Variância\", variance(lista))"
   ]
  },
  {
   "cell_type": "code",
   "execution_count": null,
   "metadata": {},
   "outputs": [],
   "source": [
    "from numpy import *\n",
    "a = random.random((8,8))\n",
    "print(type(a))\n",
    "print(a)"
   ]
  }
 ],
 "metadata": {
  "kernelspec": {
   "display_name": "Python 3.10.5 64-bit",
   "language": "python",
   "name": "python3"
  },
  "language_info": {
   "codemirror_mode": {
    "name": "ipython",
    "version": 3
   },
   "file_extension": ".py",
   "mimetype": "text/x-python",
   "name": "python",
   "nbconvert_exporter": "python",
   "pygments_lexer": "ipython3",
   "version": "3.10.5"
  },
  "orig_nbformat": 4,
  "vscode": {
   "interpreter": {
    "hash": "b6cf718e9f2d479c472d3d5e3525d4367a3e46ecbff22209a30948d781ec1271"
   }
  }
 },
 "nbformat": 4,
 "nbformat_minor": 2
}
