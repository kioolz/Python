{
 "cells": [
  {
   "cell_type": "code",
   "execution_count": 2,
   "metadata": {},
   "outputs": [],
   "source": [
    "# (Mackenzie-SP) No rótulo de uma garrafa contendo vinagre. Lê-se :\n",
    "# Solução de ácido acético obtivo a partir do vinho de vinagre branco\n",
    "# Densidade 1,02 g/ml\n",
    "# Volume 500ml"
   ]
  },
  {
   "cell_type": "code",
   "execution_count": 32,
   "metadata": {},
   "outputs": [],
   "source": [
    "#Desse vinagre, retirou-se uma amostra de 5ml, que foi titulada com uma solução 0,6M de NaOH gastando-se 8,5ml dessa base.\n",
    "#(massa molar do ácido acético = 60g/mol). Qual é o título da solução?\n",
    "volumeamostra = 5/1000\n",
    "molaridadenaoh = 0.6 \n",
    "volumebase = 8.5/1000 \n",
    "volumesolucao = 500/1000"
   ]
  },
  {
   "cell_type": "code",
   "execution_count": 28,
   "metadata": {},
   "outputs": [
    {
     "name": "stdout",
     "output_type": "stream",
     "text": [
      "0.0051 mol da base foram consumidas\n"
     ]
    }
   ],
   "source": [
    "# R: a reação envolvida CH3COOH + NaOH -> CH3COONa + H2O\n",
    "#para a relação estequiométrica da reação, temos que 1 mol de NaOh consome 1 mol de CH3COOH\n",
    "\n",
    "def molnaoh():\n",
    "    x = molaridadenaoh * volumebase \n",
    "    return x\n",
    "print(molnaoh(), \"mol da base foram consumidos\")"
   ]
  },
  {
   "cell_type": "code",
   "execution_count": 34,
   "metadata": {},
   "outputs": [
    {
     "name": "stdout",
     "output_type": "stream",
     "text": [
      "Logo, em 500 ml teremos 0.51 mols\n"
     ]
    }
   ],
   "source": [
    "def moltotal():\n",
    "    x = (molnaoh())*(volumesolucao)/volumeamostra\n",
    "    return x\n",
    "\n",
    "print(\"Logo, em 500 ml teremos\", moltotal(), \"mols\")"
   ]
  },
  {
   "cell_type": "code",
   "execution_count": 21,
   "metadata": {},
   "outputs": [
    {
     "name": "stdout",
     "output_type": "stream",
     "text": [
      "A massa de CH3COOH será:\n",
      "30.6 g\n",
      "Essa é a massa da solução: 510.0\n",
      "esse é o título 6.000000000000001 %\n"
     ]
    }
   ],
   "source": [
    "print(\"A massa de CH3COOH será:\")\n",
    "\n",
    "def massatotal():\n",
    "    x = 0.51 * 60\n",
    "    return x\n",
    "print(massatotal(), \"g\")\n",
    "\n",
    "def massasolução():\n",
    "    x = 1.02 * 500\n",
    "    return x\n",
    "print(\"Essa é a massa da solução:\", massasolução())\n",
    "\n",
    "def titulo():\n",
    "    T = massatotal()/massasolução()\n",
    "    return T\n",
    "\n",
    "print(\"esse é o título\", titulo()*100,\"%\")"
   ]
  }
 ],
 "metadata": {
  "kernelspec": {
   "display_name": "Python 3.10.5 64-bit",
   "language": "python",
   "name": "python3"
  },
  "language_info": {
   "codemirror_mode": {
    "name": "ipython",
    "version": 3
   },
   "file_extension": ".py",
   "mimetype": "text/x-python",
   "name": "python",
   "nbconvert_exporter": "python",
   "pygments_lexer": "ipython3",
   "version": "3.10.5"
  },
  "orig_nbformat": 4,
  "vscode": {
   "interpreter": {
    "hash": "b6cf718e9f2d479c472d3d5e3525d4367a3e46ecbff22209a30948d781ec1271"
   }
  }
 },
 "nbformat": 4,
 "nbformat_minor": 2
}
