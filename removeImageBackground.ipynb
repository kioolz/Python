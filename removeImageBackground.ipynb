{
 "cells": [
  {
   "cell_type": "code",
   "execution_count": null,
   "metadata": {},
   "outputs": [],
   "source": [
    "pip install --upgrade rembg"
   ]
  },
  {
   "cell_type": "code",
   "execution_count": null,
   "metadata": {},
   "outputs": [],
   "source": [
    "from rembg import remove\n",
    "from PIL import Image\n",
    "input_path = 'cl.jpg'\n",
    "output_path = 'output.png'\n",
    "input = image.open(input_path)\n",
    "output = remove(input)\n",
    "output.save(output_path)\n",
    "\n",
    "#Falta adicionar agora um caminho e uma lista de imagens jpg\n",
    "#Elas podem sair já exportadas em png\n",
    "# Quanto ao tamanho, posso avaliar se posso criar um menu que as exporta em tamanho pre definido (Opção 1 - 3cm)\n",
    "#Opção 2 - 5cm\n",
    "# Opção 3 - Usuário digita uma das dimensões e o programa ajusta a área e exporta\n",
    "\n",
    "\n",
    "\n",
    "# Segunda atualização\n",
    "# Biblioteca de interface;"
   ]
  }
 ],
 "metadata": {
  "kernelspec": {
   "display_name": "Python 3",
   "language": "python",
   "name": "python3"
  },
  "language_info": {
   "codemirror_mode": {
    "name": "ipython",
    "version": 3
   },
   "file_extension": ".py",
   "mimetype": "text/x-python",
   "name": "python",
   "nbconvert_exporter": "python",
   "pygments_lexer": "ipython3",
   "version": "3.10.11"
  },
  "orig_nbformat": 4
 },
 "nbformat": 4,
 "nbformat_minor": 2
}
