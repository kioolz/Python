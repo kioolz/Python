{
 "cells": [
  {
   "cell_type": "code",
   "execution_count": null,
   "metadata": {},
   "outputs": [],
   "source": [
    "#Bibliotecas\n",
    "import pandas as pd\n",
    "import matplotlib.pyplot as plt\n",
    "import numpy as np\n",
    "import seaborn as sns"
   ]
  },
  {
   "cell_type": "code",
   "execution_count": null,
   "metadata": {},
   "outputs": [],
   "source": [
    "#Carregamento da base de dados\n",
    "base = pd.read_csv('/Users/kio/Desktop/GitHub/Udemy - Python - Formação Cientista de Dados - Fernando Amaral/002 - Gráficos em Python/CSVs/trees.csv')\n",
    "base.shape\n",
    "\n",
    "h = np.histogram(base.iloc[:,1], bins = 6)\n",
    "h\n",
    "\n",
    "#Visualização do histograma com 6 divisões (bins)\n",
    "plt.hist(base.iloc[:,1], bins=6) #plt da biblioteca importada . histograma \n",
    "plt.title('Árvores')\n",
    "plt.ylabel('Frequência')\n",
    "plt.xlabel('Altura')"
   ]
  },
  {
   "cell_type": "code",
   "execution_count": null,
   "metadata": {},
   "outputs": [],
   "source": [
    "#Histograma com a linha de distribuição de frequencia, com 6 divisões (bins)\n",
    "\n",
    "#kde = linha de densidade.\n",
    "\n",
    "sns.distplot(base.iloc[:, 1], hist= True, kde= False,\n",
    "bins = 6, color = 'red', hist_kws={'edgecolor': 'black'})"
   ]
  },
  {
   "cell_type": "code",
   "execution_count": null,
   "metadata": {},
   "outputs": [],
   "source": []
  },
  {
   "cell_type": "code",
   "execution_count": null,
   "metadata": {},
   "outputs": [],
   "source": [
    "#densidade\n",
    "sns.distplot(base.iloc[:, 1], hist= False, kde= True, \n",
    "bins = 6, color= 'green', hist_kws={'edgecolor': 'black'})\n"
   ]
  },
  {
   "cell_type": "code",
   "execution_count": null,
   "metadata": {},
   "outputs": [],
   "source": [
    "#densidade e histograma\n",
    "\n",
    "sns.distplot(base.iloc[:, 1], hist=True, kde=True, bins=6, color = 'blue', hist_kws={'edgecolor': 'black'})"
   ]
  },
  {
   "cell_type": "code",
   "execution_count": null,
   "metadata": {},
   "outputs": [],
   "source": []
  },
  {
   "cell_type": "code",
   "execution_count": null,
   "metadata": {},
   "outputs": [],
   "source": []
  }
 ],
 "metadata": {
  "kernelspec": {
   "display_name": "Python 3.10.5 64-bit",
   "language": "python",
   "name": "python3"
  },
  "language_info": {
   "codemirror_mode": {
    "name": "ipython",
    "version": 3
   },
   "file_extension": ".py",
   "mimetype": "text/x-python",
   "name": "python",
   "nbconvert_exporter": "python",
   "pygments_lexer": "ipython3",
   "version": "3.10.5"
  },
  "orig_nbformat": 4,
  "vscode": {
   "interpreter": {
    "hash": "b6cf718e9f2d479c472d3d5e3525d4367a3e46ecbff22209a30948d781ec1271"
   }
  }
 },
 "nbformat": 4,
 "nbformat_minor": 2
}
