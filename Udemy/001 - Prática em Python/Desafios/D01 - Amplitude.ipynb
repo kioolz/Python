{
 "cells": [
  {
   "cell_type": "code",
   "execution_count": 1,
   "metadata": {},
   "outputs": [],
   "source": [
    "#faça um programa que tenha uma função chamada amplitude.\n",
    "#A função deve receber uma lista e imprimir amplitude\n",
    "#Crie também um código para testar sua função\n",
    "#Aos leitores deste código, esta solução foi criada de forma pessoal."
   ]
  },
  {
   "cell_type": "code",
   "execution_count": 6,
   "metadata": {},
   "outputs": [
    {
     "name": "stdout",
     "output_type": "stream",
     "text": [
      "5\n"
     ]
    }
   ],
   "source": [
    "#Vamos começar criando uma lista de tamanho definido pelo usuário\n",
    "n = int(input(\"Insira o tamanho da lista\"))\n",
    "print(n)\n",
    "lista=[]"
   ]
  },
  {
   "cell_type": "code",
   "execution_count": 7,
   "metadata": {},
   "outputs": [],
   "source": [
    "#Preenche a lista\n",
    "for i in range(n):\n",
    "    x=float(input(\"Insira o valor para preencher a lista\"))\n",
    "    lista.append(x)"
   ]
  },
  {
   "cell_type": "code",
   "execution_count": 9,
   "metadata": {},
   "outputs": [
    {
     "name": "stdout",
     "output_type": "stream",
     "text": [
      "[12.0, 3.0, 14.0, 4.0, 6.0]\n"
     ]
    }
   ],
   "source": [
    "#Exibe a lista\n",
    "print(lista)"
   ]
  },
  {
   "cell_type": "code",
   "execution_count": 10,
   "metadata": {},
   "outputs": [
    {
     "name": "stdout",
     "output_type": "stream",
     "text": [
      "14.0\n",
      "3.0\n"
     ]
    }
   ],
   "source": [
    "#Exibe os valores máximos e mínimos\n",
    "print(max(lista))\n",
    "print(min(lista))"
   ]
  },
  {
   "cell_type": "code",
   "execution_count": 17,
   "metadata": {},
   "outputs": [
    {
     "data": {
      "text/plain": [
       "11.0"
      ]
     },
     "execution_count": 17,
     "metadata": {},
     "output_type": "execute_result"
    }
   ],
   "source": [
    "#Função amplitude\n",
    "def amplitude():\n",
    "    b = max(lista)\n",
    "    a = min(lista)\n",
    "    return b - a\n",
    "amplitude()"
   ]
  }
 ],
 "metadata": {
  "kernelspec": {
   "display_name": "Python 3.10.5 64-bit",
   "language": "python",
   "name": "python3"
  },
  "language_info": {
   "codemirror_mode": {
    "name": "ipython",
    "version": 3
   },
   "file_extension": ".py",
   "mimetype": "text/x-python",
   "name": "python",
   "nbconvert_exporter": "python",
   "pygments_lexer": "ipython3",
   "version": "3.10.5"
  },
  "orig_nbformat": 4,
  "vscode": {
   "interpreter": {
    "hash": "b6cf718e9f2d479c472d3d5e3525d4367a3e46ecbff22209a30948d781ec1271"
   }
  }
 },
 "nbformat": 4,
 "nbformat_minor": 2
}
