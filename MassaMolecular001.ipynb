{
 "cells": [
  {
   "cell_type": "code",
   "execution_count": 25,
   "metadata": {},
   "outputs": [
    {
     "name": "stdout",
     "output_type": "stream",
     "text": [
      "Essa é a massa inserida : 500.0 gramas\n",
      "Essa é a quantidade de mols inserida: 50.0 mols\n",
      "Esta é a massa molecular da substância 10.0\n"
     ]
    }
   ],
   "source": [
    "class MassaMolecular():\n",
    "    \n",
    "    #Definindo as variaveis associadas as moleculas\n",
    "    Massa = float(input(\"Insira a massa da substância\"))\n",
    "    print (f'Essa é a massa inserida : {Massa:.1f} gramas' )\n",
    "    Mol = float(input(\"Insira a quantidade de mols da substância\"))\n",
    "    print (f'Essa é a quantidade de mols inserida: {Mol:.1f} mols')\n",
    "    def MassaMolecular(Massa,Mol):\n",
    "        MassaMolecular=Massa/Mol\n",
    "        print (\"Esta é a massa molecular da substância\", MassaMolecular)\n",
    "    MassaMolecular(Massa,Mol)"
   ]
  },
  {
   "cell_type": "code",
   "execution_count": 1,
   "metadata": {},
   "outputs": [],
   "source": [
    "class MassaMolecular2():\n",
    "    def __init__(self, massa, mol):\n",
    "        self.massa = massa\n",
    "        self.mol = mol\n",
    "    def calcular_massa_molecular(self):\n",
    "        massa_molecular = self.massa/self.mol\n",
    "        return massa_molecular"
   ]
  },
  {
   "cell_type": "code",
   "execution_count": 2,
   "metadata": {},
   "outputs": [
    {
     "name": "stdout",
     "output_type": "stream",
     "text": [
      "Massa molecular: 0.25\n"
     ]
    }
   ],
   "source": [
    "massa = float(input(\"Infire a massa:\"))\n",
    "mol = float(input(\"Informe o mol:\"))\n",
    "ObjMassaMolecular = MassaMolecular2(massa, mol)\n",
    "massa_molecular = ObjMassaMolecular.calcular_massa_molecular()\n",
    "print(f\"Massa molecular: {massa_molecular}\")"
   ]
  }
 ],
 "metadata": {
  "kernelspec": {
   "display_name": "Python 3",
   "language": "python",
   "name": "python3"
  },
  "language_info": {
   "codemirror_mode": {
    "name": "ipython",
    "version": 3
   },
   "file_extension": ".py",
   "mimetype": "text/x-python",
   "name": "python",
   "nbconvert_exporter": "python",
   "pygments_lexer": "ipython3",
   "version": "3.10.9 (tags/v3.10.9:1dd9be6, Dec  6 2022, 20:01:21) [MSC v.1934 64 bit (AMD64)]"
  },
  "orig_nbformat": 2,
  "vscode": {
   "interpreter": {
    "hash": "ce3fb133cab6a936c551081ee0d77ef4a6d11af85bd10385e088b263514ab4bf"
   }
  }
 },
 "nbformat": 4,
 "nbformat_minor": 2
}
