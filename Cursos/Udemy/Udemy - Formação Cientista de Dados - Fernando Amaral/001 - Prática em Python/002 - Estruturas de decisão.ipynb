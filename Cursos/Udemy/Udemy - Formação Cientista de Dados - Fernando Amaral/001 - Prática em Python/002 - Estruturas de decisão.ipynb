{
 "cells": [
  {
   "cell_type": "code",
   "execution_count": 9,
   "metadata": {},
   "outputs": [
    {
     "name": "stdout",
     "output_type": "stream",
     "text": [
      "Aprovado\n",
      "Parabens\n"
     ]
    }
   ],
   "source": [
    "#Condição Se e Se não\n",
    "nota = 7 #Variável\n",
    "if nota >= 7: #If avalia se a condição lógica é satisfeita e define instruções para isso.\n",
    "    print(\"Aprovado\")  #ExibeSe1\n",
    "    print(\"Parabens\") #ExibeSe1\n",
    "else: #Se não acontecer\n",
    "    print(\"Reprovado\") #Exibe Se não 1\n",
    "    "
   ]
  },
  {
   "cell_type": "code",
   "execution_count": 2,
   "metadata": {},
   "outputs": [
    {
     "name": "stdout",
     "output_type": "stream",
     "text": [
      "reprovado\n"
     ]
    }
   ],
   "source": [
    "#Só mudar o valor da variável\n",
    "nota = 5\n",
    "if nota >= 7:\n",
    "    print(\"aprovado\")\n",
    "else:\n",
    "    print(\"reprovado\")"
   ]
  },
  {
   "cell_type": "code",
   "execution_count": 5,
   "metadata": {},
   "outputs": [
    {
     "name": "stdout",
     "output_type": "stream",
     "text": [
      "Reprovado\n"
     ]
    }
   ],
   "source": [
    "#Testar com 4, 5, 7\n",
    "nota = 4\n",
    "if nota <= 4: #Condição lógica avaliada\n",
    "    print(\"Reprovado\")\n",
    "elif nota > 4 and nota <= 6: #elif permite avaliar outras condições lógicas \n",
    "    print(\"Exame\")\n",
    "else:\n",
    "    print(\"Aprovado\")"
   ]
  },
  {
   "cell_type": "code",
   "execution_count": 6,
   "metadata": {},
   "outputs": [
    {
     "name": "stdout",
     "output_type": "stream",
     "text": [
      "Exame\n"
     ]
    }
   ],
   "source": [
    "#Testar com 4, 5, 7\n",
    "nota = 5\n",
    "if nota <= 4: #Condição lógica avaliada\n",
    "    print(\"Reprovado\")\n",
    "elif nota > 4 and nota <= 6: #elif permite avaliar outra condição lógica \n",
    "    print(\"Exame\")\n",
    "else:\n",
    "    print(\"Aprovado\")\n",
    "    #Testar com 4, 5, 7\n"
   ]
  },
  {
   "cell_type": "code",
   "execution_count": 7,
   "metadata": {},
   "outputs": [
    {
     "name": "stdout",
     "output_type": "stream",
     "text": [
      "Aprovado\n"
     ]
    }
   ],
   "source": [
    "nota = 7\n",
    "if nota <= 4: #Condição lógica avaliada\n",
    "    print(\"Reprovado\")\n",
    "elif nota > 4 and nota <= 6: #elif permite avaliar outra condição lógica \n",
    "    print(\"Exame\")\n",
    "else:\n",
    "    print(\"Aprovado\")"
   ]
  }
 ],
 "metadata": {
  "kernelspec": {
   "display_name": "Python 3",
   "language": "python",
   "name": "python3"
  },
  "language_info": {
   "codemirror_mode": {
    "name": "ipython",
    "version": 3
   },
   "file_extension": ".py",
   "mimetype": "text/x-python",
   "name": "python",
   "nbconvert_exporter": "python",
   "pygments_lexer": "ipython3",
   "version": "3.10.9 (tags/v3.10.9:1dd9be6, Dec  6 2022, 20:01:21) [MSC v.1934 64 bit (AMD64)]"
  },
  "orig_nbformat": 4,
  "vscode": {
   "interpreter": {
    "hash": "ce3fb133cab6a936c551081ee0d77ef4a6d11af85bd10385e088b263514ab4bf"
   }
  }
 },
 "nbformat": 4,
 "nbformat_minor": 2
}
